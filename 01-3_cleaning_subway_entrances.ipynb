{
 "cells": [
  {
   "cell_type": "code",
   "execution_count": 15,
   "id": "9896584b-d86b-43c3-9ea6-5ba45e2c1eb3",
   "metadata": {},
   "outputs": [],
   "source": [
    "import pandas as pd\n",
    "import regex as re"
   ]
  },
  {
   "cell_type": "markdown",
   "id": "cfb97865-d694-437d-bb99-618c4bc7e4d4",
   "metadata": {},
   "source": [
    "[The source](https://data.cityofnewyork.us/Transportation/Subway-Entrances/drex-xx56) of the subway entrance data."
   ]
  },
  {
   "cell_type": "code",
   "execution_count": 46,
   "id": "8d2046df-9e22-495d-a983-74c334f91293",
   "metadata": {},
   "outputs": [],
   "source": [
    "subway = pd.read_csv('../capstone_large_data_sets/DOITT_SUBWAY_ENTRANCE_01_13SEPT2010.csv')"
   ]
  },
  {
   "cell_type": "code",
   "execution_count": 47,
   "id": "778542b5-3bf6-4838-92cc-646332b18537",
   "metadata": {},
   "outputs": [
    {
     "data": {
      "text/html": [
       "<div>\n",
       "<style scoped>\n",
       "    .dataframe tbody tr th:only-of-type {\n",
       "        vertical-align: middle;\n",
       "    }\n",
       "\n",
       "    .dataframe tbody tr th {\n",
       "        vertical-align: top;\n",
       "    }\n",
       "\n",
       "    .dataframe thead th {\n",
       "        text-align: right;\n",
       "    }\n",
       "</style>\n",
       "<table border=\"1\" class=\"dataframe\">\n",
       "  <thead>\n",
       "    <tr style=\"text-align: right;\">\n",
       "      <th></th>\n",
       "      <th>OBJECTID</th>\n",
       "      <th>URL</th>\n",
       "      <th>NAME</th>\n",
       "      <th>the_geom</th>\n",
       "      <th>LINE</th>\n",
       "    </tr>\n",
       "  </thead>\n",
       "  <tbody>\n",
       "    <tr>\n",
       "      <th>0</th>\n",
       "      <td>1734</td>\n",
       "      <td>http://web.mta.info/nyct/service/</td>\n",
       "      <td>Birchall Ave &amp; Sagamore St at NW corner</td>\n",
       "      <td>POINT (-73.86835600032798 40.84916900104506)</td>\n",
       "      <td>2-5</td>\n",
       "    </tr>\n",
       "    <tr>\n",
       "      <th>1</th>\n",
       "      <td>1735</td>\n",
       "      <td>http://web.mta.info/nyct/service/</td>\n",
       "      <td>Birchall Ave &amp; Sagamore St at NE corner</td>\n",
       "      <td>POINT (-73.86821300022677 40.84912800131844)</td>\n",
       "      <td>2-5</td>\n",
       "    </tr>\n",
       "    <tr>\n",
       "      <th>2</th>\n",
       "      <td>1736</td>\n",
       "      <td>http://web.mta.info/nyct/service/</td>\n",
       "      <td>Morris Park Ave &amp; 180th St at NW corner</td>\n",
       "      <td>POINT (-73.87349900050798 40.84122300105249)</td>\n",
       "      <td>2-5</td>\n",
       "    </tr>\n",
       "    <tr>\n",
       "      <th>3</th>\n",
       "      <td>1737</td>\n",
       "      <td>http://web.mta.info/nyct/service/</td>\n",
       "      <td>Morris Park Ave &amp; 180th St at NW corner</td>\n",
       "      <td>POINT (-73.8728919997833 40.84145300067447)</td>\n",
       "      <td>2-5</td>\n",
       "    </tr>\n",
       "    <tr>\n",
       "      <th>4</th>\n",
       "      <td>1738</td>\n",
       "      <td>http://web.mta.info/nyct/service/</td>\n",
       "      <td>Boston Rd &amp; 178th St at SW corner</td>\n",
       "      <td>POINT (-73.87962300013866 40.84081500075867)</td>\n",
       "      <td>2-5</td>\n",
       "    </tr>\n",
       "  </tbody>\n",
       "</table>\n",
       "</div>"
      ],
      "text/plain": [
       "   OBJECTID                                URL  \\\n",
       "0      1734  http://web.mta.info/nyct/service/   \n",
       "1      1735  http://web.mta.info/nyct/service/   \n",
       "2      1736  http://web.mta.info/nyct/service/   \n",
       "3      1737  http://web.mta.info/nyct/service/   \n",
       "4      1738  http://web.mta.info/nyct/service/   \n",
       "\n",
       "                                      NAME  \\\n",
       "0  Birchall Ave & Sagamore St at NW corner   \n",
       "1  Birchall Ave & Sagamore St at NE corner   \n",
       "2  Morris Park Ave & 180th St at NW corner   \n",
       "3  Morris Park Ave & 180th St at NW corner   \n",
       "4        Boston Rd & 178th St at SW corner   \n",
       "\n",
       "                                       the_geom LINE  \n",
       "0  POINT (-73.86835600032798 40.84916900104506)  2-5  \n",
       "1  POINT (-73.86821300022677 40.84912800131844)  2-5  \n",
       "2  POINT (-73.87349900050798 40.84122300105249)  2-5  \n",
       "3   POINT (-73.8728919997833 40.84145300067447)  2-5  \n",
       "4  POINT (-73.87962300013866 40.84081500075867)  2-5  "
      ]
     },
     "execution_count": 47,
     "metadata": {},
     "output_type": "execute_result"
    }
   ],
   "source": [
    "subway.head()"
   ]
  },
  {
   "cell_type": "code",
   "execution_count": 48,
   "id": "7a28e25c-15a2-4b25-8371-b789f0747cb0",
   "metadata": {},
   "outputs": [],
   "source": [
    "subway.columns = subway.columns.str.lower() "
   ]
  },
  {
   "cell_type": "code",
   "execution_count": 49,
   "id": "c3edb01f-4b58-4963-9136-5e1e8c164434",
   "metadata": {},
   "outputs": [
    {
     "data": {
      "text/plain": [
       "objectid     int64\n",
       "url         object\n",
       "name        object\n",
       "the_geom    object\n",
       "line        object\n",
       "dtype: object"
      ]
     },
     "execution_count": 49,
     "metadata": {},
     "output_type": "execute_result"
    }
   ],
   "source": [
    "subway.dtypes"
   ]
  },
  {
   "cell_type": "code",
   "execution_count": 50,
   "id": "48692eb2-cfd2-47da-b91d-315e546231a6",
   "metadata": {},
   "outputs": [],
   "source": [
    "subway.drop(columns = 'url', inplace = True)"
   ]
  },
  {
   "cell_type": "code",
   "execution_count": 51,
   "id": "cf86696f-86a8-425e-b887-28d6fe45b3c6",
   "metadata": {},
   "outputs": [
    {
     "data": {
      "text/plain": [
       "(1928, 4)"
      ]
     },
     "execution_count": 51,
     "metadata": {},
     "output_type": "execute_result"
    }
   ],
   "source": [
    "subway.shape"
   ]
  },
  {
   "cell_type": "code",
   "execution_count": 52,
   "id": "83f6de60-f339-4014-8b5f-06ca029b859d",
   "metadata": {},
   "outputs": [],
   "source": [
    "test = \"POINT (-73.86835600032798 40.84916900104506)\""
   ]
  },
  {
   "cell_type": "code",
   "execution_count": 12,
   "id": "5d363871-df1b-4756-9d06-c307410a4228",
   "metadata": {},
   "outputs": [
    {
     "data": {
      "text/plain": [
       "'-73.86835600032798 40.84916900104506)'"
      ]
     },
     "execution_count": 12,
     "metadata": {},
     "output_type": "execute_result"
    }
   ],
   "source": [
    "test[7:]"
   ]
  },
  {
   "cell_type": "code",
   "execution_count": 14,
   "id": "c203a80c-f363-499c-9737-3db7fc32b500",
   "metadata": {},
   "outputs": [
    {
     "data": {
      "text/plain": [
       "'-73.86835600032798 40.84916900104506'"
      ]
     },
     "execution_count": 14,
     "metadata": {},
     "output_type": "execute_result"
    }
   ],
   "source": [
    "test[7:-1]"
   ]
  },
  {
   "cell_type": "markdown",
   "id": "2c6c1195-ef3d-4282-83da-9384ca8c428f",
   "metadata": {},
   "source": [
    "This could work, but I'm concerned all the strings aren't the same length. Using regex.\n",
    "\n",
    "[This site](https://statisticsglobe.com/extract-substring-before-or-after-pattern-in-r) helped me figure out how to write the regex for extracting starting at the '-'. This [stackoverflow answer](https://stackoverflow.com/a/18213017) helped me write the regex to get everything before the final comma.\n",
    "\n",
    "[Regex101.com](https://regex101.com/) helped me confirm I had it right.\n",
    "\n",
    "[This site](https://linuxhint.com/extract-substring-regex-python/) helped me understand what regex function to use to extract the text I wanted.\n",
    "\n"
   ]
  },
  {
   "cell_type": "code",
   "execution_count": 20,
   "id": "239ab44f-8006-45ed-8a72-d22c24f1c887",
   "metadata": {},
   "outputs": [],
   "source": [
    "test2 = re.search('-.*', test).group(0)"
   ]
  },
  {
   "cell_type": "code",
   "execution_count": 21,
   "id": "9c1f1329-09c0-4210-bfef-baef44adee9e",
   "metadata": {},
   "outputs": [
    {
     "data": {
      "text/plain": [
       "'-73.86835600032798 40.84916900104506)'"
      ]
     },
     "execution_count": 21,
     "metadata": {},
     "output_type": "execute_result"
    }
   ],
   "source": [
    "test2"
   ]
  },
  {
   "cell_type": "code",
   "execution_count": 22,
   "id": "0fe9f2e0-57ac-40a1-baea-849325f387dc",
   "metadata": {},
   "outputs": [],
   "source": [
    "test3 = re.search('^[^\\)]*', test2).group(0)"
   ]
  },
  {
   "cell_type": "code",
   "execution_count": 23,
   "id": "337ad16d-23a0-4615-a29d-5cac3a5ba7ae",
   "metadata": {},
   "outputs": [
    {
     "data": {
      "text/plain": [
       "'-73.86835600032798 40.84916900104506'"
      ]
     },
     "execution_count": 23,
     "metadata": {},
     "output_type": "execute_result"
    }
   ],
   "source": [
    "test3"
   ]
  },
  {
   "cell_type": "code",
   "execution_count": 25,
   "id": "7c601267-d947-46fe-a57e-d1d666693239",
   "metadata": {},
   "outputs": [
    {
     "data": {
      "text/plain": [
       "['-73.86835600032798', '40.84916900104506']"
      ]
     },
     "execution_count": 25,
     "metadata": {},
     "output_type": "execute_result"
    }
   ],
   "source": [
    "test4 = test3.split()\n",
    "test4"
   ]
  },
  {
   "cell_type": "code",
   "execution_count": 28,
   "id": "631bf60a-bcce-4469-bffd-2871c8eb797b",
   "metadata": {},
   "outputs": [
    {
     "name": "stdout",
     "output_type": "stream",
     "text": [
      "Lat: 40.84916900104506, Long: -73.86835600032798\n"
     ]
    }
   ],
   "source": [
    "test_long = float(test4[0])\n",
    "test_lat = float(test4[1])\n",
    "\n",
    "print(f'Lat: {test_lat}, Long: {test_long}')"
   ]
  },
  {
   "cell_type": "markdown",
   "id": "35ba860c-7037-4c6e-b7cc-d8288b9e2338",
   "metadata": {},
   "source": [
    "Applying the above process to the dataframe"
   ]
  },
  {
   "cell_type": "code",
   "execution_count": 53,
   "id": "efd7d625-abb9-4efc-97f2-3377f398123a",
   "metadata": {},
   "outputs": [],
   "source": [
    "pair = lambda x: re.search('^[^\\)]*', re.search('-.*', x).group(0)).group(0).split()"
   ]
  },
  {
   "cell_type": "code",
   "execution_count": 54,
   "id": "ecc9939c-0e71-45df-a3a6-b6b7aef3659b",
   "metadata": {},
   "outputs": [
    {
     "data": {
      "text/plain": [
       "['-73.86835600032798', '40.84916900104506']"
      ]
     },
     "execution_count": 54,
     "metadata": {},
     "output_type": "execute_result"
    }
   ],
   "source": [
    "pair(test)"
   ]
  },
  {
   "cell_type": "code",
   "execution_count": 55,
   "id": "4db38008-65f2-4b6b-97bf-7882a0516fed",
   "metadata": {},
   "outputs": [
    {
     "data": {
      "text/html": [
       "<div>\n",
       "<style scoped>\n",
       "    .dataframe tbody tr th:only-of-type {\n",
       "        vertical-align: middle;\n",
       "    }\n",
       "\n",
       "    .dataframe tbody tr th {\n",
       "        vertical-align: top;\n",
       "    }\n",
       "\n",
       "    .dataframe thead th {\n",
       "        text-align: right;\n",
       "    }\n",
       "</style>\n",
       "<table border=\"1\" class=\"dataframe\">\n",
       "  <thead>\n",
       "    <tr style=\"text-align: right;\">\n",
       "      <th></th>\n",
       "      <th>objectid</th>\n",
       "      <th>name</th>\n",
       "      <th>the_geom</th>\n",
       "      <th>line</th>\n",
       "    </tr>\n",
       "  </thead>\n",
       "  <tbody>\n",
       "    <tr>\n",
       "      <th>0</th>\n",
       "      <td>1734</td>\n",
       "      <td>Birchall Ave &amp; Sagamore St at NW corner</td>\n",
       "      <td>[-73.86835600032798, 40.84916900104506]</td>\n",
       "      <td>2-5</td>\n",
       "    </tr>\n",
       "    <tr>\n",
       "      <th>1</th>\n",
       "      <td>1735</td>\n",
       "      <td>Birchall Ave &amp; Sagamore St at NE corner</td>\n",
       "      <td>[-73.86821300022677, 40.84912800131844]</td>\n",
       "      <td>2-5</td>\n",
       "    </tr>\n",
       "    <tr>\n",
       "      <th>2</th>\n",
       "      <td>1736</td>\n",
       "      <td>Morris Park Ave &amp; 180th St at NW corner</td>\n",
       "      <td>[-73.87349900050798, 40.84122300105249]</td>\n",
       "      <td>2-5</td>\n",
       "    </tr>\n",
       "    <tr>\n",
       "      <th>3</th>\n",
       "      <td>1737</td>\n",
       "      <td>Morris Park Ave &amp; 180th St at NW corner</td>\n",
       "      <td>[-73.8728919997833, 40.84145300067447]</td>\n",
       "      <td>2-5</td>\n",
       "    </tr>\n",
       "    <tr>\n",
       "      <th>4</th>\n",
       "      <td>1738</td>\n",
       "      <td>Boston Rd &amp; 178th St at SW corner</td>\n",
       "      <td>[-73.87962300013866, 40.84081500075867]</td>\n",
       "      <td>2-5</td>\n",
       "    </tr>\n",
       "  </tbody>\n",
       "</table>\n",
       "</div>"
      ],
      "text/plain": [
       "   objectid                                     name  \\\n",
       "0      1734  Birchall Ave & Sagamore St at NW corner   \n",
       "1      1735  Birchall Ave & Sagamore St at NE corner   \n",
       "2      1736  Morris Park Ave & 180th St at NW corner   \n",
       "3      1737  Morris Park Ave & 180th St at NW corner   \n",
       "4      1738        Boston Rd & 178th St at SW corner   \n",
       "\n",
       "                                  the_geom line  \n",
       "0  [-73.86835600032798, 40.84916900104506]  2-5  \n",
       "1  [-73.86821300022677, 40.84912800131844]  2-5  \n",
       "2  [-73.87349900050798, 40.84122300105249]  2-5  \n",
       "3   [-73.8728919997833, 40.84145300067447]  2-5  \n",
       "4  [-73.87962300013866, 40.84081500075867]  2-5  "
      ]
     },
     "execution_count": 55,
     "metadata": {},
     "output_type": "execute_result"
    }
   ],
   "source": [
    "subway['the_geom'] = subway['the_geom'].map(pair)\n",
    "subway.head()"
   ]
  },
  {
   "cell_type": "code",
   "execution_count": 56,
   "id": "a00fc9d8-82d3-4d67-b492-69476de5b5ea",
   "metadata": {},
   "outputs": [
    {
     "data": {
      "text/html": [
       "<div>\n",
       "<style scoped>\n",
       "    .dataframe tbody tr th:only-of-type {\n",
       "        vertical-align: middle;\n",
       "    }\n",
       "\n",
       "    .dataframe tbody tr th {\n",
       "        vertical-align: top;\n",
       "    }\n",
       "\n",
       "    .dataframe thead th {\n",
       "        text-align: right;\n",
       "    }\n",
       "</style>\n",
       "<table border=\"1\" class=\"dataframe\">\n",
       "  <thead>\n",
       "    <tr style=\"text-align: right;\">\n",
       "      <th></th>\n",
       "      <th>objectid</th>\n",
       "      <th>name</th>\n",
       "      <th>the_geom</th>\n",
       "      <th>line</th>\n",
       "      <th>latitude</th>\n",
       "    </tr>\n",
       "  </thead>\n",
       "  <tbody>\n",
       "    <tr>\n",
       "      <th>0</th>\n",
       "      <td>1734</td>\n",
       "      <td>Birchall Ave &amp; Sagamore St at NW corner</td>\n",
       "      <td>[-73.86835600032798, 40.84916900104506]</td>\n",
       "      <td>2-5</td>\n",
       "      <td>40.849169</td>\n",
       "    </tr>\n",
       "    <tr>\n",
       "      <th>1</th>\n",
       "      <td>1735</td>\n",
       "      <td>Birchall Ave &amp; Sagamore St at NE corner</td>\n",
       "      <td>[-73.86821300022677, 40.84912800131844]</td>\n",
       "      <td>2-5</td>\n",
       "      <td>40.849128</td>\n",
       "    </tr>\n",
       "    <tr>\n",
       "      <th>2</th>\n",
       "      <td>1736</td>\n",
       "      <td>Morris Park Ave &amp; 180th St at NW corner</td>\n",
       "      <td>[-73.87349900050798, 40.84122300105249]</td>\n",
       "      <td>2-5</td>\n",
       "      <td>40.841223</td>\n",
       "    </tr>\n",
       "    <tr>\n",
       "      <th>3</th>\n",
       "      <td>1737</td>\n",
       "      <td>Morris Park Ave &amp; 180th St at NW corner</td>\n",
       "      <td>[-73.8728919997833, 40.84145300067447]</td>\n",
       "      <td>2-5</td>\n",
       "      <td>40.841453</td>\n",
       "    </tr>\n",
       "    <tr>\n",
       "      <th>4</th>\n",
       "      <td>1738</td>\n",
       "      <td>Boston Rd &amp; 178th St at SW corner</td>\n",
       "      <td>[-73.87962300013866, 40.84081500075867]</td>\n",
       "      <td>2-5</td>\n",
       "      <td>40.840815</td>\n",
       "    </tr>\n",
       "  </tbody>\n",
       "</table>\n",
       "</div>"
      ],
      "text/plain": [
       "   objectid                                     name  \\\n",
       "0      1734  Birchall Ave & Sagamore St at NW corner   \n",
       "1      1735  Birchall Ave & Sagamore St at NE corner   \n",
       "2      1736  Morris Park Ave & 180th St at NW corner   \n",
       "3      1737  Morris Park Ave & 180th St at NW corner   \n",
       "4      1738        Boston Rd & 178th St at SW corner   \n",
       "\n",
       "                                  the_geom line   latitude  \n",
       "0  [-73.86835600032798, 40.84916900104506]  2-5  40.849169  \n",
       "1  [-73.86821300022677, 40.84912800131844]  2-5  40.849128  \n",
       "2  [-73.87349900050798, 40.84122300105249]  2-5  40.841223  \n",
       "3   [-73.8728919997833, 40.84145300067447]  2-5  40.841453  \n",
       "4  [-73.87962300013866, 40.84081500075867]  2-5  40.840815  "
      ]
     },
     "execution_count": 56,
     "metadata": {},
     "output_type": "execute_result"
    }
   ],
   "source": [
    "subway['latitude'] = subway['the_geom'].map(lambda x: float(x[1]))\n",
    "subway.head()"
   ]
  },
  {
   "cell_type": "code",
   "execution_count": 57,
   "id": "0c0ea239-613f-49a4-8da5-f9d5c873729a",
   "metadata": {},
   "outputs": [
    {
     "data": {
      "text/html": [
       "<div>\n",
       "<style scoped>\n",
       "    .dataframe tbody tr th:only-of-type {\n",
       "        vertical-align: middle;\n",
       "    }\n",
       "\n",
       "    .dataframe tbody tr th {\n",
       "        vertical-align: top;\n",
       "    }\n",
       "\n",
       "    .dataframe thead th {\n",
       "        text-align: right;\n",
       "    }\n",
       "</style>\n",
       "<table border=\"1\" class=\"dataframe\">\n",
       "  <thead>\n",
       "    <tr style=\"text-align: right;\">\n",
       "      <th></th>\n",
       "      <th>objectid</th>\n",
       "      <th>name</th>\n",
       "      <th>the_geom</th>\n",
       "      <th>line</th>\n",
       "      <th>latitude</th>\n",
       "      <th>longitude</th>\n",
       "    </tr>\n",
       "  </thead>\n",
       "  <tbody>\n",
       "    <tr>\n",
       "      <th>0</th>\n",
       "      <td>1734</td>\n",
       "      <td>Birchall Ave &amp; Sagamore St at NW corner</td>\n",
       "      <td>[-73.86835600032798, 40.84916900104506]</td>\n",
       "      <td>2-5</td>\n",
       "      <td>40.849169</td>\n",
       "      <td>-73.868356</td>\n",
       "    </tr>\n",
       "    <tr>\n",
       "      <th>1</th>\n",
       "      <td>1735</td>\n",
       "      <td>Birchall Ave &amp; Sagamore St at NE corner</td>\n",
       "      <td>[-73.86821300022677, 40.84912800131844]</td>\n",
       "      <td>2-5</td>\n",
       "      <td>40.849128</td>\n",
       "      <td>-73.868213</td>\n",
       "    </tr>\n",
       "    <tr>\n",
       "      <th>2</th>\n",
       "      <td>1736</td>\n",
       "      <td>Morris Park Ave &amp; 180th St at NW corner</td>\n",
       "      <td>[-73.87349900050798, 40.84122300105249]</td>\n",
       "      <td>2-5</td>\n",
       "      <td>40.841223</td>\n",
       "      <td>-73.873499</td>\n",
       "    </tr>\n",
       "    <tr>\n",
       "      <th>3</th>\n",
       "      <td>1737</td>\n",
       "      <td>Morris Park Ave &amp; 180th St at NW corner</td>\n",
       "      <td>[-73.8728919997833, 40.84145300067447]</td>\n",
       "      <td>2-5</td>\n",
       "      <td>40.841453</td>\n",
       "      <td>-73.872892</td>\n",
       "    </tr>\n",
       "    <tr>\n",
       "      <th>4</th>\n",
       "      <td>1738</td>\n",
       "      <td>Boston Rd &amp; 178th St at SW corner</td>\n",
       "      <td>[-73.87962300013866, 40.84081500075867]</td>\n",
       "      <td>2-5</td>\n",
       "      <td>40.840815</td>\n",
       "      <td>-73.879623</td>\n",
       "    </tr>\n",
       "  </tbody>\n",
       "</table>\n",
       "</div>"
      ],
      "text/plain": [
       "   objectid                                     name  \\\n",
       "0      1734  Birchall Ave & Sagamore St at NW corner   \n",
       "1      1735  Birchall Ave & Sagamore St at NE corner   \n",
       "2      1736  Morris Park Ave & 180th St at NW corner   \n",
       "3      1737  Morris Park Ave & 180th St at NW corner   \n",
       "4      1738        Boston Rd & 178th St at SW corner   \n",
       "\n",
       "                                  the_geom line   latitude  longitude  \n",
       "0  [-73.86835600032798, 40.84916900104506]  2-5  40.849169 -73.868356  \n",
       "1  [-73.86821300022677, 40.84912800131844]  2-5  40.849128 -73.868213  \n",
       "2  [-73.87349900050798, 40.84122300105249]  2-5  40.841223 -73.873499  \n",
       "3   [-73.8728919997833, 40.84145300067447]  2-5  40.841453 -73.872892  \n",
       "4  [-73.87962300013866, 40.84081500075867]  2-5  40.840815 -73.879623  "
      ]
     },
     "execution_count": 57,
     "metadata": {},
     "output_type": "execute_result"
    }
   ],
   "source": [
    "subway['longitude'] = subway['the_geom'].map(lambda x: float(x[0]))\n",
    "subway.head()"
   ]
  },
  {
   "cell_type": "code",
   "execution_count": 58,
   "id": "0eb90151-13fb-4968-b4af-ffd4241636a3",
   "metadata": {},
   "outputs": [
    {
     "data": {
      "text/html": [
       "<div>\n",
       "<style scoped>\n",
       "    .dataframe tbody tr th:only-of-type {\n",
       "        vertical-align: middle;\n",
       "    }\n",
       "\n",
       "    .dataframe tbody tr th {\n",
       "        vertical-align: top;\n",
       "    }\n",
       "\n",
       "    .dataframe thead th {\n",
       "        text-align: right;\n",
       "    }\n",
       "</style>\n",
       "<table border=\"1\" class=\"dataframe\">\n",
       "  <thead>\n",
       "    <tr style=\"text-align: right;\">\n",
       "      <th></th>\n",
       "      <th>objectid</th>\n",
       "      <th>name</th>\n",
       "      <th>line</th>\n",
       "      <th>latitude</th>\n",
       "      <th>longitude</th>\n",
       "    </tr>\n",
       "  </thead>\n",
       "  <tbody>\n",
       "    <tr>\n",
       "      <th>0</th>\n",
       "      <td>1734</td>\n",
       "      <td>Birchall Ave &amp; Sagamore St at NW corner</td>\n",
       "      <td>2-5</td>\n",
       "      <td>40.849169</td>\n",
       "      <td>-73.868356</td>\n",
       "    </tr>\n",
       "    <tr>\n",
       "      <th>1</th>\n",
       "      <td>1735</td>\n",
       "      <td>Birchall Ave &amp; Sagamore St at NE corner</td>\n",
       "      <td>2-5</td>\n",
       "      <td>40.849128</td>\n",
       "      <td>-73.868213</td>\n",
       "    </tr>\n",
       "    <tr>\n",
       "      <th>2</th>\n",
       "      <td>1736</td>\n",
       "      <td>Morris Park Ave &amp; 180th St at NW corner</td>\n",
       "      <td>2-5</td>\n",
       "      <td>40.841223</td>\n",
       "      <td>-73.873499</td>\n",
       "    </tr>\n",
       "    <tr>\n",
       "      <th>3</th>\n",
       "      <td>1737</td>\n",
       "      <td>Morris Park Ave &amp; 180th St at NW corner</td>\n",
       "      <td>2-5</td>\n",
       "      <td>40.841453</td>\n",
       "      <td>-73.872892</td>\n",
       "    </tr>\n",
       "    <tr>\n",
       "      <th>4</th>\n",
       "      <td>1738</td>\n",
       "      <td>Boston Rd &amp; 178th St at SW corner</td>\n",
       "      <td>2-5</td>\n",
       "      <td>40.840815</td>\n",
       "      <td>-73.879623</td>\n",
       "    </tr>\n",
       "  </tbody>\n",
       "</table>\n",
       "</div>"
      ],
      "text/plain": [
       "   objectid                                     name line   latitude  \\\n",
       "0      1734  Birchall Ave & Sagamore St at NW corner  2-5  40.849169   \n",
       "1      1735  Birchall Ave & Sagamore St at NE corner  2-5  40.849128   \n",
       "2      1736  Morris Park Ave & 180th St at NW corner  2-5  40.841223   \n",
       "3      1737  Morris Park Ave & 180th St at NW corner  2-5  40.841453   \n",
       "4      1738        Boston Rd & 178th St at SW corner  2-5  40.840815   \n",
       "\n",
       "   longitude  \n",
       "0 -73.868356  \n",
       "1 -73.868213  \n",
       "2 -73.873499  \n",
       "3 -73.872892  \n",
       "4 -73.879623  "
      ]
     },
     "execution_count": 58,
     "metadata": {},
     "output_type": "execute_result"
    }
   ],
   "source": [
    "subway.drop(columns = 'the_geom', inplace = True)\n",
    "subway.head()"
   ]
  },
  {
   "cell_type": "code",
   "execution_count": 60,
   "id": "7518ce1b-3a2e-4c9c-90d0-9b03cd9742ac",
   "metadata": {},
   "outputs": [],
   "source": [
    "subway.to_csv('data/subway_cleaned.csv', index = False)"
   ]
  },
  {
   "cell_type": "code",
   "execution_count": null,
   "id": "df081da7-dbd3-419c-ad28-9842d4c1630e",
   "metadata": {},
   "outputs": [],
   "source": []
  }
 ],
 "metadata": {
  "kernelspec": {
   "display_name": "Python 3 (ipykernel)",
   "language": "python",
   "name": "python3"
  },
  "language_info": {
   "codemirror_mode": {
    "name": "ipython",
    "version": 3
   },
   "file_extension": ".py",
   "mimetype": "text/x-python",
   "name": "python",
   "nbconvert_exporter": "python",
   "pygments_lexer": "ipython3",
   "version": "3.9.12"
  }
 },
 "nbformat": 4,
 "nbformat_minor": 5
}
