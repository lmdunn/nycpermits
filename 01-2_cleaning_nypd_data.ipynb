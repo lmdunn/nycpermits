{
 "cells": [
  {
   "cell_type": "code",
   "execution_count": 90,
   "id": "06764260-63df-4888-be10-e6a5efc00fe2",
   "metadata": {},
   "outputs": [],
   "source": [
    "import pandas as pd"
   ]
  },
  {
   "cell_type": "code",
   "execution_count": 29,
   "id": "262ad6e0-b1ed-48e8-b0de-70360cd79cb5",
   "metadata": {},
   "outputs": [
    {
     "name": "stderr",
     "output_type": "stream",
     "text": [
      "/var/folders/5_/498w081d1837cc82dmb4hwmc0000gn/T/ipykernel_10405/3354807861.py:1: DtypeWarning: Columns (17) have mixed types. Specify dtype option on import or set low_memory=False.\n",
      "  nypd = pd.read_csv('../capstone_large_data_sets/NYPD_Complaint_Map__Historic_.csv')\n"
     ]
    }
   ],
   "source": [
    "nypd = pd.read_csv('../capstone_large_data_sets/NYPD_Complaint_Map__Historic_.csv')"
   ]
  },
  {
   "cell_type": "code",
   "execution_count": 3,
   "id": "856d05d6-089d-4d07-80d8-5ab4bbd71301",
   "metadata": {},
   "outputs": [
    {
     "data": {
      "text/plain": [
       "(7825499, 24)"
      ]
     },
     "execution_count": 3,
     "metadata": {},
     "output_type": "execute_result"
    }
   ],
   "source": [
    "nypd.shape"
   ]
  },
  {
   "cell_type": "code",
   "execution_count": 4,
   "id": "50b8ec83-b037-49e0-9e19-03bbf6b39cb0",
   "metadata": {},
   "outputs": [
    {
     "data": {
      "text/html": [
       "<div>\n",
       "<style scoped>\n",
       "    .dataframe tbody tr th:only-of-type {\n",
       "        vertical-align: middle;\n",
       "    }\n",
       "\n",
       "    .dataframe tbody tr th {\n",
       "        vertical-align: top;\n",
       "    }\n",
       "\n",
       "    .dataframe thead th {\n",
       "        text-align: right;\n",
       "    }\n",
       "</style>\n",
       "<table border=\"1\" class=\"dataframe\">\n",
       "  <thead>\n",
       "    <tr style=\"text-align: right;\">\n",
       "      <th></th>\n",
       "      <th>CMPLNT_NUM</th>\n",
       "      <th>CMPLNT_FR_DT</th>\n",
       "      <th>CMPLNT_FR_TM</th>\n",
       "      <th>CMPLNT_TO_DT</th>\n",
       "      <th>CMPLNT_TO_TM</th>\n",
       "      <th>ADDR_PCT_CD</th>\n",
       "      <th>RPT_DT</th>\n",
       "      <th>KY_CD</th>\n",
       "      <th>OFNS_DESC</th>\n",
       "      <th>PD_CD</th>\n",
       "      <th>...</th>\n",
       "      <th>LOC_OF_OCCUR_DESC</th>\n",
       "      <th>PREM_TYP_DESC</th>\n",
       "      <th>JURIS_DESC</th>\n",
       "      <th>PARKS_NM</th>\n",
       "      <th>HADEVELOPT</th>\n",
       "      <th>X_COORD_CD</th>\n",
       "      <th>Y_COORD_CD</th>\n",
       "      <th>Latitude</th>\n",
       "      <th>Longitude</th>\n",
       "      <th>Lat_Lon</th>\n",
       "    </tr>\n",
       "  </thead>\n",
       "  <tbody>\n",
       "    <tr>\n",
       "      <th>0</th>\n",
       "      <td>394506329</td>\n",
       "      <td>12/31/2019</td>\n",
       "      <td>17:30:00</td>\n",
       "      <td>NaN</td>\n",
       "      <td>NaN</td>\n",
       "      <td>32.0</td>\n",
       "      <td>12/31/2019</td>\n",
       "      <td>118</td>\n",
       "      <td>DANGEROUS WEAPONS</td>\n",
       "      <td>793.0</td>\n",
       "      <td>...</td>\n",
       "      <td>NaN</td>\n",
       "      <td>STREET</td>\n",
       "      <td>N.Y. POLICE DEPT</td>\n",
       "      <td>NaN</td>\n",
       "      <td>NaN</td>\n",
       "      <td>999937.0</td>\n",
       "      <td>238365.0</td>\n",
       "      <td>40.820927</td>\n",
       "      <td>-73.943324</td>\n",
       "      <td>(40.82092679700002, -73.94332421899996)</td>\n",
       "    </tr>\n",
       "    <tr>\n",
       "      <th>1</th>\n",
       "      <td>968873685</td>\n",
       "      <td>12/29/2019</td>\n",
       "      <td>16:31:00</td>\n",
       "      <td>12/29/2019</td>\n",
       "      <td>16:54:00</td>\n",
       "      <td>47.0</td>\n",
       "      <td>12/29/2019</td>\n",
       "      <td>113</td>\n",
       "      <td>FORGERY</td>\n",
       "      <td>729.0</td>\n",
       "      <td>...</td>\n",
       "      <td>NaN</td>\n",
       "      <td>STREET</td>\n",
       "      <td>N.Y. POLICE DEPT</td>\n",
       "      <td>NaN</td>\n",
       "      <td>NaN</td>\n",
       "      <td>1022508.0</td>\n",
       "      <td>261990.0</td>\n",
       "      <td>40.885701</td>\n",
       "      <td>-73.861640</td>\n",
       "      <td>(40.885701406000074, -73.86164032499995)</td>\n",
       "    </tr>\n",
       "    <tr>\n",
       "      <th>2</th>\n",
       "      <td>509837549</td>\n",
       "      <td>12/15/2019</td>\n",
       "      <td>18:45:00</td>\n",
       "      <td>NaN</td>\n",
       "      <td>NaN</td>\n",
       "      <td>109.0</td>\n",
       "      <td>12/29/2019</td>\n",
       "      <td>578</td>\n",
       "      <td>HARRASSMENT 2</td>\n",
       "      <td>638.0</td>\n",
       "      <td>...</td>\n",
       "      <td>FRONT OF</td>\n",
       "      <td>STREET</td>\n",
       "      <td>N.Y. POLICE DEPT</td>\n",
       "      <td>NaN</td>\n",
       "      <td>NaN</td>\n",
       "      <td>1034178.0</td>\n",
       "      <td>209758.0</td>\n",
       "      <td>40.742281</td>\n",
       "      <td>-73.819824</td>\n",
       "      <td>(40.74228115600005, -73.81982408)</td>\n",
       "    </tr>\n",
       "    <tr>\n",
       "      <th>3</th>\n",
       "      <td>352454313</td>\n",
       "      <td>12/28/2019</td>\n",
       "      <td>01:00:00</td>\n",
       "      <td>NaN</td>\n",
       "      <td>NaN</td>\n",
       "      <td>47.0</td>\n",
       "      <td>12/28/2019</td>\n",
       "      <td>126</td>\n",
       "      <td>MISCELLANEOUS PENAL LAW</td>\n",
       "      <td>117.0</td>\n",
       "      <td>...</td>\n",
       "      <td>REAR OF</td>\n",
       "      <td>STREET</td>\n",
       "      <td>N.Y. POLICE DEPT</td>\n",
       "      <td>NaN</td>\n",
       "      <td>NaN</td>\n",
       "      <td>1026412.0</td>\n",
       "      <td>258211.0</td>\n",
       "      <td>40.875311</td>\n",
       "      <td>-73.847545</td>\n",
       "      <td>(40.87531145100007, -73.84754521099995)</td>\n",
       "    </tr>\n",
       "    <tr>\n",
       "      <th>4</th>\n",
       "      <td>248803469</td>\n",
       "      <td>09/05/2008</td>\n",
       "      <td>21:41:00</td>\n",
       "      <td>NaN</td>\n",
       "      <td>NaN</td>\n",
       "      <td>NaN</td>\n",
       "      <td>09/05/2008</td>\n",
       "      <td>101</td>\n",
       "      <td>MURDER &amp; NON-NEGL. MANSLAUGHTER</td>\n",
       "      <td>NaN</td>\n",
       "      <td>...</td>\n",
       "      <td>OUTSIDE</td>\n",
       "      <td>NaN</td>\n",
       "      <td>N.Y. POLICE DEPT</td>\n",
       "      <td>NaN</td>\n",
       "      <td>NaN</td>\n",
       "      <td>1001215.0</td>\n",
       "      <td>193881.0</td>\n",
       "      <td>40.698827</td>\n",
       "      <td>-73.938819</td>\n",
       "      <td>(40.698827283, -73.938819047)</td>\n",
       "    </tr>\n",
       "  </tbody>\n",
       "</table>\n",
       "<p>5 rows × 24 columns</p>\n",
       "</div>"
      ],
      "text/plain": [
       "   CMPLNT_NUM CMPLNT_FR_DT CMPLNT_FR_TM CMPLNT_TO_DT CMPLNT_TO_TM  \\\n",
       "0   394506329   12/31/2019     17:30:00          NaN          NaN   \n",
       "1   968873685   12/29/2019     16:31:00   12/29/2019     16:54:00   \n",
       "2   509837549   12/15/2019     18:45:00          NaN          NaN   \n",
       "3   352454313   12/28/2019     01:00:00          NaN          NaN   \n",
       "4   248803469   09/05/2008     21:41:00          NaN          NaN   \n",
       "\n",
       "   ADDR_PCT_CD      RPT_DT  KY_CD                        OFNS_DESC  PD_CD  \\\n",
       "0         32.0  12/31/2019    118                DANGEROUS WEAPONS  793.0   \n",
       "1         47.0  12/29/2019    113                          FORGERY  729.0   \n",
       "2        109.0  12/29/2019    578                    HARRASSMENT 2  638.0   \n",
       "3         47.0  12/28/2019    126          MISCELLANEOUS PENAL LAW  117.0   \n",
       "4          NaN  09/05/2008    101  MURDER & NON-NEGL. MANSLAUGHTER    NaN   \n",
       "\n",
       "   ... LOC_OF_OCCUR_DESC PREM_TYP_DESC        JURIS_DESC PARKS_NM HADEVELOPT  \\\n",
       "0  ...               NaN        STREET  N.Y. POLICE DEPT      NaN        NaN   \n",
       "1  ...               NaN        STREET  N.Y. POLICE DEPT      NaN        NaN   \n",
       "2  ...          FRONT OF        STREET  N.Y. POLICE DEPT      NaN        NaN   \n",
       "3  ...           REAR OF        STREET  N.Y. POLICE DEPT      NaN        NaN   \n",
       "4  ...           OUTSIDE           NaN  N.Y. POLICE DEPT      NaN        NaN   \n",
       "\n",
       "  X_COORD_CD Y_COORD_CD   Latitude  Longitude  \\\n",
       "0   999937.0   238365.0  40.820927 -73.943324   \n",
       "1  1022508.0   261990.0  40.885701 -73.861640   \n",
       "2  1034178.0   209758.0  40.742281 -73.819824   \n",
       "3  1026412.0   258211.0  40.875311 -73.847545   \n",
       "4  1001215.0   193881.0  40.698827 -73.938819   \n",
       "\n",
       "                                    Lat_Lon  \n",
       "0   (40.82092679700002, -73.94332421899996)  \n",
       "1  (40.885701406000074, -73.86164032499995)  \n",
       "2         (40.74228115600005, -73.81982408)  \n",
       "3   (40.87531145100007, -73.84754521099995)  \n",
       "4             (40.698827283, -73.938819047)  \n",
       "\n",
       "[5 rows x 24 columns]"
      ]
     },
     "execution_count": 4,
     "metadata": {},
     "output_type": "execute_result"
    }
   ],
   "source": [
    "nypd.head()"
   ]
  },
  {
   "cell_type": "code",
   "execution_count": 5,
   "id": "bdbe9a3c-2e89-4e98-9c55-fb7f00084560",
   "metadata": {},
   "outputs": [
    {
     "data": {
      "text/plain": [
       "CMPLNT_NUM             int64\n",
       "CMPLNT_FR_DT          object\n",
       "CMPLNT_FR_TM          object\n",
       "CMPLNT_TO_DT          object\n",
       "CMPLNT_TO_TM          object\n",
       "ADDR_PCT_CD          float64\n",
       "RPT_DT                object\n",
       "KY_CD                  int64\n",
       "OFNS_DESC             object\n",
       "PD_CD                float64\n",
       "PD_DESC               object\n",
       "CRM_ATPT_CPTD_CD      object\n",
       "LAW_CAT_CD            object\n",
       "BORO_NM               object\n",
       "LOC_OF_OCCUR_DESC     object\n",
       "PREM_TYP_DESC         object\n",
       "JURIS_DESC            object\n",
       "PARKS_NM              object\n",
       "HADEVELOPT            object\n",
       "X_COORD_CD           float64\n",
       "Y_COORD_CD           float64\n",
       "Latitude             float64\n",
       "Longitude            float64\n",
       "Lat_Lon               object\n",
       "dtype: object"
      ]
     },
     "execution_count": 5,
     "metadata": {},
     "output_type": "execute_result"
    }
   ],
   "source": [
    "nypd.dtypes"
   ]
  },
  {
   "cell_type": "code",
   "execution_count": 37,
   "id": "dd8e13ba-84f1-4d07-bd8e-f304cb710951",
   "metadata": {},
   "outputs": [],
   "source": [
    "nypd.columns = nypd.columns.str.lower()"
   ]
  },
  {
   "cell_type": "code",
   "execution_count": 9,
   "id": "941e3c72-6b75-4c83-908d-27d020d6873d",
   "metadata": {},
   "outputs": [
    {
     "data": {
      "text/plain": [
       "dtype('O')"
      ]
     },
     "execution_count": 9,
     "metadata": {},
     "output_type": "execute_result"
    }
   ],
   "source": [
    "nypd['cmplnt_fr_dt'].dtypes"
   ]
  },
  {
   "cell_type": "markdown",
   "id": "8c0db370-82a6-40ca-a569-4bda693dd9e6",
   "metadata": {},
   "source": [
    "# Reducing Years of Data\n",
    "My first goal was to shrink the size of the data set by reducing to the last 5 years."
   ]
  },
  {
   "cell_type": "code",
   "execution_count": 11,
   "id": "3397ac3a-0921-4e7d-87e9-a55feec6dc1c",
   "metadata": {},
   "outputs": [],
   "source": [
    "bad_dates = []\n",
    "for i in nypd.index:\n",
    "    try:\n",
    "        nypd.loc[i, 'cmplnt_fr_dt'] = pd.to_datetime(nypd.loc[i, 'cmplnt_fr_dt'])\n",
    "    except:\n",
    "        bad_dates.append(i)\n",
    "        pass"
   ]
  },
  {
   "cell_type": "code",
   "execution_count": 12,
   "id": "98d4e045-b46a-4f8b-8778-666ef0e8b6e8",
   "metadata": {},
   "outputs": [
    {
     "data": {
      "text/plain": [
       "134"
      ]
     },
     "execution_count": 12,
     "metadata": {},
     "output_type": "execute_result"
    }
   ],
   "source": [
    "len(bad_dates)"
   ]
  },
  {
   "cell_type": "code",
   "execution_count": 31,
   "id": "d5d45e12-ab38-4def-80e6-bb0e9b7e85b0",
   "metadata": {},
   "outputs": [
    {
     "ename": "KeyError",
     "evalue": "'[36661] not found in axis'",
     "output_type": "error",
     "traceback": [
      "\u001b[0;31m---------------------------------------------------------------------------\u001b[0m",
      "\u001b[0;31mKeyError\u001b[0m                                  Traceback (most recent call last)",
      "Input \u001b[0;32mIn [31]\u001b[0m, in \u001b[0;36m<cell line: 1>\u001b[0;34m()\u001b[0m\n\u001b[1;32m      1\u001b[0m \u001b[38;5;28;01mfor\u001b[39;00m i \u001b[38;5;129;01min\u001b[39;00m bad_dates:\n\u001b[0;32m----> 2\u001b[0m     \u001b[43mnypd\u001b[49m\u001b[38;5;241;43m.\u001b[39;49m\u001b[43mdrop\u001b[49m\u001b[43m(\u001b[49m\u001b[43mindex\u001b[49m\u001b[43m \u001b[49m\u001b[38;5;241;43m=\u001b[39;49m\u001b[43m \u001b[49m\u001b[43mi\u001b[49m\u001b[43m,\u001b[49m\u001b[43m \u001b[49m\u001b[43minplace\u001b[49m\u001b[43m \u001b[49m\u001b[38;5;241;43m=\u001b[39;49m\u001b[43m \u001b[49m\u001b[38;5;28;43;01mTrue\u001b[39;49;00m\u001b[43m)\u001b[49m\n",
      "File \u001b[0;32m~/opt/anaconda3/lib/python3.9/site-packages/pandas/util/_decorators.py:311\u001b[0m, in \u001b[0;36mdeprecate_nonkeyword_arguments.<locals>.decorate.<locals>.wrapper\u001b[0;34m(*args, **kwargs)\u001b[0m\n\u001b[1;32m    305\u001b[0m \u001b[38;5;28;01mif\u001b[39;00m \u001b[38;5;28mlen\u001b[39m(args) \u001b[38;5;241m>\u001b[39m num_allow_args:\n\u001b[1;32m    306\u001b[0m     warnings\u001b[38;5;241m.\u001b[39mwarn(\n\u001b[1;32m    307\u001b[0m         msg\u001b[38;5;241m.\u001b[39mformat(arguments\u001b[38;5;241m=\u001b[39marguments),\n\u001b[1;32m    308\u001b[0m         \u001b[38;5;167;01mFutureWarning\u001b[39;00m,\n\u001b[1;32m    309\u001b[0m         stacklevel\u001b[38;5;241m=\u001b[39mstacklevel,\n\u001b[1;32m    310\u001b[0m     )\n\u001b[0;32m--> 311\u001b[0m \u001b[38;5;28;01mreturn\u001b[39;00m \u001b[43mfunc\u001b[49m\u001b[43m(\u001b[49m\u001b[38;5;241;43m*\u001b[39;49m\u001b[43margs\u001b[49m\u001b[43m,\u001b[49m\u001b[43m \u001b[49m\u001b[38;5;241;43m*\u001b[39;49m\u001b[38;5;241;43m*\u001b[39;49m\u001b[43mkwargs\u001b[49m\u001b[43m)\u001b[49m\n",
      "File \u001b[0;32m~/opt/anaconda3/lib/python3.9/site-packages/pandas/core/frame.py:4954\u001b[0m, in \u001b[0;36mDataFrame.drop\u001b[0;34m(self, labels, axis, index, columns, level, inplace, errors)\u001b[0m\n\u001b[1;32m   4806\u001b[0m \u001b[38;5;129m@deprecate_nonkeyword_arguments\u001b[39m(version\u001b[38;5;241m=\u001b[39m\u001b[38;5;28;01mNone\u001b[39;00m, allowed_args\u001b[38;5;241m=\u001b[39m[\u001b[38;5;124m\"\u001b[39m\u001b[38;5;124mself\u001b[39m\u001b[38;5;124m\"\u001b[39m, \u001b[38;5;124m\"\u001b[39m\u001b[38;5;124mlabels\u001b[39m\u001b[38;5;124m\"\u001b[39m])\n\u001b[1;32m   4807\u001b[0m \u001b[38;5;28;01mdef\u001b[39;00m \u001b[38;5;21mdrop\u001b[39m(\n\u001b[1;32m   4808\u001b[0m     \u001b[38;5;28mself\u001b[39m,\n\u001b[0;32m   (...)\u001b[0m\n\u001b[1;32m   4815\u001b[0m     errors: \u001b[38;5;28mstr\u001b[39m \u001b[38;5;241m=\u001b[39m \u001b[38;5;124m\"\u001b[39m\u001b[38;5;124mraise\u001b[39m\u001b[38;5;124m\"\u001b[39m,\n\u001b[1;32m   4816\u001b[0m ):\n\u001b[1;32m   4817\u001b[0m     \u001b[38;5;124;03m\"\"\"\u001b[39;00m\n\u001b[1;32m   4818\u001b[0m \u001b[38;5;124;03m    Drop specified labels from rows or columns.\u001b[39;00m\n\u001b[1;32m   4819\u001b[0m \n\u001b[0;32m   (...)\u001b[0m\n\u001b[1;32m   4952\u001b[0m \u001b[38;5;124;03m            weight  1.0     0.8\u001b[39;00m\n\u001b[1;32m   4953\u001b[0m \u001b[38;5;124;03m    \"\"\"\u001b[39;00m\n\u001b[0;32m-> 4954\u001b[0m     \u001b[38;5;28;01mreturn\u001b[39;00m \u001b[38;5;28;43msuper\u001b[39;49m\u001b[43m(\u001b[49m\u001b[43m)\u001b[49m\u001b[38;5;241;43m.\u001b[39;49m\u001b[43mdrop\u001b[49m\u001b[43m(\u001b[49m\n\u001b[1;32m   4955\u001b[0m \u001b[43m        \u001b[49m\u001b[43mlabels\u001b[49m\u001b[38;5;241;43m=\u001b[39;49m\u001b[43mlabels\u001b[49m\u001b[43m,\u001b[49m\n\u001b[1;32m   4956\u001b[0m \u001b[43m        \u001b[49m\u001b[43maxis\u001b[49m\u001b[38;5;241;43m=\u001b[39;49m\u001b[43maxis\u001b[49m\u001b[43m,\u001b[49m\n\u001b[1;32m   4957\u001b[0m \u001b[43m        \u001b[49m\u001b[43mindex\u001b[49m\u001b[38;5;241;43m=\u001b[39;49m\u001b[43mindex\u001b[49m\u001b[43m,\u001b[49m\n\u001b[1;32m   4958\u001b[0m \u001b[43m        \u001b[49m\u001b[43mcolumns\u001b[49m\u001b[38;5;241;43m=\u001b[39;49m\u001b[43mcolumns\u001b[49m\u001b[43m,\u001b[49m\n\u001b[1;32m   4959\u001b[0m \u001b[43m        \u001b[49m\u001b[43mlevel\u001b[49m\u001b[38;5;241;43m=\u001b[39;49m\u001b[43mlevel\u001b[49m\u001b[43m,\u001b[49m\n\u001b[1;32m   4960\u001b[0m \u001b[43m        \u001b[49m\u001b[43minplace\u001b[49m\u001b[38;5;241;43m=\u001b[39;49m\u001b[43minplace\u001b[49m\u001b[43m,\u001b[49m\n\u001b[1;32m   4961\u001b[0m \u001b[43m        \u001b[49m\u001b[43merrors\u001b[49m\u001b[38;5;241;43m=\u001b[39;49m\u001b[43merrors\u001b[49m\u001b[43m,\u001b[49m\n\u001b[1;32m   4962\u001b[0m \u001b[43m    \u001b[49m\u001b[43m)\u001b[49m\n",
      "File \u001b[0;32m~/opt/anaconda3/lib/python3.9/site-packages/pandas/core/generic.py:4267\u001b[0m, in \u001b[0;36mNDFrame.drop\u001b[0;34m(self, labels, axis, index, columns, level, inplace, errors)\u001b[0m\n\u001b[1;32m   4265\u001b[0m \u001b[38;5;28;01mfor\u001b[39;00m axis, labels \u001b[38;5;129;01min\u001b[39;00m axes\u001b[38;5;241m.\u001b[39mitems():\n\u001b[1;32m   4266\u001b[0m     \u001b[38;5;28;01mif\u001b[39;00m labels \u001b[38;5;129;01mis\u001b[39;00m \u001b[38;5;129;01mnot\u001b[39;00m \u001b[38;5;28;01mNone\u001b[39;00m:\n\u001b[0;32m-> 4267\u001b[0m         obj \u001b[38;5;241m=\u001b[39m \u001b[43mobj\u001b[49m\u001b[38;5;241;43m.\u001b[39;49m\u001b[43m_drop_axis\u001b[49m\u001b[43m(\u001b[49m\u001b[43mlabels\u001b[49m\u001b[43m,\u001b[49m\u001b[43m \u001b[49m\u001b[43maxis\u001b[49m\u001b[43m,\u001b[49m\u001b[43m \u001b[49m\u001b[43mlevel\u001b[49m\u001b[38;5;241;43m=\u001b[39;49m\u001b[43mlevel\u001b[49m\u001b[43m,\u001b[49m\u001b[43m \u001b[49m\u001b[43merrors\u001b[49m\u001b[38;5;241;43m=\u001b[39;49m\u001b[43merrors\u001b[49m\u001b[43m)\u001b[49m\n\u001b[1;32m   4269\u001b[0m \u001b[38;5;28;01mif\u001b[39;00m inplace:\n\u001b[1;32m   4270\u001b[0m     \u001b[38;5;28mself\u001b[39m\u001b[38;5;241m.\u001b[39m_update_inplace(obj)\n",
      "File \u001b[0;32m~/opt/anaconda3/lib/python3.9/site-packages/pandas/core/generic.py:4311\u001b[0m, in \u001b[0;36mNDFrame._drop_axis\u001b[0;34m(self, labels, axis, level, errors, consolidate, only_slice)\u001b[0m\n\u001b[1;32m   4309\u001b[0m         new_axis \u001b[38;5;241m=\u001b[39m axis\u001b[38;5;241m.\u001b[39mdrop(labels, level\u001b[38;5;241m=\u001b[39mlevel, errors\u001b[38;5;241m=\u001b[39merrors)\n\u001b[1;32m   4310\u001b[0m     \u001b[38;5;28;01melse\u001b[39;00m:\n\u001b[0;32m-> 4311\u001b[0m         new_axis \u001b[38;5;241m=\u001b[39m \u001b[43maxis\u001b[49m\u001b[38;5;241;43m.\u001b[39;49m\u001b[43mdrop\u001b[49m\u001b[43m(\u001b[49m\u001b[43mlabels\u001b[49m\u001b[43m,\u001b[49m\u001b[43m \u001b[49m\u001b[43merrors\u001b[49m\u001b[38;5;241;43m=\u001b[39;49m\u001b[43merrors\u001b[49m\u001b[43m)\u001b[49m\n\u001b[1;32m   4312\u001b[0m     indexer \u001b[38;5;241m=\u001b[39m axis\u001b[38;5;241m.\u001b[39mget_indexer(new_axis)\n\u001b[1;32m   4314\u001b[0m \u001b[38;5;66;03m# Case for non-unique axis\u001b[39;00m\n\u001b[1;32m   4315\u001b[0m \u001b[38;5;28;01melse\u001b[39;00m:\n",
      "File \u001b[0;32m~/opt/anaconda3/lib/python3.9/site-packages/pandas/core/indexes/base.py:6644\u001b[0m, in \u001b[0;36mIndex.drop\u001b[0;34m(self, labels, errors)\u001b[0m\n\u001b[1;32m   6642\u001b[0m \u001b[38;5;28;01mif\u001b[39;00m mask\u001b[38;5;241m.\u001b[39many():\n\u001b[1;32m   6643\u001b[0m     \u001b[38;5;28;01mif\u001b[39;00m errors \u001b[38;5;241m!=\u001b[39m \u001b[38;5;124m\"\u001b[39m\u001b[38;5;124mignore\u001b[39m\u001b[38;5;124m\"\u001b[39m:\n\u001b[0;32m-> 6644\u001b[0m         \u001b[38;5;28;01mraise\u001b[39;00m \u001b[38;5;167;01mKeyError\u001b[39;00m(\u001b[38;5;124mf\u001b[39m\u001b[38;5;124m\"\u001b[39m\u001b[38;5;132;01m{\u001b[39;00m\u001b[38;5;28mlist\u001b[39m(labels[mask])\u001b[38;5;132;01m}\u001b[39;00m\u001b[38;5;124m not found in axis\u001b[39m\u001b[38;5;124m\"\u001b[39m)\n\u001b[1;32m   6645\u001b[0m     indexer \u001b[38;5;241m=\u001b[39m indexer[\u001b[38;5;241m~\u001b[39mmask]\n\u001b[1;32m   6646\u001b[0m \u001b[38;5;28;01mreturn\u001b[39;00m \u001b[38;5;28mself\u001b[39m\u001b[38;5;241m.\u001b[39mdelete(indexer)\n",
      "\u001b[0;31mKeyError\u001b[0m: '[36661] not found in axis'"
     ]
    }
   ],
   "source": [
    "for i in bad_dates:\n",
    "    nypd.drop(index = i, inplace = True)"
   ]
  },
  {
   "cell_type": "code",
   "execution_count": 36,
   "id": "a755d009-be0d-4e36-8bfd-93d1f3c60463",
   "metadata": {},
   "outputs": [
    {
     "data": {
      "text/plain": [
       "(7825365, 24)"
      ]
     },
     "execution_count": 36,
     "metadata": {},
     "output_type": "execute_result"
    }
   ],
   "source": [
    "nypd.shape"
   ]
  },
  {
   "cell_type": "code",
   "execution_count": 33,
   "id": "38920083-cb24-4f09-b2c0-ecd27b0b297c",
   "metadata": {},
   "outputs": [
    {
     "data": {
      "text/plain": [
       "134"
      ]
     },
     "execution_count": 33,
     "metadata": {},
     "output_type": "execute_result"
    }
   ],
   "source": [
    "499-365"
   ]
  },
  {
   "cell_type": "code",
   "execution_count": 38,
   "id": "df60cd3a-fa53-4435-ba87-a89ef30cb5c6",
   "metadata": {},
   "outputs": [
    {
     "data": {
      "text/plain": [
       "count        7824710\n",
       "unique          8913\n",
       "top       01/01/2010\n",
       "freq            2488\n",
       "Name: cmplnt_fr_dt, dtype: object"
      ]
     },
     "execution_count": 38,
     "metadata": {},
     "output_type": "execute_result"
    }
   ],
   "source": [
    "nypd['cmplnt_fr_dt'].describe()"
   ]
  },
  {
   "cell_type": "code",
   "execution_count": 39,
   "id": "d0b6da29-1ffc-4790-a7e9-279304484e65",
   "metadata": {},
   "outputs": [],
   "source": [
    "nypd['cmplnt_fr_dt'] = pd.to_datetime(nypd['cmplnt_fr_dt'])"
   ]
  },
  {
   "cell_type": "code",
   "execution_count": 40,
   "id": "3ddd496d-60d2-4373-9dd1-cd41b34f90c9",
   "metadata": {},
   "outputs": [
    {
     "data": {
      "text/plain": [
       "dtype('<M8[ns]')"
      ]
     },
     "execution_count": 40,
     "metadata": {},
     "output_type": "execute_result"
    }
   ],
   "source": [
    "nypd['cmplnt_fr_dt'].dtypes"
   ]
  },
  {
   "cell_type": "code",
   "execution_count": 41,
   "id": "3f352a27-d29e-42a3-be52-c523dde56ca9",
   "metadata": {},
   "outputs": [
    {
     "name": "stderr",
     "output_type": "stream",
     "text": [
      "/var/folders/5_/498w081d1837cc82dmb4hwmc0000gn/T/ipykernel_10405/427052170.py:1: FutureWarning: Treating datetime data as categorical rather than numeric in `.describe` is deprecated and will be removed in a future version of pandas. Specify `datetime_is_numeric=True` to silence this warning and adopt the future behavior now.\n",
      "  nypd['cmplnt_fr_dt'].describe()\n"
     ]
    },
    {
     "data": {
      "text/plain": [
       "count                 7824710\n",
       "unique                   8913\n",
       "top       2010-01-01 00:00:00\n",
       "freq                     2488\n",
       "first     1900-03-10 00:00:00\n",
       "last      2021-12-31 00:00:00\n",
       "Name: cmplnt_fr_dt, dtype: object"
      ]
     },
     "execution_count": 41,
     "metadata": {},
     "output_type": "execute_result"
    }
   ],
   "source": [
    "nypd['cmplnt_fr_dt'].describe()"
   ]
  },
  {
   "cell_type": "code",
   "execution_count": 42,
   "id": "0f5b9a7d-4d9c-4a6c-87b2-9572af28ef9b",
   "metadata": {},
   "outputs": [],
   "source": [
    "nypd.to_csv('../backup_data/nypd_w_datetime.csv')"
   ]
  },
  {
   "cell_type": "code",
   "execution_count": 23,
   "id": "86dcf96a-f4bb-4c06-add0-4e817d87abfe",
   "metadata": {},
   "outputs": [
    {
     "data": {
      "text/plain": [
       "(2240579, 24)"
      ]
     },
     "execution_count": 23,
     "metadata": {},
     "output_type": "execute_result"
    }
   ],
   "source": [
    "nypd[nypd['cmplnt_fr_dt'] > pd.to_datetime('2016-12-31')].shape"
   ]
  },
  {
   "cell_type": "code",
   "execution_count": 43,
   "id": "669f10e9-9efa-4afa-aa76-e49d8934f00e",
   "metadata": {},
   "outputs": [],
   "source": [
    "nypd = nypd[nypd['cmplnt_fr_dt'] > pd.to_datetime('2009-12-31')]"
   ]
  },
  {
   "cell_type": "code",
   "execution_count": 44,
   "id": "1b64f2e3-ec3f-4a22-b276-67cf82b6d6b1",
   "metadata": {},
   "outputs": [
    {
     "name": "stderr",
     "output_type": "stream",
     "text": [
      "/var/folders/5_/498w081d1837cc82dmb4hwmc0000gn/T/ipykernel_10405/427052170.py:1: FutureWarning: Treating datetime data as categorical rather than numeric in `.describe` is deprecated and will be removed in a future version of pandas. Specify `datetime_is_numeric=True` to silence this warning and adopt the future behavior now.\n",
      "  nypd['cmplnt_fr_dt'].describe()\n"
     ]
    },
    {
     "data": {
      "text/plain": [
       "count                 5700053\n",
       "unique                   4383\n",
       "top       2010-01-01 00:00:00\n",
       "freq                     2488\n",
       "first     2010-01-01 00:00:00\n",
       "last      2021-12-31 00:00:00\n",
       "Name: cmplnt_fr_dt, dtype: object"
      ]
     },
     "execution_count": 44,
     "metadata": {},
     "output_type": "execute_result"
    }
   ],
   "source": [
    "nypd['cmplnt_fr_dt'].describe()"
   ]
  },
  {
   "cell_type": "code",
   "execution_count": 26,
   "id": "e8f1fc1a-5636-473a-a517-68d0fefc211c",
   "metadata": {},
   "outputs": [
    {
     "data": {
      "text/plain": [
       "(2240579, 24)"
      ]
     },
     "execution_count": 26,
     "metadata": {},
     "output_type": "execute_result"
    }
   ],
   "source": [
    "nypd.shape"
   ]
  },
  {
   "cell_type": "code",
   "execution_count": 27,
   "id": "44d012a0-f2ed-48bc-a73b-b9afd5ea9050",
   "metadata": {},
   "outputs": [
    {
     "data": {
      "text/plain": [
       "Index(['cmplnt_num', 'cmplnt_fr_dt', 'cmplnt_fr_tm', 'cmplnt_to_dt',\n",
       "       'cmplnt_to_tm', 'addr_pct_cd', 'rpt_dt', 'ky_cd', 'ofns_desc', 'pd_cd',\n",
       "       'pd_desc', 'crm_atpt_cptd_cd', 'law_cat_cd', 'boro_nm',\n",
       "       'loc_of_occur_desc', 'prem_typ_desc', 'juris_desc', 'parks_nm',\n",
       "       'hadevelopt', 'x_coord_cd', 'y_coord_cd', 'latitude', 'longitude',\n",
       "       'lat_lon'],\n",
       "      dtype='object')"
      ]
     },
     "execution_count": 27,
     "metadata": {},
     "output_type": "execute_result"
    }
   ],
   "source": [
    "nypd.columns"
   ]
  },
  {
   "cell_type": "markdown",
   "id": "14fb1884-f481-4745-ac98-709e3ecb5091",
   "metadata": {},
   "source": [
    "# Backup\n",
    "I'm backed up the data at this point in a csv because it's taken a lot of computing time to get here. "
   ]
  },
  {
   "cell_type": "code",
   "execution_count": 45,
   "id": "20c301f1-5e35-419c-807b-14c3a546f37d",
   "metadata": {},
   "outputs": [],
   "source": [
    "nypd.to_csv('../capstone_large_data_sets/nypd_2010_on.csv')"
   ]
  },
  {
   "cell_type": "code",
   "execution_count": 46,
   "id": "46d842e6-0324-4376-bc7f-7838e65f5052",
   "metadata": {},
   "outputs": [
    {
     "data": {
      "text/html": [
       "<div>\n",
       "<style scoped>\n",
       "    .dataframe tbody tr th:only-of-type {\n",
       "        vertical-align: middle;\n",
       "    }\n",
       "\n",
       "    .dataframe tbody tr th {\n",
       "        vertical-align: top;\n",
       "    }\n",
       "\n",
       "    .dataframe thead th {\n",
       "        text-align: right;\n",
       "    }\n",
       "</style>\n",
       "<table border=\"1\" class=\"dataframe\">\n",
       "  <thead>\n",
       "    <tr style=\"text-align: right;\">\n",
       "      <th></th>\n",
       "      <th>cmplnt_num</th>\n",
       "      <th>cmplnt_fr_dt</th>\n",
       "      <th>cmplnt_fr_tm</th>\n",
       "      <th>cmplnt_to_dt</th>\n",
       "      <th>cmplnt_to_tm</th>\n",
       "      <th>addr_pct_cd</th>\n",
       "      <th>rpt_dt</th>\n",
       "      <th>ky_cd</th>\n",
       "      <th>ofns_desc</th>\n",
       "      <th>pd_cd</th>\n",
       "      <th>...</th>\n",
       "      <th>loc_of_occur_desc</th>\n",
       "      <th>prem_typ_desc</th>\n",
       "      <th>juris_desc</th>\n",
       "      <th>parks_nm</th>\n",
       "      <th>hadevelopt</th>\n",
       "      <th>x_coord_cd</th>\n",
       "      <th>y_coord_cd</th>\n",
       "      <th>latitude</th>\n",
       "      <th>longitude</th>\n",
       "      <th>lat_lon</th>\n",
       "    </tr>\n",
       "  </thead>\n",
       "  <tbody>\n",
       "    <tr>\n",
       "      <th>0</th>\n",
       "      <td>394506329</td>\n",
       "      <td>2019-12-31</td>\n",
       "      <td>17:30:00</td>\n",
       "      <td>NaN</td>\n",
       "      <td>NaN</td>\n",
       "      <td>32.0</td>\n",
       "      <td>12/31/2019</td>\n",
       "      <td>118</td>\n",
       "      <td>DANGEROUS WEAPONS</td>\n",
       "      <td>793.0</td>\n",
       "      <td>...</td>\n",
       "      <td>NaN</td>\n",
       "      <td>STREET</td>\n",
       "      <td>N.Y. POLICE DEPT</td>\n",
       "      <td>NaN</td>\n",
       "      <td>NaN</td>\n",
       "      <td>999937.0</td>\n",
       "      <td>238365.0</td>\n",
       "      <td>40.820927</td>\n",
       "      <td>-73.943324</td>\n",
       "      <td>(40.82092679700002, -73.94332421899996)</td>\n",
       "    </tr>\n",
       "    <tr>\n",
       "      <th>1</th>\n",
       "      <td>968873685</td>\n",
       "      <td>2019-12-29</td>\n",
       "      <td>16:31:00</td>\n",
       "      <td>12/29/2019</td>\n",
       "      <td>16:54:00</td>\n",
       "      <td>47.0</td>\n",
       "      <td>12/29/2019</td>\n",
       "      <td>113</td>\n",
       "      <td>FORGERY</td>\n",
       "      <td>729.0</td>\n",
       "      <td>...</td>\n",
       "      <td>NaN</td>\n",
       "      <td>STREET</td>\n",
       "      <td>N.Y. POLICE DEPT</td>\n",
       "      <td>NaN</td>\n",
       "      <td>NaN</td>\n",
       "      <td>1022508.0</td>\n",
       "      <td>261990.0</td>\n",
       "      <td>40.885701</td>\n",
       "      <td>-73.861640</td>\n",
       "      <td>(40.885701406000074, -73.86164032499995)</td>\n",
       "    </tr>\n",
       "    <tr>\n",
       "      <th>2</th>\n",
       "      <td>509837549</td>\n",
       "      <td>2019-12-15</td>\n",
       "      <td>18:45:00</td>\n",
       "      <td>NaN</td>\n",
       "      <td>NaN</td>\n",
       "      <td>109.0</td>\n",
       "      <td>12/29/2019</td>\n",
       "      <td>578</td>\n",
       "      <td>HARRASSMENT 2</td>\n",
       "      <td>638.0</td>\n",
       "      <td>...</td>\n",
       "      <td>FRONT OF</td>\n",
       "      <td>STREET</td>\n",
       "      <td>N.Y. POLICE DEPT</td>\n",
       "      <td>NaN</td>\n",
       "      <td>NaN</td>\n",
       "      <td>1034178.0</td>\n",
       "      <td>209758.0</td>\n",
       "      <td>40.742281</td>\n",
       "      <td>-73.819824</td>\n",
       "      <td>(40.74228115600005, -73.81982408)</td>\n",
       "    </tr>\n",
       "    <tr>\n",
       "      <th>3</th>\n",
       "      <td>352454313</td>\n",
       "      <td>2019-12-28</td>\n",
       "      <td>01:00:00</td>\n",
       "      <td>NaN</td>\n",
       "      <td>NaN</td>\n",
       "      <td>47.0</td>\n",
       "      <td>12/28/2019</td>\n",
       "      <td>126</td>\n",
       "      <td>MISCELLANEOUS PENAL LAW</td>\n",
       "      <td>117.0</td>\n",
       "      <td>...</td>\n",
       "      <td>REAR OF</td>\n",
       "      <td>STREET</td>\n",
       "      <td>N.Y. POLICE DEPT</td>\n",
       "      <td>NaN</td>\n",
       "      <td>NaN</td>\n",
       "      <td>1026412.0</td>\n",
       "      <td>258211.0</td>\n",
       "      <td>40.875311</td>\n",
       "      <td>-73.847545</td>\n",
       "      <td>(40.87531145100007, -73.84754521099995)</td>\n",
       "    </tr>\n",
       "    <tr>\n",
       "      <th>5</th>\n",
       "      <td>293718737</td>\n",
       "      <td>2019-12-27</td>\n",
       "      <td>22:00:00</td>\n",
       "      <td>NaN</td>\n",
       "      <td>NaN</td>\n",
       "      <td>9.0</td>\n",
       "      <td>12/27/2019</td>\n",
       "      <td>107</td>\n",
       "      <td>BURGLARY</td>\n",
       "      <td>223.0</td>\n",
       "      <td>...</td>\n",
       "      <td>FRONT OF</td>\n",
       "      <td>RESIDENCE - APT. HOUSE</td>\n",
       "      <td>N.Y. POLICE DEPT</td>\n",
       "      <td>NaN</td>\n",
       "      <td>NaN</td>\n",
       "      <td>989665.0</td>\n",
       "      <td>201866.0</td>\n",
       "      <td>40.720759</td>\n",
       "      <td>-73.980466</td>\n",
       "      <td>(40.72075882100006, -73.98046642299995)</td>\n",
       "    </tr>\n",
       "  </tbody>\n",
       "</table>\n",
       "<p>5 rows × 24 columns</p>\n",
       "</div>"
      ],
      "text/plain": [
       "   cmplnt_num cmplnt_fr_dt cmplnt_fr_tm cmplnt_to_dt cmplnt_to_tm  \\\n",
       "0   394506329   2019-12-31     17:30:00          NaN          NaN   \n",
       "1   968873685   2019-12-29     16:31:00   12/29/2019     16:54:00   \n",
       "2   509837549   2019-12-15     18:45:00          NaN          NaN   \n",
       "3   352454313   2019-12-28     01:00:00          NaN          NaN   \n",
       "5   293718737   2019-12-27     22:00:00          NaN          NaN   \n",
       "\n",
       "   addr_pct_cd      rpt_dt  ky_cd                ofns_desc  pd_cd  ...  \\\n",
       "0         32.0  12/31/2019    118        DANGEROUS WEAPONS  793.0  ...   \n",
       "1         47.0  12/29/2019    113                  FORGERY  729.0  ...   \n",
       "2        109.0  12/29/2019    578            HARRASSMENT 2  638.0  ...   \n",
       "3         47.0  12/28/2019    126  MISCELLANEOUS PENAL LAW  117.0  ...   \n",
       "5          9.0  12/27/2019    107                 BURGLARY  223.0  ...   \n",
       "\n",
       "  loc_of_occur_desc           prem_typ_desc        juris_desc parks_nm  \\\n",
       "0               NaN                  STREET  N.Y. POLICE DEPT      NaN   \n",
       "1               NaN                  STREET  N.Y. POLICE DEPT      NaN   \n",
       "2          FRONT OF                  STREET  N.Y. POLICE DEPT      NaN   \n",
       "3           REAR OF                  STREET  N.Y. POLICE DEPT      NaN   \n",
       "5          FRONT OF  RESIDENCE - APT. HOUSE  N.Y. POLICE DEPT      NaN   \n",
       "\n",
       "  hadevelopt x_coord_cd y_coord_cd   latitude  longitude  \\\n",
       "0        NaN   999937.0   238365.0  40.820927 -73.943324   \n",
       "1        NaN  1022508.0   261990.0  40.885701 -73.861640   \n",
       "2        NaN  1034178.0   209758.0  40.742281 -73.819824   \n",
       "3        NaN  1026412.0   258211.0  40.875311 -73.847545   \n",
       "5        NaN   989665.0   201866.0  40.720759 -73.980466   \n",
       "\n",
       "                                    lat_lon  \n",
       "0   (40.82092679700002, -73.94332421899996)  \n",
       "1  (40.885701406000074, -73.86164032499995)  \n",
       "2         (40.74228115600005, -73.81982408)  \n",
       "3   (40.87531145100007, -73.84754521099995)  \n",
       "5   (40.72075882100006, -73.98046642299995)  \n",
       "\n",
       "[5 rows x 24 columns]"
      ]
     },
     "execution_count": 46,
     "metadata": {},
     "output_type": "execute_result"
    }
   ],
   "source": [
    "nypd.head()"
   ]
  },
  {
   "cell_type": "markdown",
   "id": "c4be763b-3634-4133-b0e4-21b854eb73ad",
   "metadata": {},
   "source": [
    "# Data Dictionary\n",
    "The data dictionary is available in the 'data' folder.\n",
    "\n",
    "I eliminated many columns based on this. Primarily, I'm using `'cmplnt_fr_dt'` to place the complaint in time. I kept the level of offense `'law_cat_cd'`, but am not going to use more granular data on the nature of the crime in this analysis as I already have plenty of features. That said, it could certainly add interesting features to do so later. I'm keeping the precint the complaint took place in, `'addr_pct_cd'`. I'm keeping the X and Y coordinates from the NY State Plane Coordinate system and the latitude and longitude. I'm also keeping the `'cmplnt_num'` in case I want to come back and include more features later. `'boro_nm'`, too."
   ]
  },
  {
   "cell_type": "code",
   "execution_count": 91,
   "id": "c38b9475-3403-4bd3-b5ac-65f5f08e09c5",
   "metadata": {},
   "outputs": [
    {
     "name": "stderr",
     "output_type": "stream",
     "text": [
      "/var/folders/5_/498w081d1837cc82dmb4hwmc0000gn/T/ipykernel_10405/757265192.py:1: DtypeWarning: Columns (18) have mixed types. Specify dtype option on import or set low_memory=False.\n",
      "  nypd = pd.read_csv('../capstone_large_data_sets/nypd_2010_on.csv')\n"
     ]
    }
   ],
   "source": [
    "nypd = pd.read_csv('../capstone_large_data_sets/nypd_2010_on.csv')"
   ]
  },
  {
   "cell_type": "code",
   "execution_count": 92,
   "id": "d67bec43-4970-4164-a00a-2a0845222208",
   "metadata": {},
   "outputs": [],
   "source": [
    "nypd = nypd[['cmplnt_num', 'cmplnt_fr_dt', 'law_cat_cd', 'boro_nm', 'addr_pct_cd', 'x_coord_cd', 'y_coord_cd', 'latitude', 'longitude']]"
   ]
  },
  {
   "cell_type": "code",
   "execution_count": 93,
   "id": "3fae7e7b-7560-4f88-bcaa-c6001e9077fd",
   "metadata": {},
   "outputs": [
    {
     "data": {
      "text/plain": [
       "(5700053, 9)"
      ]
     },
     "execution_count": 93,
     "metadata": {},
     "output_type": "execute_result"
    }
   ],
   "source": [
    "nypd.shape"
   ]
  },
  {
   "cell_type": "markdown",
   "id": "c4cfc8c7-4669-4b20-b437-652d1532a902",
   "metadata": {},
   "source": [
    "# Narrowing Down the TimeFrame\n",
    "I narrowed down to a 5 year period, starting two years before the period of the permits because of the lead time necessary to build a building. Also, it seems a reasonable enough assumption that crime rates are sticky enough that if that window is off by 6 months or even a year in the case of any given building, the crime rates at the relevant time were likely very similar to what they are in this dataset. "
   ]
  },
  {
   "cell_type": "code",
   "execution_count": 94,
   "id": "24d04ec5-8140-4893-8847-fed109662e51",
   "metadata": {},
   "outputs": [
    {
     "data": {
      "text/plain": [
       "cmplnt_num        int64\n",
       "cmplnt_fr_dt     object\n",
       "law_cat_cd       object\n",
       "boro_nm          object\n",
       "addr_pct_cd     float64\n",
       "x_coord_cd      float64\n",
       "y_coord_cd      float64\n",
       "latitude        float64\n",
       "longitude       float64\n",
       "dtype: object"
      ]
     },
     "execution_count": 94,
     "metadata": {},
     "output_type": "execute_result"
    }
   ],
   "source": [
    "nypd.dtypes"
   ]
  },
  {
   "cell_type": "code",
   "execution_count": 97,
   "id": "31c68f5f-9fac-4728-a9a1-a714b5514b7a",
   "metadata": {},
   "outputs": [],
   "source": [
    "nypd['cmplnt_fr_dt'] = pd.to_datetime(nypd['cmplnt_fr_dt'])"
   ]
  },
  {
   "cell_type": "code",
   "execution_count": 98,
   "id": "a7bbac26-6d72-4fca-856f-e049a168f611",
   "metadata": {},
   "outputs": [
    {
     "data": {
      "text/plain": [
       "(3399618, 9)"
      ]
     },
     "execution_count": 98,
     "metadata": {},
     "output_type": "execute_result"
    }
   ],
   "source": [
    "nypd[nypd['cmplnt_fr_dt']> pd.to_datetime('2014-08-02')].shape"
   ]
  },
  {
   "cell_type": "code",
   "execution_count": 99,
   "id": "d68f5280-a995-4b2c-943a-9c1a7ca5fe9c",
   "metadata": {},
   "outputs": [],
   "source": [
    "nypd = nypd[nypd['cmplnt_fr_dt']> pd.to_datetime('2014-08-02')]"
   ]
  },
  {
   "cell_type": "code",
   "execution_count": 100,
   "id": "18d68c1d-9420-44f5-b196-b8584ee0d811",
   "metadata": {},
   "outputs": [
    {
     "data": {
      "text/plain": [
       "(3399618, 9)"
      ]
     },
     "execution_count": 100,
     "metadata": {},
     "output_type": "execute_result"
    }
   ],
   "source": [
    "nypd.shape"
   ]
  },
  {
   "cell_type": "code",
   "execution_count": 101,
   "id": "c1989660-ca38-4f62-85dc-23006bde71dd",
   "metadata": {},
   "outputs": [
    {
     "data": {
      "text/plain": [
       "(2781639, 9)"
      ]
     },
     "execution_count": 101,
     "metadata": {},
     "output_type": "execute_result"
    }
   ],
   "source": [
    "nypd[nypd['cmplnt_fr_dt']< pd.to_datetime('2020-08-02')].shape"
   ]
  },
  {
   "cell_type": "code",
   "execution_count": 102,
   "id": "d15e93e6-4f70-435a-a6b4-ea88764bb851",
   "metadata": {},
   "outputs": [],
   "source": [
    "nypd = nypd[nypd['cmplnt_fr_dt']< pd.to_datetime('2020-08-02')]"
   ]
  },
  {
   "cell_type": "code",
   "execution_count": 103,
   "id": "097b57e8-6636-4f14-bd40-b06d6b087b2a",
   "metadata": {},
   "outputs": [
    {
     "data": {
      "text/plain": [
       "(2781639, 9)"
      ]
     },
     "execution_count": 103,
     "metadata": {},
     "output_type": "execute_result"
    }
   ],
   "source": [
    "nypd.shape"
   ]
  },
  {
   "cell_type": "markdown",
   "id": "95ad5b64-5b16-41e3-89f7-3360dd301cfb",
   "metadata": {},
   "source": [
    "Examining categories. I don't want to eliminate any of these yet."
   ]
  },
  {
   "cell_type": "code",
   "execution_count": 104,
   "id": "bb2fcd13-2905-4d71-a748-0ece6dcdaf84",
   "metadata": {},
   "outputs": [
    {
     "data": {
      "text/plain": [
       "MISDEMEANOR    1513784\n",
       "FELONY          862699\n",
       "VIOLATION       405156\n",
       "Name: law_cat_cd, dtype: int64"
      ]
     },
     "execution_count": 104,
     "metadata": {},
     "output_type": "execute_result"
    }
   ],
   "source": [
    "nypd['law_cat_cd'].value_counts()"
   ]
  },
  {
   "cell_type": "markdown",
   "id": "29e3f5d9-e748-4d56-b141-afecc9454bd7",
   "metadata": {},
   "source": [
    "# Nulls\n",
    "I can't work with data that doesn't have latitude/longitude, x/y_coord, so I have to drop those.\n",
    "\n",
    "Given the crunch on computing time, I'm going to also drop the ones that are null for boro_nm because I don't have the time to identify those (likely from add_pct_cd).\n",
    "\n",
    "Likewise, on the 4 missing precint, I'm going to drop those because it won't be worth the time necessary to fill in."
   ]
  },
  {
   "cell_type": "code",
   "execution_count": 105,
   "id": "0da3eda0-93a7-4a7b-bb76-3a330079a3a3",
   "metadata": {},
   "outputs": [
    {
     "data": {
      "text/plain": [
       "cmplnt_num         0\n",
       "cmplnt_fr_dt       0\n",
       "law_cat_cd         0\n",
       "boro_nm         1984\n",
       "addr_pct_cd        4\n",
       "x_coord_cd       134\n",
       "y_coord_cd       134\n",
       "latitude         134\n",
       "longitude        134\n",
       "dtype: int64"
      ]
     },
     "execution_count": 105,
     "metadata": {},
     "output_type": "execute_result"
    }
   ],
   "source": [
    "nypd.isnull().sum()"
   ]
  },
  {
   "cell_type": "code",
   "execution_count": 106,
   "id": "734d2791-044a-4017-8682-49876308daa4",
   "metadata": {},
   "outputs": [
    {
     "data": {
      "text/plain": [
       "(2781639, 9)"
      ]
     },
     "execution_count": 106,
     "metadata": {},
     "output_type": "execute_result"
    }
   ],
   "source": [
    "nypd.shape"
   ]
  },
  {
   "cell_type": "code",
   "execution_count": 107,
   "id": "e5bceb17-acdd-44d3-a7f3-74f9f963c743",
   "metadata": {},
   "outputs": [],
   "source": [
    "nypd.dropna(inplace = True)"
   ]
  },
  {
   "cell_type": "code",
   "execution_count": 108,
   "id": "db163e15-6e7f-4926-9d97-ae878d910bef",
   "metadata": {},
   "outputs": [
    {
     "data": {
      "text/plain": [
       "(2779524, 9)"
      ]
     },
     "execution_count": 108,
     "metadata": {},
     "output_type": "execute_result"
    }
   ],
   "source": [
    "nypd.shape"
   ]
  },
  {
   "cell_type": "code",
   "execution_count": 109,
   "id": "706db5e3-f0bd-41a7-80a7-720337515597",
   "metadata": {},
   "outputs": [
    {
     "data": {
      "text/plain": [
       "2115"
      ]
     },
     "execution_count": 109,
     "metadata": {},
     "output_type": "execute_result"
    }
   ],
   "source": [
    "2781639-2779524"
   ]
  },
  {
   "cell_type": "code",
   "execution_count": 110,
   "id": "22745122-ec3f-450a-990e-e735dfde8336",
   "metadata": {},
   "outputs": [],
   "source": [
    "nypd.to_csv('../capstone_large_data_sets/nypd_2014_on.csv')"
   ]
  },
  {
   "cell_type": "markdown",
   "id": "17245551-c408-404c-954a-2ccc443f08dc",
   "metadata": {},
   "source": [
    "# Break Down by Year\n",
    "I'm going to try breaking these down by year to make the computation a little easier."
   ]
  },
  {
   "cell_type": "code",
   "execution_count": 113,
   "id": "6fe4420b-1831-412f-8177-c2d3c4628145",
   "metadata": {},
   "outputs": [],
   "source": [
    "nypd2014_15 = nypd[(nypd['cmplnt_fr_dt']> pd.to_datetime('2014-08-02')) & (nypd['cmplnt_fr_dt']<= pd.to_datetime('2015-08-02'))]\n",
    "nypd2015_16 = nypd[(nypd['cmplnt_fr_dt']> pd.to_datetime('2015-08-02')) & (nypd['cmplnt_fr_dt']<= pd.to_datetime('2016-08-02'))]\n",
    "nypd2016_17 = nypd[(nypd['cmplnt_fr_dt']> pd.to_datetime('2016-08-02')) & (nypd['cmplnt_fr_dt']<= pd.to_datetime('2017-08-02'))]\n",
    "nypd2017_18 = nypd[(nypd['cmplnt_fr_dt']> pd.to_datetime('2017-08-02')) & (nypd['cmplnt_fr_dt']<= pd.to_datetime('2018-08-02'))]\n",
    "nypd2018_19 = nypd[(nypd['cmplnt_fr_dt']> pd.to_datetime('2018-08-02')) & (nypd['cmplnt_fr_dt']<= pd.to_datetime('2019-08-02'))]\n",
    "nypd2019_20 = nypd[(nypd['cmplnt_fr_dt']> pd.to_datetime('2019-08-02')) & (nypd['cmplnt_fr_dt']<= pd.to_datetime('2020-08-02'))]\n"
   ]
  },
  {
   "cell_type": "code",
   "execution_count": 114,
   "id": "ae4c901b-e0d5-4c11-81d8-f290f2193953",
   "metadata": {},
   "outputs": [
    {
     "name": "stdout",
     "output_type": "stream",
     "text": [
      "Shape of 2014-15: (477492, 9)\n",
      "Shape of 2015-16: (484068, 9)\n",
      "Shape of 2016-17: (468524, 9)\n",
      "Shape of 2017-18: (468388, 9)\n",
      "Shape of 2018-19: (455698, 9)\n",
      "Shape of 2019-20: (425354, 9)\n"
     ]
    }
   ],
   "source": [
    "print(f\"Shape of 2014-15: {nypd2014_15.shape}\")\n",
    "print(f\"Shape of 2015-16: {nypd2015_16.shape}\")\n",
    "print(f\"Shape of 2016-17: {nypd2016_17.shape}\")\n",
    "print(f\"Shape of 2017-18: {nypd2017_18.shape}\")\n",
    "print(f\"Shape of 2018-19: {nypd2018_19.shape}\")\n",
    "print(f\"Shape of 2019-20: {nypd2019_20.shape}\")"
   ]
  },
  {
   "cell_type": "code",
   "execution_count": 115,
   "id": "49dd8284-cff7-49a5-b187-0db59202e021",
   "metadata": {},
   "outputs": [
    {
     "data": {
      "text/plain": [
       "2779524"
      ]
     },
     "execution_count": 115,
     "metadata": {},
     "output_type": "execute_result"
    }
   ],
   "source": [
    "nypd2014_15.shape[0]+nypd2015_16.shape[0]+nypd2016_17.shape[0]+nypd2017_18.shape[0]+nypd2018_19.shape[0]+nypd2019_20.shape[0]"
   ]
  },
  {
   "cell_type": "code",
   "execution_count": 112,
   "id": "646063ea-2f39-4d38-baa4-324db0bb456e",
   "metadata": {},
   "outputs": [
    {
     "data": {
      "text/plain": [
       "MISDEMEANOR    267112\n",
       "FELONY         148440\n",
       "VIOLATION       61940\n",
       "Name: law_cat_cd, dtype: int64"
      ]
     },
     "execution_count": 112,
     "metadata": {},
     "output_type": "execute_result"
    }
   ],
   "source": [
    "nypd2014_15['law_cat_cd'].value_counts()"
   ]
  },
  {
   "cell_type": "code",
   "execution_count": 116,
   "id": "ddc89818-99b8-4aa2-898e-4c0fdf62021f",
   "metadata": {},
   "outputs": [],
   "source": [
    "nypd2014_15.to_csv('../capstone_large_data_sets/nypd2014_15.csv', index = False)\n",
    "nypd2015_16.to_csv('../capstone_large_data_sets/nypd2015_16.csv', index = False)\n",
    "nypd2016_17.to_csv('../capstone_large_data_sets/nypd2016_17.csv', index = False)\n",
    "nypd2017_18.to_csv('../capstone_large_data_sets/nypd2017_18.csv', index = False)\n",
    "nypd2018_19.to_csv('../capstone_large_data_sets/nypd2018_19.csv', index = False)\n",
    "nypd2019_20.to_csv('../capstone_large_data_sets/nypd2019_20.csv', index = False)"
   ]
  },
  {
   "cell_type": "code",
   "execution_count": 117,
   "id": "16908523-8922-4f1a-a68c-4344934a319d",
   "metadata": {},
   "outputs": [],
   "source": [
    "nypd2019_man = nypd2019_20[nypd2019_20['boro_nm'] == 'MANHATTAN']\n",
    "nypd2019_bx = nypd2019_20[nypd2019_20['boro_nm'] == 'BRONX']\n",
    "nypd2019_si = nypd2019_20[nypd2019_20['boro_nm'] == 'STATEN ISLAND']\n",
    "nypd2019_qn = nypd2019_20[nypd2019_20['boro_nm'] == 'QUEENS']\n",
    "nypd2019_bk = nypd2019_20[nypd2019_20['boro_nm'] == 'BROOKLYN']\n",
    "\n",
    "nypd2019_man.to_csv('../big_data/2019/nypd2019_man.csv', index = False)\n",
    "nypd2019_bx.to_csv('../big_data/2019/nypd2019_bx.csv', index = False)\n",
    "nypd2019_si.to_csv('../big_data/2019/nypd2019_si.csv', index = False)\n",
    "nypd2019_qn.to_csv('../big_data/2019/nypd2019_qn.csv', index = False)\n",
    "nypd2019_bk.to_csv('../big_data/2019/nypd2019_bk.csv', index = False)"
   ]
  },
  {
   "cell_type": "code",
   "execution_count": null,
   "id": "c9441848-20ad-49ff-b005-a6167ffd3efd",
   "metadata": {},
   "outputs": [],
   "source": []
  }
 ],
 "metadata": {
  "kernelspec": {
   "display_name": "Python 3 (ipykernel)",
   "language": "python",
   "name": "python3"
  },
  "language_info": {
   "codemirror_mode": {
    "name": "ipython",
    "version": 3
   },
   "file_extension": ".py",
   "mimetype": "text/x-python",
   "name": "python",
   "nbconvert_exporter": "python",
   "pygments_lexer": "ipython3",
   "version": "3.9.12"
  }
 },
 "nbformat": 4,
 "nbformat_minor": 5
}
