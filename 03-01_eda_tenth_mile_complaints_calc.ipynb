{
 "cells": [
  {
   "cell_type": "markdown",
   "id": "beed1339-e8c1-48f3-b79d-43f72911ca66",
   "metadata": {},
   "source": [
    "In my analysis, I didn't have enough time to compute the complaints within .1 miles for my random points, but this code would do it."
   ]
  },
  {
   "cell_type": "code",
   "execution_count": 1,
   "id": "7d0e0c77-59bb-4d80-a08f-c4553e93574b",
   "metadata": {},
   "outputs": [
    {
     "name": "stdout",
     "output_type": "stream",
     "text": [
      "Index 0 started\n",
      "For index 0, the complaint count was 0\n",
      "Permit 0 finished at 1660559675.0295072, after 84.79790472984314, 84.7990210056305 since the start of the code.\n",
      "Index 1 started\n",
      "For index 1, the complaint count was 706\n",
      "Permit 1 finished at 1660559760.7200189, after 85.69047927856445, 170.48952507972717 since the start of the code.\n",
      "Index 2 started\n",
      "For index 2, the complaint count was 555\n",
      "Permit 2 finished at 1660559846.240588, after 85.52055883407593, 256.0100939273834 since the start of the code.\n",
      "Index 3 started\n"
     ]
    },
    {
     "ename": "KeyboardInterrupt",
     "evalue": "",
     "output_type": "error",
     "traceback": [
      "\u001b[0;31m---------------------------------------------------------------------------\u001b[0m",
      "\u001b[0;31mKeyboardInterrupt\u001b[0m                         Traceback (most recent call last)",
      "Input \u001b[0;32mIn [1]\u001b[0m, in \u001b[0;36m<cell line: 33>\u001b[0;34m()\u001b[0m\n\u001b[1;32m     40\u001b[0m \u001b[38;5;28;01mfor\u001b[39;00m n \u001b[38;5;129;01min\u001b[39;00m nypd\u001b[38;5;241m.\u001b[39mindex:\n\u001b[1;32m     41\u001b[0m     \u001b[38;5;66;03m#if permits.loc[i, 'borough'] == nypd.loc[n, 'boro_nm']:\u001b[39;00m\n\u001b[1;32m     42\u001b[0m     n_lat \u001b[38;5;241m=\u001b[39m nypd\u001b[38;5;241m.\u001b[39mloc[n, \u001b[38;5;124m'\u001b[39m\u001b[38;5;124mlatitude\u001b[39m\u001b[38;5;124m'\u001b[39m]\n\u001b[0;32m---> 43\u001b[0m     n_long \u001b[38;5;241m=\u001b[39m \u001b[43mnypd\u001b[49m\u001b[38;5;241;43m.\u001b[39;49m\u001b[43mloc\u001b[49m\u001b[43m[\u001b[49m\u001b[43mn\u001b[49m\u001b[43m,\u001b[49m\u001b[43m \u001b[49m\u001b[38;5;124;43m'\u001b[39;49m\u001b[38;5;124;43mlongitude\u001b[39;49m\u001b[38;5;124;43m'\u001b[39;49m\u001b[43m]\u001b[49m\n\u001b[1;32m     44\u001b[0m     \u001b[38;5;28;01mif\u001b[39;00m (\u001b[38;5;28mabs\u001b[39m(lat \u001b[38;5;241m-\u001b[39m n_lat)\u001b[38;5;241m<\u001b[39m\u001b[38;5;241m=\u001b[39m \u001b[38;5;241m1\u001b[39m\u001b[38;5;241m/\u001b[39m\u001b[38;5;241m690\u001b[39m) \u001b[38;5;129;01mor\u001b[39;00m (\u001b[38;5;28mabs\u001b[39m(lat \u001b[38;5;241m-\u001b[39m n_long)\u001b[38;5;241m<\u001b[39m\u001b[38;5;241m=\u001b[39m \u001b[38;5;241m1\u001b[39m\u001b[38;5;241m/\u001b[39m\u001b[38;5;241m400\u001b[39m):\n\u001b[1;32m     45\u001b[0m         point2 \u001b[38;5;241m=\u001b[39m [n_lat, n_long]\n",
      "File \u001b[0;32m~/opt/anaconda3/lib/python3.9/site-packages/pandas/core/indexing.py:958\u001b[0m, in \u001b[0;36m_LocationIndexer.__getitem__\u001b[0;34m(self, key)\u001b[0m\n\u001b[1;32m    956\u001b[0m \u001b[38;5;28;01mif\u001b[39;00m \u001b[38;5;28mtype\u001b[39m(key) \u001b[38;5;129;01mis\u001b[39;00m \u001b[38;5;28mtuple\u001b[39m:\n\u001b[1;32m    957\u001b[0m     key \u001b[38;5;241m=\u001b[39m \u001b[38;5;28mtuple\u001b[39m(\u001b[38;5;28mlist\u001b[39m(x) \u001b[38;5;28;01mif\u001b[39;00m is_iterator(x) \u001b[38;5;28;01melse\u001b[39;00m x \u001b[38;5;28;01mfor\u001b[39;00m x \u001b[38;5;129;01min\u001b[39;00m key)\n\u001b[0;32m--> 958\u001b[0m     key \u001b[38;5;241m=\u001b[39m \u001b[38;5;28;43mtuple\u001b[39;49m\u001b[43m(\u001b[49m\u001b[43mcom\u001b[49m\u001b[38;5;241;43m.\u001b[39;49m\u001b[43mapply_if_callable\u001b[49m\u001b[43m(\u001b[49m\u001b[43mx\u001b[49m\u001b[43m,\u001b[49m\u001b[43m \u001b[49m\u001b[38;5;28;43mself\u001b[39;49m\u001b[38;5;241;43m.\u001b[39;49m\u001b[43mobj\u001b[49m\u001b[43m)\u001b[49m\u001b[43m \u001b[49m\u001b[38;5;28;43;01mfor\u001b[39;49;00m\u001b[43m \u001b[49m\u001b[43mx\u001b[49m\u001b[43m \u001b[49m\u001b[38;5;129;43;01min\u001b[39;49;00m\u001b[43m \u001b[49m\u001b[43mkey\u001b[49m\u001b[43m)\u001b[49m\n\u001b[1;32m    959\u001b[0m     \u001b[38;5;28;01mif\u001b[39;00m \u001b[38;5;28mself\u001b[39m\u001b[38;5;241m.\u001b[39m_is_scalar_access(key):\n\u001b[1;32m    960\u001b[0m         \u001b[38;5;28;01mreturn\u001b[39;00m \u001b[38;5;28mself\u001b[39m\u001b[38;5;241m.\u001b[39mobj\u001b[38;5;241m.\u001b[39m_get_value(\u001b[38;5;241m*\u001b[39mkey, takeable\u001b[38;5;241m=\u001b[39m\u001b[38;5;28mself\u001b[39m\u001b[38;5;241m.\u001b[39m_takeable)\n",
      "File \u001b[0;32m~/opt/anaconda3/lib/python3.9/site-packages/pandas/core/indexing.py:958\u001b[0m, in \u001b[0;36m<genexpr>\u001b[0;34m(.0)\u001b[0m\n\u001b[1;32m    956\u001b[0m \u001b[38;5;28;01mif\u001b[39;00m \u001b[38;5;28mtype\u001b[39m(key) \u001b[38;5;129;01mis\u001b[39;00m \u001b[38;5;28mtuple\u001b[39m:\n\u001b[1;32m    957\u001b[0m     key \u001b[38;5;241m=\u001b[39m \u001b[38;5;28mtuple\u001b[39m(\u001b[38;5;28mlist\u001b[39m(x) \u001b[38;5;28;01mif\u001b[39;00m is_iterator(x) \u001b[38;5;28;01melse\u001b[39;00m x \u001b[38;5;28;01mfor\u001b[39;00m x \u001b[38;5;129;01min\u001b[39;00m key)\n\u001b[0;32m--> 958\u001b[0m     key \u001b[38;5;241m=\u001b[39m \u001b[38;5;28mtuple\u001b[39m(com\u001b[38;5;241m.\u001b[39mapply_if_callable(x, \u001b[38;5;28mself\u001b[39m\u001b[38;5;241m.\u001b[39mobj) \u001b[38;5;28;01mfor\u001b[39;00m x \u001b[38;5;129;01min\u001b[39;00m key)\n\u001b[1;32m    959\u001b[0m     \u001b[38;5;28;01mif\u001b[39;00m \u001b[38;5;28mself\u001b[39m\u001b[38;5;241m.\u001b[39m_is_scalar_access(key):\n\u001b[1;32m    960\u001b[0m         \u001b[38;5;28;01mreturn\u001b[39;00m \u001b[38;5;28mself\u001b[39m\u001b[38;5;241m.\u001b[39mobj\u001b[38;5;241m.\u001b[39m_get_value(\u001b[38;5;241m*\u001b[39mkey, takeable\u001b[38;5;241m=\u001b[39m\u001b[38;5;28mself\u001b[39m\u001b[38;5;241m.\u001b[39m_takeable)\n",
      "\u001b[0;31mKeyboardInterrupt\u001b[0m: "
     ]
    }
   ],
   "source": [
    "import pandas as pd\n",
    "from scipy.spatial import distance\n",
    "from math import sin, cos, sqrt, atan2, radians\n",
    "import time\n",
    "\n",
    "permits = pd.read_csv('data/fivek_random_for_nypd.csv')\n",
    "nypd = pd.read_csv('../capstone_large_data_sets/nypd_min.csv')\n",
    "\n",
    "def get_distance(point1, point2):\n",
    "    R = 4182 #miles\n",
    "    lat1 = radians(point1[0])\n",
    "    lon1 = radians(point1[1])\n",
    "    lat2 = radians(point2[0])\n",
    "    lon2 = radians(point2[1])\n",
    "\n",
    "    dlon = lon2 - lon1\n",
    "    dlat = lat2 - lat1\n",
    "\n",
    "    a = sin(dlat / 2)**2 + cos(lat1) * cos(lat2) * sin(dlon / 2)**2\n",
    "    c = 2 * atan2(sqrt(a), sqrt(1-a))\n",
    "    distance = R * c\n",
    "    return distance\n",
    "\n",
    "\n",
    "# note: the latitude and longitude I'm using are in decimals NOT minutes, so I do the same here\n",
    "# these are set at a tenth of a mile to start, with 1 degree late = 69 miles and 1 degree longitude = 40 miles\n",
    "#max_delt_lat = 1/690\n",
    "#max_delt_long = 1/400\n",
    "#hard coded to save time\n",
    "\n",
    "\n",
    "t0 = time.time()\n",
    "for i in permits.index:\n",
    "    t1 = time.time()\n",
    "    print(f'Index {i} started')\n",
    "    lat = permits.loc[i, 'latitude']\n",
    "    long = permits.loc[i, 'longitude']\n",
    "    point1 = [lat, long]\n",
    "    complaint_count = 0\n",
    "    for n in nypd.index:\n",
    "        #if permits.loc[i, 'borough'] == nypd.loc[n, 'boro_nm']:\n",
    "        n_lat = nypd.loc[n, 'latitude']\n",
    "        n_long = nypd.loc[n, 'longitude']\n",
    "        if (abs(lat - n_lat)<= 1/690) or (abs(lat - n_long)<= 1/400):\n",
    "            point2 = [n_lat, n_long]\n",
    "            distance = get_distance(point1, point2)\n",
    "            if distance <= .1:\n",
    "                complaint_count += 1\n",
    "    permits.loc[i, 'total_complaints'] = complaint_count\n",
    "    print(f\"For index {i}, the complaint count was {complaint_count}\")\n",
    "    print(f\"Permit {i} finished at {time.time()}, after {time.time()-t1}, {time.time()-t0} since the start of the code.\")\n",
    "\n",
    "permits.to_csv('data/fivek_random_points_nypd.csv')\n",
    "print('')\n",
    "print(\"Time to run\", time.time()-t0)"
   ]
  },
  {
   "cell_type": "code",
   "execution_count": null,
   "id": "267f9d43-fed6-4ffb-b30e-cbc3e112fc57",
   "metadata": {},
   "outputs": [],
   "source": []
  }
 ],
 "metadata": {
  "kernelspec": {
   "display_name": "Python 3 (ipykernel)",
   "language": "python",
   "name": "python3"
  },
  "language_info": {
   "codemirror_mode": {
    "name": "ipython",
    "version": 3
   },
   "file_extension": ".py",
   "mimetype": "text/x-python",
   "name": "python",
   "nbconvert_exporter": "python",
   "pygments_lexer": "ipython3",
   "version": "3.9.12"
  }
 },
 "nbformat": 4,
 "nbformat_minor": 5
}
