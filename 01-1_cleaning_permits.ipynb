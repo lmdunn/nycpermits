{
 "cells": [
  {
   "cell_type": "markdown",
   "id": "f6bfe9d1-cdf4-41fd-ad4a-40a7094e282a",
   "metadata": {},
   "source": [
    "[The DOB Glossary](https://www1.nyc.gov/site/buildings/dob/acronym-glossary.page), which may be a handy reference.\n",
    "\n",
    "[One of several Fontan Architects articles](https://fontanarchitecture.com/building-a-new-home-in-nyc/). This one explains that the architect gets Approval before the Contractor(s) get permits. [This site](https://www.ny-engineers.com/agencies/dob-approval-and-design) describes a similar process. Unfortunately, I don't see approval data on the DOB website, just permit issuance. So I can't tell how long approval took. But I can at least locate new construction.\n",
    "\n",
    "Another DOB dataset, [Historical Permits 1989-2013](https://data.cityofnewyork.us/Housing-Development/Historical-DOB-Permit-Issuance/bty7-2jhb) but there are older permits in there as well."
   ]
  },
  {
   "cell_type": "code",
   "execution_count": 39,
   "id": "e32a59f6-b831-47eb-8544-9b9551153bfe",
   "metadata": {},
   "outputs": [],
   "source": [
    "import pandas as pd\n",
    "from geopy.geocoders import Nominatim\n",
    "import censusgeocode as cg\n",
    "import datetime"
   ]
  },
  {
   "cell_type": "code",
   "execution_count": 3,
   "id": "ef9960c4-9326-48b0-b2d1-e977d5eef335",
   "metadata": {},
   "outputs": [
    {
     "name": "stderr",
     "output_type": "stream",
     "text": [
      "/var/folders/5_/498w081d1837cc82dmb4hwmc0000gn/T/ipykernel_1477/808881869.py:1: DtypeWarning: Columns (8,9,10,15,31,33,36,47,48,49,50,51,52) have mixed types. Specify dtype option on import or set low_memory=False.\n",
      "  permits = pd.read_csv('../capstone_large_data_sets/DOB_Permit_Issuance.csv')\n"
     ]
    }
   ],
   "source": [
    "permits = pd.read_csv('../capstone_large_data_sets/DOB_Permit_Issuance.csv')"
   ]
  },
  {
   "cell_type": "markdown",
   "id": "6dcdfee0-875f-4b2f-b943-ca0f92fc006d",
   "metadata": {},
   "source": [
    "I downloaded this data on August 2, 2022. It's updated daily,"
   ]
  },
  {
   "cell_type": "code",
   "execution_count": 4,
   "id": "95a148e2-016a-4610-a5df-eade33a54b76",
   "metadata": {},
   "outputs": [
    {
     "data": {
      "text/html": [
       "<div>\n",
       "<style scoped>\n",
       "    .dataframe tbody tr th:only-of-type {\n",
       "        vertical-align: middle;\n",
       "    }\n",
       "\n",
       "    .dataframe tbody tr th {\n",
       "        vertical-align: top;\n",
       "    }\n",
       "\n",
       "    .dataframe thead th {\n",
       "        text-align: right;\n",
       "    }\n",
       "</style>\n",
       "<table border=\"1\" class=\"dataframe\">\n",
       "  <thead>\n",
       "    <tr style=\"text-align: right;\">\n",
       "      <th></th>\n",
       "      <th>BOROUGH</th>\n",
       "      <th>Bin #</th>\n",
       "      <th>House #</th>\n",
       "      <th>Street Name</th>\n",
       "      <th>Job #</th>\n",
       "      <th>Job doc. #</th>\n",
       "      <th>Job Type</th>\n",
       "      <th>Self_Cert</th>\n",
       "      <th>Block</th>\n",
       "      <th>Lot</th>\n",
       "      <th>...</th>\n",
       "      <th>Owner’s House State</th>\n",
       "      <th>Owner’s House Zip Code</th>\n",
       "      <th>Owner's Phone #</th>\n",
       "      <th>DOBRunDate</th>\n",
       "      <th>PERMIT_SI_NO</th>\n",
       "      <th>LATITUDE</th>\n",
       "      <th>LONGITUDE</th>\n",
       "      <th>COUNCIL_DISTRICT</th>\n",
       "      <th>CENSUS_TRACT</th>\n",
       "      <th>NTA_NAME</th>\n",
       "    </tr>\n",
       "  </thead>\n",
       "  <tbody>\n",
       "    <tr>\n",
       "      <th>0</th>\n",
       "      <td>BRONX</td>\n",
       "      <td>2097114</td>\n",
       "      <td>265</td>\n",
       "      <td>EAST 161ST STREET</td>\n",
       "      <td>220411793</td>\n",
       "      <td>2</td>\n",
       "      <td>A2</td>\n",
       "      <td>N</td>\n",
       "      <td>2444.0</td>\n",
       "      <td>1.0</td>\n",
       "      <td>...</td>\n",
       "      <td>NaN</td>\n",
       "      <td>NaN</td>\n",
       "      <td>2123860481.0</td>\n",
       "      <td>05/10/2022 00:00:00</td>\n",
       "      <td>3905783</td>\n",
       "      <td>40.825928</td>\n",
       "      <td>-73.919514</td>\n",
       "      <td>16.0</td>\n",
       "      <td>18302.0</td>\n",
       "      <td>East Concourse-Concourse Village</td>\n",
       "    </tr>\n",
       "    <tr>\n",
       "      <th>1</th>\n",
       "      <td>QUEENS</td>\n",
       "      <td>4114282</td>\n",
       "      <td>41-17</td>\n",
       "      <td>MAIN STREET</td>\n",
       "      <td>421692010</td>\n",
       "      <td>2</td>\n",
       "      <td>A2</td>\n",
       "      <td>N</td>\n",
       "      <td>5043.0</td>\n",
       "      <td>11.0</td>\n",
       "      <td>...</td>\n",
       "      <td>NaN</td>\n",
       "      <td>NaN</td>\n",
       "      <td>7183912934.0</td>\n",
       "      <td>05/10/2022 00:00:00</td>\n",
       "      <td>3905784</td>\n",
       "      <td>40.757784</td>\n",
       "      <td>-73.829252</td>\n",
       "      <td>20.0</td>\n",
       "      <td>853.0</td>\n",
       "      <td>Flushing</td>\n",
       "    </tr>\n",
       "    <tr>\n",
       "      <th>2</th>\n",
       "      <td>BRONX</td>\n",
       "      <td>2092754</td>\n",
       "      <td>875</td>\n",
       "      <td>TAYLOR AVENUE</td>\n",
       "      <td>220585230</td>\n",
       "      <td>1</td>\n",
       "      <td>A2</td>\n",
       "      <td>N</td>\n",
       "      <td>3637.0</td>\n",
       "      <td>1.0</td>\n",
       "      <td>...</td>\n",
       "      <td>NaN</td>\n",
       "      <td>NaN</td>\n",
       "      <td>2123066936.0</td>\n",
       "      <td>05/10/2022 00:00:00</td>\n",
       "      <td>3905785</td>\n",
       "      <td>40.823072</td>\n",
       "      <td>-73.863399</td>\n",
       "      <td>18.0</td>\n",
       "      <td>42.0</td>\n",
       "      <td>Soundview-Castle Hill-Clason Point-Harding Park</td>\n",
       "    </tr>\n",
       "    <tr>\n",
       "      <th>3</th>\n",
       "      <td>BROOKLYN</td>\n",
       "      <td>3185962</td>\n",
       "      <td>161</td>\n",
       "      <td>BAY 35TH ST</td>\n",
       "      <td>340843671</td>\n",
       "      <td>1</td>\n",
       "      <td>A2</td>\n",
       "      <td>Y</td>\n",
       "      <td>6875.0</td>\n",
       "      <td>13.0</td>\n",
       "      <td>...</td>\n",
       "      <td>NaN</td>\n",
       "      <td>NaN</td>\n",
       "      <td>3478738710.0</td>\n",
       "      <td>05/10/2022 00:00:00</td>\n",
       "      <td>3905786</td>\n",
       "      <td>40.596642</td>\n",
       "      <td>-73.993310</td>\n",
       "      <td>47.0</td>\n",
       "      <td>302.0</td>\n",
       "      <td>Bensonhurst East</td>\n",
       "    </tr>\n",
       "    <tr>\n",
       "      <th>4</th>\n",
       "      <td>BRONX</td>\n",
       "      <td>2082461</td>\n",
       "      <td>258</td>\n",
       "      <td>CITY ISLAND AVENUE</td>\n",
       "      <td>220657331</td>\n",
       "      <td>1</td>\n",
       "      <td>A2</td>\n",
       "      <td>Y</td>\n",
       "      <td>5642.0</td>\n",
       "      <td>11.0</td>\n",
       "      <td>...</td>\n",
       "      <td>NaN</td>\n",
       "      <td>NaN</td>\n",
       "      <td>2123272277.0</td>\n",
       "      <td>05/10/2022 00:00:00</td>\n",
       "      <td>3905787</td>\n",
       "      <td>40.845730</td>\n",
       "      <td>-73.785907</td>\n",
       "      <td>13.0</td>\n",
       "      <td>516.0</td>\n",
       "      <td>Pelham Bay-Country Club-City Island</td>\n",
       "    </tr>\n",
       "  </tbody>\n",
       "</table>\n",
       "<p>5 rows × 60 columns</p>\n",
       "</div>"
      ],
      "text/plain": [
       "    BOROUGH    Bin # House #         Street Name      Job #  Job doc. #  \\\n",
       "0     BRONX  2097114     265   EAST 161ST STREET  220411793           2   \n",
       "1    QUEENS  4114282   41-17         MAIN STREET  421692010           2   \n",
       "2     BRONX  2092754     875       TAYLOR AVENUE  220585230           1   \n",
       "3  BROOKLYN  3185962     161         BAY 35TH ST  340843671           1   \n",
       "4     BRONX  2082461     258  CITY ISLAND AVENUE  220657331           1   \n",
       "\n",
       "  Job Type Self_Cert   Block   Lot  ... Owner’s House State  \\\n",
       "0       A2         N  2444.0   1.0  ...                 NaN   \n",
       "1       A2         N  5043.0  11.0  ...                 NaN   \n",
       "2       A2         N  3637.0   1.0  ...                 NaN   \n",
       "3       A2         Y  6875.0  13.0  ...                 NaN   \n",
       "4       A2         Y  5642.0  11.0  ...                 NaN   \n",
       "\n",
       "   Owner’s House Zip Code  Owner's Phone #           DOBRunDate PERMIT_SI_NO  \\\n",
       "0                     NaN     2123860481.0  05/10/2022 00:00:00      3905783   \n",
       "1                     NaN     7183912934.0  05/10/2022 00:00:00      3905784   \n",
       "2                     NaN     2123066936.0  05/10/2022 00:00:00      3905785   \n",
       "3                     NaN     3478738710.0  05/10/2022 00:00:00      3905786   \n",
       "4                     NaN     2123272277.0  05/10/2022 00:00:00      3905787   \n",
       "\n",
       "    LATITUDE  LONGITUDE COUNCIL_DISTRICT CENSUS_TRACT  \\\n",
       "0  40.825928 -73.919514             16.0      18302.0   \n",
       "1  40.757784 -73.829252             20.0        853.0   \n",
       "2  40.823072 -73.863399             18.0         42.0   \n",
       "3  40.596642 -73.993310             47.0        302.0   \n",
       "4  40.845730 -73.785907             13.0        516.0   \n",
       "\n",
       "                                          NTA_NAME  \n",
       "0                 East Concourse-Concourse Village  \n",
       "1                                         Flushing  \n",
       "2  Soundview-Castle Hill-Clason Point-Harding Park  \n",
       "3                                 Bensonhurst East  \n",
       "4              Pelham Bay-Country Club-City Island  \n",
       "\n",
       "[5 rows x 60 columns]"
      ]
     },
     "execution_count": 4,
     "metadata": {},
     "output_type": "execute_result"
    }
   ],
   "source": [
    "permits.head()"
   ]
  },
  {
   "cell_type": "code",
   "execution_count": 5,
   "id": "3f4db908-1f52-423e-935f-e8d9e13d5aef",
   "metadata": {},
   "outputs": [
    {
     "data": {
      "text/plain": [
       "(3909190, 60)"
      ]
     },
     "execution_count": 5,
     "metadata": {},
     "output_type": "execute_result"
    }
   ],
   "source": [
    "permits.shape"
   ]
  },
  {
   "cell_type": "markdown",
   "id": "54a32d43-c27a-4dba-9642-5ef8388fc648",
   "metadata": {},
   "source": [
    "There are far more columns than I need. [The NYC Data page for DOB Permits](https://data.cityofnewyork.us/Housing-Development/DOB-Permit-Issuance/ipu4-2q9a) has a list of columns.\n",
    "\n",
    "For now, I'm going to get rid of most columns but will keep the `job #` to enable reconnecting additional data if it seems helpful later.\n",
    "\n",
    "I also want to clean up the column names."
   ]
  },
  {
   "cell_type": "code",
   "execution_count": 6,
   "id": "7ac640d0-34e4-4cf4-a260-83ecf4d1ccef",
   "metadata": {},
   "outputs": [],
   "source": [
    "permits_backup = permits.copy()"
   ]
  },
  {
   "cell_type": "code",
   "execution_count": 214,
   "id": "2bc92c7f-3005-4c44-adb0-df310c9bb23f",
   "metadata": {},
   "outputs": [],
   "source": [
    "permits = permits_backup.copy()"
   ]
  },
  {
   "cell_type": "code",
   "execution_count": 215,
   "id": "10988520-4e86-4509-852a-9163e37c2781",
   "metadata": {},
   "outputs": [],
   "source": [
    "permits = permits[['BOROUGH', 'Bin #', 'House #', 'Street Name', 'Job #','Job Type', \n",
    "                   'Zip Code', 'Bldg Type', 'Residential', 'Work Type', 'Permit Status', \n",
    "                   'Filing Status', 'Permit Type', 'Permit Sequence #', 'Filing Date', 'Issuance Date', 'Expiration Date', 'Job Start Date', \"Owner's Business Type\", \n",
    "                   \"Non-Profit\", 'DOBRunDate', 'PERMIT_SI_NO', 'LATITUDE', 'LONGITUDE', 'COUNCIL_DISTRICT', 'CENSUS_TRACT']]"
   ]
  },
  {
   "cell_type": "code",
   "execution_count": 216,
   "id": "94c64816-f35b-4ae8-9848-8efc2730d038",
   "metadata": {},
   "outputs": [
    {
     "data": {
      "text/html": [
       "<div>\n",
       "<style scoped>\n",
       "    .dataframe tbody tr th:only-of-type {\n",
       "        vertical-align: middle;\n",
       "    }\n",
       "\n",
       "    .dataframe tbody tr th {\n",
       "        vertical-align: top;\n",
       "    }\n",
       "\n",
       "    .dataframe thead th {\n",
       "        text-align: right;\n",
       "    }\n",
       "</style>\n",
       "<table border=\"1\" class=\"dataframe\">\n",
       "  <thead>\n",
       "    <tr style=\"text-align: right;\">\n",
       "      <th></th>\n",
       "      <th>BOROUGH</th>\n",
       "      <th>Bin #</th>\n",
       "      <th>House #</th>\n",
       "      <th>Street Name</th>\n",
       "      <th>Job #</th>\n",
       "      <th>Job Type</th>\n",
       "      <th>Zip Code</th>\n",
       "      <th>Bldg Type</th>\n",
       "      <th>Residential</th>\n",
       "      <th>Work Type</th>\n",
       "      <th>Permit Status</th>\n",
       "      <th>Filing Status</th>\n",
       "      <th>Permit Type</th>\n",
       "      <th>Permit Sequence #</th>\n",
       "      <th>Filing Date</th>\n",
       "      <th>Issuance Date</th>\n",
       "      <th>Expiration Date</th>\n",
       "      <th>Job Start Date</th>\n",
       "      <th>Owner's Business Type</th>\n",
       "      <th>Non-Profit</th>\n",
       "      <th>DOBRunDate</th>\n",
       "      <th>PERMIT_SI_NO</th>\n",
       "      <th>LATITUDE</th>\n",
       "      <th>LONGITUDE</th>\n",
       "      <th>COUNCIL_DISTRICT</th>\n",
       "      <th>CENSUS_TRACT</th>\n",
       "    </tr>\n",
       "  </thead>\n",
       "  <tbody>\n",
       "    <tr>\n",
       "      <th>0</th>\n",
       "      <td>BRONX</td>\n",
       "      <td>2097114</td>\n",
       "      <td>265</td>\n",
       "      <td>EAST 161ST STREET</td>\n",
       "      <td>220411793</td>\n",
       "      <td>A2</td>\n",
       "      <td>10451.0</td>\n",
       "      <td>2.0</td>\n",
       "      <td>NaN</td>\n",
       "      <td>MH</td>\n",
       "      <td>ISSUED</td>\n",
       "      <td>RENEWAL</td>\n",
       "      <td>EW</td>\n",
       "      <td>7</td>\n",
       "      <td>05/09/2022</td>\n",
       "      <td>05/09/2022</td>\n",
       "      <td>05/01/2023</td>\n",
       "      <td>05/27/2016</td>\n",
       "      <td>OTHER GOV'T AGENCY</td>\n",
       "      <td>N</td>\n",
       "      <td>05/10/2022 00:00:00</td>\n",
       "      <td>3905783</td>\n",
       "      <td>40.825928</td>\n",
       "      <td>-73.919514</td>\n",
       "      <td>16.0</td>\n",
       "      <td>18302.0</td>\n",
       "    </tr>\n",
       "    <tr>\n",
       "      <th>1</th>\n",
       "      <td>QUEENS</td>\n",
       "      <td>4114282</td>\n",
       "      <td>41-17</td>\n",
       "      <td>MAIN STREET</td>\n",
       "      <td>421692010</td>\n",
       "      <td>A2</td>\n",
       "      <td>11355.0</td>\n",
       "      <td>2.0</td>\n",
       "      <td>NaN</td>\n",
       "      <td>MH</td>\n",
       "      <td>ISSUED</td>\n",
       "      <td>RENEWAL</td>\n",
       "      <td>EW</td>\n",
       "      <td>2</td>\n",
       "      <td>05/09/2022</td>\n",
       "      <td>05/09/2022</td>\n",
       "      <td>05/01/2023</td>\n",
       "      <td>10/28/2021</td>\n",
       "      <td>NYC AGENCY</td>\n",
       "      <td>N</td>\n",
       "      <td>05/10/2022 00:00:00</td>\n",
       "      <td>3905784</td>\n",
       "      <td>40.757784</td>\n",
       "      <td>-73.829252</td>\n",
       "      <td>20.0</td>\n",
       "      <td>853.0</td>\n",
       "    </tr>\n",
       "    <tr>\n",
       "      <th>2</th>\n",
       "      <td>BRONX</td>\n",
       "      <td>2092754</td>\n",
       "      <td>875</td>\n",
       "      <td>TAYLOR AVENUE</td>\n",
       "      <td>220585230</td>\n",
       "      <td>A2</td>\n",
       "      <td>10473.0</td>\n",
       "      <td>2.0</td>\n",
       "      <td>YES</td>\n",
       "      <td>OT</td>\n",
       "      <td>ISSUED</td>\n",
       "      <td>INITIAL</td>\n",
       "      <td>EW</td>\n",
       "      <td>1</td>\n",
       "      <td>05/09/2022</td>\n",
       "      <td>05/09/2022</td>\n",
       "      <td>11/27/2022</td>\n",
       "      <td>05/09/2022</td>\n",
       "      <td>NYCHA/HHC</td>\n",
       "      <td>N</td>\n",
       "      <td>05/10/2022 00:00:00</td>\n",
       "      <td>3905785</td>\n",
       "      <td>40.823072</td>\n",
       "      <td>-73.863399</td>\n",
       "      <td>18.0</td>\n",
       "      <td>42.0</td>\n",
       "    </tr>\n",
       "    <tr>\n",
       "      <th>3</th>\n",
       "      <td>BROOKLYN</td>\n",
       "      <td>3185962</td>\n",
       "      <td>161</td>\n",
       "      <td>BAY 35TH ST</td>\n",
       "      <td>340843671</td>\n",
       "      <td>A2</td>\n",
       "      <td>11214.0</td>\n",
       "      <td>1.0</td>\n",
       "      <td>YES</td>\n",
       "      <td>OT</td>\n",
       "      <td>ISSUED</td>\n",
       "      <td>INITIAL</td>\n",
       "      <td>EW</td>\n",
       "      <td>1</td>\n",
       "      <td>05/09/2022</td>\n",
       "      <td>05/09/2022</td>\n",
       "      <td>04/27/2023</td>\n",
       "      <td>05/09/2022</td>\n",
       "      <td>INDIVIDUAL</td>\n",
       "      <td>N</td>\n",
       "      <td>05/10/2022 00:00:00</td>\n",
       "      <td>3905786</td>\n",
       "      <td>40.596642</td>\n",
       "      <td>-73.993310</td>\n",
       "      <td>47.0</td>\n",
       "      <td>302.0</td>\n",
       "    </tr>\n",
       "    <tr>\n",
       "      <th>4</th>\n",
       "      <td>BRONX</td>\n",
       "      <td>2082461</td>\n",
       "      <td>258</td>\n",
       "      <td>CITY ISLAND AVENUE</td>\n",
       "      <td>220657331</td>\n",
       "      <td>A2</td>\n",
       "      <td>10464.0</td>\n",
       "      <td>2.0</td>\n",
       "      <td>NaN</td>\n",
       "      <td>OT</td>\n",
       "      <td>ISSUED</td>\n",
       "      <td>RENEWAL</td>\n",
       "      <td>EW</td>\n",
       "      <td>5</td>\n",
       "      <td>05/09/2022</td>\n",
       "      <td>05/09/2022</td>\n",
       "      <td>05/01/2023</td>\n",
       "      <td>07/23/2018</td>\n",
       "      <td>INDIVIDUAL</td>\n",
       "      <td>N</td>\n",
       "      <td>05/10/2022 00:00:00</td>\n",
       "      <td>3905787</td>\n",
       "      <td>40.845730</td>\n",
       "      <td>-73.785907</td>\n",
       "      <td>13.0</td>\n",
       "      <td>516.0</td>\n",
       "    </tr>\n",
       "  </tbody>\n",
       "</table>\n",
       "</div>"
      ],
      "text/plain": [
       "    BOROUGH    Bin # House #         Street Name      Job # Job Type  \\\n",
       "0     BRONX  2097114     265   EAST 161ST STREET  220411793       A2   \n",
       "1    QUEENS  4114282   41-17         MAIN STREET  421692010       A2   \n",
       "2     BRONX  2092754     875       TAYLOR AVENUE  220585230       A2   \n",
       "3  BROOKLYN  3185962     161         BAY 35TH ST  340843671       A2   \n",
       "4     BRONX  2082461     258  CITY ISLAND AVENUE  220657331       A2   \n",
       "\n",
       "   Zip Code  Bldg Type Residential Work Type Permit Status Filing Status  \\\n",
       "0   10451.0        2.0         NaN        MH        ISSUED       RENEWAL   \n",
       "1   11355.0        2.0         NaN        MH        ISSUED       RENEWAL   \n",
       "2   10473.0        2.0         YES        OT        ISSUED       INITIAL   \n",
       "3   11214.0        1.0         YES        OT        ISSUED       INITIAL   \n",
       "4   10464.0        2.0         NaN        OT        ISSUED       RENEWAL   \n",
       "\n",
       "  Permit Type  Permit Sequence # Filing Date Issuance Date Expiration Date  \\\n",
       "0          EW                  7  05/09/2022    05/09/2022      05/01/2023   \n",
       "1          EW                  2  05/09/2022    05/09/2022      05/01/2023   \n",
       "2          EW                  1  05/09/2022    05/09/2022      11/27/2022   \n",
       "3          EW                  1  05/09/2022    05/09/2022      04/27/2023   \n",
       "4          EW                  5  05/09/2022    05/09/2022      05/01/2023   \n",
       "\n",
       "  Job Start Date Owner's Business Type Non-Profit           DOBRunDate  \\\n",
       "0     05/27/2016    OTHER GOV'T AGENCY          N  05/10/2022 00:00:00   \n",
       "1     10/28/2021            NYC AGENCY          N  05/10/2022 00:00:00   \n",
       "2     05/09/2022             NYCHA/HHC          N  05/10/2022 00:00:00   \n",
       "3     05/09/2022            INDIVIDUAL          N  05/10/2022 00:00:00   \n",
       "4     07/23/2018            INDIVIDUAL          N  05/10/2022 00:00:00   \n",
       "\n",
       "   PERMIT_SI_NO   LATITUDE  LONGITUDE  COUNCIL_DISTRICT  CENSUS_TRACT  \n",
       "0       3905783  40.825928 -73.919514              16.0       18302.0  \n",
       "1       3905784  40.757784 -73.829252              20.0         853.0  \n",
       "2       3905785  40.823072 -73.863399              18.0          42.0  \n",
       "3       3905786  40.596642 -73.993310              47.0         302.0  \n",
       "4       3905787  40.845730 -73.785907              13.0         516.0  "
      ]
     },
     "execution_count": 216,
     "metadata": {},
     "output_type": "execute_result"
    }
   ],
   "source": [
    "permits.head()"
   ]
  },
  {
   "cell_type": "markdown",
   "id": "2e3c7532-e9bd-4e2a-b9e3-6315fe51312a",
   "metadata": {},
   "source": [
    "A [useful explanation of job types](https://fontanarchitecture.com/alt-1-alt-2-nyc/).\n",
    "\n",
    "[This one](https://ownersrepny.com/2011/10/12/nyc-building-permits-what-does-nb-alteration-type-i-ii-iii-and-directive-14-mean/) has even more detail."
   ]
  },
  {
   "cell_type": "code",
   "execution_count": 217,
   "id": "44c7a62c-da26-4fb1-9590-927610dea083",
   "metadata": {},
   "outputs": [],
   "source": [
    "permits.columns = permits.columns.str.replace(\"'\", \"\").str.replace('#', 'no').str.replace(' ', '_').str.lower()"
   ]
  },
  {
   "cell_type": "code",
   "execution_count": 218,
   "id": "af74cf00-e090-46c7-bbbd-3ccd6e9427c8",
   "metadata": {},
   "outputs": [
    {
     "data": {
      "text/plain": [
       "borough                       0\n",
       "bin_no                        0\n",
       "house_no                      4\n",
       "street_name                   4\n",
       "job_no                        0\n",
       "job_type                      0\n",
       "zip_code                   1166\n",
       "bldg_type                 57389\n",
       "residential             2330686\n",
       "work_type                698603\n",
       "permit_status             11219\n",
       "filing_status                 0\n",
       "permit_type                   1\n",
       "permit_sequence_no            0\n",
       "filing_date                   1\n",
       "issuance_date             19937\n",
       "expiration_date           11399\n",
       "job_start_date               10\n",
       "owners_business_type     171472\n",
       "non-profit               167207\n",
       "dobrundate                    4\n",
       "permit_si_no                  0\n",
       "latitude                  11160\n",
       "longitude                 11160\n",
       "council_district          11160\n",
       "census_tract              11160\n",
       "dtype: int64"
      ]
     },
     "execution_count": 218,
     "metadata": {},
     "output_type": "execute_result"
    }
   ],
   "source": [
    "permits.isna().sum()"
   ]
  },
  {
   "cell_type": "markdown",
   "id": "c295cb25-5862-453d-8491-b4c59af13d42",
   "metadata": {},
   "source": [
    "Just based on what I see above, I'll explore if 'residential' `NaN` might actually be non-residential. \n",
    "I wonder if non-profit will turn out to be the same.\n",
    "\n",
    "The buildings that are missing latitude, lognitude, council_district, and census_tract all appear to be the same (by virtue of their being the same number, which would be quite a coincidence). I'll explore what these are. It's a minute percentage of the data set, if I wind up needing to drop them.\n",
    "\n",
    "Zip code may not be necessary to identify the location of these buildings. Though ultimately it will be a question of whether I use longitude, latitude or street addresses.\n",
    "\n",
    "I need to explore bldg_type, work_type, permit_status, owners_business_type.\n",
    "\n",
    "It's odd so many issuance and expiration date's are missing. I can use job start date as a proxy though. I can look at time between filing and that as a measure of time it takes to get to work.\n",
    "\n",
    "house_no, street_name, permit_type, and dobrundate we'll see, but they're so few dropping won't be a problem."
   ]
  },
  {
   "cell_type": "code",
   "execution_count": 219,
   "id": "32534c40-bc7f-4ab2-ab6f-6e863111a5ae",
   "metadata": {},
   "outputs": [
    {
     "data": {
      "text/plain": [
       "NaN    2330686\n",
       "YES    1578504\n",
       "Name: residential, dtype: int64"
      ]
     },
     "execution_count": 219,
     "metadata": {},
     "output_type": "execute_result"
    }
   ],
   "source": [
    "permits['residential'].value_counts(dropna = False)"
   ]
  },
  {
   "cell_type": "code",
   "execution_count": 220,
   "id": "8f118d73-9da6-4992-8391-a9b78f496a06",
   "metadata": {},
   "outputs": [
    {
     "data": {
      "text/plain": [
       "0.4037931131513178"
      ]
     },
     "execution_count": 220,
     "metadata": {},
     "output_type": "execute_result"
    }
   ],
   "source": [
    "permits['residential'].value_counts()[0]/permits.shape[0]"
   ]
  },
  {
   "cell_type": "markdown",
   "id": "4ede9dfc-c04f-4ae1-9e7f-c0d07d36455e",
   "metadata": {},
   "source": [
    "It appears that in the `residential` column, `NaN`s are not residential. I want to look only at residential building, so I'm going to eliminate the non-residential buildings, which will also hopefully help with the clean up of other `NaN`s.\n",
    "\n",
    "After I do that, I'm going to look at the `job_type` to reduce down to new buildings, which will hopefully reduce the number of `NaN`s further."
   ]
  },
  {
   "cell_type": "code",
   "execution_count": 221,
   "id": "c151b90f-e6e5-41d3-9191-cc114e42ca7a",
   "metadata": {},
   "outputs": [
    {
     "data": {
      "text/plain": [
       "(1578504, 26)"
      ]
     },
     "execution_count": 221,
     "metadata": {},
     "output_type": "execute_result"
    }
   ],
   "source": [
    "permits = permits[permits['residential'] == 'YES']\n",
    "permits.shape"
   ]
  },
  {
   "cell_type": "code",
   "execution_count": 222,
   "id": "1b41081e-8a14-48b4-9c69-cdc83a680553",
   "metadata": {},
   "outputs": [
    {
     "data": {
      "text/plain": [
       "A2    668065\n",
       "NB    448845\n",
       "A1    306156\n",
       "A3    155437\n",
       "SG         1\n",
       "Name: job_type, dtype: int64"
      ]
     },
     "execution_count": 222,
     "metadata": {},
     "output_type": "execute_result"
    }
   ],
   "source": [
    "permits['job_type'].value_counts()"
   ]
  },
  {
   "cell_type": "code",
   "execution_count": 223,
   "id": "81c6849f-59f8-40d1-84b7-2579069814c3",
   "metadata": {},
   "outputs": [
    {
     "data": {
      "text/plain": [
       "(448845, 26)"
      ]
     },
     "execution_count": 223,
     "metadata": {},
     "output_type": "execute_result"
    }
   ],
   "source": [
    "permits = permits[permits['job_type']=='NB']\n",
    "permits.shape"
   ]
  },
  {
   "cell_type": "code",
   "execution_count": 224,
   "id": "ed586f27-2d9f-494a-9eae-8b75469c5fae",
   "metadata": {},
   "outputs": [
    {
     "data": {
      "text/plain": [
       "0.11481790345314502"
      ]
     },
     "execution_count": 224,
     "metadata": {},
     "output_type": "execute_result"
    }
   ],
   "source": [
    "permits.shape[0]/permits_backup.shape[0]"
   ]
  },
  {
   "cell_type": "markdown",
   "id": "e9aaa76a-0e31-4525-957a-0144074ed5ae",
   "metadata": {},
   "source": [
    "New residential buildings are 11.5% of the total permits in the database."
   ]
  },
  {
   "cell_type": "markdown",
   "id": "69231c76-cc7c-4906-8ee5-5984f53198df",
   "metadata": {},
   "source": [
    "examining `permit_type`. This actually (mostly) corresponds to \"Work Type Acronyms\" on [the DOB acronym glossary page](https://www1.nyc.gov/site/buildings/dob/acronym-glossary.page), not \"Permit Type Acronyms\" on the page. That said, this [Permit Type and Status Code page](https://www1.nyc.gov/site/buildings/industry/permit-type-and-job-status-codes.page) may have more information... Yup, it does. \n",
    "- NB = New Building\n",
    "- EQ = Equipment\n",
    "- PL = Plumbing\n",
    "- FO = Foundation/Earthwork\n",
    "- EW = Equipment Work"
   ]
  },
  {
   "cell_type": "code",
   "execution_count": 225,
   "id": "6c5eaf02-cbd1-4df6-89de-da03719efdc2",
   "metadata": {},
   "outputs": [
    {
     "data": {
      "text/plain": [
       "NB    217407\n",
       "EQ    103526\n",
       "PL     93959\n",
       "FO     33935\n",
       "EW        18\n",
       "Name: permit_type, dtype: int64"
      ]
     },
     "execution_count": 225,
     "metadata": {},
     "output_type": "execute_result"
    }
   ],
   "source": [
    "permits['permit_type'].value_counts(dropna = False)"
   ]
  },
  {
   "cell_type": "code",
   "execution_count": 226,
   "id": "b40eb1e0-2121-4818-9f15-abaf3a812bfe",
   "metadata": {},
   "outputs": [
    {
     "data": {
      "text/plain": [
       "(448845, 26)"
      ]
     },
     "execution_count": 226,
     "metadata": {},
     "output_type": "execute_result"
    }
   ],
   "source": [
    "permits.shape"
   ]
  },
  {
   "cell_type": "code",
   "execution_count": 227,
   "id": "61e91d21-6b09-42a3-bbbb-1fbbfc50cadf",
   "metadata": {},
   "outputs": [],
   "source": [
    "permits = permits[permits['permit_type'] == 'NB']"
   ]
  },
  {
   "cell_type": "code",
   "execution_count": 228,
   "id": "04a7f267-eaf3-4758-b837-e44323bd177c",
   "metadata": {},
   "outputs": [
    {
     "data": {
      "text/plain": [
       "(217407, 26)"
      ]
     },
     "execution_count": 228,
     "metadata": {},
     "output_type": "execute_result"
    }
   ],
   "source": [
    "permits.shape"
   ]
  },
  {
   "cell_type": "code",
   "execution_count": 229,
   "id": "88628c33-b73e-4b03-82d0-fcfc77c7d1f7",
   "metadata": {},
   "outputs": [
    {
     "data": {
      "text/html": [
       "<div>\n",
       "<style scoped>\n",
       "    .dataframe tbody tr th:only-of-type {\n",
       "        vertical-align: middle;\n",
       "    }\n",
       "\n",
       "    .dataframe tbody tr th {\n",
       "        vertical-align: top;\n",
       "    }\n",
       "\n",
       "    .dataframe thead th {\n",
       "        text-align: right;\n",
       "    }\n",
       "</style>\n",
       "<table border=\"1\" class=\"dataframe\">\n",
       "  <thead>\n",
       "    <tr style=\"text-align: right;\">\n",
       "      <th></th>\n",
       "      <th>borough</th>\n",
       "      <th>bin_no</th>\n",
       "      <th>house_no</th>\n",
       "      <th>street_name</th>\n",
       "      <th>job_no</th>\n",
       "      <th>job_type</th>\n",
       "      <th>zip_code</th>\n",
       "      <th>bldg_type</th>\n",
       "      <th>residential</th>\n",
       "      <th>work_type</th>\n",
       "      <th>permit_status</th>\n",
       "      <th>filing_status</th>\n",
       "      <th>permit_type</th>\n",
       "      <th>permit_sequence_no</th>\n",
       "      <th>filing_date</th>\n",
       "      <th>issuance_date</th>\n",
       "      <th>expiration_date</th>\n",
       "      <th>job_start_date</th>\n",
       "      <th>owners_business_type</th>\n",
       "      <th>non-profit</th>\n",
       "      <th>dobrundate</th>\n",
       "      <th>permit_si_no</th>\n",
       "      <th>latitude</th>\n",
       "      <th>longitude</th>\n",
       "      <th>council_district</th>\n",
       "      <th>census_tract</th>\n",
       "    </tr>\n",
       "  </thead>\n",
       "  <tbody>\n",
       "    <tr>\n",
       "      <th>333</th>\n",
       "      <td>QUEENS</td>\n",
       "      <td>4624330</td>\n",
       "      <td>30-11</td>\n",
       "      <td>QUEENS BOULEVARD</td>\n",
       "      <td>402284675</td>\n",
       "      <td>NB</td>\n",
       "      <td>11101.0</td>\n",
       "      <td>2.0</td>\n",
       "      <td>YES</td>\n",
       "      <td>NaN</td>\n",
       "      <td>ISSUED</td>\n",
       "      <td>INITIAL</td>\n",
       "      <td>NB</td>\n",
       "      <td>1</td>\n",
       "      <td>06/26/2008</td>\n",
       "      <td>06/30/2008</td>\n",
       "      <td>11/10/2008</td>\n",
       "      <td>06/30/2008</td>\n",
       "      <td>INDIVIDUAL</td>\n",
       "      <td>N</td>\n",
       "      <td>05/11/2022 00:00:00</td>\n",
       "      <td>2065732</td>\n",
       "      <td>40.748806</td>\n",
       "      <td>-73.937263</td>\n",
       "      <td>26.0</td>\n",
       "      <td>171.0</td>\n",
       "    </tr>\n",
       "    <tr>\n",
       "      <th>386</th>\n",
       "      <td>MANHATTAN</td>\n",
       "      <td>1056547</td>\n",
       "      <td>2686</td>\n",
       "      <td>BROADWAY</td>\n",
       "      <td>121207354</td>\n",
       "      <td>NB</td>\n",
       "      <td>10025.0</td>\n",
       "      <td>2.0</td>\n",
       "      <td>YES</td>\n",
       "      <td>NaN</td>\n",
       "      <td>ISSUED</td>\n",
       "      <td>INITIAL</td>\n",
       "      <td>NB</td>\n",
       "      <td>1</td>\n",
       "      <td>05/11/2022</td>\n",
       "      <td>05/11/2022</td>\n",
       "      <td>05/11/2023</td>\n",
       "      <td>05/11/2022</td>\n",
       "      <td>PARTNERSHIP</td>\n",
       "      <td>N</td>\n",
       "      <td>05/12/2022 00:00:00</td>\n",
       "      <td>3906101</td>\n",
       "      <td>40.798817</td>\n",
       "      <td>-73.968740</td>\n",
       "      <td>7.0</td>\n",
       "      <td>191.0</td>\n",
       "    </tr>\n",
       "    <tr>\n",
       "      <th>450</th>\n",
       "      <td>MANHATTAN</td>\n",
       "      <td>1813272</td>\n",
       "      <td>645</td>\n",
       "      <td>EAST 9 STREET</td>\n",
       "      <td>123910526</td>\n",
       "      <td>NB</td>\n",
       "      <td>10009.0</td>\n",
       "      <td>2.0</td>\n",
       "      <td>YES</td>\n",
       "      <td>NaN</td>\n",
       "      <td>RE-ISSUED</td>\n",
       "      <td>INITIAL</td>\n",
       "      <td>NB</td>\n",
       "      <td>1</td>\n",
       "      <td>05/11/2022</td>\n",
       "      <td>05/11/2022</td>\n",
       "      <td>05/11/2023</td>\n",
       "      <td>05/11/2022</td>\n",
       "      <td>CORPORATION</td>\n",
       "      <td>N</td>\n",
       "      <td>05/12/2022 00:00:00</td>\n",
       "      <td>3906173</td>\n",
       "      <td>40.725754</td>\n",
       "      <td>-73.979064</td>\n",
       "      <td>2.0</td>\n",
       "      <td>28.0</td>\n",
       "    </tr>\n",
       "    <tr>\n",
       "      <th>511</th>\n",
       "      <td>MANHATTAN</td>\n",
       "      <td>1812187</td>\n",
       "      <td>140</td>\n",
       "      <td>HILLSIDE AVENUE</td>\n",
       "      <td>121189524</td>\n",
       "      <td>NB</td>\n",
       "      <td>10040.0</td>\n",
       "      <td>2.0</td>\n",
       "      <td>YES</td>\n",
       "      <td>NaN</td>\n",
       "      <td>ISSUED</td>\n",
       "      <td>INITIAL</td>\n",
       "      <td>NB</td>\n",
       "      <td>1</td>\n",
       "      <td>05/11/2022</td>\n",
       "      <td>05/11/2022</td>\n",
       "      <td>05/11/2023</td>\n",
       "      <td>05/11/2022</td>\n",
       "      <td>CORPORATION</td>\n",
       "      <td>N</td>\n",
       "      <td>05/12/2022 00:00:00</td>\n",
       "      <td>3906240</td>\n",
       "      <td>40.860296</td>\n",
       "      <td>-73.926125</td>\n",
       "      <td>10.0</td>\n",
       "      <td>283.0</td>\n",
       "    </tr>\n",
       "    <tr>\n",
       "      <th>516</th>\n",
       "      <td>BRONX</td>\n",
       "      <td>2823631</td>\n",
       "      <td>368</td>\n",
       "      <td>EAST 152 STREET</td>\n",
       "      <td>220586168</td>\n",
       "      <td>NB</td>\n",
       "      <td>10455.0</td>\n",
       "      <td>2.0</td>\n",
       "      <td>YES</td>\n",
       "      <td>NaN</td>\n",
       "      <td>ISSUED</td>\n",
       "      <td>INITIAL</td>\n",
       "      <td>NB</td>\n",
       "      <td>1</td>\n",
       "      <td>05/11/2022</td>\n",
       "      <td>05/11/2022</td>\n",
       "      <td>02/23/2023</td>\n",
       "      <td>05/11/2022</td>\n",
       "      <td>INDIVIDUAL</td>\n",
       "      <td>N</td>\n",
       "      <td>05/12/2022 00:00:00</td>\n",
       "      <td>3906247</td>\n",
       "      <td>40.818565</td>\n",
       "      <td>-73.918118</td>\n",
       "      <td>17.0</td>\n",
       "      <td>67.0</td>\n",
       "    </tr>\n",
       "    <tr>\n",
       "      <th>526</th>\n",
       "      <td>BROOKLYN</td>\n",
       "      <td>3429007</td>\n",
       "      <td>3410</td>\n",
       "      <td>FARRAGUT ROAD</td>\n",
       "      <td>321588215</td>\n",
       "      <td>NB</td>\n",
       "      <td>11210.0</td>\n",
       "      <td>2.0</td>\n",
       "      <td>YES</td>\n",
       "      <td>NaN</td>\n",
       "      <td>ISSUED</td>\n",
       "      <td>INITIAL</td>\n",
       "      <td>NB</td>\n",
       "      <td>1</td>\n",
       "      <td>05/11/2022</td>\n",
       "      <td>05/18/2022</td>\n",
       "      <td>04/27/2023</td>\n",
       "      <td>05/18/2022</td>\n",
       "      <td>INDIVIDUAL</td>\n",
       "      <td>N</td>\n",
       "      <td>05/19/2022 00:00:00</td>\n",
       "      <td>3906243</td>\n",
       "      <td>40.636513</td>\n",
       "      <td>-73.943944</td>\n",
       "      <td>45.0</td>\n",
       "      <td>784.0</td>\n",
       "    </tr>\n",
       "    <tr>\n",
       "      <th>530</th>\n",
       "      <td>BROOKLYN</td>\n",
       "      <td>3121674</td>\n",
       "      <td>1457</td>\n",
       "      <td>FLATBUSH AVENUE</td>\n",
       "      <td>321827163</td>\n",
       "      <td>NB</td>\n",
       "      <td>11210.0</td>\n",
       "      <td>2.0</td>\n",
       "      <td>YES</td>\n",
       "      <td>NaN</td>\n",
       "      <td>ISSUED</td>\n",
       "      <td>INITIAL</td>\n",
       "      <td>NB</td>\n",
       "      <td>1</td>\n",
       "      <td>05/11/2022</td>\n",
       "      <td>05/11/2022</td>\n",
       "      <td>05/11/2023</td>\n",
       "      <td>05/11/2022</td>\n",
       "      <td>CORPORATION</td>\n",
       "      <td>N</td>\n",
       "      <td>05/12/2022 00:00:00</td>\n",
       "      <td>3906259</td>\n",
       "      <td>40.634773</td>\n",
       "      <td>-73.949721</td>\n",
       "      <td>45.0</td>\n",
       "      <td>786.0</td>\n",
       "    </tr>\n",
       "    <tr>\n",
       "      <th>606</th>\n",
       "      <td>BROOKLYN</td>\n",
       "      <td>3117318</td>\n",
       "      <td>134</td>\n",
       "      <td>ERASMUS STREET</td>\n",
       "      <td>321386932</td>\n",
       "      <td>NB</td>\n",
       "      <td>11226.0</td>\n",
       "      <td>2.0</td>\n",
       "      <td>YES</td>\n",
       "      <td>NaN</td>\n",
       "      <td>IN PROCESS</td>\n",
       "      <td>INITIAL</td>\n",
       "      <td>NB</td>\n",
       "      <td>1</td>\n",
       "      <td>05/11/2022</td>\n",
       "      <td>NaN</td>\n",
       "      <td>NaN</td>\n",
       "      <td>05/11/2022</td>\n",
       "      <td>PARTNERSHIP</td>\n",
       "      <td>N</td>\n",
       "      <td>05/12/2022 00:00:00</td>\n",
       "      <td>3906340</td>\n",
       "      <td>40.649718</td>\n",
       "      <td>-73.951018</td>\n",
       "      <td>40.0</td>\n",
       "      <td>824.0</td>\n",
       "    </tr>\n",
       "    <tr>\n",
       "      <th>658</th>\n",
       "      <td>BROOKLYN</td>\n",
       "      <td>3122029</td>\n",
       "      <td>150</td>\n",
       "      <td>TERRACE PLACE</td>\n",
       "      <td>340796151</td>\n",
       "      <td>NB</td>\n",
       "      <td>11218.0</td>\n",
       "      <td>1.0</td>\n",
       "      <td>YES</td>\n",
       "      <td>NaN</td>\n",
       "      <td>ISSUED</td>\n",
       "      <td>INITIAL</td>\n",
       "      <td>NB</td>\n",
       "      <td>1</td>\n",
       "      <td>05/10/2022</td>\n",
       "      <td>05/16/2022</td>\n",
       "      <td>10/26/2022</td>\n",
       "      <td>05/16/2022</td>\n",
       "      <td>INDIVIDUAL</td>\n",
       "      <td>N</td>\n",
       "      <td>05/17/2022 00:00:00</td>\n",
       "      <td>3905996</td>\n",
       "      <td>40.655274</td>\n",
       "      <td>-73.976642</td>\n",
       "      <td>39.0</td>\n",
       "      <td>50202.0</td>\n",
       "    </tr>\n",
       "    <tr>\n",
       "      <th>674</th>\n",
       "      <td>BROOKLYN</td>\n",
       "      <td>3815647</td>\n",
       "      <td>2922</td>\n",
       "      <td>FULTON ST</td>\n",
       "      <td>322039888</td>\n",
       "      <td>NB</td>\n",
       "      <td>11207.0</td>\n",
       "      <td>2.0</td>\n",
       "      <td>YES</td>\n",
       "      <td>NaN</td>\n",
       "      <td>ISSUED</td>\n",
       "      <td>INITIAL</td>\n",
       "      <td>NB</td>\n",
       "      <td>1</td>\n",
       "      <td>05/12/2022</td>\n",
       "      <td>05/12/2022</td>\n",
       "      <td>09/24/2022</td>\n",
       "      <td>05/12/2022</td>\n",
       "      <td>CORPORATION</td>\n",
       "      <td>N</td>\n",
       "      <td>05/13/2022 00:00:00</td>\n",
       "      <td>3906377</td>\n",
       "      <td>40.679221</td>\n",
       "      <td>-73.886894</td>\n",
       "      <td>37.0</td>\n",
       "      <td>1170.0</td>\n",
       "    </tr>\n",
       "    <tr>\n",
       "      <th>729</th>\n",
       "      <td>STATEN ISLAND</td>\n",
       "      <td>5174981</td>\n",
       "      <td>52</td>\n",
       "      <td>BURKE AVENUE</td>\n",
       "      <td>540195386</td>\n",
       "      <td>NB</td>\n",
       "      <td>10314.0</td>\n",
       "      <td>1.0</td>\n",
       "      <td>YES</td>\n",
       "      <td>NaN</td>\n",
       "      <td>ISSUED</td>\n",
       "      <td>INITIAL</td>\n",
       "      <td>NB</td>\n",
       "      <td>1</td>\n",
       "      <td>05/12/2022</td>\n",
       "      <td>05/12/2022</td>\n",
       "      <td>01/10/2023</td>\n",
       "      <td>05/12/2022</td>\n",
       "      <td>PARTNERSHIP</td>\n",
       "      <td>N</td>\n",
       "      <td>05/13/2022 00:00:00</td>\n",
       "      <td>3906434</td>\n",
       "      <td>40.593267</td>\n",
       "      <td>-74.188737</td>\n",
       "      <td>50.0</td>\n",
       "      <td>29102.0</td>\n",
       "    </tr>\n",
       "    <tr>\n",
       "      <th>835</th>\n",
       "      <td>MANHATTAN</td>\n",
       "      <td>1806993</td>\n",
       "      <td>76</td>\n",
       "      <td>WEST 105TH STREET</td>\n",
       "      <td>121208380</td>\n",
       "      <td>NB</td>\n",
       "      <td>10025.0</td>\n",
       "      <td>1.0</td>\n",
       "      <td>YES</td>\n",
       "      <td>NaN</td>\n",
       "      <td>ISSUED</td>\n",
       "      <td>INITIAL</td>\n",
       "      <td>NB</td>\n",
       "      <td>1</td>\n",
       "      <td>11/17/2021</td>\n",
       "      <td>05/12/2022</td>\n",
       "      <td>10/04/2022</td>\n",
       "      <td>05/12/2022</td>\n",
       "      <td>PARTNERSHIP</td>\n",
       "      <td>N</td>\n",
       "      <td>05/13/2022 00:00:00</td>\n",
       "      <td>3881576</td>\n",
       "      <td>40.798286</td>\n",
       "      <td>-73.962716</td>\n",
       "      <td>7.0</td>\n",
       "      <td>189.0</td>\n",
       "    </tr>\n",
       "    <tr>\n",
       "      <th>841</th>\n",
       "      <td>BROOKLYN</td>\n",
       "      <td>3256553</td>\n",
       "      <td>842</td>\n",
       "      <td>LIBERTY AVE</td>\n",
       "      <td>321327863</td>\n",
       "      <td>NB</td>\n",
       "      <td>11208.0</td>\n",
       "      <td>2.0</td>\n",
       "      <td>YES</td>\n",
       "      <td>NaN</td>\n",
       "      <td>ISSUED</td>\n",
       "      <td>INITIAL</td>\n",
       "      <td>NB</td>\n",
       "      <td>1</td>\n",
       "      <td>04/14/2022</td>\n",
       "      <td>06/03/2022</td>\n",
       "      <td>06/03/2023</td>\n",
       "      <td>06/03/2022</td>\n",
       "      <td>INDIVIDUAL</td>\n",
       "      <td>N</td>\n",
       "      <td>06/04/2022 00:00:00</td>\n",
       "      <td>3903053</td>\n",
       "      <td>40.677058</td>\n",
       "      <td>-73.878443</td>\n",
       "      <td>37.0</td>\n",
       "      <td>1192.0</td>\n",
       "    </tr>\n",
       "    <tr>\n",
       "      <th>850</th>\n",
       "      <td>BROOKLYN</td>\n",
       "      <td>3428945</td>\n",
       "      <td>249</td>\n",
       "      <td>EVERGREEN AVENUE</td>\n",
       "      <td>321594501</td>\n",
       "      <td>NB</td>\n",
       "      <td>11221.0</td>\n",
       "      <td>2.0</td>\n",
       "      <td>YES</td>\n",
       "      <td>NaN</td>\n",
       "      <td>ISSUED</td>\n",
       "      <td>INITIAL</td>\n",
       "      <td>NB</td>\n",
       "      <td>1</td>\n",
       "      <td>05/11/2022</td>\n",
       "      <td>05/12/2022</td>\n",
       "      <td>09/22/2022</td>\n",
       "      <td>05/12/2022</td>\n",
       "      <td>CORPORATION</td>\n",
       "      <td>Y</td>\n",
       "      <td>05/13/2022 00:00:00</td>\n",
       "      <td>3906241</td>\n",
       "      <td>40.695955</td>\n",
       "      <td>-73.926905</td>\n",
       "      <td>34.0</td>\n",
       "      <td>421.0</td>\n",
       "    </tr>\n",
       "    <tr>\n",
       "      <th>1041</th>\n",
       "      <td>MANHATTAN</td>\n",
       "      <td>1024945</td>\n",
       "      <td>312</td>\n",
       "      <td>WEST 43RD STREET</td>\n",
       "      <td>121207309</td>\n",
       "      <td>NB</td>\n",
       "      <td>10036.0</td>\n",
       "      <td>2.0</td>\n",
       "      <td>YES</td>\n",
       "      <td>NaN</td>\n",
       "      <td>IN PROCESS</td>\n",
       "      <td>INITIAL</td>\n",
       "      <td>NB</td>\n",
       "      <td>1</td>\n",
       "      <td>05/14/2022</td>\n",
       "      <td>NaN</td>\n",
       "      <td>05/14/2023</td>\n",
       "      <td>05/14/2022</td>\n",
       "      <td>CORPORATION</td>\n",
       "      <td>N</td>\n",
       "      <td>05/15/2022 00:00:00</td>\n",
       "      <td>3906701</td>\n",
       "      <td>40.758182</td>\n",
       "      <td>-73.989973</td>\n",
       "      <td>3.0</td>\n",
       "      <td>121.0</td>\n",
       "    </tr>\n",
       "    <tr>\n",
       "      <th>1253</th>\n",
       "      <td>QUEENS</td>\n",
       "      <td>4285904</td>\n",
       "      <td>145-90</td>\n",
       "      <td>183RD STREET</td>\n",
       "      <td>440598211</td>\n",
       "      <td>NB</td>\n",
       "      <td>11413.0</td>\n",
       "      <td>1.0</td>\n",
       "      <td>YES</td>\n",
       "      <td>NaN</td>\n",
       "      <td>ISSUED</td>\n",
       "      <td>INITIAL</td>\n",
       "      <td>NB</td>\n",
       "      <td>1</td>\n",
       "      <td>04/01/2022</td>\n",
       "      <td>05/16/2022</td>\n",
       "      <td>01/18/2023</td>\n",
       "      <td>05/16/2022</td>\n",
       "      <td>INDIVIDUAL</td>\n",
       "      <td>N</td>\n",
       "      <td>05/17/2022 00:00:00</td>\n",
       "      <td>3901461</td>\n",
       "      <td>40.662951</td>\n",
       "      <td>-73.763061</td>\n",
       "      <td>31.0</td>\n",
       "      <td>320.0</td>\n",
       "    </tr>\n",
       "    <tr>\n",
       "      <th>1526</th>\n",
       "      <td>BROOKLYN</td>\n",
       "      <td>3429391</td>\n",
       "      <td>2054</td>\n",
       "      <td>57ST</td>\n",
       "      <td>321368694</td>\n",
       "      <td>NB</td>\n",
       "      <td>11204.0</td>\n",
       "      <td>1.0</td>\n",
       "      <td>YES</td>\n",
       "      <td>NaN</td>\n",
       "      <td>ISSUED</td>\n",
       "      <td>INITIAL</td>\n",
       "      <td>NB</td>\n",
       "      <td>1</td>\n",
       "      <td>01/06/2022</td>\n",
       "      <td>01/06/2022</td>\n",
       "      <td>12/13/2022</td>\n",
       "      <td>01/06/2022</td>\n",
       "      <td>INDIVIDUAL</td>\n",
       "      <td>N</td>\n",
       "      <td>05/18/2022 00:00:00</td>\n",
       "      <td>3888812</td>\n",
       "      <td>40.620366</td>\n",
       "      <td>-73.979943</td>\n",
       "      <td>44.0</td>\n",
       "      <td>468.0</td>\n",
       "    </tr>\n",
       "    <tr>\n",
       "      <th>1610</th>\n",
       "      <td>BROOKLYN</td>\n",
       "      <td>3071059</td>\n",
       "      <td>27</td>\n",
       "      <td>MONTROSE AVENUE</td>\n",
       "      <td>321595458</td>\n",
       "      <td>NB</td>\n",
       "      <td>11206.0</td>\n",
       "      <td>2.0</td>\n",
       "      <td>YES</td>\n",
       "      <td>NaN</td>\n",
       "      <td>ISSUED</td>\n",
       "      <td>INITIAL</td>\n",
       "      <td>NB</td>\n",
       "      <td>1</td>\n",
       "      <td>05/18/2022</td>\n",
       "      <td>05/18/2022</td>\n",
       "      <td>09/23/2022</td>\n",
       "      <td>05/18/2022</td>\n",
       "      <td>CORPORATION</td>\n",
       "      <td>N</td>\n",
       "      <td>05/19/2022 00:00:00</td>\n",
       "      <td>3907238</td>\n",
       "      <td>40.706779</td>\n",
       "      <td>-73.949090</td>\n",
       "      <td>34.0</td>\n",
       "      <td>511.0</td>\n",
       "    </tr>\n",
       "    <tr>\n",
       "      <th>1732</th>\n",
       "      <td>QUEENS</td>\n",
       "      <td>4623159</td>\n",
       "      <td>31-88</td>\n",
       "      <td>45 STREET</td>\n",
       "      <td>421946942</td>\n",
       "      <td>NB</td>\n",
       "      <td>11103.0</td>\n",
       "      <td>2.0</td>\n",
       "      <td>YES</td>\n",
       "      <td>NaN</td>\n",
       "      <td>IN PROCESS</td>\n",
       "      <td>INITIAL</td>\n",
       "      <td>NB</td>\n",
       "      <td>1</td>\n",
       "      <td>05/18/2022</td>\n",
       "      <td>NaN</td>\n",
       "      <td>11/02/2022</td>\n",
       "      <td>05/27/2022</td>\n",
       "      <td>INDIVIDUAL</td>\n",
       "      <td>N</td>\n",
       "      <td>05/28/2022 00:00:00</td>\n",
       "      <td>3907367</td>\n",
       "      <td>40.757503</td>\n",
       "      <td>-73.914688</td>\n",
       "      <td>26.0</td>\n",
       "      <td>153.0</td>\n",
       "    </tr>\n",
       "    <tr>\n",
       "      <th>1733</th>\n",
       "      <td>QUEENS</td>\n",
       "      <td>4001509</td>\n",
       "      <td>45-29</td>\n",
       "      <td>47 ST.</td>\n",
       "      <td>421921460</td>\n",
       "      <td>NB</td>\n",
       "      <td>11377.0</td>\n",
       "      <td>2.0</td>\n",
       "      <td>YES</td>\n",
       "      <td>NaN</td>\n",
       "      <td>ISSUED</td>\n",
       "      <td>INITIAL</td>\n",
       "      <td>NB</td>\n",
       "      <td>1</td>\n",
       "      <td>05/18/2022</td>\n",
       "      <td>06/01/2022</td>\n",
       "      <td>09/07/2022</td>\n",
       "      <td>06/01/2022</td>\n",
       "      <td>CORPORATION</td>\n",
       "      <td>N</td>\n",
       "      <td>06/02/2022 00:00:00</td>\n",
       "      <td>3907374</td>\n",
       "      <td>40.742275</td>\n",
       "      <td>-73.917908</td>\n",
       "      <td>26.0</td>\n",
       "      <td>235.0</td>\n",
       "    </tr>\n",
       "  </tbody>\n",
       "</table>\n",
       "</div>"
      ],
      "text/plain": [
       "            borough   bin_no house_no        street_name     job_no job_type  \\\n",
       "333          QUEENS  4624330    30-11   QUEENS BOULEVARD  402284675       NB   \n",
       "386       MANHATTAN  1056547     2686           BROADWAY  121207354       NB   \n",
       "450       MANHATTAN  1813272      645      EAST 9 STREET  123910526       NB   \n",
       "511       MANHATTAN  1812187      140    HILLSIDE AVENUE  121189524       NB   \n",
       "516           BRONX  2823631      368    EAST 152 STREET  220586168       NB   \n",
       "526        BROOKLYN  3429007     3410      FARRAGUT ROAD  321588215       NB   \n",
       "530        BROOKLYN  3121674     1457    FLATBUSH AVENUE  321827163       NB   \n",
       "606        BROOKLYN  3117318      134     ERASMUS STREET  321386932       NB   \n",
       "658        BROOKLYN  3122029      150      TERRACE PLACE  340796151       NB   \n",
       "674        BROOKLYN  3815647     2922          FULTON ST  322039888       NB   \n",
       "729   STATEN ISLAND  5174981       52       BURKE AVENUE  540195386       NB   \n",
       "835       MANHATTAN  1806993       76  WEST 105TH STREET  121208380       NB   \n",
       "841        BROOKLYN  3256553      842        LIBERTY AVE  321327863       NB   \n",
       "850        BROOKLYN  3428945      249   EVERGREEN AVENUE  321594501       NB   \n",
       "1041      MANHATTAN  1024945      312   WEST 43RD STREET  121207309       NB   \n",
       "1253         QUEENS  4285904   145-90       183RD STREET  440598211       NB   \n",
       "1526       BROOKLYN  3429391     2054               57ST  321368694       NB   \n",
       "1610       BROOKLYN  3071059       27    MONTROSE AVENUE  321595458       NB   \n",
       "1732         QUEENS  4623159    31-88          45 STREET  421946942       NB   \n",
       "1733         QUEENS  4001509    45-29             47 ST.  421921460       NB   \n",
       "\n",
       "      zip_code  bldg_type residential work_type permit_status filing_status  \\\n",
       "333    11101.0        2.0         YES       NaN        ISSUED       INITIAL   \n",
       "386    10025.0        2.0         YES       NaN        ISSUED       INITIAL   \n",
       "450    10009.0        2.0         YES       NaN     RE-ISSUED       INITIAL   \n",
       "511    10040.0        2.0         YES       NaN        ISSUED       INITIAL   \n",
       "516    10455.0        2.0         YES       NaN        ISSUED       INITIAL   \n",
       "526    11210.0        2.0         YES       NaN        ISSUED       INITIAL   \n",
       "530    11210.0        2.0         YES       NaN        ISSUED       INITIAL   \n",
       "606    11226.0        2.0         YES       NaN    IN PROCESS       INITIAL   \n",
       "658    11218.0        1.0         YES       NaN        ISSUED       INITIAL   \n",
       "674    11207.0        2.0         YES       NaN        ISSUED       INITIAL   \n",
       "729    10314.0        1.0         YES       NaN        ISSUED       INITIAL   \n",
       "835    10025.0        1.0         YES       NaN        ISSUED       INITIAL   \n",
       "841    11208.0        2.0         YES       NaN        ISSUED       INITIAL   \n",
       "850    11221.0        2.0         YES       NaN        ISSUED       INITIAL   \n",
       "1041   10036.0        2.0         YES       NaN    IN PROCESS       INITIAL   \n",
       "1253   11413.0        1.0         YES       NaN        ISSUED       INITIAL   \n",
       "1526   11204.0        1.0         YES       NaN        ISSUED       INITIAL   \n",
       "1610   11206.0        2.0         YES       NaN        ISSUED       INITIAL   \n",
       "1732   11103.0        2.0         YES       NaN    IN PROCESS       INITIAL   \n",
       "1733   11377.0        2.0         YES       NaN        ISSUED       INITIAL   \n",
       "\n",
       "     permit_type  permit_sequence_no filing_date issuance_date  \\\n",
       "333           NB                   1  06/26/2008    06/30/2008   \n",
       "386           NB                   1  05/11/2022    05/11/2022   \n",
       "450           NB                   1  05/11/2022    05/11/2022   \n",
       "511           NB                   1  05/11/2022    05/11/2022   \n",
       "516           NB                   1  05/11/2022    05/11/2022   \n",
       "526           NB                   1  05/11/2022    05/18/2022   \n",
       "530           NB                   1  05/11/2022    05/11/2022   \n",
       "606           NB                   1  05/11/2022           NaN   \n",
       "658           NB                   1  05/10/2022    05/16/2022   \n",
       "674           NB                   1  05/12/2022    05/12/2022   \n",
       "729           NB                   1  05/12/2022    05/12/2022   \n",
       "835           NB                   1  11/17/2021    05/12/2022   \n",
       "841           NB                   1  04/14/2022    06/03/2022   \n",
       "850           NB                   1  05/11/2022    05/12/2022   \n",
       "1041          NB                   1  05/14/2022           NaN   \n",
       "1253          NB                   1  04/01/2022    05/16/2022   \n",
       "1526          NB                   1  01/06/2022    01/06/2022   \n",
       "1610          NB                   1  05/18/2022    05/18/2022   \n",
       "1732          NB                   1  05/18/2022           NaN   \n",
       "1733          NB                   1  05/18/2022    06/01/2022   \n",
       "\n",
       "     expiration_date job_start_date owners_business_type non-profit  \\\n",
       "333       11/10/2008     06/30/2008           INDIVIDUAL          N   \n",
       "386       05/11/2023     05/11/2022          PARTNERSHIP          N   \n",
       "450       05/11/2023     05/11/2022          CORPORATION          N   \n",
       "511       05/11/2023     05/11/2022          CORPORATION          N   \n",
       "516       02/23/2023     05/11/2022           INDIVIDUAL          N   \n",
       "526       04/27/2023     05/18/2022           INDIVIDUAL          N   \n",
       "530       05/11/2023     05/11/2022          CORPORATION          N   \n",
       "606              NaN     05/11/2022          PARTNERSHIP          N   \n",
       "658       10/26/2022     05/16/2022           INDIVIDUAL          N   \n",
       "674       09/24/2022     05/12/2022          CORPORATION          N   \n",
       "729       01/10/2023     05/12/2022          PARTNERSHIP          N   \n",
       "835       10/04/2022     05/12/2022          PARTNERSHIP          N   \n",
       "841       06/03/2023     06/03/2022           INDIVIDUAL          N   \n",
       "850       09/22/2022     05/12/2022          CORPORATION          Y   \n",
       "1041      05/14/2023     05/14/2022          CORPORATION          N   \n",
       "1253      01/18/2023     05/16/2022           INDIVIDUAL          N   \n",
       "1526      12/13/2022     01/06/2022           INDIVIDUAL          N   \n",
       "1610      09/23/2022     05/18/2022          CORPORATION          N   \n",
       "1732      11/02/2022     05/27/2022           INDIVIDUAL          N   \n",
       "1733      09/07/2022     06/01/2022          CORPORATION          N   \n",
       "\n",
       "               dobrundate  permit_si_no   latitude  longitude  \\\n",
       "333   05/11/2022 00:00:00       2065732  40.748806 -73.937263   \n",
       "386   05/12/2022 00:00:00       3906101  40.798817 -73.968740   \n",
       "450   05/12/2022 00:00:00       3906173  40.725754 -73.979064   \n",
       "511   05/12/2022 00:00:00       3906240  40.860296 -73.926125   \n",
       "516   05/12/2022 00:00:00       3906247  40.818565 -73.918118   \n",
       "526   05/19/2022 00:00:00       3906243  40.636513 -73.943944   \n",
       "530   05/12/2022 00:00:00       3906259  40.634773 -73.949721   \n",
       "606   05/12/2022 00:00:00       3906340  40.649718 -73.951018   \n",
       "658   05/17/2022 00:00:00       3905996  40.655274 -73.976642   \n",
       "674   05/13/2022 00:00:00       3906377  40.679221 -73.886894   \n",
       "729   05/13/2022 00:00:00       3906434  40.593267 -74.188737   \n",
       "835   05/13/2022 00:00:00       3881576  40.798286 -73.962716   \n",
       "841   06/04/2022 00:00:00       3903053  40.677058 -73.878443   \n",
       "850   05/13/2022 00:00:00       3906241  40.695955 -73.926905   \n",
       "1041  05/15/2022 00:00:00       3906701  40.758182 -73.989973   \n",
       "1253  05/17/2022 00:00:00       3901461  40.662951 -73.763061   \n",
       "1526  05/18/2022 00:00:00       3888812  40.620366 -73.979943   \n",
       "1610  05/19/2022 00:00:00       3907238  40.706779 -73.949090   \n",
       "1732  05/28/2022 00:00:00       3907367  40.757503 -73.914688   \n",
       "1733  06/02/2022 00:00:00       3907374  40.742275 -73.917908   \n",
       "\n",
       "      council_district  census_tract  \n",
       "333               26.0         171.0  \n",
       "386                7.0         191.0  \n",
       "450                2.0          28.0  \n",
       "511               10.0         283.0  \n",
       "516               17.0          67.0  \n",
       "526               45.0         784.0  \n",
       "530               45.0         786.0  \n",
       "606               40.0         824.0  \n",
       "658               39.0       50202.0  \n",
       "674               37.0        1170.0  \n",
       "729               50.0       29102.0  \n",
       "835                7.0         189.0  \n",
       "841               37.0        1192.0  \n",
       "850               34.0         421.0  \n",
       "1041               3.0         121.0  \n",
       "1253              31.0         320.0  \n",
       "1526              44.0         468.0  \n",
       "1610              34.0         511.0  \n",
       "1732              26.0         153.0  \n",
       "1733              26.0         235.0  "
      ]
     },
     "execution_count": 229,
     "metadata": {},
     "output_type": "execute_result"
    }
   ],
   "source": [
    "permits[(permits['permit_type'] == 'NB') & (permits['filing_status'] != 'RENEWAL')].head(20)"
   ]
  },
  {
   "cell_type": "markdown",
   "id": "f4e071a4-3ea0-4e08-92cf-24b490ef7793",
   "metadata": {},
   "source": [
    "# `filing_status`\n",
    "I want to look at initial filings."
   ]
  },
  {
   "cell_type": "code",
   "execution_count": 230,
   "id": "f6aa5d09-aa41-427f-9778-aed3a0bb7285",
   "metadata": {},
   "outputs": [
    {
     "data": {
      "text/plain": [
       "RENEWAL    135471\n",
       "INITIAL     81936\n",
       "Name: filing_status, dtype: int64"
      ]
     },
     "execution_count": 230,
     "metadata": {},
     "output_type": "execute_result"
    }
   ],
   "source": [
    "permits['filing_status'].value_counts(dropna = False)"
   ]
  },
  {
   "cell_type": "code",
   "execution_count": 231,
   "id": "db52f976-8fb6-4790-bf4f-32790bde5062",
   "metadata": {},
   "outputs": [
    {
     "data": {
      "text/plain": [
       "(217407, 26)"
      ]
     },
     "execution_count": 231,
     "metadata": {},
     "output_type": "execute_result"
    }
   ],
   "source": [
    "permits.shape"
   ]
  },
  {
   "cell_type": "code",
   "execution_count": 232,
   "id": "0563f573-8c88-403f-9c1b-debab86a919d",
   "metadata": {},
   "outputs": [],
   "source": [
    "permits = permits[permits['filing_status'] == 'INITIAL']"
   ]
  },
  {
   "cell_type": "code",
   "execution_count": 233,
   "id": "2091fd75-8193-40ce-8377-8da2eddeb8a6",
   "metadata": {},
   "outputs": [
    {
     "data": {
      "text/plain": [
       "(81936, 26)"
      ]
     },
     "execution_count": 233,
     "metadata": {},
     "output_type": "execute_result"
    }
   ],
   "source": [
    "permits.shape"
   ]
  },
  {
   "cell_type": "code",
   "execution_count": 234,
   "id": "777426a9-874f-4091-97c3-5209e62f7af7",
   "metadata": {},
   "outputs": [
    {
     "data": {
      "text/plain": [
       "borough                     0\n",
       "bin_no                      0\n",
       "house_no                    0\n",
       "street_name                 0\n",
       "job_no                      0\n",
       "job_type                    0\n",
       "zip_code                   49\n",
       "bldg_type                   2\n",
       "residential                 0\n",
       "work_type               81936\n",
       "permit_status             439\n",
       "filing_status               0\n",
       "permit_type                 0\n",
       "permit_sequence_no          0\n",
       "filing_date                 0\n",
       "issuance_date              66\n",
       "expiration_date            53\n",
       "job_start_date              0\n",
       "owners_business_type      127\n",
       "non-profit                  4\n",
       "dobrundate                  0\n",
       "permit_si_no                0\n",
       "latitude                  328\n",
       "longitude                 328\n",
       "council_district          328\n",
       "census_tract              328\n",
       "dtype: int64"
      ]
     },
     "execution_count": 234,
     "metadata": {},
     "output_type": "execute_result"
    }
   ],
   "source": [
    "permits.isnull().sum()"
   ]
  },
  {
   "cell_type": "markdown",
   "id": "14111ca5-20f0-48a7-88f1-123360372f0f",
   "metadata": {},
   "source": [
    "# Time\n",
    "It appears the permits are issued really quickly. At least often. So that may not wind up being helpful. Might depend on location though."
   ]
  },
  {
   "cell_type": "markdown",
   "id": "c6702c2c-0dd5-4253-82c4-3536062edc85",
   "metadata": {},
   "source": [
    "# `bdlg_type`\n",
    "I wanted to double check that this work on job_type and permit_type lines up with the bldg_type column, but when I examined it (using the backup to preserve the originals), the values were pretty nonsensical. Though I reached out to NYC Data to see if I could get an explanation, I decided to drop it at least until I hear back."
   ]
  },
  {
   "cell_type": "code",
   "execution_count": 235,
   "id": "ef4538a6-00b5-4a21-b024-b524f67aa6ed",
   "metadata": {},
   "outputs": [
    {
     "data": {
      "text/plain": [
       "2.0    2908242\n",
       "1.0     943559\n",
       "NaN      57389\n",
       "Name: Bldg Type, dtype: int64"
      ]
     },
     "execution_count": 235,
     "metadata": {},
     "output_type": "execute_result"
    }
   ],
   "source": [
    "permits_backup['Bldg Type'].value_counts(dropna = False)"
   ]
  },
  {
   "cell_type": "markdown",
   "id": "3a6acf30-ced5-481a-b54a-7db13f58bd29",
   "metadata": {},
   "source": [
    "It's odd that these are all 1, 2, or NaN because [the site](https://data.cityofnewyork.us/Housing-Development/DOB-Permit-Issuance/ipu4-2q9a) makes it seem like those only apply to number of families. But that doesn't line up with what I'm seeing here.\n",
    "\n",
    "The DOB has a [list of building classifications](https://www1.nyc.gov/assets/finance/jump/hlpbldgcode.html), but it's much broader than this."
   ]
  },
  {
   "cell_type": "code",
   "execution_count": 236,
   "id": "46ae9a3b-0c8f-40db-8425-17a45f3e8262",
   "metadata": {},
   "outputs": [
    {
     "data": {
      "text/plain": [
       "1.0    69135\n",
       "2.0    12799\n",
       "NaN        2\n",
       "Name: bldg_type, dtype: int64"
      ]
     },
     "execution_count": 236,
     "metadata": {},
     "output_type": "execute_result"
    }
   ],
   "source": [
    "permits['bldg_type'].value_counts(dropna = False)"
   ]
  },
  {
   "cell_type": "code",
   "execution_count": 237,
   "id": "8e11972a-0fa7-478f-88fa-9aa1d58d800d",
   "metadata": {},
   "outputs": [],
   "source": [
    "permits.drop(columns = 'bldg_type', inplace = True)"
   ]
  },
  {
   "cell_type": "markdown",
   "id": "3427ee18-5d5c-41b4-8119-2edcb5d052f6",
   "metadata": {},
   "source": [
    "[This DOB webpage](https://www1.nyc.gov/site/buildings/property-or-business-owner/job-types-codes.page) provides permit type codes. EQ is chutes, cocoons, and construction hoists. PL is plumbing. SP is sprinkler. SD is standpipe. I don't need this data, so I'm going to drop this column."
   ]
  },
  {
   "cell_type": "markdown",
   "id": "3e40e416-eb8b-47c6-824f-2159f762327d",
   "metadata": {},
   "source": [
    "# 'work_type'\n",
    "This proved not to have any information that's of use."
   ]
  },
  {
   "cell_type": "code",
   "execution_count": 238,
   "id": "794ad413-29e8-4171-80a0-829184029935",
   "metadata": {},
   "outputs": [
    {
     "data": {
      "text/plain": [
       "NaN    81936\n",
       "Name: work_type, dtype: int64"
      ]
     },
     "execution_count": 238,
     "metadata": {},
     "output_type": "execute_result"
    }
   ],
   "source": [
    "permits['work_type'].value_counts(dropna = False)"
   ]
  },
  {
   "cell_type": "code",
   "execution_count": 239,
   "id": "9ebe56fb-c7c6-4735-ab23-3443529b9a5c",
   "metadata": {},
   "outputs": [],
   "source": [
    "permits.drop(columns = 'work_type', inplace = True)"
   ]
  },
  {
   "cell_type": "markdown",
   "id": "2451779c-b08a-4887-beb5-8332eed4cf91",
   "metadata": {},
   "source": [
    "At this stage, I'm not certain if I'll use the `permit_status` but I'd like to be able to, so I'm going to drop the rows that have `NaN` for that column. They represent about .5% of my remaining data."
   ]
  },
  {
   "cell_type": "code",
   "execution_count": 240,
   "id": "57754b90-5080-43ca-a325-5dbb82be1fea",
   "metadata": {},
   "outputs": [
    {
     "data": {
      "text/plain": [
       "ISSUED        79116\n",
       "RE-ISSUED      2312\n",
       "NaN             439\n",
       "IN PROCESS       68\n",
       "REVOKED           1\n",
       "Name: permit_status, dtype: int64"
      ]
     },
     "execution_count": 240,
     "metadata": {},
     "output_type": "execute_result"
    }
   ],
   "source": [
    "permits['permit_status'].value_counts(dropna = False)"
   ]
  },
  {
   "cell_type": "code",
   "execution_count": 241,
   "id": "1b7ff119-b84c-4aa4-a855-687b79495268",
   "metadata": {},
   "outputs": [
    {
     "data": {
      "text/plain": [
       "0.00535784026557313"
      ]
     },
     "execution_count": 241,
     "metadata": {},
     "output_type": "execute_result"
    }
   ],
   "source": [
    "permits['permit_status'].value_counts(dropna = False)[2]/permits.shape[0]"
   ]
  },
  {
   "cell_type": "code",
   "execution_count": 242,
   "id": "d57eda40-04c5-4ce3-ab68-17bda323864f",
   "metadata": {},
   "outputs": [],
   "source": [
    "permits = permits[permits['permit_status'].notnull()]"
   ]
  },
  {
   "cell_type": "markdown",
   "id": "1e669626-3498-4f80-b903-6cf5736b2a9d",
   "metadata": {},
   "source": [
    "The `issuance_date` looks like it's got some formatting problems, but looking at the HUGE variety of dates, going back at least to 1990, this is something I'll want to explore in EDA. I'm dropping the `NaN`s in order to keep this column. It's going to eliminate about .3% of the current data."
   ]
  },
  {
   "cell_type": "code",
   "execution_count": 243,
   "id": "00a40981-a0a6-4223-8550-a04320820eb1",
   "metadata": {},
   "outputs": [
    {
     "data": {
      "text/plain": [
       "(81497, 24)"
      ]
     },
     "execution_count": 243,
     "metadata": {},
     "output_type": "execute_result"
    }
   ],
   "source": [
    "permits.shape"
   ]
  },
  {
   "cell_type": "code",
   "execution_count": 244,
   "id": "b5f89d09-ffcf-4263-b246-62c055c71136",
   "metadata": {},
   "outputs": [
    {
     "data": {
      "text/plain": [
       "05/24/2004     120\n",
       "05/28/1997      86\n",
       "04/04/2007      79\n",
       "11/12/2003      78\n",
       "04/07/1995      77\n",
       "              ... \n",
       "2017-03-07       1\n",
       "11/17/2020       1\n",
       "2011-05-24       1\n",
       "1997-01-28       1\n",
       "07/17/2009       1\n",
       "Name: issuance_date, Length: 9230, dtype: int64"
      ]
     },
     "execution_count": 244,
     "metadata": {},
     "output_type": "execute_result"
    }
   ],
   "source": [
    "permits['issuance_date'].value_counts(dropna = False)"
   ]
  },
  {
   "cell_type": "code",
   "execution_count": 245,
   "id": "32f28dee-69d6-4aed-a3db-955d69ac7373",
   "metadata": {},
   "outputs": [
    {
     "data": {
      "text/plain": [
       "0.0014724468385339338"
      ]
     },
     "execution_count": 245,
     "metadata": {},
     "output_type": "execute_result"
    }
   ],
   "source": [
    "permits['issuance_date'].value_counts(dropna = False)[0]/permits.shape[0]"
   ]
  },
  {
   "cell_type": "code",
   "execution_count": 246,
   "id": "5d220655-4614-4c27-9ff2-6b1643c3ccb1",
   "metadata": {},
   "outputs": [],
   "source": [
    "permits = permits[permits['issuance_date'].notnull()]"
   ]
  },
  {
   "cell_type": "code",
   "execution_count": 247,
   "id": "0ceb342d-f195-4779-bebb-4e98fb5e19b8",
   "metadata": {},
   "outputs": [
    {
     "data": {
      "text/plain": [
       "(81431, 24)"
      ]
     },
     "execution_count": 247,
     "metadata": {},
     "output_type": "execute_result"
    }
   ],
   "source": [
    "permits.shape"
   ]
  },
  {
   "cell_type": "markdown",
   "id": "f0b9bff7-86b3-4e96-a929-508040eebe03",
   "metadata": {},
   "source": [
    "The missing `owners_business_type` represents about .01% and I'll drop them because looking at that column might present some interesting findings."
   ]
  },
  {
   "cell_type": "code",
   "execution_count": 248,
   "id": "fa46206c-14d8-41d5-b718-e83207259777",
   "metadata": {},
   "outputs": [
    {
     "data": {
      "text/plain": [
       "CORPORATION           36885\n",
       "INDIVIDUAL            27622\n",
       "PARTNERSHIP            9276\n",
       "OTHER                  6864\n",
       "HPD                     265\n",
       "NYC AGENCY              180\n",
       "NaN                     126\n",
       "CONDO/CO-OP             125\n",
       "OTHER GOV'T AGENCY       37\n",
       "NYCHA/HHC                22\n",
       "NYCHA                    20\n",
       "NY STATE                  4\n",
       "DOE                       2\n",
       "HHC                       2\n",
       "DCAS                      1\n",
       "Name: owners_business_type, dtype: int64"
      ]
     },
     "execution_count": 248,
     "metadata": {},
     "output_type": "execute_result"
    }
   ],
   "source": [
    "permits['owners_business_type'].value_counts(dropna = False)"
   ]
  },
  {
   "cell_type": "code",
   "execution_count": 249,
   "id": "9dfb62b9-928a-452d-b2be-7044611c742f",
   "metadata": {},
   "outputs": [
    {
     "data": {
      "text/plain": [
       "0.0015350419373457284"
      ]
     },
     "execution_count": 249,
     "metadata": {},
     "output_type": "execute_result"
    }
   ],
   "source": [
    "permits['owners_business_type'].value_counts(dropna = False)[7]/permits.shape[0]"
   ]
  },
  {
   "cell_type": "code",
   "execution_count": 250,
   "id": "7c8fc551-b600-4dd6-a829-9102a07f0b2f",
   "metadata": {},
   "outputs": [],
   "source": [
    "permits = permits[permits['owners_business_type'].notnull()]"
   ]
  },
  {
   "cell_type": "code",
   "execution_count": 251,
   "id": "6184f098-4a3f-421f-9536-037fd22e1a3b",
   "metadata": {},
   "outputs": [
    {
     "data": {
      "text/plain": [
       "(81305, 24)"
      ]
     },
     "execution_count": 251,
     "metadata": {},
     "output_type": "execute_result"
    }
   ],
   "source": [
    "permits.shape"
   ]
  },
  {
   "cell_type": "code",
   "execution_count": 252,
   "id": "bc90f25c-2481-4062-83ab-d6c3e67bc0f7",
   "metadata": {},
   "outputs": [
    {
     "data": {
      "text/plain": [
       "borough                   0\n",
       "bin_no                    0\n",
       "house_no                  0\n",
       "street_name               0\n",
       "job_no                    0\n",
       "job_type                  0\n",
       "zip_code                 49\n",
       "residential               0\n",
       "permit_status             0\n",
       "filing_status             0\n",
       "permit_type               0\n",
       "permit_sequence_no        0\n",
       "filing_date               0\n",
       "issuance_date             0\n",
       "expiration_date           0\n",
       "job_start_date            0\n",
       "owners_business_type      0\n",
       "non-profit                0\n",
       "dobrundate                0\n",
       "permit_si_no              0\n",
       "latitude                325\n",
       "longitude               325\n",
       "council_district        325\n",
       "census_tract            325\n",
       "dtype: int64"
      ]
     },
     "execution_count": 252,
     "metadata": {},
     "output_type": "execute_result"
    }
   ],
   "source": [
    "permits.isnull().sum()"
   ]
  },
  {
   "cell_type": "markdown",
   "id": "5061dfc5-4781-4636-b6c4-3e0426041612",
   "metadata": {},
   "source": [
    "I found [this guide in stackoverflow](https://stackoverflow.com/a/69856510) to converting addresses to latitude/longitude. The answer below it is interesting too.\n",
    "\n",
    "I used that answer in combination with [this article](https://towardsdatascience.com/geocode-with-python-161ec1e62b89) to write the code below to turn addresses into latitude and longitude data."
   ]
  },
  {
   "cell_type": "code",
   "execution_count": 186,
   "id": "9124d33a-914f-4243-afed-f28c7a91213a",
   "metadata": {},
   "outputs": [],
   "source": [
    "no_position = permits[permits['latitude'].isnull()]"
   ]
  },
  {
   "cell_type": "code",
   "execution_count": 187,
   "id": "4e484718-ded0-49b1-a2e6-2546cbdc66e8",
   "metadata": {},
   "outputs": [
    {
     "data": {
      "text/html": [
       "<div>\n",
       "<style scoped>\n",
       "    .dataframe tbody tr th:only-of-type {\n",
       "        vertical-align: middle;\n",
       "    }\n",
       "\n",
       "    .dataframe tbody tr th {\n",
       "        vertical-align: top;\n",
       "    }\n",
       "\n",
       "    .dataframe thead th {\n",
       "        text-align: right;\n",
       "    }\n",
       "</style>\n",
       "<table border=\"1\" class=\"dataframe\">\n",
       "  <thead>\n",
       "    <tr style=\"text-align: right;\">\n",
       "      <th></th>\n",
       "      <th>borough</th>\n",
       "      <th>bin_no</th>\n",
       "      <th>house_no</th>\n",
       "      <th>street_name</th>\n",
       "      <th>job_no</th>\n",
       "      <th>job_type</th>\n",
       "      <th>zip_code</th>\n",
       "      <th>residential</th>\n",
       "      <th>permit_status</th>\n",
       "      <th>filing_status</th>\n",
       "      <th>permit_type</th>\n",
       "      <th>permit_sequence_no</th>\n",
       "      <th>filing_date</th>\n",
       "      <th>issuance_date</th>\n",
       "      <th>expiration_date</th>\n",
       "      <th>job_start_date</th>\n",
       "      <th>owners_business_type</th>\n",
       "      <th>non-profit</th>\n",
       "      <th>dobrundate</th>\n",
       "      <th>permit_si_no</th>\n",
       "      <th>latitude</th>\n",
       "      <th>longitude</th>\n",
       "      <th>council_district</th>\n",
       "      <th>census_tract</th>\n",
       "    </tr>\n",
       "  </thead>\n",
       "  <tbody>\n",
       "    <tr>\n",
       "      <th>3272</th>\n",
       "      <td>BROOKLYN</td>\n",
       "      <td>3429238</td>\n",
       "      <td>31</td>\n",
       "      <td>PORTE PLAZA</td>\n",
       "      <td>321647811</td>\n",
       "      <td>NB</td>\n",
       "      <td>11222.0</td>\n",
       "      <td>YES</td>\n",
       "      <td>ISSUED</td>\n",
       "      <td>INITIAL</td>\n",
       "      <td>NB</td>\n",
       "      <td>1</td>\n",
       "      <td>05/26/2022</td>\n",
       "      <td>05/26/2022</td>\n",
       "      <td>05/26/2023</td>\n",
       "      <td>05/26/2022</td>\n",
       "      <td>INDIVIDUAL</td>\n",
       "      <td>N</td>\n",
       "      <td>05/27/2022 00:00:00</td>\n",
       "      <td>3908658</td>\n",
       "      <td>NaN</td>\n",
       "      <td>NaN</td>\n",
       "      <td>NaN</td>\n",
       "      <td>NaN</td>\n",
       "    </tr>\n",
       "    <tr>\n",
       "      <th>4224</th>\n",
       "      <td>QUEENS</td>\n",
       "      <td>4620764</td>\n",
       "      <td>150-37</td>\n",
       "      <td>SULLIVAN DRIVE</td>\n",
       "      <td>421256492</td>\n",
       "      <td>NB</td>\n",
       "      <td>NaN</td>\n",
       "      <td>YES</td>\n",
       "      <td>ISSUED</td>\n",
       "      <td>INITIAL</td>\n",
       "      <td>NB</td>\n",
       "      <td>1</td>\n",
       "      <td>05/14/2019</td>\n",
       "      <td>05/14/2019</td>\n",
       "      <td>01/08/2020</td>\n",
       "      <td>05/14/2019</td>\n",
       "      <td>PARTNERSHIP</td>\n",
       "      <td>N</td>\n",
       "      <td>06/01/2022 00:00:00</td>\n",
       "      <td>2090592</td>\n",
       "      <td>NaN</td>\n",
       "      <td>NaN</td>\n",
       "      <td>NaN</td>\n",
       "      <td>NaN</td>\n",
       "    </tr>\n",
       "    <tr>\n",
       "      <th>30803</th>\n",
       "      <td>QUEENS</td>\n",
       "      <td>4052777</td>\n",
       "      <td>75-56</td>\n",
       "      <td>GRAND CENTRAL PKWY EXT</td>\n",
       "      <td>400091887</td>\n",
       "      <td>NB</td>\n",
       "      <td>11375.0</td>\n",
       "      <td>YES</td>\n",
       "      <td>ISSUED</td>\n",
       "      <td>INITIAL</td>\n",
       "      <td>NB</td>\n",
       "      <td>1</td>\n",
       "      <td>09/10/1992</td>\n",
       "      <td>09/10/1992</td>\n",
       "      <td>09/01/1993</td>\n",
       "      <td>09/10/1992</td>\n",
       "      <td>INDIVIDUAL</td>\n",
       "      <td>N</td>\n",
       "      <td>05/09/2022 00:00:00</td>\n",
       "      <td>39154</td>\n",
       "      <td>NaN</td>\n",
       "      <td>NaN</td>\n",
       "      <td>NaN</td>\n",
       "      <td>NaN</td>\n",
       "    </tr>\n",
       "    <tr>\n",
       "      <th>32229</th>\n",
       "      <td>STATEN ISLAND</td>\n",
       "      <td>5837036</td>\n",
       "      <td>47</td>\n",
       "      <td>GETZ AVENUE</td>\n",
       "      <td>500118990</td>\n",
       "      <td>NB</td>\n",
       "      <td>NaN</td>\n",
       "      <td>YES</td>\n",
       "      <td>ISSUED</td>\n",
       "      <td>INITIAL</td>\n",
       "      <td>NB</td>\n",
       "      <td>1</td>\n",
       "      <td>1994-06-28</td>\n",
       "      <td>1994-06-28</td>\n",
       "      <td>1994-09-23</td>\n",
       "      <td>1994-06-28</td>\n",
       "      <td>INDIVIDUAL</td>\n",
       "      <td>N</td>\n",
       "      <td>2017-11-03</td>\n",
       "      <td>449273</td>\n",
       "      <td>NaN</td>\n",
       "      <td>NaN</td>\n",
       "      <td>NaN</td>\n",
       "      <td>NaN</td>\n",
       "    </tr>\n",
       "    <tr>\n",
       "      <th>46221</th>\n",
       "      <td>QUEENS</td>\n",
       "      <td>4535342</td>\n",
       "      <td>10-23</td>\n",
       "      <td>BAY 32 STREET</td>\n",
       "      <td>400766293</td>\n",
       "      <td>NB</td>\n",
       "      <td>11691.0</td>\n",
       "      <td>YES</td>\n",
       "      <td>ISSUED</td>\n",
       "      <td>INITIAL</td>\n",
       "      <td>NB</td>\n",
       "      <td>1</td>\n",
       "      <td>1998-09-10</td>\n",
       "      <td>1998-09-10</td>\n",
       "      <td>1999-02-14</td>\n",
       "      <td>1998-09-10</td>\n",
       "      <td>CORPORATION</td>\n",
       "      <td>N</td>\n",
       "      <td>2017-11-03</td>\n",
       "      <td>817866</td>\n",
       "      <td>NaN</td>\n",
       "      <td>NaN</td>\n",
       "      <td>NaN</td>\n",
       "      <td>NaN</td>\n",
       "    </tr>\n",
       "  </tbody>\n",
       "</table>\n",
       "</div>"
      ],
      "text/plain": [
       "             borough   bin_no house_no             street_name     job_no  \\\n",
       "3272        BROOKLYN  3429238       31             PORTE PLAZA  321647811   \n",
       "4224          QUEENS  4620764   150-37          SULLIVAN DRIVE  421256492   \n",
       "30803         QUEENS  4052777    75-56  GRAND CENTRAL PKWY EXT  400091887   \n",
       "32229  STATEN ISLAND  5837036       47             GETZ AVENUE  500118990   \n",
       "46221         QUEENS  4535342    10-23           BAY 32 STREET  400766293   \n",
       "\n",
       "      job_type  zip_code residential permit_status filing_status permit_type  \\\n",
       "3272        NB   11222.0         YES        ISSUED       INITIAL          NB   \n",
       "4224        NB       NaN         YES        ISSUED       INITIAL          NB   \n",
       "30803       NB   11375.0         YES        ISSUED       INITIAL          NB   \n",
       "32229       NB       NaN         YES        ISSUED       INITIAL          NB   \n",
       "46221       NB   11691.0         YES        ISSUED       INITIAL          NB   \n",
       "\n",
       "       permit_sequence_no  filing_date issuance_date expiration_date  \\\n",
       "3272                    1   05/26/2022    05/26/2022      05/26/2023   \n",
       "4224                    1   05/14/2019    05/14/2019      01/08/2020   \n",
       "30803                   1   09/10/1992    09/10/1992      09/01/1993   \n",
       "32229                   1  1994-06-28    1994-06-28       1994-09-23   \n",
       "46221                   1  1998-09-10    1998-09-10       1999-02-14   \n",
       "\n",
       "      job_start_date owners_business_type non-profit           dobrundate  \\\n",
       "3272      05/26/2022           INDIVIDUAL          N  05/27/2022 00:00:00   \n",
       "4224      05/14/2019          PARTNERSHIP          N  06/01/2022 00:00:00   \n",
       "30803     09/10/1992           INDIVIDUAL          N  05/09/2022 00:00:00   \n",
       "32229     1994-06-28           INDIVIDUAL          N          2017-11-03    \n",
       "46221     1998-09-10          CORPORATION          N          2017-11-03    \n",
       "\n",
       "       permit_si_no  latitude  longitude  council_district  census_tract  \n",
       "3272        3908658       NaN        NaN               NaN           NaN  \n",
       "4224        2090592       NaN        NaN               NaN           NaN  \n",
       "30803         39154       NaN        NaN               NaN           NaN  \n",
       "32229        449273       NaN        NaN               NaN           NaN  \n",
       "46221        817866       NaN        NaN               NaN           NaN  "
      ]
     },
     "execution_count": 187,
     "metadata": {},
     "output_type": "execute_result"
    }
   ],
   "source": [
    "no_position.head()"
   ]
  },
  {
   "cell_type": "code",
   "execution_count": 188,
   "id": "0e61188c-26e8-4129-b737-f37e70d53dd4",
   "metadata": {},
   "outputs": [
    {
     "data": {
      "text/plain": [
       "borough                   0\n",
       "bin_no                    0\n",
       "house_no                  0\n",
       "street_name               0\n",
       "job_no                    0\n",
       "job_type                  0\n",
       "zip_code                 45\n",
       "residential               0\n",
       "permit_status             0\n",
       "filing_status             0\n",
       "permit_type               0\n",
       "permit_sequence_no        0\n",
       "filing_date               0\n",
       "issuance_date             0\n",
       "expiration_date           0\n",
       "job_start_date            0\n",
       "owners_business_type      0\n",
       "non-profit                0\n",
       "dobrundate                0\n",
       "permit_si_no              0\n",
       "latitude                325\n",
       "longitude               325\n",
       "council_district        325\n",
       "census_tract            325\n",
       "dtype: int64"
      ]
     },
     "execution_count": 188,
     "metadata": {},
     "output_type": "execute_result"
    }
   ],
   "source": [
    "no_position.isnull().sum()"
   ]
  },
  {
   "cell_type": "code",
   "execution_count": 189,
   "id": "030e6e85-4db1-4693-a62e-2648050e5d4b",
   "metadata": {},
   "outputs": [],
   "source": [
    "no_position = no_position[no_position['zip_code'].notnull()]"
   ]
  },
  {
   "cell_type": "code",
   "execution_count": 190,
   "id": "042deeb2-52f3-4405-ab6c-6327342d1839",
   "metadata": {},
   "outputs": [
    {
     "data": {
      "text/plain": [
       "borough                  object\n",
       "bin_no                    int64\n",
       "house_no                 object\n",
       "street_name              object\n",
       "job_no                    int64\n",
       "job_type                 object\n",
       "zip_code                float64\n",
       "residential              object\n",
       "permit_status            object\n",
       "filing_status            object\n",
       "permit_type              object\n",
       "permit_sequence_no        int64\n",
       "filing_date              object\n",
       "issuance_date            object\n",
       "expiration_date          object\n",
       "job_start_date           object\n",
       "owners_business_type     object\n",
       "non-profit               object\n",
       "dobrundate               object\n",
       "permit_si_no              int64\n",
       "latitude                float64\n",
       "longitude               float64\n",
       "council_district        float64\n",
       "census_tract            float64\n",
       "dtype: object"
      ]
     },
     "execution_count": 190,
     "metadata": {},
     "output_type": "execute_result"
    }
   ],
   "source": [
    "no_position.dtypes"
   ]
  },
  {
   "cell_type": "code",
   "execution_count": 191,
   "id": "0d39cc2e-8953-4db7-b3ce-b9e74c17fa50",
   "metadata": {},
   "outputs": [
    {
     "data": {
      "text/plain": [
       "3272       11222\n",
       "30803      11375\n",
       "46221      11691\n",
       "51877      11691\n",
       "61077      11239\n",
       "           ...  \n",
       "3824759    11415\n",
       "3846027    11415\n",
       "3846038    11415\n",
       "3861929    10309\n",
       "3884595    10306\n",
       "Name: zip_code, Length: 280, dtype: object"
      ]
     },
     "execution_count": 191,
     "metadata": {},
     "output_type": "execute_result"
    }
   ],
   "source": [
    "no_position['zip_code'].astype(int).astype(str)"
   ]
  },
  {
   "cell_type": "code",
   "execution_count": 192,
   "id": "17344f71-b341-416d-bead-d74d5ffb4377",
   "metadata": {},
   "outputs": [],
   "source": [
    "no_position['address'] = no_position['house_no'].replace(\" \", \"\") + \" \" + no_position['street_name'] + \",\" + \"New York,NY,\" + no_position['zip_code'].astype(int).astype(str)\n",
    "\n"
   ]
  },
  {
   "cell_type": "code",
   "execution_count": 193,
   "id": "2356ce75-129a-4983-9950-8a17ff95284c",
   "metadata": {},
   "outputs": [],
   "source": [
    "pd.set_option('display.max_colwidth', 100)"
   ]
  },
  {
   "cell_type": "code",
   "execution_count": 194,
   "id": "50e0e876-a176-477c-9d04-d616c87a8ad1",
   "metadata": {},
   "outputs": [
    {
     "data": {
      "text/plain": [
       "3272                   31 PORTE PLAZA,New York,NY,11222\n",
       "30803    75-56 GRAND CENTRAL PKWY EXT,New York,NY,11375\n",
       "46221             10-23 BAY 32 STREET,New York,NY,11691\n",
       "51877             10-47 BAY 32 STREET,New York,NY,11691\n",
       "61077                 702 EGAN STREET,New York,NY,11239\n",
       "Name: address, dtype: object"
      ]
     },
     "execution_count": 194,
     "metadata": {},
     "output_type": "execute_result"
    }
   ],
   "source": [
    "no_position['address'].head()"
   ]
  },
  {
   "cell_type": "code",
   "execution_count": 196,
   "id": "a315f328-a49e-425d-b509-a9c74f837cfb",
   "metadata": {},
   "outputs": [],
   "source": [
    "geolocator = Nominatim(user_agent=\"myApp\")\n",
    "\n",
    "bad_addresses = []\n",
    "for i in no_position.index:\n",
    "    try:\n",
    "        geocode = geolocator.geocode(no_position.loc[i, 'address'])\n",
    "        no_position.loc[i, 'latitude'] = geocode.latitude\n",
    "        no_position.loc[i, 'longitude'] = geocode.longitude\n",
    "    except:\n",
    "        bad_addresses.append(i)\n",
    "        pass"
   ]
  },
  {
   "cell_type": "code",
   "execution_count": 197,
   "id": "22b87647-c32b-4d6e-af60-230d251c3671",
   "metadata": {},
   "outputs": [
    {
     "data": {
      "text/plain": [
       "280"
      ]
     },
     "execution_count": 197,
     "metadata": {},
     "output_type": "execute_result"
    }
   ],
   "source": [
    "len(no_position)"
   ]
  },
  {
   "cell_type": "code",
   "execution_count": 198,
   "id": "71a8d16a-e615-49da-9ad5-c8f4de1f803c",
   "metadata": {},
   "outputs": [
    {
     "data": {
      "text/plain": [
       "147"
      ]
     },
     "execution_count": 198,
     "metadata": {},
     "output_type": "execute_result"
    }
   ],
   "source": [
    "len(bad_addresses)"
   ]
  },
  {
   "cell_type": "code",
   "execution_count": 199,
   "id": "1d37b8ef-d404-419b-81c4-8a4d886ab75d",
   "metadata": {},
   "outputs": [],
   "source": [
    "no_position.to_csv('../backup_data/backup_added_geolocate.csv')"
   ]
  },
  {
   "cell_type": "code",
   "execution_count": 200,
   "id": "65280788-9db9-4d87-a6d8-415c3e02ba2f",
   "metadata": {},
   "outputs": [
    {
     "data": {
      "text/plain": [
       "borough                   0\n",
       "bin_no                    0\n",
       "house_no                  0\n",
       "street_name               0\n",
       "job_no                    0\n",
       "job_type                  0\n",
       "zip_code                  0\n",
       "residential               0\n",
       "permit_status             0\n",
       "filing_status             0\n",
       "permit_type               0\n",
       "permit_sequence_no        0\n",
       "filing_date               0\n",
       "issuance_date             0\n",
       "expiration_date           0\n",
       "job_start_date            0\n",
       "owners_business_type      0\n",
       "non-profit                0\n",
       "dobrundate                0\n",
       "permit_si_no              0\n",
       "latitude                147\n",
       "longitude               147\n",
       "council_district        280\n",
       "census_tract            280\n",
       "address                   0\n",
       "dtype: int64"
      ]
     },
     "execution_count": 200,
     "metadata": {},
     "output_type": "execute_result"
    }
   ],
   "source": [
    "no_position.isnull().sum()"
   ]
  },
  {
   "cell_type": "markdown",
   "id": "7bb2017d-6bb7-47e1-bf5a-31a1aeadd37d",
   "metadata": {},
   "source": [
    "# Census Tract and Council District\n",
    "ULTIMATELY DROPPING BECAUSE TOO INCONSISTENT AND NOT CLEAR IT WILL HELP, HAVING LONGITUDE AND LATITUDE (might be helpful in connecting demographic data... but I might need to just add that in later, using the `censusgeocode`)\n",
    "\n",
    "This didn't help with council and census tracts. I looked at the [Census Gazetteer file](https://www.census.gov/geographies/reference-files/time-series/geo/gazetteer-files.html) for NY, but it only provides one coordinate.\n",
    "\n",
    "This [stackoverflow answer](https://stackoverflow.com/a/65120026) pointed me to `censusgeocode`.\n",
    "\n",
    "This [NYC Data page](https://data.cityofnewyork.us/City-Government/2020-Census-Tracts-Mapped/weqx-t5xr) has 2020 Census Tracts.\n",
    "\n",
    "Census tracts change over time, so I need to take that into account. Ultimately, if `censusgeocode` works, I might want to update all the census tracts."
   ]
  },
  {
   "cell_type": "code",
   "execution_count": 203,
   "id": "612ccd1a-650f-43a8-a9b3-fda41dab214e",
   "metadata": {},
   "outputs": [
    {
     "data": {
      "text/plain": [
       "(280, 25)"
      ]
     },
     "execution_count": 203,
     "metadata": {},
     "output_type": "execute_result"
    }
   ],
   "source": [
    "no_position.shape"
   ]
  },
  {
   "cell_type": "code",
   "execution_count": 204,
   "id": "7a2d3aa6-f3cf-4c0d-8f3b-405d122319d2",
   "metadata": {},
   "outputs": [],
   "source": [
    "no_position = no_position[no_position['latitude'].notnull()]"
   ]
  },
  {
   "cell_type": "code",
   "execution_count": 205,
   "id": "edd180da-b71e-4a5d-99ad-7ded917865d6",
   "metadata": {},
   "outputs": [
    {
     "data": {
      "text/plain": [
       "(133, 25)"
      ]
     },
     "execution_count": 205,
     "metadata": {},
     "output_type": "execute_result"
    }
   ],
   "source": [
    "no_position.shape"
   ]
  },
  {
   "cell_type": "code",
   "execution_count": 206,
   "id": "d40907f2-3a21-497f-a56d-9e7d6055a29e",
   "metadata": {},
   "outputs": [
    {
     "data": {
      "text/plain": [
       "(81305, 24)"
      ]
     },
     "execution_count": 206,
     "metadata": {},
     "output_type": "execute_result"
    }
   ],
   "source": [
    "permits.shape"
   ]
  },
  {
   "cell_type": "code",
   "execution_count": 208,
   "id": "9a12c795-aaed-455e-8c88-06930954bb2c",
   "metadata": {},
   "outputs": [
    {
     "data": {
      "text/plain": [
       "0.0016358157554885924"
      ]
     },
     "execution_count": 208,
     "metadata": {},
     "output_type": "execute_result"
    }
   ],
   "source": [
    "no_position.shape[0]/permits.shape[0]"
   ]
  },
  {
   "cell_type": "code",
   "execution_count": 209,
   "id": "05499c9e-2f44-4763-9782-62817275d747",
   "metadata": {},
   "outputs": [
    {
     "data": {
      "text/plain": [
       "(81305, 24)"
      ]
     },
     "execution_count": 209,
     "metadata": {},
     "output_type": "execute_result"
    }
   ],
   "source": [
    "permits.shape"
   ]
  },
  {
   "cell_type": "code",
   "execution_count": 253,
   "id": "4fb385f1-feb9-4dee-867f-44a4e206012b",
   "metadata": {},
   "outputs": [],
   "source": [
    "permits = permits[permits['latitude'].notnull()]"
   ]
  },
  {
   "cell_type": "code",
   "execution_count": 254,
   "id": "6f0b2394-1a59-4670-9b46-fd42f09d7395",
   "metadata": {},
   "outputs": [
    {
     "data": {
      "text/plain": [
       "(80980, 24)"
      ]
     },
     "execution_count": 254,
     "metadata": {},
     "output_type": "execute_result"
    }
   ],
   "source": [
    "permits.shape"
   ]
  },
  {
   "cell_type": "markdown",
   "id": "5cc6be3c-c3e4-4fbc-8e20-2306932eac36",
   "metadata": {},
   "source": [
    "OOPS MESSED THIS UP."
   ]
  },
  {
   "cell_type": "code",
   "execution_count": 255,
   "id": "9f2a495f-d3ac-49ca-b9aa-5dc8813618e7",
   "metadata": {},
   "outputs": [],
   "source": [
    "permits2 = permits.copy()"
   ]
  },
  {
   "cell_type": "code",
   "execution_count": 256,
   "id": "20cded5b-6a5f-4f0d-8ba7-2b788403fa52",
   "metadata": {},
   "outputs": [],
   "source": [
    "permits = pd.concat([permits, no_position])"
   ]
  },
  {
   "cell_type": "code",
   "execution_count": 257,
   "id": "61e7f0db-d4e7-41ee-bc01-4fe0539f6434",
   "metadata": {},
   "outputs": [
    {
     "data": {
      "text/plain": [
       "(81113, 25)"
      ]
     },
     "execution_count": 257,
     "metadata": {},
     "output_type": "execute_result"
    }
   ],
   "source": [
    "permits.shape"
   ]
  },
  {
   "cell_type": "code",
   "execution_count": 259,
   "id": "4cf6ea85-fedd-4593-8355-83a04eeffa11",
   "metadata": {},
   "outputs": [
    {
     "data": {
      "text/plain": [
       "borough                     0\n",
       "bin_no                      0\n",
       "house_no                    0\n",
       "street_name                 0\n",
       "job_no                      0\n",
       "job_type                    0\n",
       "zip_code                    4\n",
       "residential                 0\n",
       "permit_status               0\n",
       "filing_status               0\n",
       "permit_type                 0\n",
       "permit_sequence_no          0\n",
       "filing_date                 0\n",
       "issuance_date               0\n",
       "expiration_date             0\n",
       "job_start_date              0\n",
       "owners_business_type        0\n",
       "non-profit                  0\n",
       "dobrundate                  0\n",
       "permit_si_no                0\n",
       "latitude                    0\n",
       "longitude                   0\n",
       "council_district          133\n",
       "census_tract              133\n",
       "address                 80980\n",
       "dtype: int64"
      ]
     },
     "execution_count": 259,
     "metadata": {},
     "output_type": "execute_result"
    }
   ],
   "source": [
    "permits.isnull().sum()"
   ]
  },
  {
   "cell_type": "code",
   "execution_count": 260,
   "id": "82d31135-7e4f-4d41-9317-beb7419460b6",
   "metadata": {},
   "outputs": [],
   "source": [
    "permits.drop(columns = ['address'], inplace = True)"
   ]
  },
  {
   "cell_type": "code",
   "execution_count": 261,
   "id": "03d99701-73a1-4858-9a21-1f3131ccc147",
   "metadata": {},
   "outputs": [],
   "source": [
    "permits.to_csv('../backup_data/permits_w_council_dist.csv')"
   ]
  },
  {
   "cell_type": "markdown",
   "id": "61d0a1ee-53f3-4d3a-b3bd-881e93792401",
   "metadata": {
    "tags": []
   },
   "source": [
    "For now, I'm just going to work off longitude and latitude, so I'll drop the council and census tracts. I'm going to set the zipcode NaNs to 99999 for now, since that's not a real zipcode. If I wind up wanting to use addresses, I'll deal with them as necessary"
   ]
  },
  {
   "cell_type": "code",
   "execution_count": 14,
   "id": "eefcedec-cdd3-41ba-b90a-7954bed82e12",
   "metadata": {},
   "outputs": [],
   "source": [
    "#permits = pd.read_csv('../backup_data/permits_w_council_dist.csv', index = False)"
   ]
  },
  {
   "cell_type": "code",
   "execution_count": 15,
   "id": "70d6c4d9-5b98-4869-9c29-ef11d3a8ca45",
   "metadata": {},
   "outputs": [],
   "source": [
    "permits.drop(columns = ['council_district', 'census_tract'], inplace = True)"
   ]
  },
  {
   "cell_type": "code",
   "execution_count": 17,
   "id": "fd34def0-3749-488e-974e-0af0cb3bfe51",
   "metadata": {},
   "outputs": [],
   "source": [
    "permits.set_index('Unnamed: 0', inplace = True)"
   ]
  },
  {
   "cell_type": "code",
   "execution_count": 21,
   "id": "978e9474-3fea-4cd3-a577-7bfb837a28d7",
   "metadata": {},
   "outputs": [],
   "source": [
    "permits.index.rename('', inplace = True)"
   ]
  },
  {
   "cell_type": "code",
   "execution_count": 22,
   "id": "ee1dea1c-5ccd-455d-b0c7-c88e415acc74",
   "metadata": {},
   "outputs": [
    {
     "data": {
      "text/html": [
       "<div>\n",
       "<style scoped>\n",
       "    .dataframe tbody tr th:only-of-type {\n",
       "        vertical-align: middle;\n",
       "    }\n",
       "\n",
       "    .dataframe tbody tr th {\n",
       "        vertical-align: top;\n",
       "    }\n",
       "\n",
       "    .dataframe thead th {\n",
       "        text-align: right;\n",
       "    }\n",
       "</style>\n",
       "<table border=\"1\" class=\"dataframe\">\n",
       "  <thead>\n",
       "    <tr style=\"text-align: right;\">\n",
       "      <th></th>\n",
       "      <th>borough</th>\n",
       "      <th>bin_no</th>\n",
       "      <th>house_no</th>\n",
       "      <th>street_name</th>\n",
       "      <th>job_no</th>\n",
       "      <th>job_type</th>\n",
       "      <th>zip_code</th>\n",
       "      <th>residential</th>\n",
       "      <th>permit_status</th>\n",
       "      <th>filing_status</th>\n",
       "      <th>...</th>\n",
       "      <th>filing_date</th>\n",
       "      <th>issuance_date</th>\n",
       "      <th>expiration_date</th>\n",
       "      <th>job_start_date</th>\n",
       "      <th>owners_business_type</th>\n",
       "      <th>non-profit</th>\n",
       "      <th>dobrundate</th>\n",
       "      <th>permit_si_no</th>\n",
       "      <th>latitude</th>\n",
       "      <th>longitude</th>\n",
       "    </tr>\n",
       "    <tr>\n",
       "      <th></th>\n",
       "      <th></th>\n",
       "      <th></th>\n",
       "      <th></th>\n",
       "      <th></th>\n",
       "      <th></th>\n",
       "      <th></th>\n",
       "      <th></th>\n",
       "      <th></th>\n",
       "      <th></th>\n",
       "      <th></th>\n",
       "      <th></th>\n",
       "      <th></th>\n",
       "      <th></th>\n",
       "      <th></th>\n",
       "      <th></th>\n",
       "      <th></th>\n",
       "      <th></th>\n",
       "      <th></th>\n",
       "      <th></th>\n",
       "      <th></th>\n",
       "      <th></th>\n",
       "    </tr>\n",
       "  </thead>\n",
       "  <tbody>\n",
       "    <tr>\n",
       "      <th>8951</th>\n",
       "      <td>BROOKLYN</td>\n",
       "      <td>3428883</td>\n",
       "      <td>208</td>\n",
       "      <td>NOSTRAND AVENUE</td>\n",
       "      <td>321477709</td>\n",
       "      <td>NB</td>\n",
       "      <td>NaN</td>\n",
       "      <td>YES</td>\n",
       "      <td>ISSUED</td>\n",
       "      <td>INITIAL</td>\n",
       "      <td>...</td>\n",
       "      <td>06/21/2022</td>\n",
       "      <td>06/24/2022</td>\n",
       "      <td>03/07/2023</td>\n",
       "      <td>06/24/2022</td>\n",
       "      <td>CORPORATION</td>\n",
       "      <td>N</td>\n",
       "      <td>06/25/2022 00:00:00</td>\n",
       "      <td>3912506</td>\n",
       "      <td>40.693031</td>\n",
       "      <td>-73.952108</td>\n",
       "    </tr>\n",
       "    <tr>\n",
       "      <th>616634</th>\n",
       "      <td>QUEENS</td>\n",
       "      <td>4464044</td>\n",
       "      <td>9204</td>\n",
       "      <td>HOLLAND AVENUE</td>\n",
       "      <td>401273965</td>\n",
       "      <td>NB</td>\n",
       "      <td>NaN</td>\n",
       "      <td>YES</td>\n",
       "      <td>ISSUED</td>\n",
       "      <td>INITIAL</td>\n",
       "      <td>...</td>\n",
       "      <td>09/26/2001</td>\n",
       "      <td>09/26/2001</td>\n",
       "      <td>06/01/2002</td>\n",
       "      <td>09/26/2001</td>\n",
       "      <td>CORPORATION</td>\n",
       "      <td>N</td>\n",
       "      <td>05/09/2022 00:00:00</td>\n",
       "      <td>1465439</td>\n",
       "      <td>40.585362</td>\n",
       "      <td>-73.814802</td>\n",
       "    </tr>\n",
       "    <tr>\n",
       "      <th>2463150</th>\n",
       "      <td>QUEENS</td>\n",
       "      <td>4530251</td>\n",
       "      <td>1543</td>\n",
       "      <td>HASSOCK STREET</td>\n",
       "      <td>401841860</td>\n",
       "      <td>NB</td>\n",
       "      <td>NaN</td>\n",
       "      <td>YES</td>\n",
       "      <td>ISSUED</td>\n",
       "      <td>INITIAL</td>\n",
       "      <td>...</td>\n",
       "      <td>12/10/2004</td>\n",
       "      <td>12/10/2004</td>\n",
       "      <td>02/15/2005</td>\n",
       "      <td>12/10/2004</td>\n",
       "      <td>PARTNERSHIP</td>\n",
       "      <td>N</td>\n",
       "      <td>05/09/2022 00:00:00</td>\n",
       "      <td>316059</td>\n",
       "      <td>40.609080</td>\n",
       "      <td>-73.753366</td>\n",
       "    </tr>\n",
       "    <tr>\n",
       "      <th>3185810</th>\n",
       "      <td>BROOKLYN</td>\n",
       "      <td>3256842</td>\n",
       "      <td>506</td>\n",
       "      <td>BAY   44 STREET</td>\n",
       "      <td>300183414</td>\n",
       "      <td>NB</td>\n",
       "      <td>NaN</td>\n",
       "      <td>YES</td>\n",
       "      <td>ISSUED</td>\n",
       "      <td>INITIAL</td>\n",
       "      <td>...</td>\n",
       "      <td>12/16/1992</td>\n",
       "      <td>12/16/1992</td>\n",
       "      <td>07/30/1993</td>\n",
       "      <td>12/16/1992</td>\n",
       "      <td>CORPORATION</td>\n",
       "      <td>N</td>\n",
       "      <td>05/09/2022 00:00:00</td>\n",
       "      <td>382579</td>\n",
       "      <td>40.586631</td>\n",
       "      <td>-73.995824</td>\n",
       "    </tr>\n",
       "  </tbody>\n",
       "</table>\n",
       "<p>4 rows × 22 columns</p>\n",
       "</div>"
      ],
      "text/plain": [
       "          borough   bin_no house_no      street_name     job_no job_type  \\\n",
       "                                                                           \n",
       "8951     BROOKLYN  3428883      208  NOSTRAND AVENUE  321477709       NB   \n",
       "616634     QUEENS  4464044     9204   HOLLAND AVENUE  401273965       NB   \n",
       "2463150    QUEENS  4530251     1543   HASSOCK STREET  401841860       NB   \n",
       "3185810  BROOKLYN  3256842      506  BAY   44 STREET  300183414       NB   \n",
       "\n",
       "         zip_code residential permit_status filing_status  ... filing_date  \\\n",
       "                                                           ...               \n",
       "8951          NaN         YES        ISSUED       INITIAL  ...  06/21/2022   \n",
       "616634        NaN         YES        ISSUED       INITIAL  ...  09/26/2001   \n",
       "2463150       NaN         YES        ISSUED       INITIAL  ...  12/10/2004   \n",
       "3185810       NaN         YES        ISSUED       INITIAL  ...  12/16/1992   \n",
       "\n",
       "         issuance_date expiration_date job_start_date owners_business_type  \\\n",
       "                                                                             \n",
       "8951        06/24/2022      03/07/2023     06/24/2022          CORPORATION   \n",
       "616634      09/26/2001      06/01/2002     09/26/2001          CORPORATION   \n",
       "2463150     12/10/2004      02/15/2005     12/10/2004          PARTNERSHIP   \n",
       "3185810     12/16/1992      07/30/1993     12/16/1992          CORPORATION   \n",
       "\n",
       "        non-profit           dobrundate permit_si_no   latitude  longitude  \n",
       "                                                                            \n",
       "8951             N  06/25/2022 00:00:00      3912506  40.693031 -73.952108  \n",
       "616634           N  05/09/2022 00:00:00      1465439  40.585362 -73.814802  \n",
       "2463150          N  05/09/2022 00:00:00       316059  40.609080 -73.753366  \n",
       "3185810          N  05/09/2022 00:00:00       382579  40.586631 -73.995824  \n",
       "\n",
       "[4 rows x 22 columns]"
      ]
     },
     "execution_count": 22,
     "metadata": {},
     "output_type": "execute_result"
    }
   ],
   "source": [
    "permits[permits['zip_code'].isnull()]"
   ]
  },
  {
   "cell_type": "code",
   "execution_count": 24,
   "id": "891c678d-b4be-486e-99b3-cff9b9af0109",
   "metadata": {},
   "outputs": [],
   "source": [
    "permits.loc[permits['zip_code'].isnull(), 'zip_code'] = 99999"
   ]
  },
  {
   "cell_type": "code",
   "execution_count": 25,
   "id": "5cd57fc5-a546-49e3-8170-182c75041ef9",
   "metadata": {},
   "outputs": [
    {
     "data": {
      "text/html": [
       "<div>\n",
       "<style scoped>\n",
       "    .dataframe tbody tr th:only-of-type {\n",
       "        vertical-align: middle;\n",
       "    }\n",
       "\n",
       "    .dataframe tbody tr th {\n",
       "        vertical-align: top;\n",
       "    }\n",
       "\n",
       "    .dataframe thead th {\n",
       "        text-align: right;\n",
       "    }\n",
       "</style>\n",
       "<table border=\"1\" class=\"dataframe\">\n",
       "  <thead>\n",
       "    <tr style=\"text-align: right;\">\n",
       "      <th></th>\n",
       "      <th>borough</th>\n",
       "      <th>bin_no</th>\n",
       "      <th>house_no</th>\n",
       "      <th>street_name</th>\n",
       "      <th>job_no</th>\n",
       "      <th>job_type</th>\n",
       "      <th>zip_code</th>\n",
       "      <th>residential</th>\n",
       "      <th>permit_status</th>\n",
       "      <th>filing_status</th>\n",
       "      <th>...</th>\n",
       "      <th>filing_date</th>\n",
       "      <th>issuance_date</th>\n",
       "      <th>expiration_date</th>\n",
       "      <th>job_start_date</th>\n",
       "      <th>owners_business_type</th>\n",
       "      <th>non-profit</th>\n",
       "      <th>dobrundate</th>\n",
       "      <th>permit_si_no</th>\n",
       "      <th>latitude</th>\n",
       "      <th>longitude</th>\n",
       "    </tr>\n",
       "    <tr>\n",
       "      <th></th>\n",
       "      <th></th>\n",
       "      <th></th>\n",
       "      <th></th>\n",
       "      <th></th>\n",
       "      <th></th>\n",
       "      <th></th>\n",
       "      <th></th>\n",
       "      <th></th>\n",
       "      <th></th>\n",
       "      <th></th>\n",
       "      <th></th>\n",
       "      <th></th>\n",
       "      <th></th>\n",
       "      <th></th>\n",
       "      <th></th>\n",
       "      <th></th>\n",
       "      <th></th>\n",
       "      <th></th>\n",
       "      <th></th>\n",
       "      <th></th>\n",
       "      <th></th>\n",
       "    </tr>\n",
       "  </thead>\n",
       "  <tbody>\n",
       "  </tbody>\n",
       "</table>\n",
       "<p>0 rows × 22 columns</p>\n",
       "</div>"
      ],
      "text/plain": [
       "Empty DataFrame\n",
       "Columns: [borough, bin_no, house_no, street_name, job_no, job_type, zip_code, residential, permit_status, filing_status, permit_type, permit_sequence_no, filing_date, issuance_date, expiration_date, job_start_date, owners_business_type, non-profit, dobrundate, permit_si_no, latitude, longitude]\n",
       "Index: []\n",
       "\n",
       "[0 rows x 22 columns]"
      ]
     },
     "execution_count": 25,
     "metadata": {},
     "output_type": "execute_result"
    }
   ],
   "source": [
    "permits[permits['zip_code'].isnull()]"
   ]
  },
  {
   "cell_type": "code",
   "execution_count": 26,
   "id": "796c64d8-a898-469a-95d5-edb78d4ced9e",
   "metadata": {},
   "outputs": [
    {
     "data": {
      "text/html": [
       "<div>\n",
       "<style scoped>\n",
       "    .dataframe tbody tr th:only-of-type {\n",
       "        vertical-align: middle;\n",
       "    }\n",
       "\n",
       "    .dataframe tbody tr th {\n",
       "        vertical-align: top;\n",
       "    }\n",
       "\n",
       "    .dataframe thead th {\n",
       "        text-align: right;\n",
       "    }\n",
       "</style>\n",
       "<table border=\"1\" class=\"dataframe\">\n",
       "  <thead>\n",
       "    <tr style=\"text-align: right;\">\n",
       "      <th></th>\n",
       "      <th>borough</th>\n",
       "      <th>bin_no</th>\n",
       "      <th>house_no</th>\n",
       "      <th>street_name</th>\n",
       "      <th>job_no</th>\n",
       "      <th>job_type</th>\n",
       "      <th>zip_code</th>\n",
       "      <th>residential</th>\n",
       "      <th>permit_status</th>\n",
       "      <th>filing_status</th>\n",
       "      <th>...</th>\n",
       "      <th>filing_date</th>\n",
       "      <th>issuance_date</th>\n",
       "      <th>expiration_date</th>\n",
       "      <th>job_start_date</th>\n",
       "      <th>owners_business_type</th>\n",
       "      <th>non-profit</th>\n",
       "      <th>dobrundate</th>\n",
       "      <th>permit_si_no</th>\n",
       "      <th>latitude</th>\n",
       "      <th>longitude</th>\n",
       "    </tr>\n",
       "    <tr>\n",
       "      <th></th>\n",
       "      <th></th>\n",
       "      <th></th>\n",
       "      <th></th>\n",
       "      <th></th>\n",
       "      <th></th>\n",
       "      <th></th>\n",
       "      <th></th>\n",
       "      <th></th>\n",
       "      <th></th>\n",
       "      <th></th>\n",
       "      <th></th>\n",
       "      <th></th>\n",
       "      <th></th>\n",
       "      <th></th>\n",
       "      <th></th>\n",
       "      <th></th>\n",
       "      <th></th>\n",
       "      <th></th>\n",
       "      <th></th>\n",
       "      <th></th>\n",
       "      <th></th>\n",
       "    </tr>\n",
       "  </thead>\n",
       "  <tbody>\n",
       "    <tr>\n",
       "      <th>8951</th>\n",
       "      <td>BROOKLYN</td>\n",
       "      <td>3428883</td>\n",
       "      <td>208</td>\n",
       "      <td>NOSTRAND AVENUE</td>\n",
       "      <td>321477709</td>\n",
       "      <td>NB</td>\n",
       "      <td>99999.0</td>\n",
       "      <td>YES</td>\n",
       "      <td>ISSUED</td>\n",
       "      <td>INITIAL</td>\n",
       "      <td>...</td>\n",
       "      <td>06/21/2022</td>\n",
       "      <td>06/24/2022</td>\n",
       "      <td>03/07/2023</td>\n",
       "      <td>06/24/2022</td>\n",
       "      <td>CORPORATION</td>\n",
       "      <td>N</td>\n",
       "      <td>06/25/2022 00:00:00</td>\n",
       "      <td>3912506</td>\n",
       "      <td>40.693031</td>\n",
       "      <td>-73.952108</td>\n",
       "    </tr>\n",
       "    <tr>\n",
       "      <th>616634</th>\n",
       "      <td>QUEENS</td>\n",
       "      <td>4464044</td>\n",
       "      <td>9204</td>\n",
       "      <td>HOLLAND AVENUE</td>\n",
       "      <td>401273965</td>\n",
       "      <td>NB</td>\n",
       "      <td>99999.0</td>\n",
       "      <td>YES</td>\n",
       "      <td>ISSUED</td>\n",
       "      <td>INITIAL</td>\n",
       "      <td>...</td>\n",
       "      <td>09/26/2001</td>\n",
       "      <td>09/26/2001</td>\n",
       "      <td>06/01/2002</td>\n",
       "      <td>09/26/2001</td>\n",
       "      <td>CORPORATION</td>\n",
       "      <td>N</td>\n",
       "      <td>05/09/2022 00:00:00</td>\n",
       "      <td>1465439</td>\n",
       "      <td>40.585362</td>\n",
       "      <td>-73.814802</td>\n",
       "    </tr>\n",
       "    <tr>\n",
       "      <th>2463150</th>\n",
       "      <td>QUEENS</td>\n",
       "      <td>4530251</td>\n",
       "      <td>1543</td>\n",
       "      <td>HASSOCK STREET</td>\n",
       "      <td>401841860</td>\n",
       "      <td>NB</td>\n",
       "      <td>99999.0</td>\n",
       "      <td>YES</td>\n",
       "      <td>ISSUED</td>\n",
       "      <td>INITIAL</td>\n",
       "      <td>...</td>\n",
       "      <td>12/10/2004</td>\n",
       "      <td>12/10/2004</td>\n",
       "      <td>02/15/2005</td>\n",
       "      <td>12/10/2004</td>\n",
       "      <td>PARTNERSHIP</td>\n",
       "      <td>N</td>\n",
       "      <td>05/09/2022 00:00:00</td>\n",
       "      <td>316059</td>\n",
       "      <td>40.609080</td>\n",
       "      <td>-73.753366</td>\n",
       "    </tr>\n",
       "    <tr>\n",
       "      <th>3185810</th>\n",
       "      <td>BROOKLYN</td>\n",
       "      <td>3256842</td>\n",
       "      <td>506</td>\n",
       "      <td>BAY   44 STREET</td>\n",
       "      <td>300183414</td>\n",
       "      <td>NB</td>\n",
       "      <td>99999.0</td>\n",
       "      <td>YES</td>\n",
       "      <td>ISSUED</td>\n",
       "      <td>INITIAL</td>\n",
       "      <td>...</td>\n",
       "      <td>12/16/1992</td>\n",
       "      <td>12/16/1992</td>\n",
       "      <td>07/30/1993</td>\n",
       "      <td>12/16/1992</td>\n",
       "      <td>CORPORATION</td>\n",
       "      <td>N</td>\n",
       "      <td>05/09/2022 00:00:00</td>\n",
       "      <td>382579</td>\n",
       "      <td>40.586631</td>\n",
       "      <td>-73.995824</td>\n",
       "    </tr>\n",
       "  </tbody>\n",
       "</table>\n",
       "<p>4 rows × 22 columns</p>\n",
       "</div>"
      ],
      "text/plain": [
       "          borough   bin_no house_no      street_name     job_no job_type  \\\n",
       "                                                                           \n",
       "8951     BROOKLYN  3428883      208  NOSTRAND AVENUE  321477709       NB   \n",
       "616634     QUEENS  4464044     9204   HOLLAND AVENUE  401273965       NB   \n",
       "2463150    QUEENS  4530251     1543   HASSOCK STREET  401841860       NB   \n",
       "3185810  BROOKLYN  3256842      506  BAY   44 STREET  300183414       NB   \n",
       "\n",
       "         zip_code residential permit_status filing_status  ... filing_date  \\\n",
       "                                                           ...               \n",
       "8951      99999.0         YES        ISSUED       INITIAL  ...  06/21/2022   \n",
       "616634    99999.0         YES        ISSUED       INITIAL  ...  09/26/2001   \n",
       "2463150   99999.0         YES        ISSUED       INITIAL  ...  12/10/2004   \n",
       "3185810   99999.0         YES        ISSUED       INITIAL  ...  12/16/1992   \n",
       "\n",
       "         issuance_date expiration_date job_start_date owners_business_type  \\\n",
       "                                                                             \n",
       "8951        06/24/2022      03/07/2023     06/24/2022          CORPORATION   \n",
       "616634      09/26/2001      06/01/2002     09/26/2001          CORPORATION   \n",
       "2463150     12/10/2004      02/15/2005     12/10/2004          PARTNERSHIP   \n",
       "3185810     12/16/1992      07/30/1993     12/16/1992          CORPORATION   \n",
       "\n",
       "        non-profit           dobrundate permit_si_no   latitude  longitude  \n",
       "                                                                            \n",
       "8951             N  06/25/2022 00:00:00      3912506  40.693031 -73.952108  \n",
       "616634           N  05/09/2022 00:00:00      1465439  40.585362 -73.814802  \n",
       "2463150          N  05/09/2022 00:00:00       316059  40.609080 -73.753366  \n",
       "3185810          N  05/09/2022 00:00:00       382579  40.586631 -73.995824  \n",
       "\n",
       "[4 rows x 22 columns]"
      ]
     },
     "execution_count": 26,
     "metadata": {},
     "output_type": "execute_result"
    }
   ],
   "source": [
    "permits[permits['zip_code'] == 99999].head()"
   ]
  },
  {
   "cell_type": "code",
   "execution_count": 27,
   "id": "d7f038a9-1dc5-4af4-8efe-d65073604713",
   "metadata": {},
   "outputs": [
    {
     "data": {
      "text/plain": [
       "borough                 0\n",
       "bin_no                  0\n",
       "house_no                0\n",
       "street_name             0\n",
       "job_no                  0\n",
       "job_type                0\n",
       "zip_code                0\n",
       "residential             0\n",
       "permit_status           0\n",
       "filing_status           0\n",
       "permit_type             0\n",
       "permit_sequence_no      0\n",
       "filing_date             0\n",
       "issuance_date           0\n",
       "expiration_date         0\n",
       "job_start_date          0\n",
       "owners_business_type    0\n",
       "non-profit              0\n",
       "dobrundate              0\n",
       "permit_si_no            0\n",
       "latitude                0\n",
       "longitude               0\n",
       "dtype: int64"
      ]
     },
     "execution_count": 27,
     "metadata": {},
     "output_type": "execute_result"
    }
   ],
   "source": [
    "permits.isnull().sum()"
   ]
  },
  {
   "cell_type": "code",
   "execution_count": 28,
   "id": "d240c002-286a-4f25-b32e-217e76f6111a",
   "metadata": {},
   "outputs": [
    {
     "data": {
      "text/plain": [
       "borough                  object\n",
       "bin_no                    int64\n",
       "house_no                 object\n",
       "street_name              object\n",
       "job_no                    int64\n",
       "job_type                 object\n",
       "zip_code                float64\n",
       "residential              object\n",
       "permit_status            object\n",
       "filing_status            object\n",
       "permit_type              object\n",
       "permit_sequence_no        int64\n",
       "filing_date              object\n",
       "issuance_date            object\n",
       "expiration_date          object\n",
       "job_start_date           object\n",
       "owners_business_type     object\n",
       "non-profit               object\n",
       "dobrundate               object\n",
       "permit_si_no              int64\n",
       "latitude                float64\n",
       "longitude               float64\n",
       "dtype: object"
      ]
     },
     "execution_count": 28,
     "metadata": {},
     "output_type": "execute_result"
    }
   ],
   "source": [
    "permits.dtypes"
   ]
  },
  {
   "cell_type": "code",
   "execution_count": 30,
   "id": "80b30ad4-32be-4046-8c29-ad6d101efe6a",
   "metadata": {},
   "outputs": [
    {
     "data": {
      "text/plain": [
       "(81113, 22)"
      ]
     },
     "execution_count": 30,
     "metadata": {},
     "output_type": "execute_result"
    }
   ],
   "source": [
    "permits.shape"
   ]
  },
  {
   "cell_type": "markdown",
   "id": "6281369e-58f1-4ff0-b2d0-85c4fbb9a6ee",
   "metadata": {},
   "source": [
    "# Taking Care of Duplicates\n",
    "I opted to keep the oldest instance of the permit."
   ]
  },
  {
   "cell_type": "code",
   "execution_count": 32,
   "id": "b3722e50-6b08-400b-9324-1c7b60863d1e",
   "metadata": {},
   "outputs": [
    {
     "data": {
      "text/plain": [
       "(5216, 22)"
      ]
     },
     "execution_count": 32,
     "metadata": {},
     "output_type": "execute_result"
    }
   ],
   "source": [
    "permits[permits.duplicated(subset = ['job_no'], keep = False)].shape"
   ]
  },
  {
   "cell_type": "code",
   "execution_count": 33,
   "id": "d280fab6-3da1-4956-a316-900302b91bb7",
   "metadata": {},
   "outputs": [
    {
     "data": {
      "text/html": [
       "<div>\n",
       "<style scoped>\n",
       "    .dataframe tbody tr th:only-of-type {\n",
       "        vertical-align: middle;\n",
       "    }\n",
       "\n",
       "    .dataframe tbody tr th {\n",
       "        vertical-align: top;\n",
       "    }\n",
       "\n",
       "    .dataframe thead th {\n",
       "        text-align: right;\n",
       "    }\n",
       "</style>\n",
       "<table border=\"1\" class=\"dataframe\">\n",
       "  <thead>\n",
       "    <tr style=\"text-align: right;\">\n",
       "      <th></th>\n",
       "      <th>borough</th>\n",
       "      <th>bin_no</th>\n",
       "      <th>house_no</th>\n",
       "      <th>street_name</th>\n",
       "      <th>job_no</th>\n",
       "      <th>job_type</th>\n",
       "      <th>zip_code</th>\n",
       "      <th>residential</th>\n",
       "      <th>permit_status</th>\n",
       "      <th>filing_status</th>\n",
       "      <th>...</th>\n",
       "      <th>filing_date</th>\n",
       "      <th>issuance_date</th>\n",
       "      <th>expiration_date</th>\n",
       "      <th>job_start_date</th>\n",
       "      <th>owners_business_type</th>\n",
       "      <th>non-profit</th>\n",
       "      <th>dobrundate</th>\n",
       "      <th>permit_si_no</th>\n",
       "      <th>latitude</th>\n",
       "      <th>longitude</th>\n",
       "    </tr>\n",
       "    <tr>\n",
       "      <th></th>\n",
       "      <th></th>\n",
       "      <th></th>\n",
       "      <th></th>\n",
       "      <th></th>\n",
       "      <th></th>\n",
       "      <th></th>\n",
       "      <th></th>\n",
       "      <th></th>\n",
       "      <th></th>\n",
       "      <th></th>\n",
       "      <th></th>\n",
       "      <th></th>\n",
       "      <th></th>\n",
       "      <th></th>\n",
       "      <th></th>\n",
       "      <th></th>\n",
       "      <th></th>\n",
       "      <th></th>\n",
       "      <th></th>\n",
       "      <th></th>\n",
       "      <th></th>\n",
       "    </tr>\n",
       "  </thead>\n",
       "  <tbody>\n",
       "    <tr>\n",
       "      <th>3597</th>\n",
       "      <td>BROOKLYN</td>\n",
       "      <td>3428769</td>\n",
       "      <td>346</td>\n",
       "      <td>BERGEN STREET</td>\n",
       "      <td>301779396</td>\n",
       "      <td>NB</td>\n",
       "      <td>11217.0</td>\n",
       "      <td>YES</td>\n",
       "      <td>ISSUED</td>\n",
       "      <td>INITIAL</td>\n",
       "      <td>...</td>\n",
       "      <td>06/23/2008</td>\n",
       "      <td>06/23/2008</td>\n",
       "      <td>11/10/2008</td>\n",
       "      <td>06/23/2008</td>\n",
       "      <td>CORPORATION</td>\n",
       "      <td>N</td>\n",
       "      <td>06/26/2020 00:00:00</td>\n",
       "      <td>1832324</td>\n",
       "      <td>40.682824</td>\n",
       "      <td>-73.980487</td>\n",
       "    </tr>\n",
       "    <tr>\n",
       "      <th>12955</th>\n",
       "      <td>BRONX</td>\n",
       "      <td>2127279</td>\n",
       "      <td>710</td>\n",
       "      <td>EAST 221 ST</td>\n",
       "      <td>220492615</td>\n",
       "      <td>NB</td>\n",
       "      <td>10467.0</td>\n",
       "      <td>YES</td>\n",
       "      <td>ISSUED</td>\n",
       "      <td>INITIAL</td>\n",
       "      <td>...</td>\n",
       "      <td>07/17/2020</td>\n",
       "      <td>07/17/2020</td>\n",
       "      <td>09/27/2020</td>\n",
       "      <td>07/17/2020</td>\n",
       "      <td>CORPORATION</td>\n",
       "      <td>N</td>\n",
       "      <td>07/20/2020 00:00:00</td>\n",
       "      <td>3775974</td>\n",
       "      <td>40.884776</td>\n",
       "      <td>-73.861399</td>\n",
       "    </tr>\n",
       "    <tr>\n",
       "      <th>13936</th>\n",
       "      <td>QUEENS</td>\n",
       "      <td>4623155</td>\n",
       "      <td>10-06</td>\n",
       "      <td>127 STREET</td>\n",
       "      <td>421912210</td>\n",
       "      <td>NB</td>\n",
       "      <td>11356.0</td>\n",
       "      <td>YES</td>\n",
       "      <td>ISSUED</td>\n",
       "      <td>INITIAL</td>\n",
       "      <td>...</td>\n",
       "      <td>04/07/2022</td>\n",
       "      <td>04/08/2022</td>\n",
       "      <td>10/25/2022</td>\n",
       "      <td>04/08/2022</td>\n",
       "      <td>INDIVIDUAL</td>\n",
       "      <td>N</td>\n",
       "      <td>04/09/2022 00:00:00</td>\n",
       "      <td>3902390</td>\n",
       "      <td>40.788177</td>\n",
       "      <td>-73.841016</td>\n",
       "    </tr>\n",
       "    <tr>\n",
       "      <th>14039</th>\n",
       "      <td>QUEENS</td>\n",
       "      <td>4151229</td>\n",
       "      <td>75-23</td>\n",
       "      <td>166 STREET</td>\n",
       "      <td>421714363</td>\n",
       "      <td>NB</td>\n",
       "      <td>11366.0</td>\n",
       "      <td>YES</td>\n",
       "      <td>ISSUED</td>\n",
       "      <td>INITIAL</td>\n",
       "      <td>...</td>\n",
       "      <td>05/02/2019</td>\n",
       "      <td>05/02/2019</td>\n",
       "      <td>09/30/2020</td>\n",
       "      <td>05/02/2019</td>\n",
       "      <td>PARTNERSHIP</td>\n",
       "      <td>N</td>\n",
       "      <td>07/29/2020 00:00:00</td>\n",
       "      <td>3629269</td>\n",
       "      <td>40.726578</td>\n",
       "      <td>-73.802796</td>\n",
       "    </tr>\n",
       "    <tr>\n",
       "      <th>14554</th>\n",
       "      <td>BROOKLYN</td>\n",
       "      <td>3198213</td>\n",
       "      <td>2033</td>\n",
       "      <td>E 17 STREET</td>\n",
       "      <td>321791290</td>\n",
       "      <td>NB</td>\n",
       "      <td>11229.0</td>\n",
       "      <td>YES</td>\n",
       "      <td>ISSUED</td>\n",
       "      <td>INITIAL</td>\n",
       "      <td>...</td>\n",
       "      <td>01/23/2020</td>\n",
       "      <td>01/23/2020</td>\n",
       "      <td>09/30/2020</td>\n",
       "      <td>01/23/2020</td>\n",
       "      <td>INDIVIDUAL</td>\n",
       "      <td>N</td>\n",
       "      <td>07/29/2020 00:00:00</td>\n",
       "      <td>3732878</td>\n",
       "      <td>40.600443</td>\n",
       "      <td>-73.954771</td>\n",
       "    </tr>\n",
       "  </tbody>\n",
       "</table>\n",
       "<p>5 rows × 22 columns</p>\n",
       "</div>"
      ],
      "text/plain": [
       "        borough   bin_no house_no    street_name     job_no job_type  \\\n",
       "                                                                       \n",
       "3597   BROOKLYN  3428769      346  BERGEN STREET  301779396       NB   \n",
       "12955     BRONX  2127279      710    EAST 221 ST  220492615       NB   \n",
       "13936    QUEENS  4623155    10-06     127 STREET  421912210       NB   \n",
       "14039    QUEENS  4151229    75-23     166 STREET  421714363       NB   \n",
       "14554  BROOKLYN  3198213     2033    E 17 STREET  321791290       NB   \n",
       "\n",
       "       zip_code residential permit_status filing_status  ... filing_date  \\\n",
       "                                                         ...               \n",
       "3597    11217.0         YES        ISSUED       INITIAL  ...  06/23/2008   \n",
       "12955   10467.0         YES        ISSUED       INITIAL  ...  07/17/2020   \n",
       "13936   11356.0         YES        ISSUED       INITIAL  ...  04/07/2022   \n",
       "14039   11366.0         YES        ISSUED       INITIAL  ...  05/02/2019   \n",
       "14554   11229.0         YES        ISSUED       INITIAL  ...  01/23/2020   \n",
       "\n",
       "       issuance_date expiration_date job_start_date owners_business_type  \\\n",
       "                                                                           \n",
       "3597      06/23/2008      11/10/2008     06/23/2008          CORPORATION   \n",
       "12955     07/17/2020      09/27/2020     07/17/2020          CORPORATION   \n",
       "13936     04/08/2022      10/25/2022     04/08/2022           INDIVIDUAL   \n",
       "14039     05/02/2019      09/30/2020     05/02/2019          PARTNERSHIP   \n",
       "14554     01/23/2020      09/30/2020     01/23/2020           INDIVIDUAL   \n",
       "\n",
       "      non-profit           dobrundate permit_si_no   latitude  longitude  \n",
       "                                                                          \n",
       "3597           N  06/26/2020 00:00:00      1832324  40.682824 -73.980487  \n",
       "12955          N  07/20/2020 00:00:00      3775974  40.884776 -73.861399  \n",
       "13936          N  04/09/2022 00:00:00      3902390  40.788177 -73.841016  \n",
       "14039          N  07/29/2020 00:00:00      3629269  40.726578 -73.802796  \n",
       "14554          N  07/29/2020 00:00:00      3732878  40.600443 -73.954771  \n",
       "\n",
       "[5 rows x 22 columns]"
      ]
     },
     "execution_count": 33,
     "metadata": {},
     "output_type": "execute_result"
    }
   ],
   "source": [
    "duplicated = permits[permits.duplicated(subset = ['job_no'], keep = False)]\n",
    "duplicated.head()"
   ]
  },
  {
   "cell_type": "code",
   "execution_count": 37,
   "id": "347af157-5aa8-4d04-88d1-1186edb1f10c",
   "metadata": {},
   "outputs": [],
   "source": [
    "pd.set_option('display.max_columns', 22)"
   ]
  },
  {
   "cell_type": "code",
   "execution_count": 40,
   "id": "56b3d8da-baeb-49c6-8ce9-78c8c1a19c79",
   "metadata": {},
   "outputs": [
    {
     "name": "stderr",
     "output_type": "stream",
     "text": [
      "/var/folders/5_/498w081d1837cc82dmb4hwmc0000gn/T/ipykernel_24394/1232839256.py:1: SettingWithCopyWarning: \n",
      "A value is trying to be set on a copy of a slice from a DataFrame.\n",
      "Try using .loc[row_indexer,col_indexer] = value instead\n",
      "\n",
      "See the caveats in the documentation: https://pandas.pydata.org/pandas-docs/stable/user_guide/indexing.html#returning-a-view-versus-a-copy\n",
      "  duplicated['job_start_date'] = pd.to_datetime(duplicated['job_start_date'])\n"
     ]
    }
   ],
   "source": [
    "duplicated['job_start_date'] = pd.to_datetime(duplicated['job_start_date'])"
   ]
  },
  {
   "cell_type": "code",
   "execution_count": 43,
   "id": "ae5e5ccc-8be8-405d-9851-b8d8d4fbcc74",
   "metadata": {},
   "outputs": [
    {
     "name": "stderr",
     "output_type": "stream",
     "text": [
      "/var/folders/5_/498w081d1837cc82dmb4hwmc0000gn/T/ipykernel_24394/3323442690.py:1: SettingWithCopyWarning: \n",
      "A value is trying to be set on a copy of a slice from a DataFrame\n",
      "\n",
      "See the caveats in the documentation: https://pandas.pydata.org/pandas-docs/stable/user_guide/indexing.html#returning-a-view-versus-a-copy\n",
      "  duplicated.sort_values(by='job_start_date', inplace = True)\n"
     ]
    }
   ],
   "source": [
    "duplicated.sort_values(by='job_start_date', inplace = True)"
   ]
  },
  {
   "cell_type": "code",
   "execution_count": 44,
   "id": "213dfd67-db95-4602-8b57-e568db4ee21a",
   "metadata": {},
   "outputs": [
    {
     "name": "stderr",
     "output_type": "stream",
     "text": [
      "/var/folders/5_/498w081d1837cc82dmb4hwmc0000gn/T/ipykernel_24394/2717639440.py:1: SettingWithCopyWarning: \n",
      "A value is trying to be set on a copy of a slice from a DataFrame\n",
      "\n",
      "See the caveats in the documentation: https://pandas.pydata.org/pandas-docs/stable/user_guide/indexing.html#returning-a-view-versus-a-copy\n",
      "  duplicated.sort_values(by='job_no', inplace = True)\n"
     ]
    }
   ],
   "source": [
    "duplicated.sort_values(by='job_no', inplace = True)"
   ]
  },
  {
   "cell_type": "code",
   "execution_count": 46,
   "id": "ed63b524-4af9-4fb5-b70a-14c60c3185b3",
   "metadata": {},
   "outputs": [
    {
     "data": {
      "text/html": [
       "<div>\n",
       "<style scoped>\n",
       "    .dataframe tbody tr th:only-of-type {\n",
       "        vertical-align: middle;\n",
       "    }\n",
       "\n",
       "    .dataframe tbody tr th {\n",
       "        vertical-align: top;\n",
       "    }\n",
       "\n",
       "    .dataframe thead th {\n",
       "        text-align: right;\n",
       "    }\n",
       "</style>\n",
       "<table border=\"1\" class=\"dataframe\">\n",
       "  <thead>\n",
       "    <tr style=\"text-align: right;\">\n",
       "      <th></th>\n",
       "      <th>borough</th>\n",
       "      <th>bin_no</th>\n",
       "      <th>house_no</th>\n",
       "      <th>street_name</th>\n",
       "      <th>job_no</th>\n",
       "      <th>job_type</th>\n",
       "      <th>zip_code</th>\n",
       "      <th>residential</th>\n",
       "      <th>permit_status</th>\n",
       "      <th>filing_status</th>\n",
       "      <th>permit_type</th>\n",
       "      <th>permit_sequence_no</th>\n",
       "      <th>filing_date</th>\n",
       "      <th>issuance_date</th>\n",
       "      <th>expiration_date</th>\n",
       "      <th>job_start_date</th>\n",
       "      <th>owners_business_type</th>\n",
       "      <th>non-profit</th>\n",
       "      <th>dobrundate</th>\n",
       "      <th>permit_si_no</th>\n",
       "      <th>latitude</th>\n",
       "      <th>longitude</th>\n",
       "    </tr>\n",
       "    <tr>\n",
       "      <th></th>\n",
       "      <th></th>\n",
       "      <th></th>\n",
       "      <th></th>\n",
       "      <th></th>\n",
       "      <th></th>\n",
       "      <th></th>\n",
       "      <th></th>\n",
       "      <th></th>\n",
       "      <th></th>\n",
       "      <th></th>\n",
       "      <th></th>\n",
       "      <th></th>\n",
       "      <th></th>\n",
       "      <th></th>\n",
       "      <th></th>\n",
       "      <th></th>\n",
       "      <th></th>\n",
       "      <th></th>\n",
       "      <th></th>\n",
       "      <th></th>\n",
       "      <th></th>\n",
       "      <th></th>\n",
       "    </tr>\n",
       "  </thead>\n",
       "  <tbody>\n",
       "    <tr>\n",
       "      <th>34435</th>\n",
       "      <td>MANHATTAN</td>\n",
       "      <td>1085345</td>\n",
       "      <td>2556A</td>\n",
       "      <td>8 AVENUE</td>\n",
       "      <td>100134070</td>\n",
       "      <td>NB</td>\n",
       "      <td>10030.0</td>\n",
       "      <td>YES</td>\n",
       "      <td>ISSUED</td>\n",
       "      <td>INITIAL</td>\n",
       "      <td>NB</td>\n",
       "      <td>1</td>\n",
       "      <td>1993-07-30</td>\n",
       "      <td>1993-07-30</td>\n",
       "      <td>1994-01-01</td>\n",
       "      <td>1993-07-30</td>\n",
       "      <td>OTHER</td>\n",
       "      <td>N</td>\n",
       "      <td>2017-11-03</td>\n",
       "      <td>346857</td>\n",
       "      <td>40.817374</td>\n",
       "      <td>-73.945898</td>\n",
       "    </tr>\n",
       "    <tr>\n",
       "      <th>3336873</th>\n",
       "      <td>MANHATTAN</td>\n",
       "      <td>1085345</td>\n",
       "      <td>2556A</td>\n",
       "      <td>8 AVENUE</td>\n",
       "      <td>100134070</td>\n",
       "      <td>NB</td>\n",
       "      <td>10030.0</td>\n",
       "      <td>YES</td>\n",
       "      <td>ISSUED</td>\n",
       "      <td>INITIAL</td>\n",
       "      <td>NB</td>\n",
       "      <td>1</td>\n",
       "      <td>07/30/1993</td>\n",
       "      <td>07/30/1993</td>\n",
       "      <td>01/01/1994</td>\n",
       "      <td>1993-07-30</td>\n",
       "      <td>OTHER</td>\n",
       "      <td>N</td>\n",
       "      <td>05/09/2022 00:00:00</td>\n",
       "      <td>454968</td>\n",
       "      <td>40.817374</td>\n",
       "      <td>-73.945898</td>\n",
       "    </tr>\n",
       "    <tr>\n",
       "      <th>16676</th>\n",
       "      <td>MANHATTAN</td>\n",
       "      <td>1085611</td>\n",
       "      <td>2572A</td>\n",
       "      <td>8 AVENUE</td>\n",
       "      <td>100134178</td>\n",
       "      <td>NB</td>\n",
       "      <td>10030.0</td>\n",
       "      <td>YES</td>\n",
       "      <td>ISSUED</td>\n",
       "      <td>INITIAL</td>\n",
       "      <td>NB</td>\n",
       "      <td>1</td>\n",
       "      <td>1992-12-29</td>\n",
       "      <td>1992-12-29</td>\n",
       "      <td>1994-01-01</td>\n",
       "      <td>1992-12-29</td>\n",
       "      <td>OTHER</td>\n",
       "      <td>N</td>\n",
       "      <td>2017-11-03</td>\n",
       "      <td>293450</td>\n",
       "      <td>40.817936</td>\n",
       "      <td>-73.945486</td>\n",
       "    </tr>\n",
       "    <tr>\n",
       "      <th>3221901</th>\n",
       "      <td>MANHATTAN</td>\n",
       "      <td>1085611</td>\n",
       "      <td>2572A</td>\n",
       "      <td>8 AVENUE</td>\n",
       "      <td>100134178</td>\n",
       "      <td>NB</td>\n",
       "      <td>10030.0</td>\n",
       "      <td>YES</td>\n",
       "      <td>ISSUED</td>\n",
       "      <td>INITIAL</td>\n",
       "      <td>NB</td>\n",
       "      <td>1</td>\n",
       "      <td>12/29/1992</td>\n",
       "      <td>12/29/1992</td>\n",
       "      <td>01/01/1994</td>\n",
       "      <td>1992-12-29</td>\n",
       "      <td>OTHER</td>\n",
       "      <td>N</td>\n",
       "      <td>05/09/2022 00:00:00</td>\n",
       "      <td>386074</td>\n",
       "      <td>40.817936</td>\n",
       "      <td>-73.945486</td>\n",
       "    </tr>\n",
       "    <tr>\n",
       "      <th>3411797</th>\n",
       "      <td>MANHATTAN</td>\n",
       "      <td>1084483</td>\n",
       "      <td>2543</td>\n",
       "      <td>8 AVENUE</td>\n",
       "      <td>100134258</td>\n",
       "      <td>NB</td>\n",
       "      <td>10030.0</td>\n",
       "      <td>YES</td>\n",
       "      <td>ISSUED</td>\n",
       "      <td>INITIAL</td>\n",
       "      <td>NB</td>\n",
       "      <td>1</td>\n",
       "      <td>01/28/1994</td>\n",
       "      <td>01/28/1994</td>\n",
       "      <td>01/01/1995</td>\n",
       "      <td>1994-01-28</td>\n",
       "      <td>OTHER</td>\n",
       "      <td>N</td>\n",
       "      <td>05/09/2022 00:00:00</td>\n",
       "      <td>528566</td>\n",
       "      <td>40.817275</td>\n",
       "      <td>-73.945999</td>\n",
       "    </tr>\n",
       "  </tbody>\n",
       "</table>\n",
       "</div>"
      ],
      "text/plain": [
       "           borough   bin_no house_no street_name     job_no job_type  \\\n",
       "                                                                       \n",
       "34435    MANHATTAN  1085345    2556A    8 AVENUE  100134070       NB   \n",
       "3336873  MANHATTAN  1085345    2556A    8 AVENUE  100134070       NB   \n",
       "16676    MANHATTAN  1085611    2572A    8 AVENUE  100134178       NB   \n",
       "3221901  MANHATTAN  1085611    2572A    8 AVENUE  100134178       NB   \n",
       "3411797  MANHATTAN  1084483     2543    8 AVENUE  100134258       NB   \n",
       "\n",
       "         zip_code residential permit_status filing_status permit_type  \\\n",
       "                                                                        \n",
       "34435     10030.0         YES        ISSUED       INITIAL          NB   \n",
       "3336873   10030.0         YES        ISSUED       INITIAL          NB   \n",
       "16676     10030.0         YES        ISSUED       INITIAL          NB   \n",
       "3221901   10030.0         YES        ISSUED       INITIAL          NB   \n",
       "3411797   10030.0         YES        ISSUED       INITIAL          NB   \n",
       "\n",
       "         permit_sequence_no  filing_date issuance_date expiration_date  \\\n",
       "                                                                         \n",
       "34435                     1  1993-07-30    1993-07-30       1994-01-01   \n",
       "3336873                   1   07/30/1993    07/30/1993      01/01/1994   \n",
       "16676                     1  1992-12-29    1992-12-29       1994-01-01   \n",
       "3221901                   1   12/29/1992    12/29/1992      01/01/1994   \n",
       "3411797                   1   01/28/1994    01/28/1994      01/01/1995   \n",
       "\n",
       "        job_start_date owners_business_type non-profit           dobrundate  \\\n",
       "                                                                              \n",
       "34435       1993-07-30                OTHER          N          2017-11-03    \n",
       "3336873     1993-07-30                OTHER          N  05/09/2022 00:00:00   \n",
       "16676       1992-12-29                OTHER          N          2017-11-03    \n",
       "3221901     1992-12-29                OTHER          N  05/09/2022 00:00:00   \n",
       "3411797     1994-01-28                OTHER          N  05/09/2022 00:00:00   \n",
       "\n",
       "         permit_si_no   latitude  longitude  \n",
       "                                             \n",
       "34435          346857  40.817374 -73.945898  \n",
       "3336873        454968  40.817374 -73.945898  \n",
       "16676          293450  40.817936 -73.945486  \n",
       "3221901        386074  40.817936 -73.945486  \n",
       "3411797        528566  40.817275 -73.945999  "
      ]
     },
     "execution_count": 46,
     "metadata": {},
     "output_type": "execute_result"
    }
   ],
   "source": [
    "duplicated.head()"
   ]
  },
  {
   "cell_type": "code",
   "execution_count": 48,
   "id": "1fbeca79-face-4e71-af66-43e8bbd4da0a",
   "metadata": {},
   "outputs": [
    {
     "name": "stderr",
     "output_type": "stream",
     "text": [
      "/var/folders/5_/498w081d1837cc82dmb4hwmc0000gn/T/ipykernel_24394/1961017179.py:1: SettingWithCopyWarning: \n",
      "A value is trying to be set on a copy of a slice from a DataFrame\n",
      "\n",
      "See the caveats in the documentation: https://pandas.pydata.org/pandas-docs/stable/user_guide/indexing.html#returning-a-view-versus-a-copy\n",
      "  duplicated.drop_duplicates(subset = 'job_no', inplace = True)\n"
     ]
    }
   ],
   "source": [
    "duplicated.drop_duplicates(subset = 'job_no', inplace = True)"
   ]
  },
  {
   "cell_type": "code",
   "execution_count": 49,
   "id": "6e1531fa-c786-45d2-934e-15e8a8d84b60",
   "metadata": {},
   "outputs": [
    {
     "data": {
      "text/plain": [
       "(2608, 22)"
      ]
     },
     "execution_count": 49,
     "metadata": {},
     "output_type": "execute_result"
    }
   ],
   "source": [
    "duplicated.shape"
   ]
  },
  {
   "cell_type": "code",
   "execution_count": 50,
   "id": "b7a37a9f-5f0d-4a00-a72f-574c0ac8be93",
   "metadata": {},
   "outputs": [
    {
     "data": {
      "text/plain": [
       "(81113, 22)"
      ]
     },
     "execution_count": 50,
     "metadata": {},
     "output_type": "execute_result"
    }
   ],
   "source": [
    "permits.shape"
   ]
  },
  {
   "cell_type": "code",
   "execution_count": 53,
   "id": "56be29c1-8a08-416f-9e06-91c40e631b61",
   "metadata": {},
   "outputs": [],
   "source": [
    "permits.drop_duplicates(subset = 'job_no', keep = False, inplace= True)"
   ]
  },
  {
   "cell_type": "code",
   "execution_count": 54,
   "id": "669b287d-e67c-47b0-9dd5-b3f5f1e74578",
   "metadata": {},
   "outputs": [
    {
     "data": {
      "text/plain": [
       "(75897, 22)"
      ]
     },
     "execution_count": 54,
     "metadata": {},
     "output_type": "execute_result"
    }
   ],
   "source": [
    "permits.shape"
   ]
  },
  {
   "cell_type": "code",
   "execution_count": 56,
   "id": "bcb3512f-bc64-47ef-934b-59af28bcaacb",
   "metadata": {},
   "outputs": [],
   "source": [
    "permits = pd.concat([permits, duplicated])"
   ]
  },
  {
   "cell_type": "code",
   "execution_count": 57,
   "id": "cab16642-b82a-4579-a773-98048df178f7",
   "metadata": {},
   "outputs": [
    {
     "data": {
      "text/plain": [
       "(78505, 22)"
      ]
     },
     "execution_count": 57,
     "metadata": {},
     "output_type": "execute_result"
    }
   ],
   "source": [
    "permits.shape"
   ]
  },
  {
   "cell_type": "code",
   "execution_count": 58,
   "id": "dfd86bd0-5f1c-4d85-9b29-3fe6c8cda50f",
   "metadata": {},
   "outputs": [
    {
     "data": {
      "text/plain": [
       "Index(['borough', 'bin_no', 'house_no', 'street_name', 'job_no', 'job_type',\n",
       "       'zip_code', 'residential', 'permit_status', 'filing_status',\n",
       "       'permit_type', 'permit_sequence_no', 'filing_date', 'issuance_date',\n",
       "       'expiration_date', 'job_start_date', 'owners_business_type',\n",
       "       'non-profit', 'dobrundate', 'permit_si_no', 'latitude', 'longitude'],\n",
       "      dtype='object')"
      ]
     },
     "execution_count": 58,
     "metadata": {},
     "output_type": "execute_result"
    }
   ],
   "source": [
    "permits.columns"
   ]
  },
  {
   "cell_type": "code",
   "execution_count": 59,
   "id": "8514fae1-588a-4294-a727-704cf776e2b9",
   "metadata": {},
   "outputs": [
    {
     "data": {
      "text/plain": [
       "INITIAL    78505\n",
       "Name: filing_status, dtype: int64"
      ]
     },
     "execution_count": 59,
     "metadata": {},
     "output_type": "execute_result"
    }
   ],
   "source": [
    "permits['filing_status'].value_counts()"
   ]
  },
  {
   "cell_type": "code",
   "execution_count": 60,
   "id": "dd8ec2b9-f70e-4f0c-a142-88218563d262",
   "metadata": {},
   "outputs": [
    {
     "data": {
      "text/plain": [
       "NB    78505\n",
       "Name: job_type, dtype: int64"
      ]
     },
     "execution_count": 60,
     "metadata": {},
     "output_type": "execute_result"
    }
   ],
   "source": [
    "permits['job_type'].value_counts()"
   ]
  },
  {
   "cell_type": "code",
   "execution_count": 61,
   "id": "901ce731-7c37-4979-a00c-9c79ea524ab7",
   "metadata": {},
   "outputs": [
    {
     "data": {
      "text/plain": [
       "NB    78505\n",
       "Name: permit_type, dtype: int64"
      ]
     },
     "execution_count": 61,
     "metadata": {},
     "output_type": "execute_result"
    }
   ],
   "source": [
    "permits['permit_type'].value_counts()"
   ]
  },
  {
   "cell_type": "markdown",
   "id": "5b656180-a30f-4f5c-8da7-0e305553bcd4",
   "metadata": {},
   "source": [
    "I'm going to drop these because I either don't need them any more or can't determine what they are.\n",
    "\n",
    "**Everything at this point is New Building (NB) for both job_type and permit_type. All residential, too**"
   ]
  },
  {
   "cell_type": "code",
   "execution_count": 62,
   "id": "725b6441-cb08-4d41-8e44-8703e855dde8",
   "metadata": {},
   "outputs": [
    {
     "data": {
      "text/plain": [
       "(78505, 22)"
      ]
     },
     "execution_count": 62,
     "metadata": {},
     "output_type": "execute_result"
    }
   ],
   "source": [
    "permits.shape"
   ]
  },
  {
   "cell_type": "code",
   "execution_count": 63,
   "id": "e8c46da6-59a0-49d6-826c-d3fb83ce0914",
   "metadata": {},
   "outputs": [],
   "source": [
    "permits.drop(columns = ['job_type', 'residential', 'filing_status','permit_type','permit_si_no', 'permit_sequence_no'], inplace = True)"
   ]
  },
  {
   "cell_type": "code",
   "execution_count": 68,
   "id": "1982d481-dbf1-4f6b-962a-a5755a9b6d2c",
   "metadata": {},
   "outputs": [
    {
     "data": {
      "text/plain": [
       "(78505, 16)"
      ]
     },
     "execution_count": 68,
     "metadata": {},
     "output_type": "execute_result"
    }
   ],
   "source": [
    "permits.shape"
   ]
  },
  {
   "cell_type": "markdown",
   "id": "45066ead-07db-49ad-918e-22a7473dfb29",
   "metadata": {},
   "source": [
    "make zip_code integer.\n",
    "make filing_date, issuance_date, expiration_date, job_start_date into datetimes. Do I need expiration date?\n",
    "\n",
    "what is permit_si_no? I can't find that anywhere online. Number for the permit? As opposed to the job?\n",
    "permit_sequence_no?\n",
    "\n",
    "can drop residential at this point because they're all residential. check it first to make sure.\n",
    "\n",
    "Check the statuses to see what they look like"
   ]
  },
  {
   "cell_type": "code",
   "execution_count": 65,
   "id": "c8c9d6d9-d8ae-4713-878d-f6ddacd60756",
   "metadata": {},
   "outputs": [],
   "source": [
    "permits['zip_code'] = permits['zip_code'].astype(int)"
   ]
  },
  {
   "cell_type": "code",
   "execution_count": 69,
   "id": "72ee3791-e502-4cc4-89df-308254b61a46",
   "metadata": {},
   "outputs": [],
   "source": [
    "permits['filing_date'] = pd.to_datetime(permits['filing_date'])"
   ]
  },
  {
   "cell_type": "code",
   "execution_count": null,
   "id": "83f1e887-354a-4848-a52c-3ed81fdc2164",
   "metadata": {},
   "outputs": [],
   "source": [
    "permits['issuance_date'] = pd.to_datetime(permits['issuance_date'])"
   ]
  },
  {
   "cell_type": "code",
   "execution_count": 73,
   "id": "250ed74e-b4d7-4bb9-99fb-203e6de87654",
   "metadata": {},
   "outputs": [],
   "source": [
    "permits['expiration_date'] = pd.to_datetime(permits['expiration_date'])"
   ]
  },
  {
   "cell_type": "code",
   "execution_count": 75,
   "id": "8801109c-ef77-43e9-842b-321f69e15448",
   "metadata": {},
   "outputs": [],
   "source": [
    "permits['job_start_date'] = pd.to_datetime(permits['job_start_date'])"
   ]
  },
  {
   "cell_type": "code",
   "execution_count": 77,
   "id": "be6af396-17ae-4754-9fa9-8422edf2835f",
   "metadata": {},
   "outputs": [],
   "source": [
    "permits['dobrundate'] = pd.to_datetime(permits['dobrundate'])"
   ]
  },
  {
   "cell_type": "code",
   "execution_count": 78,
   "id": "55ca2b41-e95e-440f-93b2-4c47b1663b7f",
   "metadata": {},
   "outputs": [
    {
     "data": {
      "text/plain": [
       "borough                         object\n",
       "bin_no                           int64\n",
       "house_no                        object\n",
       "street_name                     object\n",
       "job_no                           int64\n",
       "zip_code                         int64\n",
       "permit_status                   object\n",
       "filing_date             datetime64[ns]\n",
       "issuance_date           datetime64[ns]\n",
       "expiration_date         datetime64[ns]\n",
       "job_start_date          datetime64[ns]\n",
       "owners_business_type            object\n",
       "non-profit                      object\n",
       "dobrundate              datetime64[ns]\n",
       "latitude                       float64\n",
       "longitude                      float64\n",
       "dtype: object"
      ]
     },
     "execution_count": 78,
     "metadata": {},
     "output_type": "execute_result"
    }
   ],
   "source": [
    "permits.dtypes"
   ]
  },
  {
   "cell_type": "markdown",
   "id": "9d5137a0-a398-4bdf-a78d-032fcdb196a9",
   "metadata": {},
   "source": [
    "------"
   ]
  },
  {
   "cell_type": "code",
   "execution_count": 61,
   "id": "7fe3c9b5-e826-4024-b40c-0e26daf7f201",
   "metadata": {},
   "outputs": [],
   "source": [
    "permits = pd.read_csv('data/nbrespermits.csv')"
   ]
  },
  {
   "cell_type": "code",
   "execution_count": 62,
   "id": "afd6cb7f-25f4-4d36-abd9-fd8532f055a0",
   "metadata": {},
   "outputs": [
    {
     "data": {
      "text/plain": [
       "borough                  object\n",
       "bin_no                    int64\n",
       "house_no                 object\n",
       "street_name              object\n",
       "job_no                    int64\n",
       "zip_code                  int64\n",
       "permit_status            object\n",
       "filing_date              object\n",
       "issuance_date            object\n",
       "expiration_date          object\n",
       "job_start_date           object\n",
       "owners_business_type     object\n",
       "non-profit               object\n",
       "dobrundate               object\n",
       "latitude                float64\n",
       "longitude               float64\n",
       "dtype: object"
      ]
     },
     "execution_count": 62,
     "metadata": {},
     "output_type": "execute_result"
    }
   ],
   "source": [
    "permits.dtypes"
   ]
  },
  {
   "cell_type": "code",
   "execution_count": 63,
   "id": "e1f1443d-db88-492b-81ed-c6fd5310a6b0",
   "metadata": {},
   "outputs": [],
   "source": [
    "permits['job_start_date'] = pd.to_datetime(permits['job_start_date'])"
   ]
  },
  {
   "cell_type": "code",
   "execution_count": 64,
   "id": "196597ef-4568-4c81-b662-e3711295b183",
   "metadata": {},
   "outputs": [
    {
     "name": "stderr",
     "output_type": "stream",
     "text": [
      "/var/folders/5_/498w081d1837cc82dmb4hwmc0000gn/T/ipykernel_10379/1807671964.py:1: FutureWarning: Treating datetime data as categorical rather than numeric in `.describe` is deprecated and will be removed in a future version of pandas. Specify `datetime_is_numeric=True` to silence this warning and adopt the future behavior now.\n",
      "  permits['job_start_date'].describe()\n"
     ]
    },
    {
     "data": {
      "text/plain": [
       "count                   78505\n",
       "unique                   7718\n",
       "top       2004-05-24 00:00:00\n",
       "freq                      119\n",
       "first     1989-09-08 00:00:00\n",
       "last      2217-10-23 00:00:00\n",
       "Name: job_start_date, dtype: object"
      ]
     },
     "execution_count": 64,
     "metadata": {},
     "output_type": "execute_result"
    }
   ],
   "source": [
    "permits['job_start_date'].describe()"
   ]
  },
  {
   "cell_type": "markdown",
   "id": "45f8353c-e1ac-4667-ba34-bfd2dd7782d5",
   "metadata": {},
   "source": [
    "# 5 Years Back\n",
    "I eliminated data for jobs starting more than 5 years ago.\n",
    "\n",
    "There were a handful of data that had problematic job start dates that were clearly from clerical errors. Most of those were from older permits than I'm interested and there were so few remaining I decided to eliminate those."
   ]
  },
  {
   "cell_type": "code",
   "execution_count": 66,
   "id": "79070897-e74e-4daf-a7af-9c5d381956b4",
   "metadata": {},
   "outputs": [],
   "source": [
    "permits = permits[permits['job_start_date']> pd.to_datetime('2016-08-02')]"
   ]
  },
  {
   "cell_type": "code",
   "execution_count": 67,
   "id": "48b421f9-8099-442a-8a74-7fc1255b804d",
   "metadata": {},
   "outputs": [
    {
     "data": {
      "text/plain": [
       "(10, 16)"
      ]
     },
     "execution_count": 67,
     "metadata": {},
     "output_type": "execute_result"
    }
   ],
   "source": [
    "permits[permits['job_start_date']>pd.to_datetime('2022-09-30')].shape"
   ]
  },
  {
   "cell_type": "code",
   "execution_count": 68,
   "id": "3dbad9ef-d66e-4392-a536-0c099bc3d1c9",
   "metadata": {},
   "outputs": [],
   "source": [
    "permits['expiration_date'] = pd.to_datetime(permits['expiration_date'])"
   ]
  },
  {
   "cell_type": "code",
   "execution_count": 69,
   "id": "92a793a6-a31c-431e-b9a3-11f8156dbf12",
   "metadata": {},
   "outputs": [
    {
     "data": {
      "text/plain": [
       "(7384, 16)"
      ]
     },
     "execution_count": 69,
     "metadata": {},
     "output_type": "execute_result"
    }
   ],
   "source": [
    "permits.shape"
   ]
  },
  {
   "cell_type": "code",
   "execution_count": 71,
   "id": "4424f64b-5452-4f0d-8ddb-106e223bd3b4",
   "metadata": {},
   "outputs": [
    {
     "data": {
      "text/html": [
       "<div>\n",
       "<style scoped>\n",
       "    .dataframe tbody tr th:only-of-type {\n",
       "        vertical-align: middle;\n",
       "    }\n",
       "\n",
       "    .dataframe tbody tr th {\n",
       "        vertical-align: top;\n",
       "    }\n",
       "\n",
       "    .dataframe thead th {\n",
       "        text-align: right;\n",
       "    }\n",
       "</style>\n",
       "<table border=\"1\" class=\"dataframe\">\n",
       "  <thead>\n",
       "    <tr style=\"text-align: right;\">\n",
       "      <th></th>\n",
       "      <th>borough</th>\n",
       "      <th>bin_no</th>\n",
       "      <th>house_no</th>\n",
       "      <th>street_name</th>\n",
       "      <th>job_no</th>\n",
       "      <th>zip_code</th>\n",
       "      <th>permit_status</th>\n",
       "      <th>filing_date</th>\n",
       "      <th>issuance_date</th>\n",
       "      <th>expiration_date</th>\n",
       "      <th>job_start_date</th>\n",
       "      <th>owners_business_type</th>\n",
       "      <th>non-profit</th>\n",
       "      <th>dobrundate</th>\n",
       "      <th>latitude</th>\n",
       "      <th>longitude</th>\n",
       "    </tr>\n",
       "  </thead>\n",
       "  <tbody>\n",
       "    <tr>\n",
       "      <th>21460</th>\n",
       "      <td>BROOKLYN</td>\n",
       "      <td>3387710</td>\n",
       "      <td>168</td>\n",
       "      <td>CLYMER STREET</td>\n",
       "      <td>301003027</td>\n",
       "      <td>11211</td>\n",
       "      <td>ISSUED</td>\n",
       "      <td>2002-10-17</td>\n",
       "      <td>2002-10-17</td>\n",
       "      <td>2003-08-14</td>\n",
       "      <td>2020-10-17</td>\n",
       "      <td>INDIVIDUAL</td>\n",
       "      <td>N</td>\n",
       "      <td>2022-05-09</td>\n",
       "      <td>40.706954</td>\n",
       "      <td>-73.963001</td>\n",
       "    </tr>\n",
       "    <tr>\n",
       "      <th>34263</th>\n",
       "      <td>QUEENS</td>\n",
       "      <td>4102779</td>\n",
       "      <td>151-38</td>\n",
       "      <td>7 AVENUE</td>\n",
       "      <td>402290588</td>\n",
       "      <td>11357</td>\n",
       "      <td>ISSUED</td>\n",
       "      <td>2006-08-04</td>\n",
       "      <td>2006-08-10</td>\n",
       "      <td>2007-03-07</td>\n",
       "      <td>2206-08-10</td>\n",
       "      <td>INDIVIDUAL</td>\n",
       "      <td>N</td>\n",
       "      <td>2022-05-09</td>\n",
       "      <td>40.795141</td>\n",
       "      <td>-73.812218</td>\n",
       "    </tr>\n",
       "    <tr>\n",
       "      <th>45687</th>\n",
       "      <td>BRONX</td>\n",
       "      <td>2128376</td>\n",
       "      <td>943</td>\n",
       "      <td>FTELEY AVE</td>\n",
       "      <td>220361935</td>\n",
       "      <td>10473</td>\n",
       "      <td>ISSUED</td>\n",
       "      <td>2014-09-02</td>\n",
       "      <td>2014-09-02</td>\n",
       "      <td>2015-06-03</td>\n",
       "      <td>2104-09-02</td>\n",
       "      <td>INDIVIDUAL</td>\n",
       "      <td>N</td>\n",
       "      <td>2022-05-09</td>\n",
       "      <td>40.823810</td>\n",
       "      <td>-73.870284</td>\n",
       "    </tr>\n",
       "    <tr>\n",
       "      <th>48363</th>\n",
       "      <td>BROOKLYN</td>\n",
       "      <td>3413793</td>\n",
       "      <td>1269</td>\n",
       "      <td>EAST 54TH STREET</td>\n",
       "      <td>320593443</td>\n",
       "      <td>11234</td>\n",
       "      <td>RE-ISSUED</td>\n",
       "      <td>2015-11-04</td>\n",
       "      <td>2015-11-13</td>\n",
       "      <td>2016-06-30</td>\n",
       "      <td>2016-11-18</td>\n",
       "      <td>CORPORATION</td>\n",
       "      <td>N</td>\n",
       "      <td>2022-05-09</td>\n",
       "      <td>40.626969</td>\n",
       "      <td>-73.923825</td>\n",
       "    </tr>\n",
       "    <tr>\n",
       "      <th>48736</th>\n",
       "      <td>BRONX</td>\n",
       "      <td>2102544</td>\n",
       "      <td>2082</td>\n",
       "      <td>HONEYWELL AVENUE</td>\n",
       "      <td>200614193</td>\n",
       "      <td>10460</td>\n",
       "      <td>ISSUED</td>\n",
       "      <td>2000-11-20</td>\n",
       "      <td>2000-11-20</td>\n",
       "      <td>2001-02-26</td>\n",
       "      <td>2200-11-20</td>\n",
       "      <td>PARTNERSHIP</td>\n",
       "      <td>N</td>\n",
       "      <td>2022-05-09</td>\n",
       "      <td>40.844549</td>\n",
       "      <td>-73.882785</td>\n",
       "    </tr>\n",
       "    <tr>\n",
       "      <th>71441</th>\n",
       "      <td>BROOKLYN</td>\n",
       "      <td>3388038</td>\n",
       "      <td>772</td>\n",
       "      <td>HERKIMER STREET</td>\n",
       "      <td>301467240</td>\n",
       "      <td>11233</td>\n",
       "      <td>ISSUED</td>\n",
       "      <td>2003-01-17</td>\n",
       "      <td>2003-01-17</td>\n",
       "      <td>2003-11-15</td>\n",
       "      <td>2030-01-17</td>\n",
       "      <td>CORPORATION</td>\n",
       "      <td>N</td>\n",
       "      <td>2022-05-09</td>\n",
       "      <td>40.678436</td>\n",
       "      <td>-73.927880</td>\n",
       "    </tr>\n",
       "  </tbody>\n",
       "</table>\n",
       "</div>"
      ],
      "text/plain": [
       "        borough   bin_no house_no       street_name     job_no  zip_code  \\\n",
       "21460  BROOKLYN  3387710      168     CLYMER STREET  301003027     11211   \n",
       "34263    QUEENS  4102779   151-38          7 AVENUE  402290588     11357   \n",
       "45687     BRONX  2128376      943        FTELEY AVE  220361935     10473   \n",
       "48363  BROOKLYN  3413793     1269  EAST 54TH STREET  320593443     11234   \n",
       "48736     BRONX  2102544     2082  HONEYWELL AVENUE  200614193     10460   \n",
       "71441  BROOKLYN  3388038      772   HERKIMER STREET  301467240     11233   \n",
       "\n",
       "      permit_status filing_date issuance_date expiration_date job_start_date  \\\n",
       "21460        ISSUED  2002-10-17    2002-10-17      2003-08-14     2020-10-17   \n",
       "34263        ISSUED  2006-08-04    2006-08-10      2007-03-07     2206-08-10   \n",
       "45687        ISSUED  2014-09-02    2014-09-02      2015-06-03     2104-09-02   \n",
       "48363     RE-ISSUED  2015-11-04    2015-11-13      2016-06-30     2016-11-18   \n",
       "48736        ISSUED  2000-11-20    2000-11-20      2001-02-26     2200-11-20   \n",
       "71441        ISSUED  2003-01-17    2003-01-17      2003-11-15     2030-01-17   \n",
       "\n",
       "      owners_business_type non-profit  dobrundate   latitude  longitude  \n",
       "21460           INDIVIDUAL          N  2022-05-09  40.706954 -73.963001  \n",
       "34263           INDIVIDUAL          N  2022-05-09  40.795141 -73.812218  \n",
       "45687           INDIVIDUAL          N  2022-05-09  40.823810 -73.870284  \n",
       "48363          CORPORATION          N  2022-05-09  40.626969 -73.923825  \n",
       "48736          PARTNERSHIP          N  2022-05-09  40.844549 -73.882785  \n",
       "71441          CORPORATION          N  2022-05-09  40.678436 -73.927880  "
      ]
     },
     "execution_count": 71,
     "metadata": {},
     "output_type": "execute_result"
    }
   ],
   "source": [
    "permits[permits['expiration_date']<pd.to_datetime('2016-08-02')]"
   ]
  },
  {
   "cell_type": "code",
   "execution_count": 72,
   "id": "026b363e-96f4-4b0c-8749-07811e5b6d33",
   "metadata": {},
   "outputs": [],
   "source": [
    "permits = permits[permits['expiration_date']>pd.to_datetime('2016-08-02')]"
   ]
  },
  {
   "cell_type": "code",
   "execution_count": 73,
   "id": "9c4c02d0-0ed6-424d-ab3e-a1a2795461b3",
   "metadata": {},
   "outputs": [
    {
     "data": {
      "text/plain": [
       "(7378, 16)"
      ]
     },
     "execution_count": 73,
     "metadata": {},
     "output_type": "execute_result"
    }
   ],
   "source": [
    "permits.shape"
   ]
  },
  {
   "cell_type": "code",
   "execution_count": 74,
   "id": "8a56fbcc-5cfb-4831-ba2f-a5c210fa3c65",
   "metadata": {},
   "outputs": [],
   "source": [
    "permits = permits[permits['job_start_date']<pd.to_datetime('2022-09-30')]"
   ]
  },
  {
   "cell_type": "code",
   "execution_count": 75,
   "id": "2ec8f00d-c887-4467-8079-155f8e7e3f76",
   "metadata": {},
   "outputs": [
    {
     "data": {
      "text/plain": [
       "(7372, 16)"
      ]
     },
     "execution_count": 75,
     "metadata": {},
     "output_type": "execute_result"
    }
   ],
   "source": [
    "permits.shape"
   ]
  },
  {
   "cell_type": "markdown",
   "id": "d03ae13c-53e8-4020-98c6-70c8e8309174",
   "metadata": {},
   "source": [
    "I wanted to screen out other possible transcription error. For example, I saw a job_start_date in 2020 that was almost certainly a transcription error for 2002. For this reason, I looked at the time between job_start_date and expiration. I can't find information online about how long before permits expire, typically, but none of the periods seem unreasonable, as they all fall within 2 years of the job_start_date, so I'm not going to change anything based on this.\n",
    "\n",
    "[This stackoverflow answer](https://stackoverflow.com/a/37588991) helped me understand how to use .days to get the number of days."
   ]
  },
  {
   "cell_type": "code",
   "execution_count": 76,
   "id": "aa55f716-27a6-47b5-8473-8d03e0ab2ea9",
   "metadata": {},
   "outputs": [],
   "source": [
    "permits['issuance_date'] = pd.to_datetime(permits['issuance_date'])"
   ]
  },
  {
   "cell_type": "code",
   "execution_count": 78,
   "id": "0170a6c8-69da-43e7-acda-1ffe6dfd970f",
   "metadata": {},
   "outputs": [
    {
     "data": {
      "text/plain": [
       "1    365\n",
       "2    365\n",
       "3    365\n",
       "4    288\n",
       "5    344\n",
       "Name: difference, dtype: int64"
      ]
     },
     "execution_count": 78,
     "metadata": {},
     "output_type": "execute_result"
    }
   ],
   "source": [
    "permits['difference'] = permits['expiration_date']-permits['job_start_date']\n",
    "permits['difference'] = permits['difference'].map(lambda x: x.days)\n",
    "permits['difference'].head()"
   ]
  },
  {
   "cell_type": "code",
   "execution_count": 81,
   "id": "ad7c7abc-aca9-4f77-a59d-d0b9530df705",
   "metadata": {},
   "outputs": [
    {
     "data": {
      "text/html": [
       "<div>\n",
       "<style scoped>\n",
       "    .dataframe tbody tr th:only-of-type {\n",
       "        vertical-align: middle;\n",
       "    }\n",
       "\n",
       "    .dataframe tbody tr th {\n",
       "        vertical-align: top;\n",
       "    }\n",
       "\n",
       "    .dataframe thead th {\n",
       "        text-align: right;\n",
       "    }\n",
       "</style>\n",
       "<table border=\"1\" class=\"dataframe\">\n",
       "  <thead>\n",
       "    <tr style=\"text-align: right;\">\n",
       "      <th></th>\n",
       "      <th>borough</th>\n",
       "      <th>bin_no</th>\n",
       "      <th>house_no</th>\n",
       "      <th>street_name</th>\n",
       "      <th>job_no</th>\n",
       "      <th>zip_code</th>\n",
       "      <th>permit_status</th>\n",
       "      <th>filing_date</th>\n",
       "      <th>issuance_date</th>\n",
       "      <th>expiration_date</th>\n",
       "      <th>job_start_date</th>\n",
       "      <th>owners_business_type</th>\n",
       "      <th>non-profit</th>\n",
       "      <th>dobrundate</th>\n",
       "      <th>latitude</th>\n",
       "      <th>longitude</th>\n",
       "      <th>difference</th>\n",
       "    </tr>\n",
       "  </thead>\n",
       "  <tbody>\n",
       "    <tr>\n",
       "      <th>37123</th>\n",
       "      <td>BROOKLYN</td>\n",
       "      <td>3171499</td>\n",
       "      <td>1169</td>\n",
       "      <td>EAST 9 STREET</td>\n",
       "      <td>321770810</td>\n",
       "      <td>11230</td>\n",
       "      <td>ISSUED</td>\n",
       "      <td>2019-05-24</td>\n",
       "      <td>2019-05-28</td>\n",
       "      <td>2021-01-31</td>\n",
       "      <td>2019-05-28</td>\n",
       "      <td>INDIVIDUAL</td>\n",
       "      <td>N</td>\n",
       "      <td>2022-05-09</td>\n",
       "      <td>40.620648</td>\n",
       "      <td>-73.966345</td>\n",
       "      <td>614</td>\n",
       "    </tr>\n",
       "    <tr>\n",
       "      <th>42172</th>\n",
       "      <td>QUEENS</td>\n",
       "      <td>4201081</td>\n",
       "      <td>101-64</td>\n",
       "      <td>132 STREET</td>\n",
       "      <td>421415686</td>\n",
       "      <td>11419</td>\n",
       "      <td>ISSUED</td>\n",
       "      <td>2019-04-11</td>\n",
       "      <td>2019-04-11</td>\n",
       "      <td>2020-10-31</td>\n",
       "      <td>2019-04-11</td>\n",
       "      <td>NYCHA/HHC</td>\n",
       "      <td>N</td>\n",
       "      <td>2022-05-09</td>\n",
       "      <td>40.691674</td>\n",
       "      <td>-73.814738</td>\n",
       "      <td>569</td>\n",
       "    </tr>\n",
       "    <tr>\n",
       "      <th>42557</th>\n",
       "      <td>QUEENS</td>\n",
       "      <td>4026146</td>\n",
       "      <td>32-11</td>\n",
       "      <td>60 STREET</td>\n",
       "      <td>421717100</td>\n",
       "      <td>11377</td>\n",
       "      <td>ISSUED</td>\n",
       "      <td>2019-05-17</td>\n",
       "      <td>2019-05-22</td>\n",
       "      <td>2020-11-30</td>\n",
       "      <td>2019-05-22</td>\n",
       "      <td>INDIVIDUAL</td>\n",
       "      <td>N</td>\n",
       "      <td>2022-05-09</td>\n",
       "      <td>40.755452</td>\n",
       "      <td>-73.902408</td>\n",
       "      <td>558</td>\n",
       "    </tr>\n",
       "    <tr>\n",
       "      <th>42561</th>\n",
       "      <td>QUEENS</td>\n",
       "      <td>4548904</td>\n",
       "      <td>32-15</td>\n",
       "      <td>60 STREET</td>\n",
       "      <td>421717155</td>\n",
       "      <td>11377</td>\n",
       "      <td>ISSUED</td>\n",
       "      <td>2019-05-17</td>\n",
       "      <td>2019-05-22</td>\n",
       "      <td>2020-11-30</td>\n",
       "      <td>2019-05-22</td>\n",
       "      <td>INDIVIDUAL</td>\n",
       "      <td>N</td>\n",
       "      <td>2022-05-09</td>\n",
       "      <td>40.755391</td>\n",
       "      <td>-73.902397</td>\n",
       "      <td>558</td>\n",
       "    </tr>\n",
       "    <tr>\n",
       "      <th>43579</th>\n",
       "      <td>QUEENS</td>\n",
       "      <td>4619476</td>\n",
       "      <td>31-17</td>\n",
       "      <td>37TH ST</td>\n",
       "      <td>420664597</td>\n",
       "      <td>11103</td>\n",
       "      <td>ISSUED</td>\n",
       "      <td>2019-05-08</td>\n",
       "      <td>2019-05-08</td>\n",
       "      <td>2020-11-30</td>\n",
       "      <td>2019-05-08</td>\n",
       "      <td>CORPORATION</td>\n",
       "      <td>N</td>\n",
       "      <td>2022-05-09</td>\n",
       "      <td>40.761448</td>\n",
       "      <td>-73.919181</td>\n",
       "      <td>572</td>\n",
       "    </tr>\n",
       "    <tr>\n",
       "      <th>44503</th>\n",
       "      <td>BRONX</td>\n",
       "      <td>2129024</td>\n",
       "      <td>957</td>\n",
       "      <td>TILDEN ST</td>\n",
       "      <td>210177921</td>\n",
       "      <td>10469</td>\n",
       "      <td>ISSUED</td>\n",
       "      <td>2019-03-27</td>\n",
       "      <td>2019-03-27</td>\n",
       "      <td>2020-09-30</td>\n",
       "      <td>2019-03-27</td>\n",
       "      <td>INDIVIDUAL</td>\n",
       "      <td>N</td>\n",
       "      <td>2022-05-09</td>\n",
       "      <td>40.876821</td>\n",
       "      <td>-73.858059</td>\n",
       "      <td>553</td>\n",
       "    </tr>\n",
       "    <tr>\n",
       "      <th>47043</th>\n",
       "      <td>QUEENS</td>\n",
       "      <td>4258336</td>\n",
       "      <td>147-48</td>\n",
       "      <td>FERNDALE AVE</td>\n",
       "      <td>421713596</td>\n",
       "      <td>11435</td>\n",
       "      <td>ISSUED</td>\n",
       "      <td>2019-05-22</td>\n",
       "      <td>2019-05-22</td>\n",
       "      <td>2020-11-30</td>\n",
       "      <td>2019-05-22</td>\n",
       "      <td>CORPORATION</td>\n",
       "      <td>N</td>\n",
       "      <td>2022-05-09</td>\n",
       "      <td>40.690615</td>\n",
       "      <td>-73.798673</td>\n",
       "      <td>558</td>\n",
       "    </tr>\n",
       "    <tr>\n",
       "      <th>52797</th>\n",
       "      <td>BROOKLYN</td>\n",
       "      <td>3172842</td>\n",
       "      <td>1466</td>\n",
       "      <td>EAST  5TH ST</td>\n",
       "      <td>321636002</td>\n",
       "      <td>11230</td>\n",
       "      <td>ISSUED</td>\n",
       "      <td>2019-04-12</td>\n",
       "      <td>2019-04-12</td>\n",
       "      <td>2020-10-31</td>\n",
       "      <td>2019-04-12</td>\n",
       "      <td>INDIVIDUAL</td>\n",
       "      <td>N</td>\n",
       "      <td>2022-05-09</td>\n",
       "      <td>40.615182</td>\n",
       "      <td>-73.970177</td>\n",
       "      <td>568</td>\n",
       "    </tr>\n",
       "    <tr>\n",
       "      <th>53789</th>\n",
       "      <td>BROOKLYN</td>\n",
       "      <td>3426084</td>\n",
       "      <td>1</td>\n",
       "      <td>CROSBY AVENUE</td>\n",
       "      <td>320912599</td>\n",
       "      <td>11207</td>\n",
       "      <td>ISSUED</td>\n",
       "      <td>2019-06-12</td>\n",
       "      <td>2019-06-12</td>\n",
       "      <td>2020-12-31</td>\n",
       "      <td>2019-06-12</td>\n",
       "      <td>CORPORATION</td>\n",
       "      <td>N</td>\n",
       "      <td>2022-05-09</td>\n",
       "      <td>40.681681</td>\n",
       "      <td>-73.896051</td>\n",
       "      <td>568</td>\n",
       "    </tr>\n",
       "    <tr>\n",
       "      <th>54821</th>\n",
       "      <td>BROOKLYN</td>\n",
       "      <td>3131942</td>\n",
       "      <td>2042</td>\n",
       "      <td>59 STREET</td>\n",
       "      <td>321926751</td>\n",
       "      <td>11204</td>\n",
       "      <td>ISSUED</td>\n",
       "      <td>2019-06-27</td>\n",
       "      <td>2019-06-27</td>\n",
       "      <td>2020-12-31</td>\n",
       "      <td>2019-06-27</td>\n",
       "      <td>CORPORATION</td>\n",
       "      <td>N</td>\n",
       "      <td>2022-05-09</td>\n",
       "      <td>40.619318</td>\n",
       "      <td>-73.981229</td>\n",
       "      <td>553</td>\n",
       "    </tr>\n",
       "    <tr>\n",
       "      <th>54894</th>\n",
       "      <td>BRONX</td>\n",
       "      <td>2129416</td>\n",
       "      <td>4656</td>\n",
       "      <td>PARK AVENUE</td>\n",
       "      <td>220672644</td>\n",
       "      <td>10458</td>\n",
       "      <td>RE-ISSUED</td>\n",
       "      <td>2019-07-17</td>\n",
       "      <td>2019-07-17</td>\n",
       "      <td>2021-01-31</td>\n",
       "      <td>2019-07-18</td>\n",
       "      <td>INDIVIDUAL</td>\n",
       "      <td>N</td>\n",
       "      <td>2022-05-09</td>\n",
       "      <td>40.858099</td>\n",
       "      <td>-73.892919</td>\n",
       "      <td>563</td>\n",
       "    </tr>\n",
       "    <tr>\n",
       "      <th>54904</th>\n",
       "      <td>BRONX</td>\n",
       "      <td>2130513</td>\n",
       "      <td>1318</td>\n",
       "      <td>SOUTHERN BLVD</td>\n",
       "      <td>220643196</td>\n",
       "      <td>10459</td>\n",
       "      <td>ISSUED</td>\n",
       "      <td>2019-07-19</td>\n",
       "      <td>2019-07-19</td>\n",
       "      <td>2021-01-31</td>\n",
       "      <td>2019-07-19</td>\n",
       "      <td>INDIVIDUAL</td>\n",
       "      <td>N</td>\n",
       "      <td>2022-05-09</td>\n",
       "      <td>40.831084</td>\n",
       "      <td>-73.891470</td>\n",
       "      <td>562</td>\n",
       "    </tr>\n",
       "    <tr>\n",
       "      <th>55949</th>\n",
       "      <td>QUEENS</td>\n",
       "      <td>4827489</td>\n",
       "      <td>146-12</td>\n",
       "      <td>LAKEWOOD AVENUE</td>\n",
       "      <td>420934038</td>\n",
       "      <td>11435</td>\n",
       "      <td>ISSUED</td>\n",
       "      <td>2019-05-21</td>\n",
       "      <td>2019-05-21</td>\n",
       "      <td>2020-11-30</td>\n",
       "      <td>2019-05-21</td>\n",
       "      <td>INDIVIDUAL</td>\n",
       "      <td>N</td>\n",
       "      <td>2022-05-09</td>\n",
       "      <td>40.691904</td>\n",
       "      <td>-73.801528</td>\n",
       "      <td>559</td>\n",
       "    </tr>\n",
       "    <tr>\n",
       "      <th>55953</th>\n",
       "      <td>BROOKLYN</td>\n",
       "      <td>3079750</td>\n",
       "      <td>1226</td>\n",
       "      <td>DECATUR ST</td>\n",
       "      <td>320911260</td>\n",
       "      <td>11207</td>\n",
       "      <td>ISSUED</td>\n",
       "      <td>2019-06-27</td>\n",
       "      <td>2019-06-27</td>\n",
       "      <td>2020-12-31</td>\n",
       "      <td>2019-06-27</td>\n",
       "      <td>INDIVIDUAL</td>\n",
       "      <td>N</td>\n",
       "      <td>2022-05-09</td>\n",
       "      <td>40.689378</td>\n",
       "      <td>-73.906936</td>\n",
       "      <td>553</td>\n",
       "    </tr>\n",
       "  </tbody>\n",
       "</table>\n",
       "</div>"
      ],
      "text/plain": [
       "        borough   bin_no house_no      street_name     job_no  zip_code  \\\n",
       "37123  BROOKLYN  3171499     1169    EAST 9 STREET  321770810     11230   \n",
       "42172    QUEENS  4201081   101-64       132 STREET  421415686     11419   \n",
       "42557    QUEENS  4026146    32-11        60 STREET  421717100     11377   \n",
       "42561    QUEENS  4548904    32-15        60 STREET  421717155     11377   \n",
       "43579    QUEENS  4619476    31-17          37TH ST  420664597     11103   \n",
       "44503     BRONX  2129024      957        TILDEN ST  210177921     10469   \n",
       "47043    QUEENS  4258336   147-48     FERNDALE AVE  421713596     11435   \n",
       "52797  BROOKLYN  3172842     1466     EAST  5TH ST  321636002     11230   \n",
       "53789  BROOKLYN  3426084        1    CROSBY AVENUE  320912599     11207   \n",
       "54821  BROOKLYN  3131942     2042        59 STREET  321926751     11204   \n",
       "54894     BRONX  2129416     4656      PARK AVENUE  220672644     10458   \n",
       "54904     BRONX  2130513     1318    SOUTHERN BLVD  220643196     10459   \n",
       "55949    QUEENS  4827489   146-12  LAKEWOOD AVENUE  420934038     11435   \n",
       "55953  BROOKLYN  3079750     1226       DECATUR ST  320911260     11207   \n",
       "\n",
       "      permit_status filing_date issuance_date expiration_date job_start_date  \\\n",
       "37123        ISSUED  2019-05-24    2019-05-28      2021-01-31     2019-05-28   \n",
       "42172        ISSUED  2019-04-11    2019-04-11      2020-10-31     2019-04-11   \n",
       "42557        ISSUED  2019-05-17    2019-05-22      2020-11-30     2019-05-22   \n",
       "42561        ISSUED  2019-05-17    2019-05-22      2020-11-30     2019-05-22   \n",
       "43579        ISSUED  2019-05-08    2019-05-08      2020-11-30     2019-05-08   \n",
       "44503        ISSUED  2019-03-27    2019-03-27      2020-09-30     2019-03-27   \n",
       "47043        ISSUED  2019-05-22    2019-05-22      2020-11-30     2019-05-22   \n",
       "52797        ISSUED  2019-04-12    2019-04-12      2020-10-31     2019-04-12   \n",
       "53789        ISSUED  2019-06-12    2019-06-12      2020-12-31     2019-06-12   \n",
       "54821        ISSUED  2019-06-27    2019-06-27      2020-12-31     2019-06-27   \n",
       "54894     RE-ISSUED  2019-07-17    2019-07-17      2021-01-31     2019-07-18   \n",
       "54904        ISSUED  2019-07-19    2019-07-19      2021-01-31     2019-07-19   \n",
       "55949        ISSUED  2019-05-21    2019-05-21      2020-11-30     2019-05-21   \n",
       "55953        ISSUED  2019-06-27    2019-06-27      2020-12-31     2019-06-27   \n",
       "\n",
       "      owners_business_type non-profit  dobrundate   latitude  longitude  \\\n",
       "37123           INDIVIDUAL          N  2022-05-09  40.620648 -73.966345   \n",
       "42172            NYCHA/HHC          N  2022-05-09  40.691674 -73.814738   \n",
       "42557           INDIVIDUAL          N  2022-05-09  40.755452 -73.902408   \n",
       "42561           INDIVIDUAL          N  2022-05-09  40.755391 -73.902397   \n",
       "43579          CORPORATION          N  2022-05-09  40.761448 -73.919181   \n",
       "44503           INDIVIDUAL          N  2022-05-09  40.876821 -73.858059   \n",
       "47043          CORPORATION          N  2022-05-09  40.690615 -73.798673   \n",
       "52797           INDIVIDUAL          N  2022-05-09  40.615182 -73.970177   \n",
       "53789          CORPORATION          N  2022-05-09  40.681681 -73.896051   \n",
       "54821          CORPORATION          N  2022-05-09  40.619318 -73.981229   \n",
       "54894           INDIVIDUAL          N  2022-05-09  40.858099 -73.892919   \n",
       "54904           INDIVIDUAL          N  2022-05-09  40.831084 -73.891470   \n",
       "55949           INDIVIDUAL          N  2022-05-09  40.691904 -73.801528   \n",
       "55953           INDIVIDUAL          N  2022-05-09  40.689378 -73.906936   \n",
       "\n",
       "       difference  \n",
       "37123         614  \n",
       "42172         569  \n",
       "42557         558  \n",
       "42561         558  \n",
       "43579         572  \n",
       "44503         553  \n",
       "47043         558  \n",
       "52797         568  \n",
       "53789         568  \n",
       "54821         553  \n",
       "54894         563  \n",
       "54904         562  \n",
       "55949         559  \n",
       "55953         553  "
      ]
     },
     "execution_count": 81,
     "metadata": {},
     "output_type": "execute_result"
    }
   ],
   "source": [
    "permits[permits['difference'] > 550]"
   ]
  },
  {
   "cell_type": "code",
   "execution_count": 82,
   "id": "b3867981-c606-423b-9884-d7bf57e5c367",
   "metadata": {},
   "outputs": [
    {
     "data": {
      "text/plain": [
       "(7372, 17)"
      ]
     },
     "execution_count": 82,
     "metadata": {},
     "output_type": "execute_result"
    }
   ],
   "source": [
    "permits.shape"
   ]
  },
  {
   "cell_type": "markdown",
   "id": "a4b3f072-6619-4ec0-b5a6-cf771cc1d5bd",
   "metadata": {},
   "source": [
    "I just want to look at the `'ISSUED'` columns, just to be sure the focus is on buildings that were first started in this period."
   ]
  },
  {
   "cell_type": "code",
   "execution_count": 84,
   "id": "1c8c450e-78e8-48ba-b6c4-7e120d9534a4",
   "metadata": {},
   "outputs": [
    {
     "data": {
      "text/plain": [
       "ISSUED        7176\n",
       "RE-ISSUED      195\n",
       "IN PROCESS       1\n",
       "Name: permit_status, dtype: int64"
      ]
     },
     "execution_count": 84,
     "metadata": {},
     "output_type": "execute_result"
    }
   ],
   "source": [
    "permits['permit_status'].value_counts()"
   ]
  },
  {
   "cell_type": "markdown",
   "id": "6c08b443-ad37-44c5-8128-3d311ffcc176",
   "metadata": {},
   "source": [
    "Going to drop a few more columns."
   ]
  },
  {
   "cell_type": "code",
   "execution_count": 85,
   "id": "7952f26b-780d-4d1c-b88e-039aa3b8c142",
   "metadata": {},
   "outputs": [],
   "source": [
    "permits = permits[permits['permit_status'] == 'ISSUED']"
   ]
  },
  {
   "cell_type": "code",
   "execution_count": 86,
   "id": "8f6f819b-8c38-41be-ac27-62cfe636cb53",
   "metadata": {},
   "outputs": [
    {
     "data": {
      "text/plain": [
       "ISSUED    7176\n",
       "Name: permit_status, dtype: int64"
      ]
     },
     "execution_count": 86,
     "metadata": {},
     "output_type": "execute_result"
    }
   ],
   "source": [
    "permits['permit_status'].value_counts()"
   ]
  },
  {
   "cell_type": "code",
   "execution_count": 83,
   "id": "ae26cca5-3be5-43fc-8e7a-b80d18a85c71",
   "metadata": {},
   "outputs": [
    {
     "data": {
      "text/plain": [
       "Index(['borough', 'bin_no', 'house_no', 'street_name', 'job_no', 'zip_code',\n",
       "       'permit_status', 'filing_date', 'issuance_date', 'expiration_date',\n",
       "       'job_start_date', 'owners_business_type', 'non-profit', 'dobrundate',\n",
       "       'latitude', 'longitude', 'difference'],\n",
       "      dtype='object')"
      ]
     },
     "execution_count": 83,
     "metadata": {},
     "output_type": "execute_result"
    }
   ],
   "source": [
    "permits.columns"
   ]
  },
  {
   "cell_type": "code",
   "execution_count": 87,
   "id": "54ff7eae-2b57-4e48-94f6-e6a2b2316db2",
   "metadata": {
    "tags": []
   },
   "outputs": [],
   "source": [
    "permits = permits[['borough', 'bin_no', 'house_no', 'street_name', 'job_no', 'zip_code',\n",
    "       'job_start_date', 'owners_business_type', 'non-profit',\n",
    "       'latitude', 'longitude']]"
   ]
  },
  {
   "cell_type": "code",
   "execution_count": 89,
   "id": "ea3436a6-7287-4001-8100-d3b4014ac042",
   "metadata": {},
   "outputs": [
    {
     "data": {
      "text/plain": [
       "(7176, 11)"
      ]
     },
     "execution_count": 89,
     "metadata": {},
     "output_type": "execute_result"
    }
   ],
   "source": [
    "permits.shape"
   ]
  },
  {
   "cell_type": "code",
   "execution_count": 90,
   "id": "d527ebc4-d68d-4630-a99e-208e414ed8c4",
   "metadata": {},
   "outputs": [],
   "source": [
    "permits.to_csv('data/nbrespermits.csv', index = False)"
   ]
  },
  {
   "cell_type": "markdown",
   "id": "b4880f76-bcd9-4f95-be1d-ec28f865d725",
   "metadata": {},
   "source": [
    "-----"
   ]
  },
  {
   "cell_type": "markdown",
   "id": "f6c32674-401b-4da5-b1fc-7b3cad3b042d",
   "metadata": {},
   "source": [
    "# Saving For Now\n",
    "I have some work here that helps identify census tract, I'm going to save it for the moment in case I decide to use it later."
   ]
  },
  {
   "cell_type": "code",
   "execution_count": 164,
   "id": "c27d6a22-2370-4da4-97dd-ad7bd334dd36",
   "metadata": {},
   "outputs": [],
   "source": [
    "pd.set_option('display.max_columns', None)"
   ]
  },
  {
   "cell_type": "code",
   "execution_count": 148,
   "id": "12138c7e-87b9-4c71-b54a-6df5fe1d017e",
   "metadata": {},
   "outputs": [],
   "source": [
    "result = cg.coordinates(x=no_position.loc[651]['longitude'], y=no_position.loc[651]['latitude'])"
   ]
  },
  {
   "cell_type": "code",
   "execution_count": 156,
   "id": "8cc0f0d0-0517-448b-8b53-b13154b213dc",
   "metadata": {},
   "outputs": [
    {
     "data": {
      "text/plain": [
       "74500"
      ]
     },
     "execution_count": 156,
     "metadata": {},
     "output_type": "execute_result"
    }
   ],
   "source": [
    "int(result['Census Tracts'][0]['TRACT'])"
   ]
  },
  {
   "cell_type": "markdown",
   "id": "c3865f4f-89ff-4af5-9a6d-ce4a14239121",
   "metadata": {},
   "source": [
    "I can use the above to get census tracts"
   ]
  },
  {
   "cell_type": "code",
   "execution_count": 157,
   "id": "477d96bc-3ea9-43ef-bd64-6e0af03d78a6",
   "metadata": {},
   "outputs": [
    {
     "data": {
      "text/html": [
       "<div>\n",
       "<style scoped>\n",
       "    .dataframe tbody tr th:only-of-type {\n",
       "        vertical-align: middle;\n",
       "    }\n",
       "\n",
       "    .dataframe tbody tr th {\n",
       "        vertical-align: top;\n",
       "    }\n",
       "\n",
       "    .dataframe thead th {\n",
       "        text-align: right;\n",
       "    }\n",
       "</style>\n",
       "<table border=\"1\" class=\"dataframe\">\n",
       "  <thead>\n",
       "    <tr style=\"text-align: right;\">\n",
       "      <th></th>\n",
       "      <th>borough</th>\n",
       "      <th>bin_no</th>\n",
       "      <th>house_no</th>\n",
       "      <th>street_name</th>\n",
       "      <th>job_no</th>\n",
       "      <th>job_type</th>\n",
       "      <th>zip_code</th>\n",
       "      <th>residential</th>\n",
       "      <th>permit_status</th>\n",
       "      <th>filing_status</th>\n",
       "      <th>...</th>\n",
       "      <th>expiration_date</th>\n",
       "      <th>job_start_date</th>\n",
       "      <th>owners_business_type</th>\n",
       "      <th>non-profit</th>\n",
       "      <th>dobrundate</th>\n",
       "      <th>permit_si_no</th>\n",
       "      <th>latitude</th>\n",
       "      <th>longitude</th>\n",
       "      <th>council_district</th>\n",
       "      <th>census_tract</th>\n",
       "    </tr>\n",
       "  </thead>\n",
       "  <tbody>\n",
       "  </tbody>\n",
       "</table>\n",
       "<p>0 rows × 24 columns</p>\n",
       "</div>"
      ],
      "text/plain": [
       "Empty DataFrame\n",
       "Columns: [borough, bin_no, house_no, street_name, job_no, job_type, zip_code, residential, permit_status, filing_status, permit_type, permit_sequence_no, filing_date, issuance_date, expiration_date, job_start_date, owners_business_type, non-profit, dobrundate, permit_si_no, latitude, longitude, council_district, census_tract]\n",
       "Index: []\n",
       "\n",
       "[0 rows x 24 columns]"
      ]
     },
     "execution_count": 157,
     "metadata": {},
     "output_type": "execute_result"
    }
   ],
   "source": [
    "permits[permits['census_tract'] == 74500]"
   ]
  }
 ],
 "metadata": {
  "kernelspec": {
   "display_name": "Python 3 (ipykernel)",
   "language": "python",
   "name": "python3"
  },
  "language_info": {
   "codemirror_mode": {
    "name": "ipython",
    "version": 3
   },
   "file_extension": ".py",
   "mimetype": "text/x-python",
   "name": "python",
   "nbconvert_exporter": "python",
   "pygments_lexer": "ipython3",
   "version": "3.9.12"
  }
 },
 "nbformat": 4,
 "nbformat_minor": 5
}
