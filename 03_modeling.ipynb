{
 "cells": [
  {
   "cell_type": "code",
   "execution_count": 142,
   "id": "40ee0266-9e0d-4a63-af23-1d819644a03e",
   "metadata": {},
   "outputs": [],
   "source": [
    "import pandas as pd\n",
    "from sklearn.preprocessing import StandardScaler\n",
    "from sklearn.metrics import silhouette_score\n",
    "from sklearn.cluster import DBSCAN, KMeans\n",
    "import seaborn as sns\n",
    "import matplotlib.pyplot as plt\n",
    "import numpy as np"
   ]
  },
  {
   "cell_type": "code",
   "execution_count": 48,
   "id": "3ae8953a-2116-4263-8012-ba467a53d283",
   "metadata": {},
   "outputs": [],
   "source": [
    "permits = pd.read_csv('data/final_permits.csv')"
   ]
  },
  {
   "cell_type": "code",
   "execution_count": 49,
   "id": "d2a7d561-e0c6-4bb0-8949-2befd4da1457",
   "metadata": {},
   "outputs": [
    {
     "data": {
      "text/plain": [
       "Index(['bin_no', 'house_no', 'street_name', 'job_no', 'zip_code',\n",
       "       'job_start_date', 'latitude', 'longitude', 'subway_count_tenth_mi',\n",
       "       'subway_count_half_mi', 'subway_count_one_mi',\n",
       "       'subway_count_two_five_mi', 'hist_dist_name', 'park_count_tenth_mi',\n",
       "       'park_count_half_mi', 'park_count_one_mi', 'park_count_two_five_mi',\n",
       "       'closest_park', 'name_closest_park', 'complaints2014_15',\n",
       "       'complaints2015_16', 'complaints2016_17', 'complaints2017_18',\n",
       "       'complaints2018_19', 'complaints2019_20', 'total_complaints',\n",
       "       'borough_BROOKLYN', 'borough_MANHATTAN', 'borough_QUEENS',\n",
       "       'borough_STATEN ISLAND', 'owners_business_type_CORPORATION',\n",
       "       'owners_business_type_HPD', 'owners_business_type_INDIVIDUAL',\n",
       "       'owners_business_type_NYC AGENCY', 'owners_business_type_NYCHA/HHC',\n",
       "       'owners_business_type_OTHER', 'owners_business_type_OTHER GOV'T AGENCY',\n",
       "       'owners_business_type_PARTNERSHIP', 'non-profit_Y', 'in_hist_dist_1'],\n",
       "      dtype='object')"
      ]
     },
     "execution_count": 49,
     "metadata": {},
     "output_type": "execute_result"
    }
   ],
   "source": [
    "permits.columns"
   ]
  },
  {
   "cell_type": "code",
   "execution_count": 50,
   "id": "bb4a3ae2-f1dc-4250-a270-6a769cfcf69c",
   "metadata": {},
   "outputs": [
    {
     "data": {
      "text/html": [
       "<div>\n",
       "<style scoped>\n",
       "    .dataframe tbody tr th:only-of-type {\n",
       "        vertical-align: middle;\n",
       "    }\n",
       "\n",
       "    .dataframe tbody tr th {\n",
       "        vertical-align: top;\n",
       "    }\n",
       "\n",
       "    .dataframe thead th {\n",
       "        text-align: right;\n",
       "    }\n",
       "</style>\n",
       "<table border=\"1\" class=\"dataframe\">\n",
       "  <thead>\n",
       "    <tr style=\"text-align: right;\">\n",
       "      <th></th>\n",
       "      <th>bin_no</th>\n",
       "      <th>house_no</th>\n",
       "      <th>street_name</th>\n",
       "      <th>job_no</th>\n",
       "      <th>zip_code</th>\n",
       "      <th>job_start_date</th>\n",
       "      <th>latitude</th>\n",
       "      <th>longitude</th>\n",
       "      <th>subway_count_tenth_mi</th>\n",
       "      <th>subway_count_half_mi</th>\n",
       "      <th>...</th>\n",
       "      <th>owners_business_type_CORPORATION</th>\n",
       "      <th>owners_business_type_HPD</th>\n",
       "      <th>owners_business_type_INDIVIDUAL</th>\n",
       "      <th>owners_business_type_NYC AGENCY</th>\n",
       "      <th>owners_business_type_NYCHA/HHC</th>\n",
       "      <th>owners_business_type_OTHER</th>\n",
       "      <th>owners_business_type_OTHER GOV'T AGENCY</th>\n",
       "      <th>owners_business_type_PARTNERSHIP</th>\n",
       "      <th>non-profit_Y</th>\n",
       "      <th>in_hist_dist_1</th>\n",
       "    </tr>\n",
       "  </thead>\n",
       "  <tbody>\n",
       "    <tr>\n",
       "      <th>0</th>\n",
       "      <td>1056547</td>\n",
       "      <td>2686</td>\n",
       "      <td>BROADWAY</td>\n",
       "      <td>121207354</td>\n",
       "      <td>10025</td>\n",
       "      <td>2022-05-11</td>\n",
       "      <td>40.798817</td>\n",
       "      <td>-73.968740</td>\n",
       "      <td>5</td>\n",
       "      <td>15</td>\n",
       "      <td>...</td>\n",
       "      <td>0</td>\n",
       "      <td>0</td>\n",
       "      <td>0</td>\n",
       "      <td>0</td>\n",
       "      <td>0</td>\n",
       "      <td>0</td>\n",
       "      <td>0</td>\n",
       "      <td>1</td>\n",
       "      <td>0</td>\n",
       "      <td>0</td>\n",
       "    </tr>\n",
       "    <tr>\n",
       "      <th>1</th>\n",
       "      <td>1812187</td>\n",
       "      <td>140</td>\n",
       "      <td>HILLSIDE AVENUE</td>\n",
       "      <td>121189524</td>\n",
       "      <td>10040</td>\n",
       "      <td>2022-05-11</td>\n",
       "      <td>40.860296</td>\n",
       "      <td>-73.926125</td>\n",
       "      <td>2</td>\n",
       "      <td>15</td>\n",
       "      <td>...</td>\n",
       "      <td>1</td>\n",
       "      <td>0</td>\n",
       "      <td>0</td>\n",
       "      <td>0</td>\n",
       "      <td>0</td>\n",
       "      <td>0</td>\n",
       "      <td>0</td>\n",
       "      <td>0</td>\n",
       "      <td>0</td>\n",
       "      <td>0</td>\n",
       "    </tr>\n",
       "    <tr>\n",
       "      <th>2</th>\n",
       "      <td>2823631</td>\n",
       "      <td>368</td>\n",
       "      <td>EAST 152 STREET</td>\n",
       "      <td>220586168</td>\n",
       "      <td>10455</td>\n",
       "      <td>2022-05-11</td>\n",
       "      <td>40.818565</td>\n",
       "      <td>-73.918118</td>\n",
       "      <td>0</td>\n",
       "      <td>9</td>\n",
       "      <td>...</td>\n",
       "      <td>0</td>\n",
       "      <td>0</td>\n",
       "      <td>1</td>\n",
       "      <td>0</td>\n",
       "      <td>0</td>\n",
       "      <td>0</td>\n",
       "      <td>0</td>\n",
       "      <td>0</td>\n",
       "      <td>0</td>\n",
       "      <td>0</td>\n",
       "    </tr>\n",
       "    <tr>\n",
       "      <th>3</th>\n",
       "      <td>3429007</td>\n",
       "      <td>3410</td>\n",
       "      <td>FARRAGUT ROAD</td>\n",
       "      <td>321588215</td>\n",
       "      <td>11210</td>\n",
       "      <td>2022-05-18</td>\n",
       "      <td>40.636513</td>\n",
       "      <td>-73.943944</td>\n",
       "      <td>0</td>\n",
       "      <td>11</td>\n",
       "      <td>...</td>\n",
       "      <td>0</td>\n",
       "      <td>0</td>\n",
       "      <td>1</td>\n",
       "      <td>0</td>\n",
       "      <td>0</td>\n",
       "      <td>0</td>\n",
       "      <td>0</td>\n",
       "      <td>0</td>\n",
       "      <td>0</td>\n",
       "      <td>0</td>\n",
       "    </tr>\n",
       "    <tr>\n",
       "      <th>4</th>\n",
       "      <td>3121674</td>\n",
       "      <td>1457</td>\n",
       "      <td>FLATBUSH AVENUE</td>\n",
       "      <td>321827163</td>\n",
       "      <td>11210</td>\n",
       "      <td>2022-05-11</td>\n",
       "      <td>40.634773</td>\n",
       "      <td>-73.949721</td>\n",
       "      <td>0</td>\n",
       "      <td>11</td>\n",
       "      <td>...</td>\n",
       "      <td>1</td>\n",
       "      <td>0</td>\n",
       "      <td>0</td>\n",
       "      <td>0</td>\n",
       "      <td>0</td>\n",
       "      <td>0</td>\n",
       "      <td>0</td>\n",
       "      <td>0</td>\n",
       "      <td>0</td>\n",
       "      <td>0</td>\n",
       "    </tr>\n",
       "  </tbody>\n",
       "</table>\n",
       "<p>5 rows × 40 columns</p>\n",
       "</div>"
      ],
      "text/plain": [
       "    bin_no house_no      street_name     job_no  zip_code job_start_date  \\\n",
       "0  1056547     2686         BROADWAY  121207354     10025     2022-05-11   \n",
       "1  1812187      140  HILLSIDE AVENUE  121189524     10040     2022-05-11   \n",
       "2  2823631      368  EAST 152 STREET  220586168     10455     2022-05-11   \n",
       "3  3429007     3410    FARRAGUT ROAD  321588215     11210     2022-05-18   \n",
       "4  3121674     1457  FLATBUSH AVENUE  321827163     11210     2022-05-11   \n",
       "\n",
       "    latitude  longitude  subway_count_tenth_mi  subway_count_half_mi  ...  \\\n",
       "0  40.798817 -73.968740                      5                    15  ...   \n",
       "1  40.860296 -73.926125                      2                    15  ...   \n",
       "2  40.818565 -73.918118                      0                     9  ...   \n",
       "3  40.636513 -73.943944                      0                    11  ...   \n",
       "4  40.634773 -73.949721                      0                    11  ...   \n",
       "\n",
       "   owners_business_type_CORPORATION  owners_business_type_HPD  \\\n",
       "0                                 0                         0   \n",
       "1                                 1                         0   \n",
       "2                                 0                         0   \n",
       "3                                 0                         0   \n",
       "4                                 1                         0   \n",
       "\n",
       "  owners_business_type_INDIVIDUAL  owners_business_type_NYC AGENCY  \\\n",
       "0                               0                                0   \n",
       "1                               0                                0   \n",
       "2                               1                                0   \n",
       "3                               1                                0   \n",
       "4                               0                                0   \n",
       "\n",
       "   owners_business_type_NYCHA/HHC  owners_business_type_OTHER  \\\n",
       "0                               0                           0   \n",
       "1                               0                           0   \n",
       "2                               0                           0   \n",
       "3                               0                           0   \n",
       "4                               0                           0   \n",
       "\n",
       "   owners_business_type_OTHER GOV'T AGENCY  owners_business_type_PARTNERSHIP  \\\n",
       "0                                        0                                 1   \n",
       "1                                        0                                 0   \n",
       "2                                        0                                 0   \n",
       "3                                        0                                 0   \n",
       "4                                        0                                 0   \n",
       "\n",
       "  non-profit_Y  in_hist_dist_1  \n",
       "0            0               0  \n",
       "1            0               0  \n",
       "2            0               0  \n",
       "3            0               0  \n",
       "4            0               0  \n",
       "\n",
       "[5 rows x 40 columns]"
      ]
     },
     "execution_count": 50,
     "metadata": {},
     "output_type": "execute_result"
    }
   ],
   "source": [
    "permits.head()"
   ]
  },
  {
   "cell_type": "code",
   "execution_count": 51,
   "id": "3e2050bd-7c8e-4e4f-8851-7d965d4356ed",
   "metadata": {},
   "outputs": [],
   "source": [
    "permits.set_index('job_no', verify_integrity = True, inplace = True)"
   ]
  },
  {
   "cell_type": "code",
   "execution_count": 52,
   "id": "af270f25-651d-45f2-b4d3-c12f7b1eb930",
   "metadata": {},
   "outputs": [
    {
     "data": {
      "text/html": [
       "<div>\n",
       "<style scoped>\n",
       "    .dataframe tbody tr th:only-of-type {\n",
       "        vertical-align: middle;\n",
       "    }\n",
       "\n",
       "    .dataframe tbody tr th {\n",
       "        vertical-align: top;\n",
       "    }\n",
       "\n",
       "    .dataframe thead th {\n",
       "        text-align: right;\n",
       "    }\n",
       "</style>\n",
       "<table border=\"1\" class=\"dataframe\">\n",
       "  <thead>\n",
       "    <tr style=\"text-align: right;\">\n",
       "      <th></th>\n",
       "      <th>bin_no</th>\n",
       "      <th>house_no</th>\n",
       "      <th>street_name</th>\n",
       "      <th>zip_code</th>\n",
       "      <th>job_start_date</th>\n",
       "      <th>latitude</th>\n",
       "      <th>longitude</th>\n",
       "      <th>subway_count_tenth_mi</th>\n",
       "      <th>subway_count_half_mi</th>\n",
       "      <th>subway_count_one_mi</th>\n",
       "      <th>...</th>\n",
       "      <th>owners_business_type_CORPORATION</th>\n",
       "      <th>owners_business_type_HPD</th>\n",
       "      <th>owners_business_type_INDIVIDUAL</th>\n",
       "      <th>owners_business_type_NYC AGENCY</th>\n",
       "      <th>owners_business_type_NYCHA/HHC</th>\n",
       "      <th>owners_business_type_OTHER</th>\n",
       "      <th>owners_business_type_OTHER GOV'T AGENCY</th>\n",
       "      <th>owners_business_type_PARTNERSHIP</th>\n",
       "      <th>non-profit_Y</th>\n",
       "      <th>in_hist_dist_1</th>\n",
       "    </tr>\n",
       "    <tr>\n",
       "      <th>job_no</th>\n",
       "      <th></th>\n",
       "      <th></th>\n",
       "      <th></th>\n",
       "      <th></th>\n",
       "      <th></th>\n",
       "      <th></th>\n",
       "      <th></th>\n",
       "      <th></th>\n",
       "      <th></th>\n",
       "      <th></th>\n",
       "      <th></th>\n",
       "      <th></th>\n",
       "      <th></th>\n",
       "      <th></th>\n",
       "      <th></th>\n",
       "      <th></th>\n",
       "      <th></th>\n",
       "      <th></th>\n",
       "      <th></th>\n",
       "      <th></th>\n",
       "      <th></th>\n",
       "    </tr>\n",
       "  </thead>\n",
       "  <tbody>\n",
       "    <tr>\n",
       "      <th>121207354</th>\n",
       "      <td>1056547</td>\n",
       "      <td>2686</td>\n",
       "      <td>BROADWAY</td>\n",
       "      <td>10025</td>\n",
       "      <td>2022-05-11</td>\n",
       "      <td>40.798817</td>\n",
       "      <td>-73.968740</td>\n",
       "      <td>5</td>\n",
       "      <td>15</td>\n",
       "      <td>42</td>\n",
       "      <td>...</td>\n",
       "      <td>0</td>\n",
       "      <td>0</td>\n",
       "      <td>0</td>\n",
       "      <td>0</td>\n",
       "      <td>0</td>\n",
       "      <td>0</td>\n",
       "      <td>0</td>\n",
       "      <td>1</td>\n",
       "      <td>0</td>\n",
       "      <td>0</td>\n",
       "    </tr>\n",
       "    <tr>\n",
       "      <th>121189524</th>\n",
       "      <td>1812187</td>\n",
       "      <td>140</td>\n",
       "      <td>HILLSIDE AVENUE</td>\n",
       "      <td>10040</td>\n",
       "      <td>2022-05-11</td>\n",
       "      <td>40.860296</td>\n",
       "      <td>-73.926125</td>\n",
       "      <td>2</td>\n",
       "      <td>15</td>\n",
       "      <td>34</td>\n",
       "      <td>...</td>\n",
       "      <td>1</td>\n",
       "      <td>0</td>\n",
       "      <td>0</td>\n",
       "      <td>0</td>\n",
       "      <td>0</td>\n",
       "      <td>0</td>\n",
       "      <td>0</td>\n",
       "      <td>0</td>\n",
       "      <td>0</td>\n",
       "      <td>0</td>\n",
       "    </tr>\n",
       "    <tr>\n",
       "      <th>220586168</th>\n",
       "      <td>2823631</td>\n",
       "      <td>368</td>\n",
       "      <td>EAST 152 STREET</td>\n",
       "      <td>10455</td>\n",
       "      <td>2022-05-11</td>\n",
       "      <td>40.818565</td>\n",
       "      <td>-73.918118</td>\n",
       "      <td>0</td>\n",
       "      <td>9</td>\n",
       "      <td>60</td>\n",
       "      <td>...</td>\n",
       "      <td>0</td>\n",
       "      <td>0</td>\n",
       "      <td>1</td>\n",
       "      <td>0</td>\n",
       "      <td>0</td>\n",
       "      <td>0</td>\n",
       "      <td>0</td>\n",
       "      <td>0</td>\n",
       "      <td>0</td>\n",
       "      <td>0</td>\n",
       "    </tr>\n",
       "    <tr>\n",
       "      <th>321588215</th>\n",
       "      <td>3429007</td>\n",
       "      <td>3410</td>\n",
       "      <td>FARRAGUT ROAD</td>\n",
       "      <td>11210</td>\n",
       "      <td>2022-05-18</td>\n",
       "      <td>40.636513</td>\n",
       "      <td>-73.943944</td>\n",
       "      <td>0</td>\n",
       "      <td>11</td>\n",
       "      <td>13</td>\n",
       "      <td>...</td>\n",
       "      <td>0</td>\n",
       "      <td>0</td>\n",
       "      <td>1</td>\n",
       "      <td>0</td>\n",
       "      <td>0</td>\n",
       "      <td>0</td>\n",
       "      <td>0</td>\n",
       "      <td>0</td>\n",
       "      <td>0</td>\n",
       "      <td>0</td>\n",
       "    </tr>\n",
       "    <tr>\n",
       "      <th>321827163</th>\n",
       "      <td>3121674</td>\n",
       "      <td>1457</td>\n",
       "      <td>FLATBUSH AVENUE</td>\n",
       "      <td>11210</td>\n",
       "      <td>2022-05-11</td>\n",
       "      <td>40.634773</td>\n",
       "      <td>-73.949721</td>\n",
       "      <td>0</td>\n",
       "      <td>11</td>\n",
       "      <td>20</td>\n",
       "      <td>...</td>\n",
       "      <td>1</td>\n",
       "      <td>0</td>\n",
       "      <td>0</td>\n",
       "      <td>0</td>\n",
       "      <td>0</td>\n",
       "      <td>0</td>\n",
       "      <td>0</td>\n",
       "      <td>0</td>\n",
       "      <td>0</td>\n",
       "      <td>0</td>\n",
       "    </tr>\n",
       "  </tbody>\n",
       "</table>\n",
       "<p>5 rows × 39 columns</p>\n",
       "</div>"
      ],
      "text/plain": [
       "            bin_no house_no      street_name  zip_code job_start_date  \\\n",
       "job_no                                                                  \n",
       "121207354  1056547     2686         BROADWAY     10025     2022-05-11   \n",
       "121189524  1812187      140  HILLSIDE AVENUE     10040     2022-05-11   \n",
       "220586168  2823631      368  EAST 152 STREET     10455     2022-05-11   \n",
       "321588215  3429007     3410    FARRAGUT ROAD     11210     2022-05-18   \n",
       "321827163  3121674     1457  FLATBUSH AVENUE     11210     2022-05-11   \n",
       "\n",
       "            latitude  longitude  subway_count_tenth_mi  subway_count_half_mi  \\\n",
       "job_no                                                                         \n",
       "121207354  40.798817 -73.968740                      5                    15   \n",
       "121189524  40.860296 -73.926125                      2                    15   \n",
       "220586168  40.818565 -73.918118                      0                     9   \n",
       "321588215  40.636513 -73.943944                      0                    11   \n",
       "321827163  40.634773 -73.949721                      0                    11   \n",
       "\n",
       "           subway_count_one_mi  ...  owners_business_type_CORPORATION  \\\n",
       "job_no                          ...                                     \n",
       "121207354                   42  ...                                 0   \n",
       "121189524                   34  ...                                 1   \n",
       "220586168                   60  ...                                 0   \n",
       "321588215                   13  ...                                 0   \n",
       "321827163                   20  ...                                 1   \n",
       "\n",
       "          owners_business_type_HPD  owners_business_type_INDIVIDUAL  \\\n",
       "job_no                                                                \n",
       "121207354                        0                                0   \n",
       "121189524                        0                                0   \n",
       "220586168                        0                                1   \n",
       "321588215                        0                                1   \n",
       "321827163                        0                                0   \n",
       "\n",
       "           owners_business_type_NYC AGENCY  owners_business_type_NYCHA/HHC  \\\n",
       "job_no                                                                       \n",
       "121207354                                0                               0   \n",
       "121189524                                0                               0   \n",
       "220586168                                0                               0   \n",
       "321588215                                0                               0   \n",
       "321827163                                0                               0   \n",
       "\n",
       "           owners_business_type_OTHER  \\\n",
       "job_no                                  \n",
       "121207354                           0   \n",
       "121189524                           0   \n",
       "220586168                           0   \n",
       "321588215                           0   \n",
       "321827163                           0   \n",
       "\n",
       "           owners_business_type_OTHER GOV'T AGENCY  \\\n",
       "job_no                                               \n",
       "121207354                                        0   \n",
       "121189524                                        0   \n",
       "220586168                                        0   \n",
       "321588215                                        0   \n",
       "321827163                                        0   \n",
       "\n",
       "          owners_business_type_PARTNERSHIP  non-profit_Y  in_hist_dist_1  \n",
       "job_no                                                                    \n",
       "121207354                                1             0               0  \n",
       "121189524                                0             0               0  \n",
       "220586168                                0             0               0  \n",
       "321588215                                0             0               0  \n",
       "321827163                                0             0               0  \n",
       "\n",
       "[5 rows x 39 columns]"
      ]
     },
     "execution_count": 52,
     "metadata": {},
     "output_type": "execute_result"
    }
   ],
   "source": [
    "permits.head()"
   ]
  },
  {
   "cell_type": "code",
   "execution_count": 86,
   "id": "36370d85-0d97-4e92-a365-53d1f0e8a13e",
   "metadata": {},
   "outputs": [],
   "source": [
    "features = ['subway_count_tenth_mi',\n",
    "       'subway_count_half_mi', 'subway_count_one_mi',\n",
    "       'subway_count_two_five_mi',\n",
    "       'park_count_tenth_mi', 'park_count_half_mi', 'park_count_one_mi',\n",
    "       'park_count_two_five_mi', 'closest_park', 'total_complaints', 'borough_BROOKLYN', 'borough_MANHATTAN',\n",
    "       'borough_QUEENS', 'borough_STATEN ISLAND',\n",
    "       'owners_business_type_CORPORATION', 'owners_business_type_HPD',\n",
    "       'owners_business_type_INDIVIDUAL', 'owners_business_type_NYC AGENCY',\n",
    "       'owners_business_type_NYCHA/HHC', 'owners_business_type_OTHER',\n",
    "       \"owners_business_type_OTHER GOV'T AGENCY\",\n",
    "       'owners_business_type_PARTNERSHIP', 'non-profit_Y', 'in_hist_dist_1']"
   ]
  },
  {
   "cell_type": "code",
   "execution_count": 87,
   "id": "a5411d83-8d2e-4844-953e-b81ece579276",
   "metadata": {},
   "outputs": [],
   "source": [
    "X = permits[features]"
   ]
  },
  {
   "cell_type": "code",
   "execution_count": 55,
   "id": "07fdc18c-3f87-4f30-98c6-aee6423a75a4",
   "metadata": {},
   "outputs": [
    {
     "data": {
      "text/html": [
       "<div>\n",
       "<style scoped>\n",
       "    .dataframe tbody tr th:only-of-type {\n",
       "        vertical-align: middle;\n",
       "    }\n",
       "\n",
       "    .dataframe tbody tr th {\n",
       "        vertical-align: top;\n",
       "    }\n",
       "\n",
       "    .dataframe thead th {\n",
       "        text-align: right;\n",
       "    }\n",
       "</style>\n",
       "<table border=\"1\" class=\"dataframe\">\n",
       "  <thead>\n",
       "    <tr style=\"text-align: right;\">\n",
       "      <th></th>\n",
       "      <th>subway_count_tenth_mi</th>\n",
       "      <th>subway_count_half_mi</th>\n",
       "      <th>subway_count_one_mi</th>\n",
       "      <th>subway_count_two_five_mi</th>\n",
       "      <th>park_count_tenth_mi</th>\n",
       "      <th>park_count_half_mi</th>\n",
       "      <th>park_count_one_mi</th>\n",
       "      <th>park_count_two_five_mi</th>\n",
       "      <th>closest_park</th>\n",
       "      <th>total_complaints</th>\n",
       "      <th>...</th>\n",
       "      <th>owners_business_type_CORPORATION</th>\n",
       "      <th>owners_business_type_HPD</th>\n",
       "      <th>owners_business_type_INDIVIDUAL</th>\n",
       "      <th>owners_business_type_NYC AGENCY</th>\n",
       "      <th>owners_business_type_NYCHA/HHC</th>\n",
       "      <th>owners_business_type_OTHER</th>\n",
       "      <th>owners_business_type_OTHER GOV'T AGENCY</th>\n",
       "      <th>owners_business_type_PARTNERSHIP</th>\n",
       "      <th>non-profit_Y</th>\n",
       "      <th>in_hist_dist_1</th>\n",
       "    </tr>\n",
       "    <tr>\n",
       "      <th>job_no</th>\n",
       "      <th></th>\n",
       "      <th></th>\n",
       "      <th></th>\n",
       "      <th></th>\n",
       "      <th></th>\n",
       "      <th></th>\n",
       "      <th></th>\n",
       "      <th></th>\n",
       "      <th></th>\n",
       "      <th></th>\n",
       "      <th></th>\n",
       "      <th></th>\n",
       "      <th></th>\n",
       "      <th></th>\n",
       "      <th></th>\n",
       "      <th></th>\n",
       "      <th></th>\n",
       "      <th></th>\n",
       "      <th></th>\n",
       "      <th></th>\n",
       "      <th></th>\n",
       "    </tr>\n",
       "  </thead>\n",
       "  <tbody>\n",
       "    <tr>\n",
       "      <th>121207354</th>\n",
       "      <td>5</td>\n",
       "      <td>15</td>\n",
       "      <td>42</td>\n",
       "      <td>195</td>\n",
       "      <td>2</td>\n",
       "      <td>17</td>\n",
       "      <td>33</td>\n",
       "      <td>214</td>\n",
       "      <td>0.000000</td>\n",
       "      <td>2255</td>\n",
       "      <td>...</td>\n",
       "      <td>0</td>\n",
       "      <td>0</td>\n",
       "      <td>0</td>\n",
       "      <td>0</td>\n",
       "      <td>0</td>\n",
       "      <td>0</td>\n",
       "      <td>0</td>\n",
       "      <td>1</td>\n",
       "      <td>0</td>\n",
       "      <td>0</td>\n",
       "    </tr>\n",
       "    <tr>\n",
       "      <th>121189524</th>\n",
       "      <td>2</td>\n",
       "      <td>15</td>\n",
       "      <td>34</td>\n",
       "      <td>153</td>\n",
       "      <td>1</td>\n",
       "      <td>10</td>\n",
       "      <td>42</td>\n",
       "      <td>280</td>\n",
       "      <td>0.049425</td>\n",
       "      <td>701</td>\n",
       "      <td>...</td>\n",
       "      <td>1</td>\n",
       "      <td>0</td>\n",
       "      <td>0</td>\n",
       "      <td>0</td>\n",
       "      <td>0</td>\n",
       "      <td>0</td>\n",
       "      <td>0</td>\n",
       "      <td>0</td>\n",
       "      <td>0</td>\n",
       "      <td>0</td>\n",
       "    </tr>\n",
       "    <tr>\n",
       "      <th>220586168</th>\n",
       "      <td>0</td>\n",
       "      <td>9</td>\n",
       "      <td>60</td>\n",
       "      <td>215</td>\n",
       "      <td>1</td>\n",
       "      <td>32</td>\n",
       "      <td>93</td>\n",
       "      <td>418</td>\n",
       "      <td>0.086285</td>\n",
       "      <td>1578</td>\n",
       "      <td>...</td>\n",
       "      <td>0</td>\n",
       "      <td>0</td>\n",
       "      <td>1</td>\n",
       "      <td>0</td>\n",
       "      <td>0</td>\n",
       "      <td>0</td>\n",
       "      <td>0</td>\n",
       "      <td>0</td>\n",
       "      <td>0</td>\n",
       "      <td>0</td>\n",
       "    </tr>\n",
       "    <tr>\n",
       "      <th>321588215</th>\n",
       "      <td>0</td>\n",
       "      <td>11</td>\n",
       "      <td>13</td>\n",
       "      <td>95</td>\n",
       "      <td>0</td>\n",
       "      <td>3</td>\n",
       "      <td>15</td>\n",
       "      <td>153</td>\n",
       "      <td>0.141644</td>\n",
       "      <td>293</td>\n",
       "      <td>...</td>\n",
       "      <td>0</td>\n",
       "      <td>0</td>\n",
       "      <td>1</td>\n",
       "      <td>0</td>\n",
       "      <td>0</td>\n",
       "      <td>0</td>\n",
       "      <td>0</td>\n",
       "      <td>0</td>\n",
       "      <td>0</td>\n",
       "      <td>0</td>\n",
       "    </tr>\n",
       "    <tr>\n",
       "      <th>321827163</th>\n",
       "      <td>0</td>\n",
       "      <td>11</td>\n",
       "      <td>20</td>\n",
       "      <td>87</td>\n",
       "      <td>0</td>\n",
       "      <td>3</td>\n",
       "      <td>14</td>\n",
       "      <td>127</td>\n",
       "      <td>0.199042</td>\n",
       "      <td>642</td>\n",
       "      <td>...</td>\n",
       "      <td>1</td>\n",
       "      <td>0</td>\n",
       "      <td>0</td>\n",
       "      <td>0</td>\n",
       "      <td>0</td>\n",
       "      <td>0</td>\n",
       "      <td>0</td>\n",
       "      <td>0</td>\n",
       "      <td>0</td>\n",
       "      <td>0</td>\n",
       "    </tr>\n",
       "  </tbody>\n",
       "</table>\n",
       "<p>5 rows × 24 columns</p>\n",
       "</div>"
      ],
      "text/plain": [
       "           subway_count_tenth_mi  subway_count_half_mi  subway_count_one_mi  \\\n",
       "job_no                                                                        \n",
       "121207354                      5                    15                   42   \n",
       "121189524                      2                    15                   34   \n",
       "220586168                      0                     9                   60   \n",
       "321588215                      0                    11                   13   \n",
       "321827163                      0                    11                   20   \n",
       "\n",
       "           subway_count_two_five_mi  park_count_tenth_mi  park_count_half_mi  \\\n",
       "job_no                                                                         \n",
       "121207354                       195                    2                  17   \n",
       "121189524                       153                    1                  10   \n",
       "220586168                       215                    1                  32   \n",
       "321588215                        95                    0                   3   \n",
       "321827163                        87                    0                   3   \n",
       "\n",
       "           park_count_one_mi  park_count_two_five_mi  closest_park  \\\n",
       "job_no                                                               \n",
       "121207354                 33                     214      0.000000   \n",
       "121189524                 42                     280      0.049425   \n",
       "220586168                 93                     418      0.086285   \n",
       "321588215                 15                     153      0.141644   \n",
       "321827163                 14                     127      0.199042   \n",
       "\n",
       "           total_complaints  ...  owners_business_type_CORPORATION  \\\n",
       "job_no                       ...                                     \n",
       "121207354              2255  ...                                 0   \n",
       "121189524               701  ...                                 1   \n",
       "220586168              1578  ...                                 0   \n",
       "321588215               293  ...                                 0   \n",
       "321827163               642  ...                                 1   \n",
       "\n",
       "           owners_business_type_HPD  owners_business_type_INDIVIDUAL  \\\n",
       "job_no                                                                 \n",
       "121207354                         0                                0   \n",
       "121189524                         0                                0   \n",
       "220586168                         0                                1   \n",
       "321588215                         0                                1   \n",
       "321827163                         0                                0   \n",
       "\n",
       "           owners_business_type_NYC AGENCY  owners_business_type_NYCHA/HHC  \\\n",
       "job_no                                                                       \n",
       "121207354                                0                               0   \n",
       "121189524                                0                               0   \n",
       "220586168                                0                               0   \n",
       "321588215                                0                               0   \n",
       "321827163                                0                               0   \n",
       "\n",
       "           owners_business_type_OTHER  \\\n",
       "job_no                                  \n",
       "121207354                           0   \n",
       "121189524                           0   \n",
       "220586168                           0   \n",
       "321588215                           0   \n",
       "321827163                           0   \n",
       "\n",
       "           owners_business_type_OTHER GOV'T AGENCY  \\\n",
       "job_no                                               \n",
       "121207354                                        0   \n",
       "121189524                                        0   \n",
       "220586168                                        0   \n",
       "321588215                                        0   \n",
       "321827163                                        0   \n",
       "\n",
       "           owners_business_type_PARTNERSHIP  non-profit_Y  in_hist_dist_1  \n",
       "job_no                                                                     \n",
       "121207354                                 1             0               0  \n",
       "121189524                                 0             0               0  \n",
       "220586168                                 0             0               0  \n",
       "321588215                                 0             0               0  \n",
       "321827163                                 0             0               0  \n",
       "\n",
       "[5 rows x 24 columns]"
      ]
     },
     "execution_count": 55,
     "metadata": {},
     "output_type": "execute_result"
    }
   ],
   "source": [
    "X.head()"
   ]
  },
  {
   "cell_type": "code",
   "execution_count": 56,
   "id": "fec9de1a-a089-4046-a285-928c27bfbdb8",
   "metadata": {},
   "outputs": [
    {
     "data": {
      "text/plain": [
       "subway_count_tenth_mi                        int64\n",
       "subway_count_half_mi                         int64\n",
       "subway_count_one_mi                          int64\n",
       "subway_count_two_five_mi                     int64\n",
       "park_count_tenth_mi                          int64\n",
       "park_count_half_mi                           int64\n",
       "park_count_one_mi                            int64\n",
       "park_count_two_five_mi                       int64\n",
       "closest_park                               float64\n",
       "total_complaints                             int64\n",
       "borough_BROOKLYN                             int64\n",
       "borough_MANHATTAN                            int64\n",
       "borough_QUEENS                               int64\n",
       "borough_STATEN ISLAND                        int64\n",
       "owners_business_type_CORPORATION             int64\n",
       "owners_business_type_HPD                     int64\n",
       "owners_business_type_INDIVIDUAL              int64\n",
       "owners_business_type_NYC AGENCY              int64\n",
       "owners_business_type_NYCHA/HHC               int64\n",
       "owners_business_type_OTHER                   int64\n",
       "owners_business_type_OTHER GOV'T AGENCY      int64\n",
       "owners_business_type_PARTNERSHIP             int64\n",
       "non-profit_Y                                 int64\n",
       "in_hist_dist_1                               int64\n",
       "dtype: object"
      ]
     },
     "execution_count": 56,
     "metadata": {},
     "output_type": "execute_result"
    }
   ],
   "source": [
    "X.dtypes"
   ]
  },
  {
   "cell_type": "code",
   "execution_count": 88,
   "id": "bae77bdf-4c1f-48bd-a8a5-1d9ec3f0f5d4",
   "metadata": {},
   "outputs": [],
   "source": [
    "ss = StandardScaler()\n",
    "X_scaled = ss.fit_transform(X)"
   ]
  },
  {
   "cell_type": "code",
   "execution_count": 58,
   "id": "74b017ba-3fbc-421d-8734-755ac35e0069",
   "metadata": {},
   "outputs": [
    {
     "data": {
      "text/plain": [
       "DBSCAN()"
      ]
     },
     "execution_count": 58,
     "metadata": {},
     "output_type": "execute_result"
    }
   ],
   "source": [
    "dbscan = DBSCAN()\n",
    "dbscan.fit(X_scaled)"
   ]
  },
  {
   "cell_type": "code",
   "execution_count": 59,
   "id": "fc3fdcbc-fa4b-40cf-af76-ee1ceea044d5",
   "metadata": {},
   "outputs": [
    {
     "data": {
      "text/plain": [
       "array([-1, -1, -1, ..., 13, 13,  8])"
      ]
     },
     "execution_count": 59,
     "metadata": {},
     "output_type": "execute_result"
    }
   ],
   "source": [
    "dbscan.labels_"
   ]
  },
  {
   "cell_type": "code",
   "execution_count": 60,
   "id": "2acab22d-e8fb-4e56-a733-496a79f5d0af",
   "metadata": {},
   "outputs": [
    {
     "data": {
      "text/plain": [
       "array([ -1,   0,   1,   2,   3,   4,   5,  66,   6,   7,   8,   9,  10,\n",
       "       104, 115, 114,  11,  12,  13,  14,  15,  16,  17,  18,  19,  20,\n",
       "        21,  22,  23,  24,  30,  25,  26,  27,  28,  29,  31,  32,  33,\n",
       "        34,  35,  36,  37,  38, 123,  39,  40,  41,  42,  50,  43,  44,\n",
       "        45,  53,  46,  76, 131,  47,  80,  48,  65,  49,  51,  52,  98,\n",
       "        54,  55,  56,  57,  58,  59,  60,  61, 113,  62,  63,  64,  74,\n",
       "        67,  68, 112,  69,  70,  71,  72,  84,  73,  75,  77,  78,  79,\n",
       "        82,  95,  81, 125, 126,  83,  85,  86,  87,  88,  89, 108, 132,\n",
       "        90,  91,  92,  93,  94, 101,  96,  97,  99, 100, 102, 103, 105,\n",
       "       106, 107, 109, 110, 120, 111, 116, 117, 118, 119, 121, 122, 124,\n",
       "       127, 128, 129, 130, 133])"
      ]
     },
     "execution_count": 60,
     "metadata": {},
     "output_type": "execute_result"
    }
   ],
   "source": [
    "pd.Series(dbscan.labels_).unique()"
   ]
  },
  {
   "cell_type": "markdown",
   "id": "c913ab01-fe36-48be-965f-5dff84dcb42e",
   "metadata": {},
   "source": [
    "## The Silhouette Score\n",
    "Not great."
   ]
  },
  {
   "cell_type": "code",
   "execution_count": 61,
   "id": "39eb822c-07e7-4a1e-a76f-9d53c3d0b9d7",
   "metadata": {},
   "outputs": [
    {
     "data": {
      "text/plain": [
       "0.03942418684596389"
      ]
     },
     "execution_count": 61,
     "metadata": {},
     "output_type": "execute_result"
    }
   ],
   "source": [
    "silhouette_score(X_scaled, dbscan.labels_)"
   ]
  },
  {
   "cell_type": "markdown",
   "id": "247313d3-dc91-40de-8b01-6bf23f5b816e",
   "metadata": {},
   "source": [
    "# Pairplot\n",
    "Doesn't work. See error below."
   ]
  },
  {
   "cell_type": "code",
   "execution_count": 63,
   "id": "7cad560a-15bf-4506-9268-f92370cf8f11",
   "metadata": {},
   "outputs": [
    {
     "name": "stderr",
     "output_type": "stream",
     "text": [
      "/var/folders/5_/498w081d1837cc82dmb4hwmc0000gn/T/ipykernel_80067/123783876.py:1: SettingWithCopyWarning: \n",
      "A value is trying to be set on a copy of a slice from a DataFrame.\n",
      "Try using .loc[row_indexer,col_indexer] = value instead\n",
      "\n",
      "See the caveats in the documentation: https://pandas.pydata.org/pandas-docs/stable/user_guide/indexing.html#returning-a-view-versus-a-copy\n",
      "  permits_X['cluster']=dbscan.labels_\n"
     ]
    },
    {
     "data": {
      "text/html": [
       "<div>\n",
       "<style scoped>\n",
       "    .dataframe tbody tr th:only-of-type {\n",
       "        vertical-align: middle;\n",
       "    }\n",
       "\n",
       "    .dataframe tbody tr th {\n",
       "        vertical-align: top;\n",
       "    }\n",
       "\n",
       "    .dataframe thead th {\n",
       "        text-align: right;\n",
       "    }\n",
       "</style>\n",
       "<table border=\"1\" class=\"dataframe\">\n",
       "  <thead>\n",
       "    <tr style=\"text-align: right;\">\n",
       "      <th></th>\n",
       "      <th>subway_count_tenth_mi</th>\n",
       "      <th>subway_count_half_mi</th>\n",
       "      <th>subway_count_one_mi</th>\n",
       "      <th>subway_count_two_five_mi</th>\n",
       "      <th>park_count_tenth_mi</th>\n",
       "      <th>park_count_half_mi</th>\n",
       "      <th>park_count_one_mi</th>\n",
       "      <th>park_count_two_five_mi</th>\n",
       "      <th>closest_park</th>\n",
       "      <th>total_complaints</th>\n",
       "      <th>...</th>\n",
       "      <th>owners_business_type_HPD</th>\n",
       "      <th>owners_business_type_INDIVIDUAL</th>\n",
       "      <th>owners_business_type_NYC AGENCY</th>\n",
       "      <th>owners_business_type_NYCHA/HHC</th>\n",
       "      <th>owners_business_type_OTHER</th>\n",
       "      <th>owners_business_type_OTHER GOV'T AGENCY</th>\n",
       "      <th>owners_business_type_PARTNERSHIP</th>\n",
       "      <th>non-profit_Y</th>\n",
       "      <th>in_hist_dist_1</th>\n",
       "      <th>cluster</th>\n",
       "    </tr>\n",
       "    <tr>\n",
       "      <th>job_no</th>\n",
       "      <th></th>\n",
       "      <th></th>\n",
       "      <th></th>\n",
       "      <th></th>\n",
       "      <th></th>\n",
       "      <th></th>\n",
       "      <th></th>\n",
       "      <th></th>\n",
       "      <th></th>\n",
       "      <th></th>\n",
       "      <th></th>\n",
       "      <th></th>\n",
       "      <th></th>\n",
       "      <th></th>\n",
       "      <th></th>\n",
       "      <th></th>\n",
       "      <th></th>\n",
       "      <th></th>\n",
       "      <th></th>\n",
       "      <th></th>\n",
       "      <th></th>\n",
       "    </tr>\n",
       "  </thead>\n",
       "  <tbody>\n",
       "    <tr>\n",
       "      <th>121207354</th>\n",
       "      <td>5</td>\n",
       "      <td>15</td>\n",
       "      <td>42</td>\n",
       "      <td>195</td>\n",
       "      <td>2</td>\n",
       "      <td>17</td>\n",
       "      <td>33</td>\n",
       "      <td>214</td>\n",
       "      <td>0.000000</td>\n",
       "      <td>2255</td>\n",
       "      <td>...</td>\n",
       "      <td>0</td>\n",
       "      <td>0</td>\n",
       "      <td>0</td>\n",
       "      <td>0</td>\n",
       "      <td>0</td>\n",
       "      <td>0</td>\n",
       "      <td>1</td>\n",
       "      <td>0</td>\n",
       "      <td>0</td>\n",
       "      <td>-1</td>\n",
       "    </tr>\n",
       "    <tr>\n",
       "      <th>121189524</th>\n",
       "      <td>2</td>\n",
       "      <td>15</td>\n",
       "      <td>34</td>\n",
       "      <td>153</td>\n",
       "      <td>1</td>\n",
       "      <td>10</td>\n",
       "      <td>42</td>\n",
       "      <td>280</td>\n",
       "      <td>0.049425</td>\n",
       "      <td>701</td>\n",
       "      <td>...</td>\n",
       "      <td>0</td>\n",
       "      <td>0</td>\n",
       "      <td>0</td>\n",
       "      <td>0</td>\n",
       "      <td>0</td>\n",
       "      <td>0</td>\n",
       "      <td>0</td>\n",
       "      <td>0</td>\n",
       "      <td>0</td>\n",
       "      <td>-1</td>\n",
       "    </tr>\n",
       "    <tr>\n",
       "      <th>220586168</th>\n",
       "      <td>0</td>\n",
       "      <td>9</td>\n",
       "      <td>60</td>\n",
       "      <td>215</td>\n",
       "      <td>1</td>\n",
       "      <td>32</td>\n",
       "      <td>93</td>\n",
       "      <td>418</td>\n",
       "      <td>0.086285</td>\n",
       "      <td>1578</td>\n",
       "      <td>...</td>\n",
       "      <td>0</td>\n",
       "      <td>1</td>\n",
       "      <td>0</td>\n",
       "      <td>0</td>\n",
       "      <td>0</td>\n",
       "      <td>0</td>\n",
       "      <td>0</td>\n",
       "      <td>0</td>\n",
       "      <td>0</td>\n",
       "      <td>-1</td>\n",
       "    </tr>\n",
       "    <tr>\n",
       "      <th>321588215</th>\n",
       "      <td>0</td>\n",
       "      <td>11</td>\n",
       "      <td>13</td>\n",
       "      <td>95</td>\n",
       "      <td>0</td>\n",
       "      <td>3</td>\n",
       "      <td>15</td>\n",
       "      <td>153</td>\n",
       "      <td>0.141644</td>\n",
       "      <td>293</td>\n",
       "      <td>...</td>\n",
       "      <td>0</td>\n",
       "      <td>1</td>\n",
       "      <td>0</td>\n",
       "      <td>0</td>\n",
       "      <td>0</td>\n",
       "      <td>0</td>\n",
       "      <td>0</td>\n",
       "      <td>0</td>\n",
       "      <td>0</td>\n",
       "      <td>0</td>\n",
       "    </tr>\n",
       "    <tr>\n",
       "      <th>321827163</th>\n",
       "      <td>0</td>\n",
       "      <td>11</td>\n",
       "      <td>20</td>\n",
       "      <td>87</td>\n",
       "      <td>0</td>\n",
       "      <td>3</td>\n",
       "      <td>14</td>\n",
       "      <td>127</td>\n",
       "      <td>0.199042</td>\n",
       "      <td>642</td>\n",
       "      <td>...</td>\n",
       "      <td>0</td>\n",
       "      <td>0</td>\n",
       "      <td>0</td>\n",
       "      <td>0</td>\n",
       "      <td>0</td>\n",
       "      <td>0</td>\n",
       "      <td>0</td>\n",
       "      <td>0</td>\n",
       "      <td>0</td>\n",
       "      <td>-1</td>\n",
       "    </tr>\n",
       "  </tbody>\n",
       "</table>\n",
       "<p>5 rows × 25 columns</p>\n",
       "</div>"
      ],
      "text/plain": [
       "           subway_count_tenth_mi  subway_count_half_mi  subway_count_one_mi  \\\n",
       "job_no                                                                        \n",
       "121207354                      5                    15                   42   \n",
       "121189524                      2                    15                   34   \n",
       "220586168                      0                     9                   60   \n",
       "321588215                      0                    11                   13   \n",
       "321827163                      0                    11                   20   \n",
       "\n",
       "           subway_count_two_five_mi  park_count_tenth_mi  park_count_half_mi  \\\n",
       "job_no                                                                         \n",
       "121207354                       195                    2                  17   \n",
       "121189524                       153                    1                  10   \n",
       "220586168                       215                    1                  32   \n",
       "321588215                        95                    0                   3   \n",
       "321827163                        87                    0                   3   \n",
       "\n",
       "           park_count_one_mi  park_count_two_five_mi  closest_park  \\\n",
       "job_no                                                               \n",
       "121207354                 33                     214      0.000000   \n",
       "121189524                 42                     280      0.049425   \n",
       "220586168                 93                     418      0.086285   \n",
       "321588215                 15                     153      0.141644   \n",
       "321827163                 14                     127      0.199042   \n",
       "\n",
       "           total_complaints  ...  owners_business_type_HPD  \\\n",
       "job_no                       ...                             \n",
       "121207354              2255  ...                         0   \n",
       "121189524               701  ...                         0   \n",
       "220586168              1578  ...                         0   \n",
       "321588215               293  ...                         0   \n",
       "321827163               642  ...                         0   \n",
       "\n",
       "           owners_business_type_INDIVIDUAL  owners_business_type_NYC AGENCY  \\\n",
       "job_no                                                                        \n",
       "121207354                                0                                0   \n",
       "121189524                                0                                0   \n",
       "220586168                                1                                0   \n",
       "321588215                                1                                0   \n",
       "321827163                                0                                0   \n",
       "\n",
       "           owners_business_type_NYCHA/HHC  owners_business_type_OTHER  \\\n",
       "job_no                                                                  \n",
       "121207354                               0                           0   \n",
       "121189524                               0                           0   \n",
       "220586168                               0                           0   \n",
       "321588215                               0                           0   \n",
       "321827163                               0                           0   \n",
       "\n",
       "           owners_business_type_OTHER GOV'T AGENCY  \\\n",
       "job_no                                               \n",
       "121207354                                        0   \n",
       "121189524                                        0   \n",
       "220586168                                        0   \n",
       "321588215                                        0   \n",
       "321827163                                        0   \n",
       "\n",
       "           owners_business_type_PARTNERSHIP  non-profit_Y  in_hist_dist_1  \\\n",
       "job_no                                                                      \n",
       "121207354                                 1             0               0   \n",
       "121189524                                 0             0               0   \n",
       "220586168                                 0             0               0   \n",
       "321588215                                 0             0               0   \n",
       "321827163                                 0             0               0   \n",
       "\n",
       "           cluster  \n",
       "job_no              \n",
       "121207354       -1  \n",
       "121189524       -1  \n",
       "220586168       -1  \n",
       "321588215        0  \n",
       "321827163       -1  \n",
       "\n",
       "[5 rows x 25 columns]"
      ]
     },
     "execution_count": 63,
     "metadata": {},
     "output_type": "execute_result"
    }
   ],
   "source": [
    "permits_X = X\n",
    "permits_X['cluster']=dbscan.labels_\n",
    "permits_X.head()"
   ]
  },
  {
   "cell_type": "code",
   "execution_count": null,
   "id": "6bdf4b21-1dbc-411a-868f-812846c9990a",
   "metadata": {},
   "outputs": [],
   "source": [
    "#sns.pairplot(permits_X, corner = True, hue = 'cluster', palette = 'bright');\n",
    "#LinAlgError: singular matrix"
   ]
  },
  {
   "cell_type": "markdown",
   "id": "44b5b152-39c5-465f-b75d-2891144da1b7",
   "metadata": {},
   "source": [
    "# CHANGING EPSILON\n"
   ]
  },
  {
   "cell_type": "code",
   "execution_count": 124,
   "id": "a8d07db1-977c-4e06-8d44-824667f6c6fd",
   "metadata": {},
   "outputs": [
    {
     "data": {
      "text/plain": [
       "DBSCAN(eps=1)"
      ]
     },
     "execution_count": 124,
     "metadata": {},
     "output_type": "execute_result"
    }
   ],
   "source": [
    "dbscan = DBSCAN(eps = 1)\n",
    "dbscan.fit(X_scaled)"
   ]
  },
  {
   "cell_type": "code",
   "execution_count": 125,
   "id": "95c7d5e1-cfb9-4731-938f-32b8f56422fe",
   "metadata": {},
   "outputs": [
    {
     "data": {
      "text/plain": [
       "array([-1,  0,  1,  2,  3,  4,  5,  6, 21,  8, 64,  7,  9, 10, 11, 12, 46,\n",
       "       13, 14, 15, 41, 16, 17, 18, 19, 20, 61, 22, 23, 56, 57, 24, 25, 26,\n",
       "       62, 40, 27, 28, 63, 29, 30, 51, 31, 34, 32, 33, 35, 47, 36, 37, 38,\n",
       "       39, 59, 48, 42, 54, 43, 44, 45, 55, 49, 50, 52, 53, 58, 60, 65, 66])"
      ]
     },
     "execution_count": 125,
     "metadata": {},
     "output_type": "execute_result"
    }
   ],
   "source": [
    "pd.Series(dbscan.labels_).unique()"
   ]
  },
  {
   "cell_type": "code",
   "execution_count": 126,
   "id": "d009db1d-a443-45e9-9ac1-59d603d1d293",
   "metadata": {},
   "outputs": [
    {
     "data": {
      "text/plain": [
       "0.053407599630612465"
      ]
     },
     "execution_count": 126,
     "metadata": {},
     "output_type": "execute_result"
    }
   ],
   "source": [
    "silhouette_score(X_scaled, dbscan.labels_)"
   ]
  },
  {
   "cell_type": "code",
   "execution_count": 127,
   "id": "bbb32c6e-4c4d-44ce-bdd4-9f8e66819fba",
   "metadata": {},
   "outputs": [
    {
     "data": {
      "text/plain": [
       "DBSCAN(eps=5)"
      ]
     },
     "execution_count": 127,
     "metadata": {},
     "output_type": "execute_result"
    }
   ],
   "source": [
    "dbscan = DBSCAN(eps = 5)\n",
    "dbscan.fit(X_scaled)"
   ]
  },
  {
   "cell_type": "code",
   "execution_count": 128,
   "id": "67722845-3413-4b21-8620-e1e5e34725d8",
   "metadata": {},
   "outputs": [
    {
     "data": {
      "text/plain": [
       "array([ 0,  1,  2, -1,  3,  4,  5,  6,  7])"
      ]
     },
     "execution_count": 128,
     "metadata": {},
     "output_type": "execute_result"
    }
   ],
   "source": [
    "pd.Series(dbscan.labels_).unique()"
   ]
  },
  {
   "cell_type": "code",
   "execution_count": 129,
   "id": "ab950840-908b-4419-92d9-55ee69582d8d",
   "metadata": {},
   "outputs": [
    {
     "data": {
      "text/plain": [
       "0.41644131036113946"
      ]
     },
     "execution_count": 129,
     "metadata": {},
     "output_type": "execute_result"
    }
   ],
   "source": [
    "silhouette_score(X_scaled, dbscan.labels_)"
   ]
  },
  {
   "cell_type": "code",
   "execution_count": 151,
   "id": "58cb5a29-0e5b-4406-9721-43384b4018d6",
   "metadata": {},
   "outputs": [
    {
     "data": {
      "text/plain": [
       "DBSCAN(eps=10)"
      ]
     },
     "execution_count": 151,
     "metadata": {},
     "output_type": "execute_result"
    }
   ],
   "source": [
    "dbscan = DBSCAN(eps = 10)\n",
    "dbscan.fit(X_scaled)"
   ]
  },
  {
   "cell_type": "code",
   "execution_count": 152,
   "id": "bc4b8586-f514-4cf0-80dc-a6ae6d0a4cbf",
   "metadata": {},
   "outputs": [
    {
     "data": {
      "text/plain": [
       "array([ 0,  1,  2,  3, -1])"
      ]
     },
     "execution_count": 152,
     "metadata": {},
     "output_type": "execute_result"
    }
   ],
   "source": [
    "pd.Series(dbscan.labels_).unique()"
   ]
  },
  {
   "cell_type": "code",
   "execution_count": 153,
   "id": "f0961905-3e1c-4962-bd7f-a2908d730c3e",
   "metadata": {},
   "outputs": [
    {
     "data": {
      "text/plain": [
       "0.6502845646748202"
      ]
     },
     "execution_count": 153,
     "metadata": {},
     "output_type": "execute_result"
    }
   ],
   "source": [
    "silhouette_score(X_scaled, dbscan.labels_)"
   ]
  },
  {
   "cell_type": "markdown",
   "id": "e8ecc9ab-b2ce-47bd-b32f-c7adfeb80fad",
   "metadata": {},
   "source": [
    "I got this approach to finding the count of each label at [this stackoverflow answer](https://stackoverflow.com/a/28663910/5394724)"
   ]
  },
  {
   "cell_type": "code",
   "execution_count": 154,
   "id": "658ad3eb-1472-4964-8843-d7aa3031b20d",
   "metadata": {},
   "outputs": [
    {
     "data": {
      "text/plain": [
       "{-1: 12, 0: 7092, 1: 42, 2: 21, 3: 9}"
      ]
     },
     "execution_count": 154,
     "metadata": {},
     "output_type": "execute_result"
    }
   ],
   "source": [
    "unique, counts = np.unique(dbscan.labels_, return_counts=True)\n",
    "\n",
    "count = dict(zip(unique, counts))\n",
    "count"
   ]
  },
  {
   "cell_type": "code",
   "execution_count": 179,
   "id": "fe52cef3-72c4-4f66-bf59-b0a888db5082",
   "metadata": {},
   "outputs": [
    {
     "data": {
      "text/plain": [
       "DBSCAN(eps=15)"
      ]
     },
     "execution_count": 179,
     "metadata": {},
     "output_type": "execute_result"
    }
   ],
   "source": [
    "dbscan = DBSCAN(eps = 15)\n",
    "dbscan.fit(X_scaled)"
   ]
  },
  {
   "cell_type": "code",
   "execution_count": 180,
   "id": "1777fa06-369e-4223-80bc-53015e03a35b",
   "metadata": {},
   "outputs": [
    {
     "data": {
      "text/plain": [
       "array([ 0,  1,  2, -1])"
      ]
     },
     "execution_count": 180,
     "metadata": {},
     "output_type": "execute_result"
    }
   ],
   "source": [
    "pd.Series(dbscan.labels_).unique()"
   ]
  },
  {
   "cell_type": "code",
   "execution_count": 181,
   "id": "fcb0e85b-439f-4049-94b7-e6ef283dfdb1",
   "metadata": {},
   "outputs": [
    {
     "data": {
      "text/plain": [
       "0.7163018602039024"
      ]
     },
     "execution_count": 181,
     "metadata": {},
     "output_type": "execute_result"
    }
   ],
   "source": [
    "silhouette_score(X_scaled, dbscan.labels_)"
   ]
  },
  {
   "cell_type": "code",
   "execution_count": 182,
   "id": "c4e0a0ed-59f0-4dc7-a68b-bdd638975e5f",
   "metadata": {},
   "outputs": [
    {
     "data": {
      "text/plain": [
       "numpy.ndarray"
      ]
     },
     "execution_count": 182,
     "metadata": {},
     "output_type": "execute_result"
    }
   ],
   "source": [
    "type(dbscan.labels_)"
   ]
  },
  {
   "cell_type": "markdown",
   "id": "ab86c3f7-65db-42e5-aa70-2678522f4c00",
   "metadata": {},
   "source": [
    "I got this approach to finding the count of each label at [this stackoverflow answer](https://stackoverflow.com/a/28663910/5394724)"
   ]
  },
  {
   "cell_type": "code",
   "execution_count": 183,
   "id": "e8946d21-7dab-4584-83bb-d82ffe9d1e9f",
   "metadata": {},
   "outputs": [
    {
     "data": {
      "text/plain": [
       "{-1: 4, 0: 7142, 1: 21, 2: 9}"
      ]
     },
     "execution_count": 183,
     "metadata": {},
     "output_type": "execute_result"
    }
   ],
   "source": [
    "unique, counts = np.unique(dbscan.labels_, return_counts=True)\n",
    "\n",
    "count = dict(zip(unique, counts))\n",
    "count"
   ]
  },
  {
   "cell_type": "markdown",
   "id": "0dfb0c69-b3f9-4848-9e32-10c5b4e9fe2f",
   "metadata": {},
   "source": [
    "-1 is noise ([DBSCAN documentation](https://scikit-learn.org/stable/modules/clustering.html#dbscan))"
   ]
  },
  {
   "cell_type": "code",
   "execution_count": 184,
   "id": "38e8d313-1c49-4685-b935-1512d6d64be4",
   "metadata": {},
   "outputs": [
    {
     "name": "stderr",
     "output_type": "stream",
     "text": [
      "/var/folders/5_/498w081d1837cc82dmb4hwmc0000gn/T/ipykernel_80067/2589708616.py:2: SettingWithCopyWarning: \n",
      "A value is trying to be set on a copy of a slice from a DataFrame.\n",
      "Try using .loc[row_indexer,col_indexer] = value instead\n",
      "\n",
      "See the caveats in the documentation: https://pandas.pydata.org/pandas-docs/stable/user_guide/indexing.html#returning-a-view-versus-a-copy\n",
      "  permits_X['cluster']=dbscan.labels_\n"
     ]
    },
    {
     "data": {
      "text/html": [
       "<div>\n",
       "<style scoped>\n",
       "    .dataframe tbody tr th:only-of-type {\n",
       "        vertical-align: middle;\n",
       "    }\n",
       "\n",
       "    .dataframe tbody tr th {\n",
       "        vertical-align: top;\n",
       "    }\n",
       "\n",
       "    .dataframe thead th {\n",
       "        text-align: right;\n",
       "    }\n",
       "</style>\n",
       "<table border=\"1\" class=\"dataframe\">\n",
       "  <thead>\n",
       "    <tr style=\"text-align: right;\">\n",
       "      <th></th>\n",
       "      <th>subway_count_tenth_mi</th>\n",
       "      <th>subway_count_half_mi</th>\n",
       "      <th>subway_count_one_mi</th>\n",
       "      <th>subway_count_two_five_mi</th>\n",
       "      <th>park_count_tenth_mi</th>\n",
       "      <th>park_count_half_mi</th>\n",
       "      <th>park_count_one_mi</th>\n",
       "      <th>park_count_two_five_mi</th>\n",
       "      <th>closest_park</th>\n",
       "      <th>total_complaints</th>\n",
       "      <th>...</th>\n",
       "      <th>owners_business_type_HPD</th>\n",
       "      <th>owners_business_type_INDIVIDUAL</th>\n",
       "      <th>owners_business_type_NYC AGENCY</th>\n",
       "      <th>owners_business_type_NYCHA/HHC</th>\n",
       "      <th>owners_business_type_OTHER</th>\n",
       "      <th>owners_business_type_OTHER GOV'T AGENCY</th>\n",
       "      <th>owners_business_type_PARTNERSHIP</th>\n",
       "      <th>non-profit_Y</th>\n",
       "      <th>in_hist_dist_1</th>\n",
       "      <th>cluster</th>\n",
       "    </tr>\n",
       "    <tr>\n",
       "      <th>job_no</th>\n",
       "      <th></th>\n",
       "      <th></th>\n",
       "      <th></th>\n",
       "      <th></th>\n",
       "      <th></th>\n",
       "      <th></th>\n",
       "      <th></th>\n",
       "      <th></th>\n",
       "      <th></th>\n",
       "      <th></th>\n",
       "      <th></th>\n",
       "      <th></th>\n",
       "      <th></th>\n",
       "      <th></th>\n",
       "      <th></th>\n",
       "      <th></th>\n",
       "      <th></th>\n",
       "      <th></th>\n",
       "      <th></th>\n",
       "      <th></th>\n",
       "      <th></th>\n",
       "    </tr>\n",
       "  </thead>\n",
       "  <tbody>\n",
       "    <tr>\n",
       "      <th>121207354</th>\n",
       "      <td>5</td>\n",
       "      <td>15</td>\n",
       "      <td>42</td>\n",
       "      <td>195</td>\n",
       "      <td>2</td>\n",
       "      <td>17</td>\n",
       "      <td>33</td>\n",
       "      <td>214</td>\n",
       "      <td>0.000000</td>\n",
       "      <td>2255</td>\n",
       "      <td>...</td>\n",
       "      <td>0</td>\n",
       "      <td>0</td>\n",
       "      <td>0</td>\n",
       "      <td>0</td>\n",
       "      <td>0</td>\n",
       "      <td>0</td>\n",
       "      <td>1</td>\n",
       "      <td>0</td>\n",
       "      <td>0</td>\n",
       "      <td>0</td>\n",
       "    </tr>\n",
       "    <tr>\n",
       "      <th>121189524</th>\n",
       "      <td>2</td>\n",
       "      <td>15</td>\n",
       "      <td>34</td>\n",
       "      <td>153</td>\n",
       "      <td>1</td>\n",
       "      <td>10</td>\n",
       "      <td>42</td>\n",
       "      <td>280</td>\n",
       "      <td>0.049425</td>\n",
       "      <td>701</td>\n",
       "      <td>...</td>\n",
       "      <td>0</td>\n",
       "      <td>0</td>\n",
       "      <td>0</td>\n",
       "      <td>0</td>\n",
       "      <td>0</td>\n",
       "      <td>0</td>\n",
       "      <td>0</td>\n",
       "      <td>0</td>\n",
       "      <td>0</td>\n",
       "      <td>0</td>\n",
       "    </tr>\n",
       "    <tr>\n",
       "      <th>220586168</th>\n",
       "      <td>0</td>\n",
       "      <td>9</td>\n",
       "      <td>60</td>\n",
       "      <td>215</td>\n",
       "      <td>1</td>\n",
       "      <td>32</td>\n",
       "      <td>93</td>\n",
       "      <td>418</td>\n",
       "      <td>0.086285</td>\n",
       "      <td>1578</td>\n",
       "      <td>...</td>\n",
       "      <td>0</td>\n",
       "      <td>1</td>\n",
       "      <td>0</td>\n",
       "      <td>0</td>\n",
       "      <td>0</td>\n",
       "      <td>0</td>\n",
       "      <td>0</td>\n",
       "      <td>0</td>\n",
       "      <td>0</td>\n",
       "      <td>0</td>\n",
       "    </tr>\n",
       "    <tr>\n",
       "      <th>321588215</th>\n",
       "      <td>0</td>\n",
       "      <td>11</td>\n",
       "      <td>13</td>\n",
       "      <td>95</td>\n",
       "      <td>0</td>\n",
       "      <td>3</td>\n",
       "      <td>15</td>\n",
       "      <td>153</td>\n",
       "      <td>0.141644</td>\n",
       "      <td>293</td>\n",
       "      <td>...</td>\n",
       "      <td>0</td>\n",
       "      <td>1</td>\n",
       "      <td>0</td>\n",
       "      <td>0</td>\n",
       "      <td>0</td>\n",
       "      <td>0</td>\n",
       "      <td>0</td>\n",
       "      <td>0</td>\n",
       "      <td>0</td>\n",
       "      <td>0</td>\n",
       "    </tr>\n",
       "    <tr>\n",
       "      <th>321827163</th>\n",
       "      <td>0</td>\n",
       "      <td>11</td>\n",
       "      <td>20</td>\n",
       "      <td>87</td>\n",
       "      <td>0</td>\n",
       "      <td>3</td>\n",
       "      <td>14</td>\n",
       "      <td>127</td>\n",
       "      <td>0.199042</td>\n",
       "      <td>642</td>\n",
       "      <td>...</td>\n",
       "      <td>0</td>\n",
       "      <td>0</td>\n",
       "      <td>0</td>\n",
       "      <td>0</td>\n",
       "      <td>0</td>\n",
       "      <td>0</td>\n",
       "      <td>0</td>\n",
       "      <td>0</td>\n",
       "      <td>0</td>\n",
       "      <td>0</td>\n",
       "    </tr>\n",
       "  </tbody>\n",
       "</table>\n",
       "<p>5 rows × 25 columns</p>\n",
       "</div>"
      ],
      "text/plain": [
       "           subway_count_tenth_mi  subway_count_half_mi  subway_count_one_mi  \\\n",
       "job_no                                                                        \n",
       "121207354                      5                    15                   42   \n",
       "121189524                      2                    15                   34   \n",
       "220586168                      0                     9                   60   \n",
       "321588215                      0                    11                   13   \n",
       "321827163                      0                    11                   20   \n",
       "\n",
       "           subway_count_two_five_mi  park_count_tenth_mi  park_count_half_mi  \\\n",
       "job_no                                                                         \n",
       "121207354                       195                    2                  17   \n",
       "121189524                       153                    1                  10   \n",
       "220586168                       215                    1                  32   \n",
       "321588215                        95                    0                   3   \n",
       "321827163                        87                    0                   3   \n",
       "\n",
       "           park_count_one_mi  park_count_two_five_mi  closest_park  \\\n",
       "job_no                                                               \n",
       "121207354                 33                     214      0.000000   \n",
       "121189524                 42                     280      0.049425   \n",
       "220586168                 93                     418      0.086285   \n",
       "321588215                 15                     153      0.141644   \n",
       "321827163                 14                     127      0.199042   \n",
       "\n",
       "           total_complaints  ...  owners_business_type_HPD  \\\n",
       "job_no                       ...                             \n",
       "121207354              2255  ...                         0   \n",
       "121189524               701  ...                         0   \n",
       "220586168              1578  ...                         0   \n",
       "321588215               293  ...                         0   \n",
       "321827163               642  ...                         0   \n",
       "\n",
       "           owners_business_type_INDIVIDUAL  owners_business_type_NYC AGENCY  \\\n",
       "job_no                                                                        \n",
       "121207354                                0                                0   \n",
       "121189524                                0                                0   \n",
       "220586168                                1                                0   \n",
       "321588215                                1                                0   \n",
       "321827163                                0                                0   \n",
       "\n",
       "           owners_business_type_NYCHA/HHC  owners_business_type_OTHER  \\\n",
       "job_no                                                                  \n",
       "121207354                               0                           0   \n",
       "121189524                               0                           0   \n",
       "220586168                               0                           0   \n",
       "321588215                               0                           0   \n",
       "321827163                               0                           0   \n",
       "\n",
       "           owners_business_type_OTHER GOV'T AGENCY  \\\n",
       "job_no                                               \n",
       "121207354                                        0   \n",
       "121189524                                        0   \n",
       "220586168                                        0   \n",
       "321588215                                        0   \n",
       "321827163                                        0   \n",
       "\n",
       "           owners_business_type_PARTNERSHIP  non-profit_Y  in_hist_dist_1  \\\n",
       "job_no                                                                      \n",
       "121207354                                 1             0               0   \n",
       "121189524                                 0             0               0   \n",
       "220586168                                 0             0               0   \n",
       "321588215                                 0             0               0   \n",
       "321827163                                 0             0               0   \n",
       "\n",
       "           cluster  \n",
       "job_no              \n",
       "121207354        0  \n",
       "121189524        0  \n",
       "220586168        0  \n",
       "321588215        0  \n",
       "321827163        0  \n",
       "\n",
       "[5 rows x 25 columns]"
      ]
     },
     "execution_count": 184,
     "metadata": {},
     "output_type": "execute_result"
    }
   ],
   "source": [
    "permits_X = X\n",
    "permits_X['cluster']=dbscan.labels_\n",
    "permits_X.head()"
   ]
  },
  {
   "cell_type": "code",
   "execution_count": 189,
   "id": "03f5b281-e25f-4640-be9b-9d72c6adbfbc",
   "metadata": {},
   "outputs": [],
   "source": [
    "pd.set_option('display.max_columns', None)"
   ]
  },
  {
   "cell_type": "code",
   "execution_count": 190,
   "id": "8d39cc90-dfbf-4a32-b8b6-fecd9e58f93f",
   "metadata": {},
   "outputs": [
    {
     "data": {
      "text/html": [
       "<div>\n",
       "<style scoped>\n",
       "    .dataframe tbody tr th:only-of-type {\n",
       "        vertical-align: middle;\n",
       "    }\n",
       "\n",
       "    .dataframe tbody tr th {\n",
       "        vertical-align: top;\n",
       "    }\n",
       "\n",
       "    .dataframe thead th {\n",
       "        text-align: right;\n",
       "    }\n",
       "</style>\n",
       "<table border=\"1\" class=\"dataframe\">\n",
       "  <thead>\n",
       "    <tr style=\"text-align: right;\">\n",
       "      <th></th>\n",
       "      <th>subway_count_tenth_mi</th>\n",
       "      <th>subway_count_half_mi</th>\n",
       "      <th>subway_count_one_mi</th>\n",
       "      <th>subway_count_two_five_mi</th>\n",
       "      <th>park_count_tenth_mi</th>\n",
       "      <th>park_count_half_mi</th>\n",
       "      <th>park_count_one_mi</th>\n",
       "      <th>park_count_two_five_mi</th>\n",
       "      <th>closest_park</th>\n",
       "      <th>total_complaints</th>\n",
       "      <th>borough_BROOKLYN</th>\n",
       "      <th>borough_MANHATTAN</th>\n",
       "      <th>borough_QUEENS</th>\n",
       "      <th>borough_STATEN ISLAND</th>\n",
       "      <th>owners_business_type_CORPORATION</th>\n",
       "      <th>owners_business_type_HPD</th>\n",
       "      <th>owners_business_type_INDIVIDUAL</th>\n",
       "      <th>owners_business_type_NYC AGENCY</th>\n",
       "      <th>owners_business_type_NYCHA/HHC</th>\n",
       "      <th>owners_business_type_OTHER</th>\n",
       "      <th>owners_business_type_OTHER GOV'T AGENCY</th>\n",
       "      <th>owners_business_type_PARTNERSHIP</th>\n",
       "      <th>non-profit_Y</th>\n",
       "      <th>in_hist_dist_1</th>\n",
       "    </tr>\n",
       "    <tr>\n",
       "      <th>cluster</th>\n",
       "      <th></th>\n",
       "      <th></th>\n",
       "      <th></th>\n",
       "      <th></th>\n",
       "      <th></th>\n",
       "      <th></th>\n",
       "      <th></th>\n",
       "      <th></th>\n",
       "      <th></th>\n",
       "      <th></th>\n",
       "      <th></th>\n",
       "      <th></th>\n",
       "      <th></th>\n",
       "      <th></th>\n",
       "      <th></th>\n",
       "      <th></th>\n",
       "      <th></th>\n",
       "      <th></th>\n",
       "      <th></th>\n",
       "      <th></th>\n",
       "      <th></th>\n",
       "      <th></th>\n",
       "      <th></th>\n",
       "      <th></th>\n",
       "    </tr>\n",
       "  </thead>\n",
       "  <tbody>\n",
       "    <tr>\n",
       "      <th>-1</th>\n",
       "      <td>0.000000</td>\n",
       "      <td>6.000000</td>\n",
       "      <td>40.500000</td>\n",
       "      <td>231.750000</td>\n",
       "      <td>1.500000</td>\n",
       "      <td>31.500000</td>\n",
       "      <td>85.000000</td>\n",
       "      <td>344.750000</td>\n",
       "      <td>0.069479</td>\n",
       "      <td>788.000000</td>\n",
       "      <td>0.750000</td>\n",
       "      <td>0.000000</td>\n",
       "      <td>0.000000</td>\n",
       "      <td>0.000000</td>\n",
       "      <td>0.000000</td>\n",
       "      <td>0.5</td>\n",
       "      <td>0.000000</td>\n",
       "      <td>0.000000</td>\n",
       "      <td>0.0</td>\n",
       "      <td>0.0</td>\n",
       "      <td>0.5</td>\n",
       "      <td>0.000000</td>\n",
       "      <td>0.000000</td>\n",
       "      <td>0.000000</td>\n",
       "    </tr>\n",
       "    <tr>\n",
       "      <th>0</th>\n",
       "      <td>0.221647</td>\n",
       "      <td>5.205545</td>\n",
       "      <td>17.977737</td>\n",
       "      <td>93.854243</td>\n",
       "      <td>0.720106</td>\n",
       "      <td>9.715626</td>\n",
       "      <td>30.652898</td>\n",
       "      <td>144.943153</td>\n",
       "      <td>0.223591</td>\n",
       "      <td>346.403948</td>\n",
       "      <td>0.305657</td>\n",
       "      <td>0.038505</td>\n",
       "      <td>0.290255</td>\n",
       "      <td>0.265472</td>\n",
       "      <td>0.422711</td>\n",
       "      <td>0.0</td>\n",
       "      <td>0.343881</td>\n",
       "      <td>0.018762</td>\n",
       "      <td>0.0</td>\n",
       "      <td>0.0</td>\n",
       "      <td>0.0</td>\n",
       "      <td>0.213526</td>\n",
       "      <td>0.026883</td>\n",
       "      <td>0.005881</td>\n",
       "    </tr>\n",
       "    <tr>\n",
       "      <th>1</th>\n",
       "      <td>0.095238</td>\n",
       "      <td>5.904762</td>\n",
       "      <td>25.809524</td>\n",
       "      <td>156.857143</td>\n",
       "      <td>1.190476</td>\n",
       "      <td>15.904762</td>\n",
       "      <td>49.000000</td>\n",
       "      <td>239.714286</td>\n",
       "      <td>0.055637</td>\n",
       "      <td>682.190476</td>\n",
       "      <td>0.095238</td>\n",
       "      <td>0.095238</td>\n",
       "      <td>0.190476</td>\n",
       "      <td>0.000000</td>\n",
       "      <td>0.000000</td>\n",
       "      <td>0.0</td>\n",
       "      <td>0.000000</td>\n",
       "      <td>0.000000</td>\n",
       "      <td>1.0</td>\n",
       "      <td>0.0</td>\n",
       "      <td>0.0</td>\n",
       "      <td>0.000000</td>\n",
       "      <td>0.000000</td>\n",
       "      <td>0.000000</td>\n",
       "    </tr>\n",
       "    <tr>\n",
       "      <th>2</th>\n",
       "      <td>1.333333</td>\n",
       "      <td>13.777778</td>\n",
       "      <td>50.777778</td>\n",
       "      <td>317.000000</td>\n",
       "      <td>0.777778</td>\n",
       "      <td>19.222222</td>\n",
       "      <td>62.444444</td>\n",
       "      <td>303.555556</td>\n",
       "      <td>0.087729</td>\n",
       "      <td>1014.777778</td>\n",
       "      <td>0.555556</td>\n",
       "      <td>0.333333</td>\n",
       "      <td>0.111111</td>\n",
       "      <td>0.000000</td>\n",
       "      <td>0.000000</td>\n",
       "      <td>0.0</td>\n",
       "      <td>0.000000</td>\n",
       "      <td>0.000000</td>\n",
       "      <td>0.0</td>\n",
       "      <td>1.0</td>\n",
       "      <td>0.0</td>\n",
       "      <td>0.000000</td>\n",
       "      <td>0.111111</td>\n",
       "      <td>0.000000</td>\n",
       "    </tr>\n",
       "  </tbody>\n",
       "</table>\n",
       "</div>"
      ],
      "text/plain": [
       "         subway_count_tenth_mi  subway_count_half_mi  subway_count_one_mi  \\\n",
       "cluster                                                                     \n",
       "-1                    0.000000              6.000000            40.500000   \n",
       " 0                    0.221647              5.205545            17.977737   \n",
       " 1                    0.095238              5.904762            25.809524   \n",
       " 2                    1.333333             13.777778            50.777778   \n",
       "\n",
       "         subway_count_two_five_mi  park_count_tenth_mi  park_count_half_mi  \\\n",
       "cluster                                                                      \n",
       "-1                     231.750000             1.500000           31.500000   \n",
       " 0                      93.854243             0.720106            9.715626   \n",
       " 1                     156.857143             1.190476           15.904762   \n",
       " 2                     317.000000             0.777778           19.222222   \n",
       "\n",
       "         park_count_one_mi  park_count_two_five_mi  closest_park  \\\n",
       "cluster                                                            \n",
       "-1               85.000000              344.750000      0.069479   \n",
       " 0               30.652898              144.943153      0.223591   \n",
       " 1               49.000000              239.714286      0.055637   \n",
       " 2               62.444444              303.555556      0.087729   \n",
       "\n",
       "         total_complaints  borough_BROOKLYN  borough_MANHATTAN  \\\n",
       "cluster                                                          \n",
       "-1             788.000000          0.750000           0.000000   \n",
       " 0             346.403948          0.305657           0.038505   \n",
       " 1             682.190476          0.095238           0.095238   \n",
       " 2            1014.777778          0.555556           0.333333   \n",
       "\n",
       "         borough_QUEENS  borough_STATEN ISLAND  \\\n",
       "cluster                                          \n",
       "-1             0.000000               0.000000   \n",
       " 0             0.290255               0.265472   \n",
       " 1             0.190476               0.000000   \n",
       " 2             0.111111               0.000000   \n",
       "\n",
       "         owners_business_type_CORPORATION  owners_business_type_HPD  \\\n",
       "cluster                                                               \n",
       "-1                               0.000000                       0.5   \n",
       " 0                               0.422711                       0.0   \n",
       " 1                               0.000000                       0.0   \n",
       " 2                               0.000000                       0.0   \n",
       "\n",
       "         owners_business_type_INDIVIDUAL  owners_business_type_NYC AGENCY  \\\n",
       "cluster                                                                     \n",
       "-1                              0.000000                         0.000000   \n",
       " 0                              0.343881                         0.018762   \n",
       " 1                              0.000000                         0.000000   \n",
       " 2                              0.000000                         0.000000   \n",
       "\n",
       "         owners_business_type_NYCHA/HHC  owners_business_type_OTHER  \\\n",
       "cluster                                                               \n",
       "-1                                  0.0                         0.0   \n",
       " 0                                  0.0                         0.0   \n",
       " 1                                  1.0                         0.0   \n",
       " 2                                  0.0                         1.0   \n",
       "\n",
       "         owners_business_type_OTHER GOV'T AGENCY  \\\n",
       "cluster                                            \n",
       "-1                                           0.5   \n",
       " 0                                           0.0   \n",
       " 1                                           0.0   \n",
       " 2                                           0.0   \n",
       "\n",
       "         owners_business_type_PARTNERSHIP  non-profit_Y  in_hist_dist_1  \n",
       "cluster                                                                  \n",
       "-1                               0.000000      0.000000        0.000000  \n",
       " 0                               0.213526      0.026883        0.005881  \n",
       " 1                               0.000000      0.000000        0.000000  \n",
       " 2                               0.000000      0.111111        0.000000  "
      ]
     },
     "execution_count": 190,
     "metadata": {},
     "output_type": "execute_result"
    }
   ],
   "source": [
    "permits_X.groupby(['cluster']).mean()"
   ]
  },
  {
   "cell_type": "markdown",
   "id": "2e906fdc-5699-45c5-a162-926acfda1487",
   "metadata": {},
   "source": [
    "# Building Model for Testing\n",
    "There are some interesting features I don't have data for my test points (who owns, is it a nonprofit)"
   ]
  },
  {
   "cell_type": "code",
   "execution_count": 191,
   "id": "df77adcc-9fec-4b2b-bf31-0097e266486c",
   "metadata": {},
   "outputs": [],
   "source": [
    "features_test = ['subway_count_tenth_mi',\n",
    "       'subway_count_half_mi', 'subway_count_one_mi',\n",
    "       'subway_count_two_five_mi',\n",
    "       'park_count_tenth_mi', 'park_count_half_mi', 'park_count_one_mi',\n",
    "       'park_count_two_five_mi', 'closest_park', 'total_complaints', 'borough_BROOKLYN', 'borough_MANHATTAN',\n",
    "       'borough_QUEENS', 'borough_STATEN ISLAND', 'in_hist_dist_1']"
   ]
  },
  {
   "cell_type": "code",
   "execution_count": 194,
   "id": "ad848083-50a8-46aa-9f44-b9ccbc42f6db",
   "metadata": {},
   "outputs": [],
   "source": [
    "X = permits[features_test]"
   ]
  },
  {
   "cell_type": "code",
   "execution_count": 195,
   "id": "7746890d-4fa8-47dd-bb2f-31d35cb8b107",
   "metadata": {},
   "outputs": [],
   "source": [
    "ss = StandardScaler()\n",
    "X_scaled = ss.fit_transform(X)"
   ]
  },
  {
   "cell_type": "code",
   "execution_count": 197,
   "id": "571b0181-7a11-42ef-8386-afcd655abfac",
   "metadata": {},
   "outputs": [
    {
     "data": {
      "text/plain": [
       "DBSCAN(eps=10)"
      ]
     },
     "execution_count": 197,
     "metadata": {},
     "output_type": "execute_result"
    }
   ],
   "source": [
    "dbscan = DBSCAN(eps = 10)\n",
    "dbscan.fit(X_scaled)"
   ]
  },
  {
   "cell_type": "code",
   "execution_count": 199,
   "id": "3f3b1d54-8482-4677-9f28-057d3eef0c74",
   "metadata": {},
   "outputs": [
    {
     "data": {
      "text/plain": [
       "0.7092676513248021"
      ]
     },
     "execution_count": 199,
     "metadata": {},
     "output_type": "execute_result"
    }
   ],
   "source": [
    "silhouette_score(X_scaled, dbscan.labels_)"
   ]
  },
  {
   "cell_type": "code",
   "execution_count": 200,
   "id": "1a41e217-e849-45d2-b974-cf471fd6f0c1",
   "metadata": {},
   "outputs": [
    {
     "data": {
      "text/plain": [
       "array([ 0,  1,  2, -1])"
      ]
     },
     "execution_count": 200,
     "metadata": {},
     "output_type": "execute_result"
    }
   ],
   "source": [
    "pd.Series(dbscan.labels_).unique()"
   ]
  },
  {
   "cell_type": "code",
   "execution_count": 201,
   "id": "995a165a-292a-4f82-b2df-f152dad2d41a",
   "metadata": {},
   "outputs": [
    {
     "data": {
      "text/plain": [
       "{-1: 3, 0: 7126, 1: 42, 2: 5}"
      ]
     },
     "execution_count": 201,
     "metadata": {},
     "output_type": "execute_result"
    }
   ],
   "source": [
    "unique, counts = np.unique(dbscan.labels_, return_counts=True)\n",
    "\n",
    "count = dict(zip(unique, counts))\n",
    "count"
   ]
  },
  {
   "cell_type": "code",
   "execution_count": 202,
   "id": "e0611a5d-ed69-4bec-bb5e-3c1434438da2",
   "metadata": {},
   "outputs": [
    {
     "name": "stderr",
     "output_type": "stream",
     "text": [
      "/var/folders/5_/498w081d1837cc82dmb4hwmc0000gn/T/ipykernel_80067/2589708616.py:2: SettingWithCopyWarning: \n",
      "A value is trying to be set on a copy of a slice from a DataFrame.\n",
      "Try using .loc[row_indexer,col_indexer] = value instead\n",
      "\n",
      "See the caveats in the documentation: https://pandas.pydata.org/pandas-docs/stable/user_guide/indexing.html#returning-a-view-versus-a-copy\n",
      "  permits_X['cluster']=dbscan.labels_\n"
     ]
    },
    {
     "data": {
      "text/html": [
       "<div>\n",
       "<style scoped>\n",
       "    .dataframe tbody tr th:only-of-type {\n",
       "        vertical-align: middle;\n",
       "    }\n",
       "\n",
       "    .dataframe tbody tr th {\n",
       "        vertical-align: top;\n",
       "    }\n",
       "\n",
       "    .dataframe thead th {\n",
       "        text-align: right;\n",
       "    }\n",
       "</style>\n",
       "<table border=\"1\" class=\"dataframe\">\n",
       "  <thead>\n",
       "    <tr style=\"text-align: right;\">\n",
       "      <th></th>\n",
       "      <th>subway_count_tenth_mi</th>\n",
       "      <th>subway_count_half_mi</th>\n",
       "      <th>subway_count_one_mi</th>\n",
       "      <th>subway_count_two_five_mi</th>\n",
       "      <th>park_count_tenth_mi</th>\n",
       "      <th>park_count_half_mi</th>\n",
       "      <th>park_count_one_mi</th>\n",
       "      <th>park_count_two_five_mi</th>\n",
       "      <th>closest_park</th>\n",
       "      <th>total_complaints</th>\n",
       "      <th>borough_BROOKLYN</th>\n",
       "      <th>borough_MANHATTAN</th>\n",
       "      <th>borough_QUEENS</th>\n",
       "      <th>borough_STATEN ISLAND</th>\n",
       "      <th>in_hist_dist_1</th>\n",
       "      <th>cluster</th>\n",
       "    </tr>\n",
       "    <tr>\n",
       "      <th>job_no</th>\n",
       "      <th></th>\n",
       "      <th></th>\n",
       "      <th></th>\n",
       "      <th></th>\n",
       "      <th></th>\n",
       "      <th></th>\n",
       "      <th></th>\n",
       "      <th></th>\n",
       "      <th></th>\n",
       "      <th></th>\n",
       "      <th></th>\n",
       "      <th></th>\n",
       "      <th></th>\n",
       "      <th></th>\n",
       "      <th></th>\n",
       "      <th></th>\n",
       "    </tr>\n",
       "  </thead>\n",
       "  <tbody>\n",
       "    <tr>\n",
       "      <th>121207354</th>\n",
       "      <td>5</td>\n",
       "      <td>15</td>\n",
       "      <td>42</td>\n",
       "      <td>195</td>\n",
       "      <td>2</td>\n",
       "      <td>17</td>\n",
       "      <td>33</td>\n",
       "      <td>214</td>\n",
       "      <td>0.000000</td>\n",
       "      <td>2255</td>\n",
       "      <td>0</td>\n",
       "      <td>1</td>\n",
       "      <td>0</td>\n",
       "      <td>0</td>\n",
       "      <td>0</td>\n",
       "      <td>0</td>\n",
       "    </tr>\n",
       "    <tr>\n",
       "      <th>121189524</th>\n",
       "      <td>2</td>\n",
       "      <td>15</td>\n",
       "      <td>34</td>\n",
       "      <td>153</td>\n",
       "      <td>1</td>\n",
       "      <td>10</td>\n",
       "      <td>42</td>\n",
       "      <td>280</td>\n",
       "      <td>0.049425</td>\n",
       "      <td>701</td>\n",
       "      <td>0</td>\n",
       "      <td>1</td>\n",
       "      <td>0</td>\n",
       "      <td>0</td>\n",
       "      <td>0</td>\n",
       "      <td>0</td>\n",
       "    </tr>\n",
       "    <tr>\n",
       "      <th>220586168</th>\n",
       "      <td>0</td>\n",
       "      <td>9</td>\n",
       "      <td>60</td>\n",
       "      <td>215</td>\n",
       "      <td>1</td>\n",
       "      <td>32</td>\n",
       "      <td>93</td>\n",
       "      <td>418</td>\n",
       "      <td>0.086285</td>\n",
       "      <td>1578</td>\n",
       "      <td>0</td>\n",
       "      <td>0</td>\n",
       "      <td>0</td>\n",
       "      <td>0</td>\n",
       "      <td>0</td>\n",
       "      <td>0</td>\n",
       "    </tr>\n",
       "    <tr>\n",
       "      <th>321588215</th>\n",
       "      <td>0</td>\n",
       "      <td>11</td>\n",
       "      <td>13</td>\n",
       "      <td>95</td>\n",
       "      <td>0</td>\n",
       "      <td>3</td>\n",
       "      <td>15</td>\n",
       "      <td>153</td>\n",
       "      <td>0.141644</td>\n",
       "      <td>293</td>\n",
       "      <td>1</td>\n",
       "      <td>0</td>\n",
       "      <td>0</td>\n",
       "      <td>0</td>\n",
       "      <td>0</td>\n",
       "      <td>0</td>\n",
       "    </tr>\n",
       "    <tr>\n",
       "      <th>321827163</th>\n",
       "      <td>0</td>\n",
       "      <td>11</td>\n",
       "      <td>20</td>\n",
       "      <td>87</td>\n",
       "      <td>0</td>\n",
       "      <td>3</td>\n",
       "      <td>14</td>\n",
       "      <td>127</td>\n",
       "      <td>0.199042</td>\n",
       "      <td>642</td>\n",
       "      <td>1</td>\n",
       "      <td>0</td>\n",
       "      <td>0</td>\n",
       "      <td>0</td>\n",
       "      <td>0</td>\n",
       "      <td>0</td>\n",
       "    </tr>\n",
       "  </tbody>\n",
       "</table>\n",
       "</div>"
      ],
      "text/plain": [
       "           subway_count_tenth_mi  subway_count_half_mi  subway_count_one_mi  \\\n",
       "job_no                                                                        \n",
       "121207354                      5                    15                   42   \n",
       "121189524                      2                    15                   34   \n",
       "220586168                      0                     9                   60   \n",
       "321588215                      0                    11                   13   \n",
       "321827163                      0                    11                   20   \n",
       "\n",
       "           subway_count_two_five_mi  park_count_tenth_mi  park_count_half_mi  \\\n",
       "job_no                                                                         \n",
       "121207354                       195                    2                  17   \n",
       "121189524                       153                    1                  10   \n",
       "220586168                       215                    1                  32   \n",
       "321588215                        95                    0                   3   \n",
       "321827163                        87                    0                   3   \n",
       "\n",
       "           park_count_one_mi  park_count_two_five_mi  closest_park  \\\n",
       "job_no                                                               \n",
       "121207354                 33                     214      0.000000   \n",
       "121189524                 42                     280      0.049425   \n",
       "220586168                 93                     418      0.086285   \n",
       "321588215                 15                     153      0.141644   \n",
       "321827163                 14                     127      0.199042   \n",
       "\n",
       "           total_complaints  borough_BROOKLYN  borough_MANHATTAN  \\\n",
       "job_no                                                             \n",
       "121207354              2255                 0                  1   \n",
       "121189524               701                 0                  1   \n",
       "220586168              1578                 0                  0   \n",
       "321588215               293                 1                  0   \n",
       "321827163               642                 1                  0   \n",
       "\n",
       "           borough_QUEENS  borough_STATEN ISLAND  in_hist_dist_1  cluster  \n",
       "job_no                                                                     \n",
       "121207354               0                      0               0        0  \n",
       "121189524               0                      0               0        0  \n",
       "220586168               0                      0               0        0  \n",
       "321588215               0                      0               0        0  \n",
       "321827163               0                      0               0        0  "
      ]
     },
     "execution_count": 202,
     "metadata": {},
     "output_type": "execute_result"
    }
   ],
   "source": [
    "permits_X = X\n",
    "permits_X['cluster']=dbscan.labels_\n",
    "permits_X.head()"
   ]
  },
  {
   "cell_type": "code",
   "execution_count": 203,
   "id": "d37f9351-9cfa-4540-bd52-884dadfe81a2",
   "metadata": {},
   "outputs": [
    {
     "data": {
      "text/html": [
       "<div>\n",
       "<style scoped>\n",
       "    .dataframe tbody tr th:only-of-type {\n",
       "        vertical-align: middle;\n",
       "    }\n",
       "\n",
       "    .dataframe tbody tr th {\n",
       "        vertical-align: top;\n",
       "    }\n",
       "\n",
       "    .dataframe thead th {\n",
       "        text-align: right;\n",
       "    }\n",
       "</style>\n",
       "<table border=\"1\" class=\"dataframe\">\n",
       "  <thead>\n",
       "    <tr style=\"text-align: right;\">\n",
       "      <th></th>\n",
       "      <th>subway_count_tenth_mi</th>\n",
       "      <th>subway_count_half_mi</th>\n",
       "      <th>subway_count_one_mi</th>\n",
       "      <th>subway_count_two_five_mi</th>\n",
       "      <th>park_count_tenth_mi</th>\n",
       "      <th>park_count_half_mi</th>\n",
       "      <th>park_count_one_mi</th>\n",
       "      <th>park_count_two_five_mi</th>\n",
       "      <th>closest_park</th>\n",
       "      <th>total_complaints</th>\n",
       "      <th>borough_BROOKLYN</th>\n",
       "      <th>borough_MANHATTAN</th>\n",
       "      <th>borough_QUEENS</th>\n",
       "      <th>borough_STATEN ISLAND</th>\n",
       "      <th>in_hist_dist_1</th>\n",
       "    </tr>\n",
       "    <tr>\n",
       "      <th>cluster</th>\n",
       "      <th></th>\n",
       "      <th></th>\n",
       "      <th></th>\n",
       "      <th></th>\n",
       "      <th></th>\n",
       "      <th></th>\n",
       "      <th></th>\n",
       "      <th></th>\n",
       "      <th></th>\n",
       "      <th></th>\n",
       "      <th></th>\n",
       "      <th></th>\n",
       "      <th></th>\n",
       "      <th></th>\n",
       "      <th></th>\n",
       "    </tr>\n",
       "  </thead>\n",
       "  <tbody>\n",
       "    <tr>\n",
       "      <th>-1</th>\n",
       "      <td>0.000000</td>\n",
       "      <td>0.000000</td>\n",
       "      <td>0.000000</td>\n",
       "      <td>0.000000</td>\n",
       "      <td>0.000000</td>\n",
       "      <td>0.000000</td>\n",
       "      <td>0.000000</td>\n",
       "      <td>0.000000</td>\n",
       "      <td>39.372291</td>\n",
       "      <td>0.000000</td>\n",
       "      <td>0.00000</td>\n",
       "      <td>0.000000</td>\n",
       "      <td>0.000000</td>\n",
       "      <td>1.000000</td>\n",
       "      <td>0.0</td>\n",
       "    </tr>\n",
       "    <tr>\n",
       "      <th>0</th>\n",
       "      <td>0.221302</td>\n",
       "      <td>5.110862</td>\n",
       "      <td>17.747965</td>\n",
       "      <td>93.383525</td>\n",
       "      <td>0.721302</td>\n",
       "      <td>9.720039</td>\n",
       "      <td>30.625737</td>\n",
       "      <td>144.904996</td>\n",
       "      <td>0.154927</td>\n",
       "      <td>347.166152</td>\n",
       "      <td>0.30494</td>\n",
       "      <td>0.037188</td>\n",
       "      <td>0.290065</td>\n",
       "      <td>0.265647</td>\n",
       "      <td>0.0</td>\n",
       "    </tr>\n",
       "    <tr>\n",
       "      <th>1</th>\n",
       "      <td>0.476190</td>\n",
       "      <td>24.523810</td>\n",
       "      <td>73.476190</td>\n",
       "      <td>284.047619</td>\n",
       "      <td>0.976190</td>\n",
       "      <td>18.023810</td>\n",
       "      <td>62.261905</td>\n",
       "      <td>279.428571</td>\n",
       "      <td>0.086968</td>\n",
       "      <td>636.238095</td>\n",
       "      <td>0.47619</td>\n",
       "      <td>0.357143</td>\n",
       "      <td>0.142857</td>\n",
       "      <td>0.000000</td>\n",
       "      <td>1.0</td>\n",
       "    </tr>\n",
       "    <tr>\n",
       "      <th>2</th>\n",
       "      <td>0.000000</td>\n",
       "      <td>0.000000</td>\n",
       "      <td>0.000000</td>\n",
       "      <td>0.000000</td>\n",
       "      <td>0.000000</td>\n",
       "      <td>0.000000</td>\n",
       "      <td>0.000000</td>\n",
       "      <td>0.000000</td>\n",
       "      <td>74.668434</td>\n",
       "      <td>0.000000</td>\n",
       "      <td>0.00000</td>\n",
       "      <td>0.000000</td>\n",
       "      <td>1.000000</td>\n",
       "      <td>0.000000</td>\n",
       "      <td>0.0</td>\n",
       "    </tr>\n",
       "  </tbody>\n",
       "</table>\n",
       "</div>"
      ],
      "text/plain": [
       "         subway_count_tenth_mi  subway_count_half_mi  subway_count_one_mi  \\\n",
       "cluster                                                                     \n",
       "-1                    0.000000              0.000000             0.000000   \n",
       " 0                    0.221302              5.110862            17.747965   \n",
       " 1                    0.476190             24.523810            73.476190   \n",
       " 2                    0.000000              0.000000             0.000000   \n",
       "\n",
       "         subway_count_two_five_mi  park_count_tenth_mi  park_count_half_mi  \\\n",
       "cluster                                                                      \n",
       "-1                       0.000000             0.000000            0.000000   \n",
       " 0                      93.383525             0.721302            9.720039   \n",
       " 1                     284.047619             0.976190           18.023810   \n",
       " 2                       0.000000             0.000000            0.000000   \n",
       "\n",
       "         park_count_one_mi  park_count_two_five_mi  closest_park  \\\n",
       "cluster                                                            \n",
       "-1                0.000000                0.000000     39.372291   \n",
       " 0               30.625737              144.904996      0.154927   \n",
       " 1               62.261905              279.428571      0.086968   \n",
       " 2                0.000000                0.000000     74.668434   \n",
       "\n",
       "         total_complaints  borough_BROOKLYN  borough_MANHATTAN  \\\n",
       "cluster                                                          \n",
       "-1               0.000000           0.00000           0.000000   \n",
       " 0             347.166152           0.30494           0.037188   \n",
       " 1             636.238095           0.47619           0.357143   \n",
       " 2               0.000000           0.00000           0.000000   \n",
       "\n",
       "         borough_QUEENS  borough_STATEN ISLAND  in_hist_dist_1  \n",
       "cluster                                                         \n",
       "-1             0.000000               1.000000             0.0  \n",
       " 0             0.290065               0.265647             0.0  \n",
       " 1             0.142857               0.000000             1.0  \n",
       " 2             1.000000               0.000000             0.0  "
      ]
     },
     "execution_count": 203,
     "metadata": {},
     "output_type": "execute_result"
    }
   ],
   "source": [
    "permits_X.groupby(['cluster']).mean()"
   ]
  },
  {
   "cell_type": "markdown",
   "id": "fa3a3cd7-5400-4f5b-bf87-dd90124ec2e0",
   "metadata": {},
   "source": [
    "# Notes on The Clusters\n",
    "One cluster is just the ones in the historic districts (cluster 1). Cluster 2 is very far from parks, and is in Queens. Cluster 1 is all in the Bronx and is far from parks.\n",
    "## I think I have some outliers I need to remove. Based on map, yesterday. Look at Tableau.\n",
    "I could do a check to make sure the point falls within the boundaries of the borough, too."
   ]
  },
  {
   "cell_type": "markdown",
   "id": "aa2fc04b-faf3-4e6a-9fb4-64269ca2c467",
   "metadata": {},
   "source": [
    "# Include Longitude and Latitude"
   ]
  },
  {
   "cell_type": "code",
   "execution_count": 114,
   "id": "1f15647f-e1f2-436a-86dc-7c3f9f787d74",
   "metadata": {},
   "outputs": [],
   "source": [
    "features2 = ['latitude', 'longitude','subway_count_tenth_mi',\n",
    "       'subway_count_half_mi', 'subway_count_one_mi',\n",
    "       'subway_count_two_five_mi',\n",
    "       'park_count_tenth_mi', 'park_count_half_mi', 'park_count_one_mi',\n",
    "       'park_count_two_five_mi', 'closest_park', 'total_complaints', 'borough_BROOKLYN', 'borough_MANHATTAN',\n",
    "       'borough_QUEENS', 'borough_STATEN ISLAND',\n",
    "       'owners_business_type_CORPORATION', 'owners_business_type_HPD',\n",
    "       'owners_business_type_INDIVIDUAL', 'owners_business_type_NYC AGENCY',\n",
    "       'owners_business_type_NYCHA/HHC', 'owners_business_type_OTHER',\n",
    "       \"owners_business_type_OTHER GOV'T AGENCY\",\n",
    "       'owners_business_type_PARTNERSHIP', 'non-profit_Y', 'in_hist_dist_1']"
   ]
  },
  {
   "cell_type": "code",
   "execution_count": 158,
   "id": "8bf508e4-5220-4e2a-9e27-aff78449e9b3",
   "metadata": {},
   "outputs": [],
   "source": [
    "X2 = permits[features2]"
   ]
  },
  {
   "cell_type": "code",
   "execution_count": 166,
   "id": "d7998373-3471-4f4e-aeb4-48a4f78d38f3",
   "metadata": {},
   "outputs": [],
   "source": [
    "ss = StandardScaler()\n",
    "X2_scaled = ss.fit_transform(X2)"
   ]
  },
  {
   "cell_type": "code",
   "execution_count": 167,
   "id": "80907e16-ca1d-4e4e-8270-2aed64fc8d21",
   "metadata": {},
   "outputs": [
    {
     "data": {
      "text/plain": [
       "DBSCAN(eps=1)"
      ]
     },
     "execution_count": 167,
     "metadata": {},
     "output_type": "execute_result"
    }
   ],
   "source": [
    "dbscan2 = DBSCAN(eps=1)\n",
    "dbscan2.fit(X2_scaled)"
   ]
  },
  {
   "cell_type": "code",
   "execution_count": 168,
   "id": "d5d04974-15ec-4186-aa70-60f6579bdac6",
   "metadata": {},
   "outputs": [
    {
     "data": {
      "text/plain": [
       "array([-1,  0,  1,  2,  3,  4,  5,  6, 21,  8,  7,  9, 10, 11, 12, 42, 13,\n",
       "       14, 15, 16, 17, 18, 19, 20, 60, 22, 23, 24, 53, 54, 25, 26, 58, 61,\n",
       "       39, 27, 28, 62, 29, 59, 49, 30, 33, 31, 32, 34, 43, 35, 36, 37, 38,\n",
       "       65, 45, 51, 40, 41, 44, 52, 46, 47, 48, 50, 55, 56, 57, 63, 64])"
      ]
     },
     "execution_count": 168,
     "metadata": {},
     "output_type": "execute_result"
    }
   ],
   "source": [
    "pd.Series(dbscan2.labels_).unique()"
   ]
  },
  {
   "cell_type": "code",
   "execution_count": 169,
   "id": "61c8be1c-c755-4e50-8135-6350c9adae33",
   "metadata": {},
   "outputs": [
    {
     "data": {
      "text/plain": [
       "0.03985773625180413"
      ]
     },
     "execution_count": 169,
     "metadata": {},
     "output_type": "execute_result"
    }
   ],
   "source": [
    "silhouette_score(X2_scaled, dbscan2.labels_)"
   ]
  },
  {
   "cell_type": "code",
   "execution_count": 170,
   "id": "c35648fb-e0a9-4439-9a5c-7340b3339da3",
   "metadata": {},
   "outputs": [
    {
     "data": {
      "text/plain": [
       "DBSCAN(eps=10)"
      ]
     },
     "execution_count": 170,
     "metadata": {},
     "output_type": "execute_result"
    }
   ],
   "source": [
    "dbscan2 = DBSCAN(eps=10)\n",
    "dbscan2.fit(X2_scaled)"
   ]
  },
  {
   "cell_type": "code",
   "execution_count": 171,
   "id": "ab2a95e8-8679-4fd0-8d19-f6d41d4982ce",
   "metadata": {},
   "outputs": [
    {
     "data": {
      "text/plain": [
       "array([ 0,  1,  2,  3, -1])"
      ]
     },
     "execution_count": 171,
     "metadata": {},
     "output_type": "execute_result"
    }
   ],
   "source": [
    "pd.Series(dbscan2.labels_).unique()"
   ]
  },
  {
   "cell_type": "code",
   "execution_count": 172,
   "id": "476f1d7f-e302-453e-9c31-1925e6e3b938",
   "metadata": {},
   "outputs": [
    {
     "data": {
      "text/plain": [
       "0.6295941401638957"
      ]
     },
     "execution_count": 172,
     "metadata": {},
     "output_type": "execute_result"
    }
   ],
   "source": [
    "silhouette_score(X2_scaled, dbscan2.labels_)"
   ]
  },
  {
   "cell_type": "code",
   "execution_count": 173,
   "id": "4485dcf5-403a-40f7-9e8d-121bc200e75a",
   "metadata": {},
   "outputs": [
    {
     "data": {
      "text/plain": [
       "DBSCAN(eps=15)"
      ]
     },
     "execution_count": 173,
     "metadata": {},
     "output_type": "execute_result"
    }
   ],
   "source": [
    "dbscan2 = DBSCAN(eps=15)\n",
    "dbscan2.fit(X2_scaled)"
   ]
  },
  {
   "cell_type": "code",
   "execution_count": 174,
   "id": "d30ca13d-afc8-4c61-811d-90b4df2558e3",
   "metadata": {},
   "outputs": [
    {
     "data": {
      "text/plain": [
       "array([ 0,  1,  2, -1])"
      ]
     },
     "execution_count": 174,
     "metadata": {},
     "output_type": "execute_result"
    }
   ],
   "source": [
    "pd.Series(dbscan2.labels_).unique()"
   ]
  },
  {
   "cell_type": "code",
   "execution_count": 175,
   "id": "d96c1edd-a965-4951-901e-5114c811b7c8",
   "metadata": {},
   "outputs": [
    {
     "data": {
      "text/plain": [
       "0.7005983949467619"
      ]
     },
     "execution_count": 175,
     "metadata": {},
     "output_type": "execute_result"
    }
   ],
   "source": [
    "silhouette_score(X2_scaled, dbscan2.labels_)"
   ]
  },
  {
   "cell_type": "markdown",
   "id": "3e30f0cb-d3db-4b98-be2a-10a7eea5befb",
   "metadata": {},
   "source": [
    "This is a better fit without longitude and latitude"
   ]
  },
  {
   "cell_type": "code",
   "execution_count": null,
   "id": "af87591a-93bc-445f-8235-0befda0d9b88",
   "metadata": {},
   "outputs": [],
   "source": []
  }
 ],
 "metadata": {
  "kernelspec": {
   "display_name": "Python 3 (ipykernel)",
   "language": "python",
   "name": "python3"
  },
  "language_info": {
   "codemirror_mode": {
    "name": "ipython",
    "version": 3
   },
   "file_extension": ".py",
   "mimetype": "text/x-python",
   "name": "python",
   "nbconvert_exporter": "python",
   "pygments_lexer": "ipython3",
   "version": "3.9.12"
  }
 },
 "nbformat": 4,
 "nbformat_minor": 5
}
