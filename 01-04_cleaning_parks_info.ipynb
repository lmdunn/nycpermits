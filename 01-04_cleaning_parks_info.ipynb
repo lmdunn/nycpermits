{
 "cells": [
  {
   "cell_type": "code",
   "execution_count": 2,
   "id": "8b76cc87-869f-4642-b1e8-0fb97a4c38f6",
   "metadata": {},
   "outputs": [],
   "source": [
    "import pandas as pd"
   ]
  },
  {
   "cell_type": "code",
   "execution_count": 5,
   "id": "5cd29c31-fc1c-47d5-be24-249a38010d88",
   "metadata": {},
   "outputs": [],
   "source": [
    "parks = pd.read_csv('../data_large_sets/Parks_Properties.csv')"
   ]
  },
  {
   "cell_type": "code",
   "execution_count": 8,
   "id": "d470691b-c028-4b93-832f-61beb9e7955d",
   "metadata": {},
   "outputs": [],
   "source": [
    "pd.set_option('display.max_columns', None)"
   ]
  },
  {
   "cell_type": "code",
   "execution_count": 19,
   "id": "9e8d7a6e-bfe6-4f45-8f94-05206a8cca01",
   "metadata": {},
   "outputs": [
    {
     "data": {
      "text/html": [
       "<div>\n",
       "<style scoped>\n",
       "    .dataframe tbody tr th:only-of-type {\n",
       "        vertical-align: middle;\n",
       "    }\n",
       "\n",
       "    .dataframe tbody tr th {\n",
       "        vertical-align: top;\n",
       "    }\n",
       "\n",
       "    .dataframe thead th {\n",
       "        text-align: right;\n",
       "    }\n",
       "</style>\n",
       "<table border=\"1\" class=\"dataframe\">\n",
       "  <thead>\n",
       "    <tr style=\"text-align: right;\">\n",
       "      <th></th>\n",
       "      <th>ACQUISITIONDATE</th>\n",
       "      <th>ACRES</th>\n",
       "      <th>ADDRESS</th>\n",
       "      <th>BOROUGH</th>\n",
       "      <th>CLASS</th>\n",
       "      <th>COMMISSIONDATE</th>\n",
       "      <th>COMMUNITYBOARD</th>\n",
       "      <th>COUNCILDISTRICT</th>\n",
       "      <th>DEPARTMENT</th>\n",
       "      <th>EAPPLY</th>\n",
       "      <th>GISOBJID</th>\n",
       "      <th>GISPROPNUM</th>\n",
       "      <th>GlobalID</th>\n",
       "      <th>JURISDICTION</th>\n",
       "      <th>LOCATION</th>\n",
       "      <th>MAPPED</th>\n",
       "      <th>NAME311</th>\n",
       "      <th>NYS_ASSEMBLY</th>\n",
       "      <th>NYS_SENATE</th>\n",
       "      <th>OBJECTID</th>\n",
       "      <th>OMPPROPID</th>\n",
       "      <th>PARENTID</th>\n",
       "      <th>PERMIT</th>\n",
       "      <th>PERMITDISTRICT</th>\n",
       "      <th>PERMITPARENT</th>\n",
       "      <th>PIP_RATABLE</th>\n",
       "      <th>PRECINCT</th>\n",
       "      <th>RETIRED</th>\n",
       "      <th>SIGNNAME</th>\n",
       "      <th>SUBCATEGORY</th>\n",
       "      <th>TYPECATEGORY</th>\n",
       "      <th>URL</th>\n",
       "      <th>US_CONGRESS</th>\n",
       "      <th>WATERFRONT</th>\n",
       "      <th>ZIPCODE</th>\n",
       "      <th>multipolygon</th>\n",
       "    </tr>\n",
       "  </thead>\n",
       "  <tbody>\n",
       "    <tr>\n",
       "      <th>0</th>\n",
       "      <td>1965-05-24 00:00:00.0000000</td>\n",
       "      <td>94.100</td>\n",
       "      <td>132 ALTAMONT STREET</td>\n",
       "      <td>R</td>\n",
       "      <td>PARK</td>\n",
       "      <td>NaN</td>\n",
       "      <td>502</td>\n",
       "      <td>50</td>\n",
       "      <td>R-02</td>\n",
       "      <td>High Rock Park</td>\n",
       "      <td>100004808.0</td>\n",
       "      <td>R088</td>\n",
       "      <td>F92F99BD-A37C-4B40-89DD-0989C91D6F7C</td>\n",
       "      <td>DPR</td>\n",
       "      <td>Richmond Pkwy., Manor Rd., Summit Ave., Rockla...</td>\n",
       "      <td>True</td>\n",
       "      <td>High Rock Park</td>\n",
       "      <td>62</td>\n",
       "      <td>24.0</td>\n",
       "      <td>69247</td>\n",
       "      <td>R088</td>\n",
       "      <td>R-02</td>\n",
       "      <td>False</td>\n",
       "      <td>R-02</td>\n",
       "      <td>R-02</td>\n",
       "      <td>False</td>\n",
       "      <td>122.0</td>\n",
       "      <td>False</td>\n",
       "      <td>High Rock Park</td>\n",
       "      <td>Flagship Park</td>\n",
       "      <td>Nature Area</td>\n",
       "      <td>http://www.nycgovparks.org/parks/R088/</td>\n",
       "      <td>11.0</td>\n",
       "      <td>False</td>\n",
       "      <td>1030410306</td>\n",
       "      <td>MULTIPOLYGON (((-74.12362180687407 40.58475747...</td>\n",
       "    </tr>\n",
       "    <tr>\n",
       "      <th>1</th>\n",
       "      <td>2002-11-20 00:00:00.0000000</td>\n",
       "      <td>0.280</td>\n",
       "      <td>2539 PITKIN AVENUE</td>\n",
       "      <td>B</td>\n",
       "      <td>PARK</td>\n",
       "      <td>2010-01-06 00:00:00.0000000</td>\n",
       "      <td>305</td>\n",
       "      <td>37</td>\n",
       "      <td>B-05</td>\n",
       "      <td>Manley's Pl</td>\n",
       "      <td>100004453.0</td>\n",
       "      <td>B483</td>\n",
       "      <td>41857EBF-5ABA-44D8-9CDF-755D8BD8C264</td>\n",
       "      <td>DPR</td>\n",
       "      <td>Montauk Ave. and Pitkin Ave.</td>\n",
       "      <td>False</td>\n",
       "      <td>Manley's Pl</td>\n",
       "      <td>54</td>\n",
       "      <td>18.0</td>\n",
       "      <td>5274</td>\n",
       "      <td>B483</td>\n",
       "      <td>B-05</td>\n",
       "      <td>False</td>\n",
       "      <td>B-05</td>\n",
       "      <td>B-05</td>\n",
       "      <td>False</td>\n",
       "      <td>75.0</td>\n",
       "      <td>False</td>\n",
       "      <td>Manley's Pl</td>\n",
       "      <td>Greenthumb</td>\n",
       "      <td>Garden</td>\n",
       "      <td>http://www.nycgovparks.org/parks/B483/</td>\n",
       "      <td>8.0</td>\n",
       "      <td>False</td>\n",
       "      <td>11208</td>\n",
       "      <td>MULTIPOLYGON (((-73.87857041022092 40.67475246...</td>\n",
       "    </tr>\n",
       "    <tr>\n",
       "      <th>2</th>\n",
       "      <td>1965-12-03 00:00:00.0000000</td>\n",
       "      <td>0.003</td>\n",
       "      <td>NaN</td>\n",
       "      <td>Q</td>\n",
       "      <td>PARK</td>\n",
       "      <td>NaN</td>\n",
       "      <td>410</td>\n",
       "      <td>32</td>\n",
       "      <td>Q-10</td>\n",
       "      <td>NaN</td>\n",
       "      <td>100000170.0</td>\n",
       "      <td>Q433B</td>\n",
       "      <td>F039BA02-16A0-4D61-8506-3D96F4A2E567</td>\n",
       "      <td>DPR</td>\n",
       "      <td>S. Conduit Ave. and 88 St.</td>\n",
       "      <td>True</td>\n",
       "      <td>Park</td>\n",
       "      <td>23</td>\n",
       "      <td>15.0</td>\n",
       "      <td>6413</td>\n",
       "      <td>Q433B</td>\n",
       "      <td>Q-10</td>\n",
       "      <td>NaN</td>\n",
       "      <td>Q-10</td>\n",
       "      <td>Q-10</td>\n",
       "      <td>False</td>\n",
       "      <td>106.0</td>\n",
       "      <td>False</td>\n",
       "      <td>Park</td>\n",
       "      <td>EXWY</td>\n",
       "      <td>Strip</td>\n",
       "      <td>NaN</td>\n",
       "      <td>8.0</td>\n",
       "      <td>False</td>\n",
       "      <td>11414</td>\n",
       "      <td>MULTIPOLYGON (((-73.8471858043584 40.669606352...</td>\n",
       "    </tr>\n",
       "    <tr>\n",
       "      <th>3</th>\n",
       "      <td>1935-05-16 00:00:00.0000000</td>\n",
       "      <td>4.140</td>\n",
       "      <td>225 JORALEMON STREET</td>\n",
       "      <td>B</td>\n",
       "      <td>PARK</td>\n",
       "      <td>2010-01-06 00:00:00.0000000</td>\n",
       "      <td>302</td>\n",
       "      <td>33</td>\n",
       "      <td>B-02</td>\n",
       "      <td>Columbus Park</td>\n",
       "      <td>100004554.0</td>\n",
       "      <td>B113C</td>\n",
       "      <td>0024C256-D5F1-4B3F-A1B2-8A3CB3B2232A</td>\n",
       "      <td>DPR</td>\n",
       "      <td>Adam St., Court St., Cadman Plaza West bet. Jo...</td>\n",
       "      <td>True</td>\n",
       "      <td>Columbus Park</td>\n",
       "      <td>52</td>\n",
       "      <td>25.0</td>\n",
       "      <td>5062</td>\n",
       "      <td>B113C</td>\n",
       "      <td>B-02</td>\n",
       "      <td>True</td>\n",
       "      <td>B-02</td>\n",
       "      <td>B-02</td>\n",
       "      <td>True</td>\n",
       "      <td>84.0</td>\n",
       "      <td>False</td>\n",
       "      <td>Columbus Park</td>\n",
       "      <td>Sitting Area/Triangle/Mall</td>\n",
       "      <td>Triangle/Plaza</td>\n",
       "      <td>http://www.nycgovparks.org/parks/B113C/</td>\n",
       "      <td>7.0</td>\n",
       "      <td>False</td>\n",
       "      <td>11201</td>\n",
       "      <td>MULTIPOLYGON (((-73.98911885717008 40.69492270...</td>\n",
       "    </tr>\n",
       "    <tr>\n",
       "      <th>4</th>\n",
       "      <td>1952-08-19 00:00:00.0000000</td>\n",
       "      <td>0.744</td>\n",
       "      <td>400 EAST 188 STREET</td>\n",
       "      <td>X</td>\n",
       "      <td>PARK</td>\n",
       "      <td>2010-01-06 00:00:00.0000000</td>\n",
       "      <td>206</td>\n",
       "      <td>15</td>\n",
       "      <td>X-06</td>\n",
       "      <td>Webster Playground</td>\n",
       "      <td>100004845.0</td>\n",
       "      <td>X174</td>\n",
       "      <td>37A31993-CD77-4D82-BBFE-E79B4F5628A3</td>\n",
       "      <td>DPR</td>\n",
       "      <td>E. 188 St. bet. Webster Ave. and Park Ave.</td>\n",
       "      <td>False</td>\n",
       "      <td>Webster Playground</td>\n",
       "      <td>78</td>\n",
       "      <td>33.0</td>\n",
       "      <td>4764</td>\n",
       "      <td>X174</td>\n",
       "      <td>X-06</td>\n",
       "      <td>True</td>\n",
       "      <td>X-06</td>\n",
       "      <td>X-06</td>\n",
       "      <td>True</td>\n",
       "      <td>48.0</td>\n",
       "      <td>False</td>\n",
       "      <td>Webster Playground</td>\n",
       "      <td>Neighborhood Plgd</td>\n",
       "      <td>Playground</td>\n",
       "      <td>http://www.nycgovparks.org/parks/X174/</td>\n",
       "      <td>15.0</td>\n",
       "      <td>False</td>\n",
       "      <td>10458</td>\n",
       "      <td>MULTIPOLYGON (((-73.89239779472493 40.85937697...</td>\n",
       "    </tr>\n",
       "  </tbody>\n",
       "</table>\n",
       "</div>"
      ],
      "text/plain": [
       "               ACQUISITIONDATE   ACRES               ADDRESS BOROUGH CLASS  \\\n",
       "0  1965-05-24 00:00:00.0000000  94.100   132 ALTAMONT STREET       R  PARK   \n",
       "1  2002-11-20 00:00:00.0000000   0.280    2539 PITKIN AVENUE       B  PARK   \n",
       "2  1965-12-03 00:00:00.0000000   0.003                   NaN       Q  PARK   \n",
       "3  1935-05-16 00:00:00.0000000   4.140  225 JORALEMON STREET       B  PARK   \n",
       "4  1952-08-19 00:00:00.0000000   0.744   400 EAST 188 STREET       X  PARK   \n",
       "\n",
       "                COMMISSIONDATE COMMUNITYBOARD  COUNCILDISTRICT DEPARTMENT  \\\n",
       "0                          NaN            502               50       R-02   \n",
       "1  2010-01-06 00:00:00.0000000            305               37       B-05   \n",
       "2                          NaN            410               32       Q-10   \n",
       "3  2010-01-06 00:00:00.0000000            302               33       B-02   \n",
       "4  2010-01-06 00:00:00.0000000            206               15       X-06   \n",
       "\n",
       "               EAPPLY     GISOBJID GISPROPNUM  \\\n",
       "0      High Rock Park  100004808.0       R088   \n",
       "1         Manley's Pl  100004453.0       B483   \n",
       "2                 NaN  100000170.0      Q433B   \n",
       "3       Columbus Park  100004554.0      B113C   \n",
       "4  Webster Playground  100004845.0       X174   \n",
       "\n",
       "                               GlobalID JURISDICTION  \\\n",
       "0  F92F99BD-A37C-4B40-89DD-0989C91D6F7C          DPR   \n",
       "1  41857EBF-5ABA-44D8-9CDF-755D8BD8C264          DPR   \n",
       "2  F039BA02-16A0-4D61-8506-3D96F4A2E567          DPR   \n",
       "3  0024C256-D5F1-4B3F-A1B2-8A3CB3B2232A          DPR   \n",
       "4  37A31993-CD77-4D82-BBFE-E79B4F5628A3          DPR   \n",
       "\n",
       "                                            LOCATION MAPPED  \\\n",
       "0  Richmond Pkwy., Manor Rd., Summit Ave., Rockla...   True   \n",
       "1                       Montauk Ave. and Pitkin Ave.  False   \n",
       "2                         S. Conduit Ave. and 88 St.   True   \n",
       "3  Adam St., Court St., Cadman Plaza West bet. Jo...   True   \n",
       "4         E. 188 St. bet. Webster Ave. and Park Ave.  False   \n",
       "\n",
       "              NAME311  NYS_ASSEMBLY  NYS_SENATE  OBJECTID OMPPROPID PARENTID  \\\n",
       "0      High Rock Park            62        24.0     69247      R088     R-02   \n",
       "1         Manley's Pl            54        18.0      5274      B483     B-05   \n",
       "2                Park            23        15.0      6413     Q433B     Q-10   \n",
       "3       Columbus Park            52        25.0      5062     B113C     B-02   \n",
       "4  Webster Playground            78        33.0      4764      X174     X-06   \n",
       "\n",
       "  PERMIT PERMITDISTRICT PERMITPARENT PIP_RATABLE  PRECINCT  RETIRED  \\\n",
       "0  False           R-02         R-02       False     122.0    False   \n",
       "1  False           B-05         B-05       False      75.0    False   \n",
       "2    NaN           Q-10         Q-10       False     106.0    False   \n",
       "3   True           B-02         B-02        True      84.0    False   \n",
       "4   True           X-06         X-06        True      48.0    False   \n",
       "\n",
       "             SIGNNAME                 SUBCATEGORY    TYPECATEGORY  \\\n",
       "0      High Rock Park               Flagship Park     Nature Area   \n",
       "1         Manley's Pl                  Greenthumb          Garden   \n",
       "2                Park                        EXWY           Strip   \n",
       "3       Columbus Park  Sitting Area/Triangle/Mall  Triangle/Plaza   \n",
       "4  Webster Playground           Neighborhood Plgd      Playground   \n",
       "\n",
       "                                       URL  US_CONGRESS  WATERFRONT  \\\n",
       "0   http://www.nycgovparks.org/parks/R088/         11.0       False   \n",
       "1   http://www.nycgovparks.org/parks/B483/          8.0       False   \n",
       "2                                      NaN          8.0       False   \n",
       "3  http://www.nycgovparks.org/parks/B113C/          7.0       False   \n",
       "4   http://www.nycgovparks.org/parks/X174/         15.0       False   \n",
       "\n",
       "      ZIPCODE                                       multipolygon  \n",
       "0  1030410306  MULTIPOLYGON (((-74.12362180687407 40.58475747...  \n",
       "1       11208  MULTIPOLYGON (((-73.87857041022092 40.67475246...  \n",
       "2       11414  MULTIPOLYGON (((-73.8471858043584 40.669606352...  \n",
       "3       11201  MULTIPOLYGON (((-73.98911885717008 40.69492270...  \n",
       "4       10458  MULTIPOLYGON (((-73.89239779472493 40.85937697...  "
      ]
     },
     "execution_count": 19,
     "metadata": {},
     "output_type": "execute_result"
    }
   ],
   "source": [
    "parks.head()"
   ]
  },
  {
   "cell_type": "code",
   "execution_count": 20,
   "id": "14201457-3522-4562-a2cd-d81d3316309f",
   "metadata": {},
   "outputs": [],
   "source": [
    "parks.columns = parks.columns.str.lower()"
   ]
  },
  {
   "cell_type": "code",
   "execution_count": 21,
   "id": "38af16f2-5aa4-47bd-bd2b-be56e26695d7",
   "metadata": {},
   "outputs": [
    {
     "data": {
      "text/plain": [
       "Index(['acquisitiondate', 'acres', 'address', 'borough', 'class',\n",
       "       'commissiondate', 'communityboard', 'councildistrict', 'department',\n",
       "       'eapply', 'gisobjid', 'gispropnum', 'globalid', 'jurisdiction',\n",
       "       'location', 'mapped', 'name311', 'nys_assembly', 'nys_senate',\n",
       "       'objectid', 'omppropid', 'parentid', 'permit', 'permitdistrict',\n",
       "       'permitparent', 'pip_ratable', 'precinct', 'retired', 'signname',\n",
       "       'subcategory', 'typecategory', 'url', 'us_congress', 'waterfront',\n",
       "       'zipcode', 'multipolygon'],\n",
       "      dtype='object')"
      ]
     },
     "execution_count": 21,
     "metadata": {},
     "output_type": "execute_result"
    }
   ],
   "source": [
    "parks.columns"
   ]
  },
  {
   "cell_type": "markdown",
   "id": "1164a19c-f5d9-4a98-982a-5d78ffda1abf",
   "metadata": {},
   "source": [
    "For now, I'm keeping address in case I need to use that. I may use either name311 or, more likely, objectid, to idenfity specific parks for a possible categorical feature."
   ]
  },
  {
   "cell_type": "code",
   "execution_count": 22,
   "id": "5cf17bd0-9aed-4ed4-a272-18fa78604f8a",
   "metadata": {},
   "outputs": [],
   "source": [
    "parks = parks[['address', 'borough', 'name311', 'objectid', 'zipcode', 'multipolygon']]"
   ]
  },
  {
   "cell_type": "code",
   "execution_count": 39,
   "id": "99f91f35-528b-4079-a4b7-27fa81a047c1",
   "metadata": {},
   "outputs": [
    {
     "data": {
      "text/plain": [
       "address         0\n",
       "borough         0\n",
       "name311         0\n",
       "objectid        0\n",
       "zipcode         0\n",
       "multipolygon    0\n",
       "dtype: int64"
      ]
     },
     "execution_count": 39,
     "metadata": {},
     "output_type": "execute_result"
    }
   ],
   "source": [
    "parks.isnull().sum()"
   ]
  },
  {
   "cell_type": "code",
   "execution_count": 30,
   "id": "612c3d76-226e-45cf-a2b9-c800d89eba8a",
   "metadata": {},
   "outputs": [
    {
     "data": {
      "text/html": [
       "<div>\n",
       "<style scoped>\n",
       "    .dataframe tbody tr th:only-of-type {\n",
       "        vertical-align: middle;\n",
       "    }\n",
       "\n",
       "    .dataframe tbody tr th {\n",
       "        vertical-align: top;\n",
       "    }\n",
       "\n",
       "    .dataframe thead th {\n",
       "        text-align: right;\n",
       "    }\n",
       "</style>\n",
       "<table border=\"1\" class=\"dataframe\">\n",
       "  <thead>\n",
       "    <tr style=\"text-align: right;\">\n",
       "      <th></th>\n",
       "      <th>address</th>\n",
       "      <th>borough</th>\n",
       "      <th>name311</th>\n",
       "      <th>objectid</th>\n",
       "      <th>zipcode</th>\n",
       "      <th>multipolygon</th>\n",
       "    </tr>\n",
       "  </thead>\n",
       "  <tbody>\n",
       "  </tbody>\n",
       "</table>\n",
       "</div>"
      ],
      "text/plain": [
       "Empty DataFrame\n",
       "Columns: [address, borough, name311, objectid, zipcode, multipolygon]\n",
       "Index: []"
      ]
     },
     "execution_count": 30,
     "metadata": {},
     "output_type": "execute_result"
    }
   ],
   "source": [
    "parks[parks['address'].isnull()].head()"
   ]
  },
  {
   "cell_type": "code",
   "execution_count": 29,
   "id": "be9c512b-9378-43ad-98c9-a9485e0a19e1",
   "metadata": {},
   "outputs": [],
   "source": [
    "parks.loc[parks['address'].isnull(),'address'] = 'none'"
   ]
  },
  {
   "cell_type": "code",
   "execution_count": 34,
   "id": "5ad9b9cd-9a79-4090-b137-9873141540b2",
   "metadata": {},
   "outputs": [
    {
     "data": {
      "text/html": [
       "<div>\n",
       "<style scoped>\n",
       "    .dataframe tbody tr th:only-of-type {\n",
       "        vertical-align: middle;\n",
       "    }\n",
       "\n",
       "    .dataframe tbody tr th {\n",
       "        vertical-align: top;\n",
       "    }\n",
       "\n",
       "    .dataframe thead th {\n",
       "        text-align: right;\n",
       "    }\n",
       "</style>\n",
       "<table border=\"1\" class=\"dataframe\">\n",
       "  <thead>\n",
       "    <tr style=\"text-align: right;\">\n",
       "      <th></th>\n",
       "      <th>address</th>\n",
       "      <th>borough</th>\n",
       "      <th>name311</th>\n",
       "      <th>objectid</th>\n",
       "      <th>zipcode</th>\n",
       "      <th>multipolygon</th>\n",
       "    </tr>\n",
       "  </thead>\n",
       "  <tbody>\n",
       "  </tbody>\n",
       "</table>\n",
       "</div>"
      ],
      "text/plain": [
       "Empty DataFrame\n",
       "Columns: [address, borough, name311, objectid, zipcode, multipolygon]\n",
       "Index: []"
      ]
     },
     "execution_count": 34,
     "metadata": {},
     "output_type": "execute_result"
    }
   ],
   "source": [
    "parks[parks['name311'].isnull()]"
   ]
  },
  {
   "cell_type": "code",
   "execution_count": 33,
   "id": "9dc10945-d665-4d08-92ce-6e804a682bf4",
   "metadata": {},
   "outputs": [],
   "source": [
    "parks.loc[parks['name311'].isnull(),'name311'] = 'none'"
   ]
  },
  {
   "cell_type": "code",
   "execution_count": 38,
   "id": "216bba7f-3255-4900-84ed-72b2eb1a36e7",
   "metadata": {},
   "outputs": [
    {
     "data": {
      "text/html": [
       "<div>\n",
       "<style scoped>\n",
       "    .dataframe tbody tr th:only-of-type {\n",
       "        vertical-align: middle;\n",
       "    }\n",
       "\n",
       "    .dataframe tbody tr th {\n",
       "        vertical-align: top;\n",
       "    }\n",
       "\n",
       "    .dataframe thead th {\n",
       "        text-align: right;\n",
       "    }\n",
       "</style>\n",
       "<table border=\"1\" class=\"dataframe\">\n",
       "  <thead>\n",
       "    <tr style=\"text-align: right;\">\n",
       "      <th></th>\n",
       "      <th>address</th>\n",
       "      <th>borough</th>\n",
       "      <th>name311</th>\n",
       "      <th>objectid</th>\n",
       "      <th>zipcode</th>\n",
       "      <th>multipolygon</th>\n",
       "    </tr>\n",
       "  </thead>\n",
       "  <tbody>\n",
       "  </tbody>\n",
       "</table>\n",
       "</div>"
      ],
      "text/plain": [
       "Empty DataFrame\n",
       "Columns: [address, borough, name311, objectid, zipcode, multipolygon]\n",
       "Index: []"
      ]
     },
     "execution_count": 38,
     "metadata": {},
     "output_type": "execute_result"
    }
   ],
   "source": [
    "parks[parks['zipcode'].isnull()]"
   ]
  },
  {
   "cell_type": "code",
   "execution_count": 37,
   "id": "8afd87ee-e550-4ef8-9b3b-4c886a4adf55",
   "metadata": {},
   "outputs": [],
   "source": [
    "parks.loc[parks['zipcode'].isnull(),'zipcode'] = 99999"
   ]
  },
  {
   "cell_type": "markdown",
   "id": "cbd62cb5-ed63-4a30-80eb-297567b0bf82",
   "metadata": {},
   "source": [
    "## Long Zip Code Entries\n",
    "Some parks fall into multiple zipcodes, so those entries are a string of all the zipcodes. I don't plan to use that data now, but want to keep it in case it's helpful. If necessary, I'll break out the strings."
   ]
  },
  {
   "cell_type": "code",
   "execution_count": 43,
   "id": "6459924e-a14f-4666-922f-d100454e0f76",
   "metadata": {},
   "outputs": [
    {
     "data": {
      "text/html": [
       "<div>\n",
       "<style scoped>\n",
       "    .dataframe tbody tr th:only-of-type {\n",
       "        vertical-align: middle;\n",
       "    }\n",
       "\n",
       "    .dataframe tbody tr th {\n",
       "        vertical-align: top;\n",
       "    }\n",
       "\n",
       "    .dataframe thead th {\n",
       "        text-align: right;\n",
       "    }\n",
       "</style>\n",
       "<table border=\"1\" class=\"dataframe\">\n",
       "  <thead>\n",
       "    <tr style=\"text-align: right;\">\n",
       "      <th></th>\n",
       "      <th>address</th>\n",
       "      <th>borough</th>\n",
       "      <th>name311</th>\n",
       "      <th>objectid</th>\n",
       "      <th>zipcode</th>\n",
       "      <th>multipolygon</th>\n",
       "    </tr>\n",
       "  </thead>\n",
       "  <tbody>\n",
       "    <tr>\n",
       "      <th>0</th>\n",
       "      <td>132 ALTAMONT STREET</td>\n",
       "      <td>R</td>\n",
       "      <td>High Rock Park</td>\n",
       "      <td>69247</td>\n",
       "      <td>1030410306</td>\n",
       "      <td>MULTIPOLYGON (((-74.12362180687407 40.58475747...</td>\n",
       "    </tr>\n",
       "    <tr>\n",
       "      <th>5</th>\n",
       "      <td>1321 VICTORY BOULEVARD</td>\n",
       "      <td>R</td>\n",
       "      <td>Clove Lakes Park</td>\n",
       "      <td>5039</td>\n",
       "      <td>1030110310</td>\n",
       "      <td>MULTIPOLYGON (((-74.11593668159789 40.62210455...</td>\n",
       "    </tr>\n",
       "    <tr>\n",
       "      <th>12</th>\n",
       "      <td>none</td>\n",
       "      <td>Q</td>\n",
       "      <td>Grand Central Parkway Extension</td>\n",
       "      <td>15508</td>\n",
       "      <td>11103113671136811369113701137111375</td>\n",
       "      <td>MULTIPOLYGON (((-73.8587476480729 40.767414466...</td>\n",
       "    </tr>\n",
       "    <tr>\n",
       "      <th>26</th>\n",
       "      <td>48 ST NICHOLAS AVENUE</td>\n",
       "      <td>M</td>\n",
       "      <td>St. Nicholas Park</td>\n",
       "      <td>4713</td>\n",
       "      <td>1002710031</td>\n",
       "      <td>MULTIPOLYGON (((-73.95043743457018 40.81328725...</td>\n",
       "    </tr>\n",
       "    <tr>\n",
       "      <th>44</th>\n",
       "      <td>none</td>\n",
       "      <td>Q</td>\n",
       "      <td>Jackie Robinson Parkway</td>\n",
       "      <td>69219</td>\n",
       "      <td>11207113751138511415</td>\n",
       "      <td>MULTIPOLYGON (((-73.86076710747783 40.70293377...</td>\n",
       "    </tr>\n",
       "  </tbody>\n",
       "</table>\n",
       "</div>"
      ],
      "text/plain": [
       "                   address borough                          name311  objectid  \\\n",
       "0      132 ALTAMONT STREET       R                   High Rock Park     69247   \n",
       "5   1321 VICTORY BOULEVARD       R                 Clove Lakes Park      5039   \n",
       "12                    none       Q  Grand Central Parkway Extension     15508   \n",
       "26   48 ST NICHOLAS AVENUE       M                St. Nicholas Park      4713   \n",
       "44                    none       Q          Jackie Robinson Parkway     69219   \n",
       "\n",
       "                                zipcode  \\\n",
       "0                            1030410306   \n",
       "5                            1030110310   \n",
       "12  11103113671136811369113701137111375   \n",
       "26                           1002710031   \n",
       "44                 11207113751138511415   \n",
       "\n",
       "                                         multipolygon  \n",
       "0   MULTIPOLYGON (((-74.12362180687407 40.58475747...  \n",
       "5   MULTIPOLYGON (((-74.11593668159789 40.62210455...  \n",
       "12  MULTIPOLYGON (((-73.8587476480729 40.767414466...  \n",
       "26  MULTIPOLYGON (((-73.95043743457018 40.81328725...  \n",
       "44  MULTIPOLYGON (((-73.86076710747783 40.70293377...  "
      ]
     },
     "execution_count": 43,
     "metadata": {},
     "output_type": "execute_result"
    }
   ],
   "source": [
    "parks[parks['zipcode'].map(str).apply(len) > 5].head()"
   ]
  },
  {
   "cell_type": "code",
   "execution_count": 44,
   "id": "52d5aec2-1f88-4ac7-bd88-8af23b3751e0",
   "metadata": {},
   "outputs": [
    {
     "data": {
      "text/plain": [
       "(2030, 6)"
      ]
     },
     "execution_count": 44,
     "metadata": {},
     "output_type": "execute_result"
    }
   ],
   "source": [
    "parks.shape"
   ]
  },
  {
   "cell_type": "code",
   "execution_count": 45,
   "id": "477f192f-e912-4e73-aba0-1194617c3b9c",
   "metadata": {},
   "outputs": [
    {
     "data": {
      "text/plain": [
       "address         object\n",
       "borough         object\n",
       "name311         object\n",
       "objectid         int64\n",
       "zipcode         object\n",
       "multipolygon    object\n",
       "dtype: object"
      ]
     },
     "execution_count": 45,
     "metadata": {},
     "output_type": "execute_result"
    }
   ],
   "source": [
    "parks.dtypes"
   ]
  },
  {
   "cell_type": "markdown",
   "id": "db9c874d-5550-4823-835c-a812fe7050ff",
   "metadata": {},
   "source": [
    "Process of elimination suggested 'R' is the initial for Staten Island. Searching for a couple of 'R' parks by name showed that they were, in fact, on Staten Island."
   ]
  },
  {
   "cell_type": "code",
   "execution_count": 50,
   "id": "04733c64-4d15-498e-8ff8-6fffb38fe000",
   "metadata": {},
   "outputs": [
    {
     "data": {
      "text/plain": [
       "BROOKLYN         614\n",
       "QUEENS           477\n",
       "BRONX            393\n",
       "MANHATTAN        386\n",
       "STATEN ISLAND    160\n",
       "Name: borough, dtype: int64"
      ]
     },
     "execution_count": 50,
     "metadata": {},
     "output_type": "execute_result"
    }
   ],
   "source": [
    "parks['borough'].value_counts(dropna = False)"
   ]
  },
  {
   "cell_type": "code",
   "execution_count": 49,
   "id": "4382bb06-03a3-4c98-9b64-0f7d3cf3729a",
   "metadata": {},
   "outputs": [],
   "source": [
    "parks['borough'].replace({'B': 'BROOKLYN', 'Q': 'QUEENS', 'X': 'BRONX', 'M': 'MANHATTAN', 'R': 'STATEN ISLAND'}, inplace = True)"
   ]
  },
  {
   "cell_type": "code",
   "execution_count": 51,
   "id": "3cdac437-c93e-4882-b665-7a0d2d9c5abe",
   "metadata": {},
   "outputs": [],
   "source": [
    "parks.to_csv('data/parks.csv', index = False)"
   ]
  },
  {
   "cell_type": "code",
   "execution_count": null,
   "id": "f63b1968-274c-4e29-8459-1a360bb0bc1c",
   "metadata": {},
   "outputs": [],
   "source": []
  }
 ],
 "metadata": {
  "kernelspec": {
   "display_name": "Python 3 (ipykernel)",
   "language": "python",
   "name": "python3"
  },
  "language_info": {
   "codemirror_mode": {
    "name": "ipython",
    "version": 3
   },
   "file_extension": ".py",
   "mimetype": "text/x-python",
   "name": "python",
   "nbconvert_exporter": "python",
   "pygments_lexer": "ipython3",
   "version": "3.9.12"
  }
 },
 "nbformat": 4,
 "nbformat_minor": 5
}
